{
 "cells": [
  {
   "cell_type": "code",
   "execution_count": 1,
   "metadata": {},
   "outputs": [],
   "source": [
    "import numpy as np\n",
    "import pandas as pd"
   ]
  },
  {
   "cell_type": "code",
   "execution_count": 2,
   "metadata": {},
   "outputs": [],
   "source": [
    "train = pd.read_csv(\"../../wy_private/walmart-triptype-classification/dataset/train.csv\")\n",
    "original_train = train.copy()\n",
    "test = pd.read_csv(\"../../wy_private/walmart-triptype-classification/dataset/test.csv\")\n",
    "original_test = test.copy()"
   ]
  },
  {
   "cell_type": "code",
   "execution_count": 3,
   "metadata": {},
   "outputs": [
    {
     "data": {
      "text/plain": [
       "(647054, 7)"
      ]
     },
     "execution_count": 3,
     "metadata": {},
     "output_type": "execute_result"
    }
   ],
   "source": [
    "train.shape"
   ]
  },
  {
   "cell_type": "markdown",
   "metadata": {},
   "source": [
    "# Basic Features"
   ]
  },
  {
   "cell_type": "code",
   "execution_count": 4,
   "metadata": {},
   "outputs": [],
   "source": [
    "# 반품 발생은 0으로 표기하는 컬럼 추가\n",
    "train[\"Count\"] = train[\"ScanCount\"]\n",
    "train.loc[train.Count < 0, \"Count\"] = 0\n",
    "# Fineline 없는 것은 9999로 명시\n",
    "train[\"FinelineNumber\"].fillna(value=9999, inplace=True)\n",
    "# Upc 없는 것은 -1로 명시\n",
    "train[\"Upc\"].fillna(value=-1, inplace=True)"
   ]
  },
  {
   "cell_type": "code",
   "execution_count": 5,
   "metadata": {},
   "outputs": [],
   "source": [
    "wd = {\n",
    "    \"Monday\": 0,\n",
    "    \"Tuesday\": 1,\n",
    "    \"Wednesday\": 2,\n",
    "    \"Thursday\": 3, \n",
    "    \"Friday\": 4,\n",
    "    \"Saturday\": 5,\n",
    "    \"Sunday\": 6,\n",
    "}\n",
    "\n",
    "train[\"Weekday\"] = train[\"Weekday\"].apply(lambda x: wd[x])"
   ]
  },
  {
   "cell_type": "code",
   "execution_count": 6,
   "metadata": {},
   "outputs": [],
   "source": [
    "# train[\"Upc\"] = train[\"Upc\"].apply(lambda x: float_to_str(x))\n",
    "# train[\"check\"] = train.Upc.apply(check_digit)\n",
    "# train[\"full_upc\"] = train.Upc.apply(full_upc)\n",
    "# train[\"company\"] = train.full_upc.apply(company)"
   ]
  },
  {
   "cell_type": "code",
   "execution_count": 7,
   "metadata": {},
   "outputs": [],
   "source": [
    "# data['DepartmentDescription'] = preprocessing.LabelEncoder().fit_transform(list(data['DepartmentDescription'])) "
   ]
  },
  {
   "cell_type": "code",
   "execution_count": 8,
   "metadata": {},
   "outputs": [],
   "source": [
    "train = train[train['VisitNumber'] != 2154].reset_index(drop=True)"
   ]
  },
  {
   "cell_type": "code",
   "execution_count": 9,
   "metadata": {},
   "outputs": [
    {
     "data": {
      "text/plain": [
       "(647046, 8)"
      ]
     },
     "execution_count": 9,
     "metadata": {},
     "output_type": "execute_result"
    }
   ],
   "source": [
    "train.shape"
   ]
  },
  {
   "cell_type": "code",
   "execution_count": 10,
   "metadata": {},
   "outputs": [],
   "source": [
    "# VisitNumber, DepartmentDescription으로 groupby. ScanCount sum(총 판매량) \n",
    "df = train.groupby([\"VisitNumber\", \"DepartmentDescription\"], as_index=False)[\"Count\"].sum()\n",
    "\n",
    "df1 = df.groupby([\"VisitNumber\"], as_index=False)[\"Count\"].min()\n",
    "df1.rename(columns={\"Count\": \"Min\"}, inplace=True)\n",
    "\n",
    "df2 = df.groupby([\"VisitNumber\"], as_index=False)[\"Count\"].max()\n",
    "df2.rename(columns={'Count': \"Max\"}, inplace=True)\n",
    "\n",
    "df3 = df.groupby([\"VisitNumber\"], as_index=False)[\"Count\"].mean()\n",
    "df3.rename(columns={\"Count\": \"Mean\"}, inplace=True)\n",
    "\n",
    "train = train.merge(df1, how='left', on=[\"VisitNumber\"], copy=True)\n",
    "train = train.merge(df2, how='left', on=[\"VisitNumber\"], copy=True)\n",
    "train = train.merge(df3, how='left', on=[\"VisitNumber\"], copy=True)  \n",
    "\n",
    "train[\"Range\"] = train[\"Max\"] - train[\"Min\"]"
   ]
  },
  {
   "cell_type": "code",
   "execution_count": 11,
   "metadata": {},
   "outputs": [],
   "source": [
    "# def category_counts(data):\n",
    "#     \"\"\"\n",
    "#     Count total number of unique DepartmentDescription made on each trip.\n",
    "#     \"\"\"\n",
    "#     counts = []\n",
    "#     for array in np.asarray(data.loc[:, \"1-HR PHOTO\":\"WIRELESS\"]):\n",
    "#         count = 0\n",
    "#         for item in array:\n",
    "#             if item > 0:\n",
    "#                 count += 1\n",
    "#         counts.append(count)\n",
    "#     cat_counts = pd.DataFrame(counts)\n",
    "#     cat_counts = cat_counts.rename(columns={0:\"CategoryCount\"})\n",
    "#     cat_counts = cat_counts.set_index(data.index)\n",
    "#     data.insert(4, \"CategoryCounts\", cat_counts)"
   ]
  },
  {
   "cell_type": "code",
   "execution_count": 12,
   "metadata": {
    "scrolled": false
   },
   "outputs": [],
   "source": [
    "df = train[train[\"DepartmentDescription\"].isnull()]\n",
    "df = df.groupby([\"VisitNumber\"], as_index=False)[\"Count\"].count()\n",
    "df.rename(columns={\"Count\": \"Null_Depts\"}, inplace=True)\n",
    "train = train.merge(df, how='left', on=[\"VisitNumber\"], copy=True) \n",
    "train[\"Null_Depts\"].fillna(value=1, inplace=True)\n",
    "train.loc[train.Null_Depts > 0, \"Null_Depts\"] = 0"
   ]
  },
  {
   "cell_type": "code",
   "execution_count": 13,
   "metadata": {},
   "outputs": [],
   "source": [
    "df = train[train[\"ScanCount\"] < 0]\n",
    "df = df.groupby([\"VisitNumber\"], as_index=False)[\"Count\"].count()\n",
    "df.rename(columns={\"Count\": \"ReturnCount\"}, inplace=True) \n",
    "train = train.merge(df, how='left', on=[\"VisitNumber\"], copy=True)\n",
    "train[\"ReturnCount\"].fillna(value=1, inplace=True)\n",
    "train.loc[train.ReturnCount > 0, \"ReturnCount\"] = 0"
   ]
  },
  {
   "cell_type": "code",
   "execution_count": 14,
   "metadata": {},
   "outputs": [],
   "source": [
    "# Indicator for missing FinelineNumber\n",
    "\n",
    "df = train[train[\"FinelineNumber\"]==9999]\n",
    "df = df.groupby([\"VisitNumber\"], as_index=False)[\"Count\"].count()\n",
    "df.rename(columns={\"Count\": \"Null_Fineline\"}, inplace=True)\n",
    "train = train.merge(df, how='left', on=[\"VisitNumber\"], copy=True)\n",
    "train[\"Null_Fineline\"].fillna(value=1, inplace=True)\n",
    "train.loc[train.Null_Fineline > 0, \"Null_Fineline\"] = 0"
   ]
  },
  {
   "cell_type": "code",
   "execution_count": 15,
   "metadata": {},
   "outputs": [],
   "source": [
    "# 각 VisitNumber 당 총 구매한 FinelineNumber의 수\n",
    "\n",
    "df = train.groupby([\"VisitNumber\",  \"FinelineNumber\"], as_index=False)[\"Count\"].count()\n",
    "df = df.groupby([\"VisitNumber\"], as_index=False)[\"Count\"].count()\n",
    "df.rename(columns={\"Count\": \"N_Fineline\"}, inplace=True) \n",
    "train = train.merge(df, how='left', on=[\"VisitNumber\"], copy=True)"
   ]
  },
  {
   "cell_type": "code",
   "execution_count": 16,
   "metadata": {},
   "outputs": [],
   "source": [
    "# 각 소비자 당 총 구매한 UPC의 수\n",
    "\n",
    "df = train.groupby([\"VisitNumber\",  \"Upc\"], as_index=False)[\"Count\"].count()\n",
    "df = df.groupby([\"VisitNumber\"], as_index=False)[\"Count\"].count()\n",
    "df.rename(columns={\"Count\": \"N_Upc\"}, inplace=True) \n",
    "train = train.merge(df, how='left', on=[\"VisitNumber\"], copy=True) "
   ]
  },
  {
   "cell_type": "code",
   "execution_count": 17,
   "metadata": {},
   "outputs": [],
   "source": [
    "# 각 소비자 당 총 구매한 DepartmentDescription의 수\n",
    "\n",
    "df = train.groupby([\"VisitNumber\", \"DepartmentDescription\"], as_index=False)[\"Count\"].count()\n",
    "df = df.groupby([\"VisitNumber\"], as_index=False)[\"Count\"].count()\n",
    "df.rename(columns={\"Count\": \"N_Depts\"}, inplace=True) \n",
    "train = train.merge(df, how='left', on=[\"VisitNumber\"], copy=True)"
   ]
  },
  {
   "cell_type": "code",
   "execution_count": 18,
   "metadata": {},
   "outputs": [],
   "source": [
    "df = train.groupby([\"VisitNumber\"], as_index=False)[\"Count\"].sum()\n",
    "df.rename(columns={\"Count\": \"Sum\"}, inplace=True)\n",
    "train = train.merge(df, how='left', on=[\"VisitNumber\"], copy=True)"
   ]
  },
  {
   "cell_type": "code",
   "execution_count": 19,
   "metadata": {},
   "outputs": [
    {
     "data": {
      "text/plain": [
       "(647046, 21)"
      ]
     },
     "execution_count": 19,
     "metadata": {},
     "output_type": "execute_result"
    }
   ],
   "source": [
    "train[\"Ratio_F_D\"] = train[\"N_Fineline\"] / train[\"N_Depts\"]\n",
    "train[\"Ratio_U_D\"] = train[\"N_Upc\"] / train[\"N_Depts\"]\n",
    "train.shape"
   ]
  },
  {
   "cell_type": "code",
   "execution_count": 20,
   "metadata": {},
   "outputs": [],
   "source": [
    "train[\"mean_to_min\"] = train[\"Mean\"] / train[\"Min\"]\n",
    "train.loc[train.mean_to_min==0, \"mean_to_min\"] = 1\n",
    "train['max_to_mean'] = train[\"Max\"] / train[\"Mean\"]\n",
    "train.loc[train.max_to_mean==0, \"max_to_mean\"] = 1"
   ]
  },
  {
   "cell_type": "code",
   "execution_count": 21,
   "metadata": {},
   "outputs": [
    {
     "data": {
      "text/plain": [
       "(647046, 22)"
      ]
     },
     "execution_count": 21,
     "metadata": {},
     "output_type": "execute_result"
    }
   ],
   "source": [
    "train.drop(\"Upc\", axis=1, inplace=True)\n",
    "train.shape"
   ]
  },
  {
   "cell_type": "code",
   "execution_count": 22,
   "metadata": {},
   "outputs": [],
   "source": [
    "# department_list = train[\"DepartmentDescription\"].unique().tolist()\n",
    "# def ratio_depts_products(data, department_list):\n",
    "    \n",
    "#     new_data = data[[\"VisitNumber\", \"Sum\"]].drop_duplicates()\n",
    "#     for i, dept in enumerate(department_list):\n",
    "#         df = data[data[\"DepartmentDescription\"]==dept]\n",
    "#         df = df.groupby([\"VisitNumber\"], as_index=False)[\"Count\"].sum()\n",
    "#         df.rename(columns={\"Count\": \"D_{}\".format(dept)}, inplace=True)\n",
    "#         new_data = new_data.merge(df, how='left', on=[\"VisitNumber\"], copy=True)\n",
    "#         new_data[\"D_{}\".format(dept)].fillna(value=0, inplace=True)\n",
    "#         new_data[\"Ratio_{}\".format(dept)] = new_data[\"D_{}\".format(dept)] / new_data[\"Sum\"]\n",
    "#         new_data[\"Ratio_{}\".format(dept)].fillna(value=0, inplace=True)\n",
    "#         new_data.drop([\"D_{}\".format(dept)], axis=1, inplace=True)\n",
    "#     new_data.drop(\"Sum\", axis=1, inplace=True)\n",
    "#     return new_data"
   ]
  },
  {
   "cell_type": "code",
   "execution_count": 23,
   "metadata": {},
   "outputs": [],
   "source": [
    "# tmp = train[[\"VisitNumber\", \"Sum\"]]\n",
    "# tmp = tmp.groupby(\"VisitNumber\", as_index=False).max()\n",
    "\n",
    "# new = train[[\"VisitNumber\", \"DepartmentDescription\"]]\n",
    "\n",
    "# dd_dummies = pd.get_dummies(new[\"DepartmentDescription\"])\n",
    "# new = pd.concat([new, dd_dummies], axis=1)\n",
    "# new = new.groupby(\"VisitNumber\", as_index=False).sum()"
   ]
  },
  {
   "cell_type": "code",
   "execution_count": 24,
   "metadata": {},
   "outputs": [],
   "source": [
    "# 최빈값 함수\n",
    "from collections import Counter\n",
    "def mode(x):\n",
    "    counts = Counter(x)\n",
    "    max_count = max(counts.values())\n",
    "    ls = [x_i for x_i, count in counts.items() if count == max_count]\n",
    "    return ls[0]"
   ]
  },
  {
   "cell_type": "code",
   "execution_count": 25,
   "metadata": {},
   "outputs": [],
   "source": [
    "to_grouped = train[[\"VisitNumber\", \"FinelineNumber\"]]\n",
    "mf_fineline = to_grouped.groupby(\"VisitNumber\", as_index=False).agg(mode)"
   ]
  },
  {
   "cell_type": "code",
   "execution_count": 26,
   "metadata": {},
   "outputs": [],
   "source": [
    "depts_dummies = pd.get_dummies(train.DepartmentDescription)\n",
    "depts_dummies.drop(\"HEALTH AND BEAUTY AIDS\", axis=1, inplace=True)"
   ]
  },
  {
   "cell_type": "code",
   "execution_count": 27,
   "metadata": {},
   "outputs": [
    {
     "data": {
      "text/plain": [
       "(95673, 68)"
      ]
     },
     "execution_count": 27,
     "metadata": {},
     "output_type": "execute_result"
    }
   ],
   "source": [
    "depts_dummies = pd.concat([train[[\"VisitNumber\"]], depts_dummies], axis=1)\n",
    "depts_dummies_grouped = depts_dummies.groupby(\"VisitNumber\", as_index=False).sum()\n",
    "depts_dummies_grouped.shape"
   ]
  },
  {
   "cell_type": "code",
   "execution_count": 28,
   "metadata": {},
   "outputs": [],
   "source": [
    "# fineline_dummies = pd.get_dummies(train.FinelineNumber)\n",
    "# fineline_dummies = pd.concat([train[[\"VisitNumber\"]], fineline_dummies], axis=1)"
   ]
  },
  {
   "cell_type": "code",
   "execution_count": 29,
   "metadata": {},
   "outputs": [],
   "source": [
    "def smoothing_depts(data):\n",
    "    tmp = data[[\"VisitNumber\", \"Sum\"]]\n",
    "    tmp = tmp.groupby(\"VisitNumber\", as_index=False).max()\n",
    "    depts_dummies = pd.get_dummies(data[\"DepartmentDescription\"])\n",
    "    new_df = pd.concat([tmp, depts_dummies], axis=1)\n",
    "    new_df = new_df.groupby(\"VisitNumber\", as_index=False).sum()\n",
    "    new_df = new_df.loc[:, \"1-HR PHOTO\":\"WIRELESS\"].apply(lambda x: (x+1) / (tmp[\"Sum\"]+68))\n",
    "    return new_df.drop([\"HEALTH AND BEAUTY AIDS\"], axis=1)"
   ]
  },
  {
   "cell_type": "code",
   "execution_count": 30,
   "metadata": {},
   "outputs": [],
   "source": [
    "depts_smoothed = smoothing_depts(train)"
   ]
  },
  {
   "cell_type": "code",
   "execution_count": 31,
   "metadata": {},
   "outputs": [],
   "source": [
    "# def make_fineline_dummies(data):\n",
    "#     \"\"\"\n",
    "#     OneHotEncoding FinelineNumber which appear \n",
    "#     more than 500 times each Trip Type.\n",
    "#     \"\"\"\n",
    "#     fineline_ranks = data.FinelineNumber.value_counts()\n",
    "#     fineline_ranks = fineline_ranks[fineline_ranks > 500]\n",
    "# #     columns1 = list(fineline_ranks.index)\n",
    "#     dummies = pd.get_dummies(data.FinelineNumber)\n",
    "#     dummies = dummies[fineline_ranks.index]\n",
    "    \n",
    "#     data_visit = original_train[[\"VisitNumber\"]]\n",
    "#     dummy_data = pd.concat([dummies, data_visit], axis=1)\n",
    "#     dummy_data = dummy_data.groupby(\"VisitNumber\", as_index=False).aggregate(np.sum) # agg(\"sum\")보다 더 나은 성능\n",
    "#     return dummy_data"
   ]
  },
  {
   "cell_type": "code",
   "execution_count": 32,
   "metadata": {},
   "outputs": [],
   "source": [
    "# fineline_dummies_grouped = make_fineline_dummies(train)"
   ]
  },
  {
   "cell_type": "code",
   "execution_count": 33,
   "metadata": {},
   "outputs": [],
   "source": [
    "train = train.replace(np.inf, 0)\n",
    "train = train.fillna(value=0)"
   ]
  },
  {
   "cell_type": "code",
   "execution_count": 34,
   "metadata": {},
   "outputs": [],
   "source": [
    "train.drop([\"DepartmentDescription\", \"FinelineNumber\"], axis=1, inplace=True)"
   ]
  },
  {
   "cell_type": "code",
   "execution_count": 35,
   "metadata": {},
   "outputs": [],
   "source": [
    "train_by_max = train.groupby(\"VisitNumber\", as_index=False).agg(np.max) # ScanCount --> Sum"
   ]
  },
  {
   "cell_type": "code",
   "execution_count": 36,
   "metadata": {},
   "outputs": [
    {
     "data": {
      "text/plain": [
       "(95673, 87)"
      ]
     },
     "execution_count": 36,
     "metadata": {},
     "output_type": "execute_result"
    }
   ],
   "source": [
    "train_grouped = train_by_max.merge(depts_dummies_grouped, how='left', on=[\"VisitNumber\"])\n",
    "# train_grouped = train_grouped.merge(fineline_dummies_grouped, how='left', on=[\"VisitNumber\"])\n",
    "train_grouped.shape"
   ]
  },
  {
   "cell_type": "code",
   "execution_count": 37,
   "metadata": {},
   "outputs": [],
   "source": [
    "depts_tmp = train_grouped.loc[:, \"1-HR PHOTO\":\"WIRELESS\"]\n",
    "depts_tmp = depts_smoothed\n",
    "depts_tmp.columns = depts_tmp.columns.map(lambda x: str(\"Prob_\") + x)"
   ]
  },
  {
   "cell_type": "code",
   "execution_count": 38,
   "metadata": {},
   "outputs": [],
   "source": [
    "def grouping_depts(data):\n",
    "    data[\"OPTICAL\"] = data[\"OPTICAL - LENSES\"] + data[\"OPTICAL - FRAMES\"]\n",
    "    data[\"DELI\"] = data[\"SERVICE DELI\"] + data[\"PRE PACKED DELI\"]\n",
    "\n",
    "    data[\"WOMENS CLOTHES\"] = data[\"PLUS AND MATERNITY\"] + data[\"LADIES SOCKS\"] +\\\n",
    "                             data[\"LADIES SOCKS\"] + data[\"BRAS & SHAPEWEAR\"]\n",
    "    data[\"ELECTRONICS\"] = data[\"ELECTRONICS\"] + data[\"PLAYERS AND ELECTRONICS\"]\n",
    "    data[\"LADIESWEAR\"] = data[\"LADIESWEAR\"] + data[\"WOMENS CLOTHES\"]\n",
    "\n",
    "    data[\"PHARMACY\"] = data[\"PHARMACY RX\"] + data[\"PHARMACY OTC\"]\n",
    "    data[\"LAWN AND GARDEN\"] = data[\"LAWN AND GARDEN\"] + data[\"HORTICULTURE AND ACCESS\"]\n",
    "    data[\"LADIESWEAR\"] = data[\"SHEER HOSIERY\"] + data[\"LADIESWEAR\"]\n",
    "\n",
    "    data[\"CLOTHES\"] = data[\"BOYS WEAR\"] + data[\"MENSWEAR\"] + data[\"SWIMWEAR/OUTERWEAR\"] +\\\n",
    "                      data['GIRLS WEAR, 4-6X  AND 7-14'] + data[\"INFANT APPAREL\"] +\\\n",
    "                      data[\"LADIESWEAR\"] + data[\"MENS WEAR\"] + data[\"SLEEPWEAR/FOUNDATIONS\"]\n",
    "\n",
    "    data[\"GROCERIES\"] = data[\"BAKERY\"] + data[\"COMM BREAD\"] + data[\"DAIRY\"] + data[\"DSD GROCERY\"] +\\\n",
    "                        data[\"FROZEN FOODS\"] + data[\"GROCERY DRY GOODS\"] + data[\"MEAT - FRESH & FROZEN\"] +\\\n",
    "                        data[\"PRODUCE\"] + data[\"SEAFOOD\"] + data[\"DELI\"]\n",
    "\n",
    "    data[\"CLOTHES\"] = data[\"CLOTHES\"] + data[\"SHOES\"]\n",
    "    data[\"HOME\"] = data[\"BATH AND SHOWER\"] + data[\"HOME DECOR\"] + data[\"HOME MANAGEMENT\"] +\\\n",
    "                   data[\"BEDDING\"] + data[\"COOK AND DINE\"] + data[\"FURNITURE\"] +\\\n",
    "                   data[\"LARGE HOUSEHOLD GOODS\"] + data[\"SEASONAL\"]\n",
    "\n",
    "    data[\"JEWELRY AND ACCESSORIES\"] = data[\"JEWELRY AND SUNGLASSES\"] + data[\"ACCESSORIES\"]\n",
    "    data[\"ELECTRONICS\"] = data[\"ELECTRONICS\"] + data[\"CAMERAS AND SUPPLIES\"]\n",
    "\n",
    "    data['HOUSEHOLD GOODS'] = data['HOUSEHOLD PAPER GOODS'] + data['HOUSEHOLD CHEMICALS/SUPP']\n",
    "    data[\"ELECTRONICS\"] = data[\"ELECTRONICS\"] + data[\"WIRELESS\"]\n",
    "    data[\"BEAUTY AND PERSONAL CARE\"] = data[\"BEAUTY\"] + data[\"PERSONAL CARE\"]\n",
    "\n",
    "    to_drop = [\"OPTICAL - FRAMES\", \"OPTICAL - LENSES\", \"CONCEPT STORES\",\n",
    "               \"OTHER DEPARTMENTS\", \"PRE PACKED DELI\", \"SERVICE DELI\", \"PLUS AND MATERNITY\", \"LADIES SOCKS\",\n",
    "               \"BRAS & SHAPEWEAR\", \"PLAYERS AND ELECTRONICS\", \"WOMENS CLOTHES\", \"PHARMACY RX\", \"PHARMACY OTC\",\n",
    "               \"HORTICULTURE AND ACCESS\", \"SHEER HOSIERY\", \"BOYS WEAR\", \"MENSWEAR\", \"SWIMWEAR/OUTERWEAR\",\n",
    "               \"GIRLS WEAR, 4-6X  AND 7-14\", \"INFANT APPAREL\", \"LADIESWEAR\", \"MENS WEAR\", \"SLEEPWEAR/FOUNDATIONS\",\n",
    "               \"BAKERY\", \"COMM BREAD\", \"DAIRY\", \"DSD GROCERY\", \"FROZEN FOODS\", \"GROCERY DRY GOODS\",\n",
    "               \"MEAT - FRESH & FROZEN\",\"PRODUCE\", \"SEAFOOD\", \"DELI\", \"SHOES\", \"HOME DECOR\", \"BATH AND SHOWER\",\n",
    "               \"HOME MANAGEMENT\", \"BEDDING\",\"COOK AND DINE\", \"FURNITURE\", \"LARGE HOUSEHOLD GOODS\",\n",
    "               \"SEASONAL\", \"JEWELRY AND SUNGLASSES\", \"ACCESSORIES\", \"CAMERAS AND SUPPLIES\",\n",
    "               \"HOUSEHOLD CHEMICALS/SUPP\", \"HOUSEHOLD PAPER GOODS\", \"WIRELESS\", \"BEAUTY\", \"PERSONAL CARE\"]\n",
    "    \n",
    "    return data.drop(to_drop, axis=1)"
   ]
  },
  {
   "cell_type": "code",
   "execution_count": 39,
   "metadata": {},
   "outputs": [
    {
     "data": {
      "text/html": [
       "<div>\n",
       "<style scoped>\n",
       "    .dataframe tbody tr th:only-of-type {\n",
       "        vertical-align: middle;\n",
       "    }\n",
       "\n",
       "    .dataframe tbody tr th {\n",
       "        vertical-align: top;\n",
       "    }\n",
       "\n",
       "    .dataframe thead th {\n",
       "        text-align: right;\n",
       "    }\n",
       "</style>\n",
       "<table border=\"1\" class=\"dataframe\">\n",
       "  <thead>\n",
       "    <tr style=\"text-align: right;\">\n",
       "      <th></th>\n",
       "      <th>VisitNumber</th>\n",
       "      <th>TripType</th>\n",
       "      <th>Weekday</th>\n",
       "      <th>ScanCount</th>\n",
       "      <th>Count</th>\n",
       "      <th>Min</th>\n",
       "      <th>Max</th>\n",
       "      <th>Mean</th>\n",
       "      <th>Range</th>\n",
       "      <th>Null_Depts</th>\n",
       "      <th>...</th>\n",
       "      <th>Prob_SEAFOOD</th>\n",
       "      <th>Prob_SEASONAL</th>\n",
       "      <th>Prob_SERVICE DELI</th>\n",
       "      <th>Prob_SHEER HOSIERY</th>\n",
       "      <th>Prob_SHOES</th>\n",
       "      <th>Prob_SLEEPWEAR/FOUNDATIONS</th>\n",
       "      <th>Prob_SPORTING GOODS</th>\n",
       "      <th>Prob_SWIMWEAR/OUTERWEAR</th>\n",
       "      <th>Prob_TOYS</th>\n",
       "      <th>Prob_WIRELESS</th>\n",
       "    </tr>\n",
       "  </thead>\n",
       "  <tbody>\n",
       "    <tr>\n",
       "      <th>95670</th>\n",
       "      <td>191345</td>\n",
       "      <td>39</td>\n",
       "      <td>6</td>\n",
       "      <td>2</td>\n",
       "      <td>2</td>\n",
       "      <td>1.0</td>\n",
       "      <td>5.0</td>\n",
       "      <td>2.125</td>\n",
       "      <td>4.0</td>\n",
       "      <td>0.0</td>\n",
       "      <td>...</td>\n",
       "      <td>0.011765</td>\n",
       "      <td>0.011765</td>\n",
       "      <td>0.011765</td>\n",
       "      <td>0.011765</td>\n",
       "      <td>0.011765</td>\n",
       "      <td>0.011765</td>\n",
       "      <td>0.011765</td>\n",
       "      <td>0.011765</td>\n",
       "      <td>0.011765</td>\n",
       "      <td>0.011765</td>\n",
       "    </tr>\n",
       "    <tr>\n",
       "      <th>95671</th>\n",
       "      <td>191346</td>\n",
       "      <td>39</td>\n",
       "      <td>6</td>\n",
       "      <td>1</td>\n",
       "      <td>1</td>\n",
       "      <td>1.0</td>\n",
       "      <td>5.0</td>\n",
       "      <td>2.125</td>\n",
       "      <td>4.0</td>\n",
       "      <td>0.0</td>\n",
       "      <td>...</td>\n",
       "      <td>0.011765</td>\n",
       "      <td>0.011765</td>\n",
       "      <td>0.011765</td>\n",
       "      <td>0.011765</td>\n",
       "      <td>0.011765</td>\n",
       "      <td>0.011765</td>\n",
       "      <td>0.011765</td>\n",
       "      <td>0.011765</td>\n",
       "      <td>0.011765</td>\n",
       "      <td>0.011765</td>\n",
       "    </tr>\n",
       "    <tr>\n",
       "      <th>95672</th>\n",
       "      <td>191347</td>\n",
       "      <td>8</td>\n",
       "      <td>6</td>\n",
       "      <td>1</td>\n",
       "      <td>1</td>\n",
       "      <td>1.0</td>\n",
       "      <td>1.0</td>\n",
       "      <td>1.000</td>\n",
       "      <td>0.0</td>\n",
       "      <td>0.0</td>\n",
       "      <td>...</td>\n",
       "      <td>0.014286</td>\n",
       "      <td>0.014286</td>\n",
       "      <td>0.014286</td>\n",
       "      <td>0.014286</td>\n",
       "      <td>0.014286</td>\n",
       "      <td>0.014286</td>\n",
       "      <td>0.014286</td>\n",
       "      <td>0.014286</td>\n",
       "      <td>0.014286</td>\n",
       "      <td>0.014286</td>\n",
       "    </tr>\n",
       "  </tbody>\n",
       "</table>\n",
       "<p>3 rows × 114 columns</p>\n",
       "</div>"
      ],
      "text/plain": [
       "       VisitNumber  TripType  Weekday  ScanCount  Count  Min  Max   Mean  \\\n",
       "95670       191345        39        6          2      2  1.0  5.0  2.125   \n",
       "95671       191346        39        6          1      1  1.0  5.0  2.125   \n",
       "95672       191347         8        6          1      1  1.0  1.0  1.000   \n",
       "\n",
       "       Range  Null_Depts      ...        Prob_SEAFOOD  Prob_SEASONAL  \\\n",
       "95670    4.0         0.0      ...            0.011765       0.011765   \n",
       "95671    4.0         0.0      ...            0.011765       0.011765   \n",
       "95672    0.0         0.0      ...            0.014286       0.014286   \n",
       "\n",
       "       Prob_SERVICE DELI  Prob_SHEER HOSIERY  Prob_SHOES  \\\n",
       "95670           0.011765            0.011765    0.011765   \n",
       "95671           0.011765            0.011765    0.011765   \n",
       "95672           0.014286            0.014286    0.014286   \n",
       "\n",
       "       Prob_SLEEPWEAR/FOUNDATIONS  Prob_SPORTING GOODS  \\\n",
       "95670                    0.011765             0.011765   \n",
       "95671                    0.011765             0.011765   \n",
       "95672                    0.014286             0.014286   \n",
       "\n",
       "       Prob_SWIMWEAR/OUTERWEAR  Prob_TOYS  Prob_WIRELESS  \n",
       "95670                 0.011765   0.011765       0.011765  \n",
       "95671                 0.011765   0.011765       0.011765  \n",
       "95672                 0.014286   0.014286       0.014286  \n",
       "\n",
       "[3 rows x 114 columns]"
      ]
     },
     "execution_count": 39,
     "metadata": {},
     "output_type": "execute_result"
    }
   ],
   "source": [
    "train_depts_group = grouping_depts(train_grouped)\n",
    "train_depts_group = pd.concat([train_depts_group, depts_tmp], axis=1)\n",
    "train_depts_group.tail(3)"
   ]
  },
  {
   "cell_type": "code",
   "execution_count": 40,
   "metadata": {},
   "outputs": [],
   "source": [
    "# train_depts_group.drop(9999, axis=1, inplace=True)\n",
    "train_depts_group = pd.concat([train_depts_group, mf_fineline[[\"FinelineNumber\"]]], axis=1)\n",
    "# train_depts_group = pd.get_dummies(train_depts_group, columns=[\"Weekday\"])\n",
    "# train_depts_group.drop(X.iloc[:, 170:357], axis=1, inplace=True)"
   ]
  },
  {
   "cell_type": "code",
   "execution_count": 41,
   "metadata": {},
   "outputs": [
    {
     "data": {
      "text/plain": [
       "(95673, 121)"
      ]
     },
     "execution_count": 41,
     "metadata": {},
     "output_type": "execute_result"
    }
   ],
   "source": [
    "train_depts_group = pd.get_dummies(train_depts_group, columns=[\"Weekday\"])\n",
    "train_depts_group.shape"
   ]
  },
  {
   "cell_type": "code",
   "execution_count": 42,
   "metadata": {},
   "outputs": [],
   "source": [
    "y = train_depts_group[\"TripType\"]\n",
    "X = train_depts_group.drop(\"TripType\", axis=1)"
   ]
  },
  {
   "cell_type": "code",
   "execution_count": 43,
   "metadata": {},
   "outputs": [],
   "source": [
    "from sklearn.model_selection import train_test_split\n",
    "from sklearn.ensemble import RandomForestClassifier"
   ]
  },
  {
   "cell_type": "code",
   "execution_count": 44,
   "metadata": {},
   "outputs": [],
   "source": [
    "X_train, X_test, y_train, y_test = train_test_split(X, y, random_state=0)"
   ]
  },
  {
   "cell_type": "code",
   "execution_count": 45,
   "metadata": {},
   "outputs": [],
   "source": [
    "n_estimators = 1000\n",
    "max_features = 0.6\n",
    "min_samples_split = 30"
   ]
  },
  {
   "cell_type": "code",
   "execution_count": 46,
   "metadata": {},
   "outputs": [],
   "source": [
    "rf = RandomForestClassifier(n_estimators=n_estimators,\n",
    "                            min_samples_split=min_samples_split, n_jobs=-1, random_state=0)"
   ]
  },
  {
   "cell_type": "code",
   "execution_count": 47,
   "metadata": {},
   "outputs": [
    {
     "name": "stdout",
     "output_type": "stream",
     "text": [
      "CPU times: user 6min 35s, sys: 8.36 s, total: 6min 43s\n",
      "Wall time: 1min 52s\n"
     ]
    },
    {
     "data": {
      "text/plain": [
       "RandomForestClassifier(bootstrap=True, class_weight=None, criterion='gini',\n",
       "            max_depth=None, max_features='auto', max_leaf_nodes=None,\n",
       "            min_impurity_decrease=0.0, min_impurity_split=None,\n",
       "            min_samples_leaf=1, min_samples_split=30,\n",
       "            min_weight_fraction_leaf=0.0, n_estimators=1000, n_jobs=-1,\n",
       "            oob_score=False, random_state=0, verbose=0, warm_start=False)"
      ]
     },
     "execution_count": 47,
     "metadata": {},
     "output_type": "execute_result"
    }
   ],
   "source": [
    "%%time\n",
    "rf.fit(X_train, y_train)"
   ]
  },
  {
   "cell_type": "code",
   "execution_count": 48,
   "metadata": {},
   "outputs": [
    {
     "name": "stdout",
     "output_type": "stream",
     "text": [
      "0.73941522423837\n",
      "0.6467243613863456\n"
     ]
    }
   ],
   "source": [
    "print(rf.score(X_train, y_train))\n",
    "print(rf.score(X_test, y_test))"
   ]
  },
  {
   "cell_type": "code",
   "execution_count": 49,
   "metadata": {},
   "outputs": [
    {
     "data": {
      "text/plain": [
       "(23919, 35)"
      ]
     },
     "execution_count": 49,
     "metadata": {},
     "output_type": "execute_result"
    }
   ],
   "source": [
    "pred = rf.predict(X_test)\n",
    "pd.get_dummies(pred).shape"
   ]
  },
  {
   "cell_type": "code",
   "execution_count": null,
   "metadata": {},
   "outputs": [],
   "source": []
  },
  {
   "cell_type": "code",
   "execution_count": null,
   "metadata": {},
   "outputs": [],
   "source": []
  },
  {
   "cell_type": "code",
   "execution_count": 50,
   "metadata": {},
   "outputs": [],
   "source": [
    "X_depts = X.loc[:, \"OPTICAL\":\"BEAUTY AND PERSONAL CARE\"]\n",
    "lst = X_depts.columns.tolist()\n",
    "for i in range(len(lst)-1):\n",
    "    for j in range(i+1, len(lst)):\n",
    "        X_depts['{}_{}'.format(lst[i], lst[j])] = X_depts[lst[i]] * X_depts[lst[j]]"
   ]
  },
  {
   "cell_type": "code",
   "execution_count": 51,
   "metadata": {},
   "outputs": [],
   "source": [
    "X_depts_interaction = pd.concat([X, X_depts], axis=1)"
   ]
  },
  {
   "cell_type": "code",
   "execution_count": 52,
   "metadata": {},
   "outputs": [],
   "source": [
    "X_train_interact, X_test_interact, y_train_interact, y_test_interact =\\\n",
    "train_test_split(X, y, test_size=0.4, random_state=0)"
   ]
  },
  {
   "cell_type": "code",
   "execution_count": 53,
   "metadata": {},
   "outputs": [],
   "source": [
    "n_estimators = 500\n",
    "max_features = 0.55\n",
    "min_samples_split = 60\n",
    "\n",
    "rf = RandomForestClassifier(n_estimators=n_estimators, max_features=max_features, criterion=\"entropy\",\n",
    "                            min_samples_split=min_samples_split, n_jobs=-1, random_state=0)"
   ]
  },
  {
   "cell_type": "code",
   "execution_count": 55,
   "metadata": {},
   "outputs": [
    {
     "name": "stdout",
     "output_type": "stream",
     "text": [
      "CPU times: user 13min 31s, sys: 4.9 s, total: 13min 36s\n",
      "Wall time: 4min 4s\n"
     ]
    },
    {
     "data": {
      "text/plain": [
       "RandomForestClassifier(bootstrap=True, class_weight=None, criterion='entropy',\n",
       "            max_depth=None, max_features=0.55, max_leaf_nodes=None,\n",
       "            min_impurity_decrease=0.0, min_impurity_split=None,\n",
       "            min_samples_leaf=1, min_samples_split=60,\n",
       "            min_weight_fraction_leaf=0.0, n_estimators=500, n_jobs=-1,\n",
       "            oob_score=False, random_state=0, verbose=0, warm_start=False)"
      ]
     },
     "execution_count": 55,
     "metadata": {},
     "output_type": "execute_result"
    }
   ],
   "source": [
    "%%time\n",
    "rf.fit(X_train_interact, y_train_interact)"
   ]
  },
  {
   "cell_type": "code",
   "execution_count": 56,
   "metadata": {},
   "outputs": [
    {
     "name": "stdout",
     "output_type": "stream",
     "text": [
      "0.6837273313241469\n",
      "0.6481055657172721\n"
     ]
    }
   ],
   "source": [
    "print(rf.score(X_train_interact, y_train_interact))\n",
    "print(rf.score(X_test_interact, y_test_interact))"
   ]
  },
  {
   "cell_type": "code",
   "execution_count": 57,
   "metadata": {},
   "outputs": [
    {
     "data": {
      "text/plain": [
       "(38270, 34)"
      ]
     },
     "execution_count": 57,
     "metadata": {},
     "output_type": "execute_result"
    }
   ],
   "source": [
    "pred_interact_rf = rf.predict(X_test_interact)\n",
    "pd.get_dummies(pred_interact_rf).shape"
   ]
  },
  {
   "cell_type": "code",
   "execution_count": 60,
   "metadata": {},
   "outputs": [
    {
     "data": {
      "image/png": "[encoded data removed]",
      "text/plain": [
       "<matplotlib.figure.Figure at 0x229b85ba8>"
      ]
     },
     "metadata": {},
     "output_type": "display_data"
    }
   ],
   "source": [
    "import matplotlib as mpl\n",
    "import matplotlib.pyplot as plt\n",
    "import seaborn as sns\n",
    "\n",
    "importance = rf.feature_importances_\n",
    "pairs = []\n",
    "for idx, value in enumerate(importance):\n",
    "    pairs.append((abs(value), X.columns[idx]))\n",
    "pairs.sort(key=lambda x: x[0], reverse=True)\n",
    "# for pair in pairs[:20]:\n",
    "#     print(\"importance: {:4f} feature: {}\".format(pair[0], pair[1]))\n",
    "importance.sort()\n",
    "importance = importance[::-1]\n",
    "\n",
    "labels = [label[1] for label in pairs]\n",
    "\n",
    "plt.figure(figsize=(12, 14))\n",
    "plt.barh(range(50), importance[:50][::-1], align=\"center\")\n",
    "plt.yticks(np.arange(50), labels[:50][::-1])\n",
    "plt.xlabel(\"Feature importance\")\n",
    "plt.ylim(-1, 50)\n",
    "plt.show()"
   ]
  },
  {
   "cell_type": "code",
   "execution_count": null,
   "metadata": {},
   "outputs": [],
   "source": [
    "# def make_fineline_dummies_test(data):\n",
    "#     \"\"\"\n",
    "#     OneHotEncoding FinelineNumber which appear \n",
    "#     more than 500 times each Trip Type.\n",
    "#     \"\"\"\n",
    "# #     train_fineline = original_data[\"FinelineNumber\"].unique()\n",
    "# #     test_fineline = original_test[\"FinelineNumber\"].unique()\n",
    "# #     intersection_fineline = list(set(train_fineline).intersection(set(test_fineline)))\n",
    "    \n",
    "#     fineline_ranks = original_train.FinelineNumber.value_counts()\n",
    "#     fineline_ranks = fineline_ranks[fineline_ranks > 500]\n",
    "# #     columns1 = list(fineline_ranks.index)\n",
    "#     dummies = pd.get_dummies(data.FinelineNumber)\n",
    "#     dummies = dummies[fineline_ranks.index]\n",
    "    \n",
    "#     data_visit = original_test[[\"VisitNumber\"]]\n",
    "#     dummy_data = pd.concat([dummies, data_visit], axis=1)\n",
    "#     dummy_data = dummy_data.groupby(\"VisitNumber\", as_index=False).aggregate(np.sum) # agg(\"sum\")보다 더 나은 성능\n",
    "#     return dummy_data"
   ]
  },
  {
   "cell_type": "markdown",
   "metadata": {},
   "source": [
    "# Test"
   ]
  },
  {
   "cell_type": "code",
   "execution_count": 61,
   "metadata": {},
   "outputs": [],
   "source": [
    "wd = {\n",
    "    \"Monday\": 0,\n",
    "    \"Tuesday\": 1,\n",
    "    \"Wednesday\": 2,\n",
    "    \"Thursday\": 3, \n",
    "    \"Friday\": 4,\n",
    "    \"Saturday\": 5,\n",
    "    \"Sunday\": 6,\n",
    "}\n",
    "\n",
    "test[\"Weekday\"] = test[\"Weekday\"].apply(lambda x: wd[x])\n",
    "\n",
    "test[\"Count\"] = test[\"ScanCount\"]\n",
    "test.loc[test.Count < 0, \"Count\"] = 0\n",
    "test[\"FinelineNumber\"].fillna(value=9999, inplace=True)"
   ]
  },
  {
   "cell_type": "code",
   "execution_count": 62,
   "metadata": {},
   "outputs": [],
   "source": [
    "df = test.groupby([\"VisitNumber\", \"DepartmentDescription\"], as_index=False)[\"Count\"].sum()\n",
    "\n",
    "df1 = df.groupby([\"VisitNumber\"], as_index=False)[\"Count\"].min()\n",
    "df1.rename(columns={\"Count\": \"Min\"}, inplace=True)\n",
    "\n",
    "df2 = df.groupby([\"VisitNumber\"], as_index=False)[\"Count\"].max()\n",
    "df2.rename(columns={'Count': \"Max\"}, inplace=True)\n",
    "\n",
    "df3 = df.groupby([\"VisitNumber\"], as_index=False)[\"Count\"].mean()\n",
    "df3.rename(columns={\"Count\": \"Mean\"}, inplace=True)\n",
    "\n",
    "test = test.merge(df1, how='left', on=[\"VisitNumber\"], copy=True)\n",
    "test = test.merge(df2, how='left', on=[\"VisitNumber\"], copy=True)\n",
    "test = test.merge(df3, how='left', on=[\"VisitNumber\"], copy=True)  \n",
    "\n",
    "test[\"Range\"] = test[\"Max\"] - test[\"Min\"]"
   ]
  },
  {
   "cell_type": "code",
   "execution_count": 63,
   "metadata": {},
   "outputs": [],
   "source": [
    "df = test[test[\"DepartmentDescription\"].isnull()]\n",
    "df = df.groupby([\"VisitNumber\"], as_index=False)[\"Count\"].count()\n",
    "df.rename(columns={\"Count\": \"Null_Depts\"}, inplace=True)\n",
    "test = test.merge(df, how='left', on=[\"VisitNumber\"], copy=True) \n",
    "test[\"Null_Depts\"].fillna(value=1, inplace=True) \n",
    "test.loc[test.Null_Depts > 0, \"Null_Depts\"] = 0"
   ]
  },
  {
   "cell_type": "code",
   "execution_count": 64,
   "metadata": {},
   "outputs": [],
   "source": [
    "df = test[test[\"ScanCount\"] < 0]\n",
    "df = df.groupby([\"VisitNumber\"], as_index=False)[\"Count\"].count()\n",
    "df.rename(columns={\"Count\": \"ReturnCount\"}, inplace=True) \n",
    "test = test.merge(df, how='left', on=[\"VisitNumber\"], copy=True)\n",
    "test[\"ReturnCount\"].fillna(value=1, inplace=True)\n",
    "test.loc[test.ReturnCount > 0, \"ReturnCount\"] = 0"
   ]
  },
  {
   "cell_type": "code",
   "execution_count": 65,
   "metadata": {},
   "outputs": [],
   "source": [
    "df = test[test[\"FinelineNumber\"]==9999]\n",
    "df = df.groupby([\"VisitNumber\"], as_index=False)[\"Count\"].count()\n",
    "df.rename(columns={\"Count\": \"Null_Fineline\"}, inplace=True)\n",
    "test = test.merge(df, how='left', on=[\"VisitNumber\"], copy=True) "
   ]
  },
  {
   "cell_type": "code",
   "execution_count": 66,
   "metadata": {},
   "outputs": [],
   "source": [
    "test[\"Null_Fineline\"].fillna(value=0, inplace=True)\n",
    "test.loc[test.Null_Fineline > 0, \"Null_Fineline\"] = 0"
   ]
  },
  {
   "cell_type": "code",
   "execution_count": 67,
   "metadata": {},
   "outputs": [],
   "source": [
    "df = test.groupby([\"VisitNumber\",  \"FinelineNumber\"], as_index=False)[\"Count\"].count()\n",
    "df = df.groupby([\"VisitNumber\"], as_index=False)[\"Count\"].count()\n",
    "df.rename(columns={\"Count\": \"N_Fineline\"}, inplace=True) \n",
    "test = test.merge(df, how='left', on=[\"VisitNumber\"], copy=True)"
   ]
  },
  {
   "cell_type": "code",
   "execution_count": 68,
   "metadata": {},
   "outputs": [],
   "source": [
    "df = test.groupby([\"VisitNumber\",  \"Upc\"], as_index=False)[\"Count\"].count()\n",
    "df = df.groupby([\"VisitNumber\"], as_index=False)[\"Count\"].count()\n",
    "df.rename(columns={\"Count\": \"N_Upc\"}, inplace=True) \n",
    "test = test.merge(df, how='left', on=[\"VisitNumber\"], copy=True) "
   ]
  },
  {
   "cell_type": "code",
   "execution_count": 69,
   "metadata": {},
   "outputs": [],
   "source": [
    "# 커널이 죽음... ???\n",
    "df = test.groupby([\"VisitNumber\", \"DepartmentDescription\"], as_index=False)[\"Count\"].count()"
   ]
  },
  {
   "cell_type": "code",
   "execution_count": 70,
   "metadata": {},
   "outputs": [],
   "source": [
    "df = df.groupby([\"VisitNumber\"], as_index=False)[\"Count\"].count()"
   ]
  },
  {
   "cell_type": "code",
   "execution_count": 71,
   "metadata": {},
   "outputs": [],
   "source": [
    "df.rename(columns={\"Count\": \"N_Depts\"}, inplace=True) \n",
    "test = test.merge(df, how='left', on=[\"VisitNumber\"], copy=True)"
   ]
  },
  {
   "cell_type": "code",
   "execution_count": 72,
   "metadata": {},
   "outputs": [],
   "source": [
    "df = test.groupby([\"VisitNumber\"], as_index=False)[\"Count\"].sum()\n",
    "df.rename(columns={\"Count\": \"Sum\"}, inplace=True)\n",
    "test = test.merge(df, how='left', on=[\"VisitNumber\"], copy=True)"
   ]
  },
  {
   "cell_type": "code",
   "execution_count": 73,
   "metadata": {},
   "outputs": [],
   "source": [
    "test[\"Ratio_F_D\"] = test[\"N_Fineline\"] / test[\"N_Depts\"]\n",
    "test[\"Ratio_U_D\"] = test[\"N_Upc\"] / test[\"N_Depts\"]\n",
    "\n",
    "test[\"mean_to_min\"] = test[\"Mean\"] / test[\"Min\"]\n",
    "test.loc[test.mean_to_min==0, \"mean_to_min\"] = 1\n",
    "test['max_to_mean'] = test[\"Max\"] / test[\"Mean\"]\n",
    "test.loc[test.max_to_mean==0, \"max_to_mean\"] = 1\n",
    "\n",
    "test.drop(\"Upc\", axis=1, inplace=True)"
   ]
  },
  {
   "cell_type": "code",
   "execution_count": 74,
   "metadata": {},
   "outputs": [
    {
     "data": {
      "text/plain": [
       "(95674, 68)"
      ]
     },
     "execution_count": 74,
     "metadata": {},
     "output_type": "execute_result"
    }
   ],
   "source": [
    "depts_dummies = pd.get_dummies(test.DepartmentDescription)\n",
    "\n",
    "depts_dummies_test = pd.concat([test[[\"VisitNumber\"]], depts_dummies], axis=1)\n",
    "depts_dummies_test_grouped = depts_dummies_test.groupby(\"VisitNumber\", as_index=False).sum()\n",
    "depts_dummies_test_grouped.shape"
   ]
  },
  {
   "cell_type": "code",
   "execution_count": 75,
   "metadata": {},
   "outputs": [],
   "source": [
    "# fineline_dummies_test = pd.get_dummies(test.FinelineNumber)\n",
    "# fineline_dummies_test = pd.concat([test[[\"VisitNumber\"]], fineline_dummies_test], axis=1)"
   ]
  },
  {
   "cell_type": "code",
   "execution_count": 78,
   "metadata": {},
   "outputs": [],
   "source": [
    "def smoothing_depts_test(data):\n",
    "    tmp = data[[\"VisitNumber\", \"Sum\"]]\n",
    "    tmp = tmp.groupby(\"VisitNumber\", as_index=False).max()\n",
    "    depts_dummies = pd.get_dummies(data[\"DepartmentDescription\"])\n",
    "    new_df = pd.concat([tmp, depts_dummies], axis=1)\n",
    "    new_df = new_df.groupby(\"VisitNumber\", as_index=False).sum()\n",
    "    new_df = new_df.loc[:, \"1-HR PHOTO\":\"WIRELESS\"].apply(lambda x: (x+1) / (tmp[\"Sum\"]+68))\n",
    "    return new_df"
   ]
  },
  {
   "cell_type": "code",
   "execution_count": 80,
   "metadata": {},
   "outputs": [],
   "source": [
    "depts_test_smoothed = smoothing_depts_test(test)\n",
    "depts_tmp = depts_dummies_test_grouped.loc[:, \"1-HR PHOTO\":\"WIRELESS\"]\n",
    "depts_tmp = depts_test_smoothed\n",
    "depts_tmp.columns = depts_tmp.columns.map(lambda x: str(\"Prob_\") + x)"
   ]
  },
  {
   "cell_type": "code",
   "execution_count": 81,
   "metadata": {},
   "outputs": [],
   "source": [
    "# fineline_dummies_test_grouped = make_fineline_dummies_test(test)"
   ]
  },
  {
   "cell_type": "code",
   "execution_count": 82,
   "metadata": {},
   "outputs": [],
   "source": [
    "# to_grouped = test[[\"VisitNumber\", \"FinelineNumber\"]]\n",
    "to_grouped = test[[\"VisitNumber\", \"FinelineNumber\"]]\n",
    "mf_fineline_test = to_grouped.groupby(\"VisitNumber\", as_index=False).agg(mode)"
   ]
  },
  {
   "cell_type": "code",
   "execution_count": 83,
   "metadata": {},
   "outputs": [],
   "source": [
    "test = test.replace(np.inf, 0)\n",
    "test = test.fillna(value=0)\n",
    "test.drop([\"DepartmentDescription\", \"FinelineNumber\"], axis=1, inplace=True)"
   ]
  },
  {
   "cell_type": "code",
   "execution_count": 84,
   "metadata": {},
   "outputs": [
    {
     "data": {
      "text/plain": [
       "(95674, 86)"
      ]
     },
     "execution_count": 84,
     "metadata": {},
     "output_type": "execute_result"
    }
   ],
   "source": [
    "test_by_max = test.groupby(\"VisitNumber\", as_index=False).agg(np.max)\n",
    "test_grouped = test_by_max.merge(depts_dummies_test_grouped, how='left', on=[\"VisitNumber\"])\n",
    "# test_grouped = test_grouped.merge(fineline_dummies_test_grouped, how='left', on=[\"VisitNumber\"])\n",
    "test_grouped.shape"
   ]
  },
  {
   "cell_type": "code",
   "execution_count": 85,
   "metadata": {},
   "outputs": [
    {
     "data": {
      "text/plain": [
       "(95674, 113)"
      ]
     },
     "execution_count": 85,
     "metadata": {},
     "output_type": "execute_result"
    }
   ],
   "source": [
    "test_depts_group = grouping_depts(test_grouped)\n",
    "test_depts_group = pd.concat([test_depts_group, depts_tmp], axis=1)\n",
    "test_depts_group.shape"
   ]
  },
  {
   "cell_type": "code",
   "execution_count": 86,
   "metadata": {},
   "outputs": [
    {
     "data": {
      "text/plain": [
       "(95674, 120)"
      ]
     },
     "execution_count": 86,
     "metadata": {},
     "output_type": "execute_result"
    }
   ],
   "source": [
    "test_depts_group = pd.concat([test_depts_group, mf_fineline_test[[\"FinelineNumber\"]]], axis=1)\n",
    "test_depts_group = pd.get_dummies(test_depts_group, columns=[\"Weekday\"])\n",
    "test_depts_group.shape"
   ]
  },
  {
   "cell_type": "code",
   "execution_count": 87,
   "metadata": {},
   "outputs": [],
   "source": [
    "test_depts_group.replace(np.inf, 0)\n",
    "test_depts_group.fillna(value=0, inplace=True)"
   ]
  },
  {
   "cell_type": "code",
   "execution_count": 88,
   "metadata": {},
   "outputs": [],
   "source": [
    "pred_test = rf.predict(test_depts_group)"
   ]
  },
  {
   "cell_type": "code",
   "execution_count": 89,
   "metadata": {},
   "outputs": [],
   "source": [
    "pred_prob_test = rf.predict_proba(test_depts_group)"
   ]
  },
  {
   "cell_type": "code",
   "execution_count": 90,
   "metadata": {},
   "outputs": [],
   "source": [
    "proba_df = pd.DataFrame(pred_prob_test, columns=rf.classes_)\n",
    "proba_df.columns = proba_df.columns.map(lambda x: \"TripType_\" + str(x))\n",
    "sub_df = pd.concat([test_depts_group[[\"VisitNumber\"]], proba_df], axis=1)"
   ]
  },
  {
   "cell_type": "code",
   "execution_count": 101,
   "metadata": {},
   "outputs": [
    {
     "data": {
      "text/html": [
       "<div>\n",
       "<style scoped>\n",
       "    .dataframe tbody tr th:only-of-type {\n",
       "        vertical-align: middle;\n",
       "    }\n",
       "\n",
       "    .dataframe tbody tr th {\n",
       "        vertical-align: top;\n",
       "    }\n",
       "\n",
       "    .dataframe thead th {\n",
       "        text-align: right;\n",
       "    }\n",
       "</style>\n",
       "<table border=\"1\" class=\"dataframe\">\n",
       "  <thead>\n",
       "    <tr style=\"text-align: right;\">\n",
       "      <th></th>\n",
       "      <th>VisitNumber</th>\n",
       "      <th>TripType_3</th>\n",
       "      <th>TripType_4</th>\n",
       "      <th>TripType_5</th>\n",
       "      <th>TripType_6</th>\n",
       "      <th>TripType_7</th>\n",
       "      <th>TripType_8</th>\n",
       "      <th>TripType_9</th>\n",
       "      <th>TripType_12</th>\n",
       "      <th>TripType_14</th>\n",
       "      <th>...</th>\n",
       "      <th>TripType_36</th>\n",
       "      <th>TripType_37</th>\n",
       "      <th>TripType_38</th>\n",
       "      <th>TripType_39</th>\n",
       "      <th>TripType_40</th>\n",
       "      <th>TripType_41</th>\n",
       "      <th>TripType_42</th>\n",
       "      <th>TripType_43</th>\n",
       "      <th>TripType_44</th>\n",
       "      <th>TripType_999</th>\n",
       "    </tr>\n",
       "  </thead>\n",
       "  <tbody>\n",
       "    <tr>\n",
       "      <th>426</th>\n",
       "      <td>854</td>\n",
       "      <td>0.00038</td>\n",
       "      <td>0.000027</td>\n",
       "      <td>0.000489</td>\n",
       "      <td>0.005667</td>\n",
       "      <td>0.000279</td>\n",
       "      <td>0.001381</td>\n",
       "      <td>0.033355</td>\n",
       "      <td>0.000343</td>\n",
       "      <td>0.016087</td>\n",
       "      <td>...</td>\n",
       "      <td>0.000323</td>\n",
       "      <td>0.000364</td>\n",
       "      <td>0.000046</td>\n",
       "      <td>0.005798</td>\n",
       "      <td>0.006557</td>\n",
       "      <td>0.00051</td>\n",
       "      <td>0.117842</td>\n",
       "      <td>0.029266</td>\n",
       "      <td>0.003394</td>\n",
       "      <td>0.022091</td>\n",
       "    </tr>\n",
       "  </tbody>\n",
       "</table>\n",
       "<p>1 rows × 39 columns</p>\n",
       "</div>"
      ],
      "text/plain": [
       "     VisitNumber  TripType_3  TripType_4  TripType_5  TripType_6  TripType_7  \\\n",
       "426          854     0.00038    0.000027    0.000489    0.005667    0.000279   \n",
       "\n",
       "     TripType_8  TripType_9  TripType_12  TripType_14      ...       \\\n",
       "426    0.001381    0.033355     0.000343     0.016087      ...        \n",
       "\n",
       "     TripType_36  TripType_37  TripType_38  TripType_39  TripType_40  \\\n",
       "426     0.000323     0.000364     0.000046     0.005798     0.006557   \n",
       "\n",
       "     TripType_41  TripType_42  TripType_43  TripType_44  TripType_999  \n",
       "426      0.00051     0.117842     0.029266     0.003394      0.022091  \n",
       "\n",
       "[1 rows x 39 columns]"
      ]
     },
     "execution_count": 101,
     "metadata": {},
     "output_type": "execute_result"
    }
   ],
   "source": [
    "sub_df[sub_df['TripType_14'].isin([0.016087495001993427])]"
   ]
  },
  {
   "cell_type": "code",
   "execution_count": 103,
   "metadata": {},
   "outputs": [
    {
     "data": {
      "text/html": [
       "<div>\n",
       "<style scoped>\n",
       "    .dataframe tbody tr th:only-of-type {\n",
       "        vertical-align: middle;\n",
       "    }\n",
       "\n",
       "    .dataframe tbody tr th {\n",
       "        vertical-align: top;\n",
       "    }\n",
       "\n",
       "    .dataframe thead th {\n",
       "        text-align: right;\n",
       "    }\n",
       "</style>\n",
       "<table border=\"1\" class=\"dataframe\">\n",
       "  <thead>\n",
       "    <tr style=\"text-align: right;\">\n",
       "      <th></th>\n",
       "      <th>VisitNumber</th>\n",
       "      <th>Weekday</th>\n",
       "      <th>Upc</th>\n",
       "      <th>ScanCount</th>\n",
       "      <th>DepartmentDescription</th>\n",
       "      <th>FinelineNumber</th>\n",
       "    </tr>\n",
       "  </thead>\n",
       "  <tbody>\n",
       "    <tr>\n",
       "      <th>890</th>\n",
       "      <td>426</td>\n",
       "      <td>Friday</td>\n",
       "      <td>5.410722e+09</td>\n",
       "      <td>1</td>\n",
       "      <td>PRODUCE</td>\n",
       "      <td>3108.0</td>\n",
       "    </tr>\n",
       "    <tr>\n",
       "      <th>891</th>\n",
       "      <td>426</td>\n",
       "      <td>Friday</td>\n",
       "      <td>7.874298e+09</td>\n",
       "      <td>1</td>\n",
       "      <td>BAKERY</td>\n",
       "      <td>5024.0</td>\n",
       "    </tr>\n",
       "    <tr>\n",
       "      <th>892</th>\n",
       "      <td>426</td>\n",
       "      <td>Friday</td>\n",
       "      <td>4.011000e+03</td>\n",
       "      <td>1</td>\n",
       "      <td>PRODUCE</td>\n",
       "      <td>5501.0</td>\n",
       "    </tr>\n",
       "    <tr>\n",
       "      <th>893</th>\n",
       "      <td>426</td>\n",
       "      <td>Friday</td>\n",
       "      <td>7.874298e+09</td>\n",
       "      <td>1</td>\n",
       "      <td>BAKERY</td>\n",
       "      <td>5024.0</td>\n",
       "    </tr>\n",
       "    <tr>\n",
       "      <th>894</th>\n",
       "      <td>426</td>\n",
       "      <td>Friday</td>\n",
       "      <td>7.373107e+09</td>\n",
       "      <td>4</td>\n",
       "      <td>COMM BREAD</td>\n",
       "      <td>3706.0</td>\n",
       "    </tr>\n",
       "    <tr>\n",
       "      <th>895</th>\n",
       "      <td>426</td>\n",
       "      <td>Friday</td>\n",
       "      <td>7.648917e+09</td>\n",
       "      <td>4</td>\n",
       "      <td>BAKERY</td>\n",
       "      <td>5004.0</td>\n",
       "    </tr>\n",
       "  </tbody>\n",
       "</table>\n",
       "</div>"
      ],
      "text/plain": [
       "     VisitNumber Weekday           Upc  ScanCount DepartmentDescription  \\\n",
       "890          426  Friday  5.410722e+09          1               PRODUCE   \n",
       "891          426  Friday  7.874298e+09          1                BAKERY   \n",
       "892          426  Friday  4.011000e+03          1               PRODUCE   \n",
       "893          426  Friday  7.874298e+09          1                BAKERY   \n",
       "894          426  Friday  7.373107e+09          4            COMM BREAD   \n",
       "895          426  Friday  7.648917e+09          4                BAKERY   \n",
       "\n",
       "     FinelineNumber  \n",
       "890          3108.0  \n",
       "891          5024.0  \n",
       "892          5501.0  \n",
       "893          5024.0  \n",
       "894          3706.0  \n",
       "895          5004.0  "
      ]
     },
     "execution_count": 103,
     "metadata": {},
     "output_type": "execute_result"
    }
   ],
   "source": [
    "original_test[original_test['VisitNumber'] == 426]"
   ]
  },
  {
   "cell_type": "code",
   "execution_count": null,
   "metadata": {},
   "outputs": [],
   "source": [
    "sub_df.to_csv(\"../submission_0408.csv\", index=False)"
   ]
  },
  {
   "cell_type": "code",
   "execution_count": null,
   "metadata": {},
   "outputs": [],
   "source": [
    "test_depts_group.to_csv(\"../dataset/0408_noFineline_test.csv\", index=False)"
   ]
  },
  {
   "cell_type": "code",
   "execution_count": null,
   "metadata": {},
   "outputs": [],
   "source": [
    "import pickle\n",
    "model = open(\"0408_rf_noFine.pickle\", \"wb\")\n",
    "pickle.dump(rf, model)"
   ]
  },
  {
   "cell_type": "code",
   "execution_count": null,
   "metadata": {},
   "outputs": [],
   "source": [
    "importance = rf.feature_importances_\n",
    "\n",
    "pairs = []\n",
    "for idx, value in enumerate(importance):\n",
    "    pairs.append((abs(value), train_depts_group.columns[idx]))\n",
    "pairs.sort(key=lambda x: x[0], reverse=True)\n",
    "for pair in pairs[:20]:\n",
    "    print(\"importance: {:4f} feature: {}\".format(pair[0], pair[1]))\n",
    "\n",
    "importance.sort()\n",
    "\n",
    "importance = importance[::-1]\n",
    "\n",
    "labels = [label[1] for label in pairs]\n",
    "\n",
    "plt.figure(figsize=(12, 8))\n",
    "plt.barh(range(20), importance[:20][::-1], align=\"center\")\n",
    "plt.yticks(np.arange(20), labels[:20][::-1])\n",
    "plt.xlabel(\"Feature importance\")\n",
    "plt.ylim(-1, 20)\n",
    "plt.show()"
   ]
  },
  {
   "cell_type": "raw",
   "metadata": {
    "collapsed": true
   },
   "source": [
    "import xgboost as xgb\n",
    "from sklearn.metrics import log_loss"
   ]
  },
  {
   "cell_type": "raw",
   "metadata": {
    "collapsed": true
   },
   "source": [
    "from sklearn.preprocessing import LabelEncoder\n",
    "label = LabelEncoder().fit(y)"
   ]
  },
  {
   "cell_type": "raw",
   "metadata": {
    "collapsed": true
   },
   "source": [
    "labeled_y = label.transform(y)"
   ]
  },
  {
   "cell_type": "raw",
   "metadata": {
    "collapsed": true
   },
   "source": [
    "y_train_labeld, y_test_labeld = train_test_split(labeled_y, random_state=0)"
   ]
  },
  {
   "cell_type": "raw",
   "metadata": {
    "collapsed": true
   },
   "source": [
    "dtrain = xgb.DMatrix(np.asarray(X_train), label = np.asarray(y_train_labeld))\n",
    "dtest = xgb.DMatrix(np.asarray(X_test), label = np.asarray(y_test_labeld))"
   ]
  },
  {
   "cell_type": "raw",
   "metadata": {
    "collapsed": true
   },
   "source": [
    "num_round = 10\n",
    "param = {'objective': 'multi:softprob', 'num_class':38, \n",
    "         'eval_metric': 'mlogloss', \"max_delta_step\": 5, \"eta\": 0.01}\n",
    "watchlist = [(dtrain,'train'), (dtest, 'eval')]"
   ]
  },
  {
   "cell_type": "raw",
   "metadata": {},
   "source": [
    "bst = xgb.train(param, dtrain, num_round, watchlist, \n",
    "                early_stopping_rounds=5)"
   ]
  },
  {
   "cell_type": "raw",
   "metadata": {},
   "source": [
    "num_round = 100\n",
    "param1 = {'objective': 'multi:softmax', 'num_class':38, \"max_delta_step\": 1, \"eta\": 1}\n",
    "watchlist1 = [(dtrain,'train'), (dtest, 'eval')]\n",
    "\n",
    "bst1 = xgb.train(param1, dtrain, num_round, watchlist1, early_stopping_rounds=5)"
   ]
  },
  {
   "cell_type": "raw",
   "metadata": {
    "collapsed": true
   },
   "source": [
    "for_test = xgb.DMatrix(np.asarray(test_depts_group))"
   ]
  },
  {
   "cell_type": "raw",
   "metadata": {},
   "source": [
    "pred_xgb = bst1.predict(for_test)"
   ]
  },
  {
   "cell_type": "raw",
   "metadata": {},
   "source": [
    "pred_xgb.shape"
   ]
  },
  {
   "cell_type": "raw",
   "metadata": {},
   "source": [
    "pred_xgb_df = pd.get_dummies(pred_xgb)"
   ]
  },
  {
   "cell_type": "raw",
   "metadata": {},
   "source": [
    "def prediction_to_csv(prediction):\n",
    "    df_VN = pd.DataFrame(columns=[\"VisitNumber\"])\n",
    "    df_VN[\"VisitNumber\"] = test_depts_group[\"VisitNumber\"]\n",
    "    df_TT = pd.DataFrame(columns=[\"TripType\"])\n",
    "    df_TT[\"TripType\"] = prediction\n",
    "    df_TT = pd.get_dummies(df_TT.TripType).astype(int, cbopy=False)\n",
    "    df_TT = df_TT.rename(columns = {0:\"TripType_3\", 1: \"TripType_4\", 2: \"TripType_5\", 3: \"TripType_6\", \n",
    "                4: \"TripType_7\", 5: \"TripType_8\", 6: \"TripType_9\", 7: \"TripType_12\", 8: \"TripType_14\", \n",
    "                9: \"TripType_15\", 10: \"TripType_18\", 11: \"TripType_19\", 12: \"TripType_20\", 13: \"TripType_21\",\n",
    "                14: \"TripType_22\", 15: \"TripType_23\", 16: \"TripType_24\", 17: \"TripType_25\", 18: \"TripType_26\", \n",
    "                19: \"TripType_27\", 20: \"TripType_28\", 21: \"TripType_29\", 22: \"TripType_30\", 23: \"TripType_31\", \n",
    "                24: \"TripType_32\", 25: \"TripType_33\", 26: \"TripType_34\", 27: \"TripType_35\", 28: \"TripType_36\", \n",
    "                29: \"TripType_37\", 30: \"TripType_38\", 31: \"TripType_39\", 32: \"TripType_40\", 33: \"TripType_41\", \n",
    "                34: \"TripType_42\", 35: \"TripType_43\", 36: \"TripType_44\", 37: \"TripType_999\"})\n",
    "    trial = pd.concat([df_VN, df_TT], axis=1).set_index('VisitNumber')\n",
    "    #trial[\"TripType_14\"] = 0\n",
    "    return trial.to_csv(\"../dataset/trial_0.csv\")"
   ]
  },
  {
   "cell_type": "raw",
   "metadata": {},
   "source": [
    "prediction_to_csv(pred_xgb)"
   ]
  },
  {
   "cell_type": "raw",
   "metadata": {},
   "source": [
    "pred_xgb_sub = pd.read_csv(\"../dataset/trial_0.csv\")\n",
    "pred_xgb_sub.insert(9, \"TripType_14\", np.zeros(pred_xgb_sub.shape[0]))"
   ]
  },
  {
   "cell_type": "raw",
   "metadata": {},
   "source": [
    "pred_xgb_sub.head()"
   ]
  },
  {
   "cell_type": "raw",
   "metadata": {
    "collapsed": true
   },
   "source": [
    "pred_xgb_sub.to_csv(\"../submission_0408_xgb.csv\", index=False)"
   ]
  },
  {
   "cell_type": "raw",
   "metadata": {},
   "source": [
    "pred_xgb_proba = bst1.predict_proba(for_test)"
   ]
  },
  {
   "cell_type": "raw",
   "metadata": {},
   "source": [
    "xgb.cv(nfold=5, dtrain=dtrain, params=param1, num_boost_round=10)"
   ]
  },
  {
   "cell_type": "raw",
   "metadata": {},
   "source": [
    "num_round = 100\n",
    "param1 = {'objective': 'multi:softmax', 'num_class':38, \"max_delta_step\": 1, \"eta\": 1}\n",
    "watchlist1 = [(dtrain,'train'), (dtest, 'eval')]\n",
    "\n",
    "bst1 = xgb.train(param1, dtrain, num_round, watchlist1, early_stopping_rounds=5)"
   ]
  },
  {
   "cell_type": "raw",
   "metadata": {},
   "source": [
    "import pickle\n",
    "with open(\"rd_best_0408.pickle\", \"wb\") as fb:\n",
    "    pickle.dump(rf, fb)"
   ]
  },
  {
   "cell_type": "code",
   "execution_count": 104,
   "metadata": {},
   "outputs": [],
   "source": [
    "n_estimators = 1000\n",
    "max_features = 0.8\n",
    "min_samples_split = 40\n",
    "\n",
    "rf2 = RandomForestClassifier(n_estimators=n_estimators, max_features=max_features,\n",
    "                             min_samples_split=min_samples_split, n_jobs=-1, random_state=0)"
   ]
  },
  {
   "cell_type": "code",
   "execution_count": 105,
   "metadata": {},
   "outputs": [
    {
     "name": "stdout",
     "output_type": "stream",
     "text": [
      "CPU times: user 56min 22s, sys: 26.8 s, total: 56min 49s\n",
      "Wall time: 17min 10s\n"
     ]
    },
    {
     "data": {
      "text/plain": [
       "RandomForestClassifier(bootstrap=True, class_weight=None, criterion='gini',\n",
       "            max_depth=None, max_features=0.8, max_leaf_nodes=None,\n",
       "            min_impurity_decrease=0.0, min_impurity_split=None,\n",
       "            min_samples_leaf=1, min_samples_split=40,\n",
       "            min_weight_fraction_leaf=0.0, n_estimators=1000, n_jobs=-1,\n",
       "            oob_score=False, random_state=0, verbose=0, warm_start=False)"
      ]
     },
     "execution_count": 105,
     "metadata": {},
     "output_type": "execute_result"
    }
   ],
   "source": [
    "%%time\n",
    "rf2.fit(X_train, y_train)"
   ]
  },
  {
   "cell_type": "code",
   "execution_count": 106,
   "metadata": {},
   "outputs": [
    {
     "name": "stdout",
     "output_type": "stream",
     "text": [
      "0.7594141093179474\n",
      "0.6705965968476943\n"
     ]
    }
   ],
   "source": [
    "print(rf2.score(X_train, y_train))\n",
    "print(rf2.score(X_test, y_test))"
   ]
  },
  {
   "cell_type": "code",
   "execution_count": 107,
   "metadata": {},
   "outputs": [],
   "source": [
    "pred_prob_test2 = rf2.predict_proba(test_depts_group)\n",
    "proba_df2 = pd.DataFrame(pred_prob_test2, columns=rf2.classes_)\n",
    "proba_df2.columns = proba_df2.columns.map(lambda x: \"TripType_\" + str(x))\n",
    "sub_df2 = pd.concat([test_depts_group[[\"VisitNumber\"]], proba_df2], axis=1)\n",
    "sub_df2.to_csv(\"../submission_0408_02.csv\", index=False)"
   ]
  },
  {
   "cell_type": "code",
   "execution_count": null,
   "metadata": {},
   "outputs": [],
   "source": []
  }
 ],
 "metadata": {
  "kernelspec": {
   "display_name": "Python 3",
   "language": "python",
   "name": "python3"
  },
  "language_info": {
   "codemirror_mode": {
    "name": "ipython",
    "version": 3
   },
   "file_extension": ".py",
   "mimetype": "text/x-python",
   "name": "python",
   "nbconvert_exporter": "python",
   "pygments_lexer": "ipython3",
   "version": "3.6.2"
  }
 },
 "nbformat": 4,
 "nbformat_minor": 2
}
