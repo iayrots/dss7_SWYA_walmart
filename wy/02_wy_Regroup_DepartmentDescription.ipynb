{
 "cells": [
  {
   "cell_type": "code",
   "execution_count": 1,
   "metadata": {},
   "outputs": [
    {
     "name": "stdout",
     "output_type": "stream",
     "text": [
      "sympy imported\n",
      "pandas imported\n",
      "numpy imported\n",
      "scipy imported\n"
     ]
    },
    {
     "name": "stderr",
     "output_type": "stream",
     "text": [
      "/Library/Frameworks/Python.framework/Versions/3.6/lib/python3.6/site-packages/statsmodels/compat/pandas.py:56: FutureWarning: The pandas.core.datetools module is deprecated and will be removed in a future version. Please use the pandas.tseries module instead.\n",
      "  from pandas.core import datetools\n"
     ]
    },
    {
     "name": "stdout",
     "output_type": "stream",
     "text": [
      "statsmodels imported\n",
      "statsmodels.formula imported\n",
      "statasmodels.stats.api imported\n",
      "matplotlib imported\n",
      "pyplot imported\n",
      "seaborn imported\n",
      "sns.set\n",
      "sns.set_style(whitegrid)\n",
      "sns.set_color_codes()\n",
      "type (% matplotlib inline) if necessary\n",
      "type (% config InlineBackend.figure_formats = {‘png’, ‘retina’}) if necessary\n",
      "train data successfully imported as train\n",
      "train data successfully imported as test\n",
      "you may now begin\n"
     ]
    }
   ],
   "source": [
    "from set_math import *\n",
    "from set_visualization import *\n",
    "from datasets_init import *"
   ]
  },
  {
   "cell_type": "markdown",
   "metadata": {},
   "source": [
    "# Department Description 그루핑"
   ]
  },
  {
   "cell_type": "markdown",
   "metadata": {},
   "source": [
    "### 월마트에서 지정하는 카테고리 https://www.walmart.com/all-departments\n",
    "\n",
    "<img src=\"walmart_online_category.PNG\">"
   ]
  },
  {
   "cell_type": "markdown",
   "metadata": {},
   "source": [
    "위와 같이 월마트 기준의 대분류를 참고하여,  \n",
    "Department Description의 68가지 분류를 다음과 같이 나눠보자.\n",
    "\n",
    "- ELECTRONICS : 가전제품\n",
    "- OFFICE : 문구류\n",
    "- ENTERTAINMENT : 영화, 음반, 책, 게임\n",
    "- INTERIOR : 가구, 침구류\n",
    "- HOUSEHOLD : 가정용품 (휴지, 청소용품, 집수리용품, 공구)\n",
    "- KITCHEN : 부억용품\n",
    "- GARDENING : 정원관리용품\n",
    "- PETS :애완동물\n",
    "- KIDS : 어린이 (장난감, 의류)\n",
    "- BABY :아기용품\n",
    "- SPORTS_OUTDOOR : 스포츠 야외활동\n",
    "- AUTO : 차량관리 \n",
    "- DECO : 장식품, 파티용품, 크래프트 등등\n",
    "- PHARMACY :약국\n",
    "- HYGIENE : 생활용품 (치약 샴푸 등등등)\n",
    "- MEN WEAR : 남성옷\n",
    "- WOMEN WEAR : 여성옷\n",
    "- ACCESSARIES : 악세서리\n",
    "- FOOD_1 : 식재료 (빵, 냉동 포함)\n",
    "- FOOD_2 : 즉석음식 DELI\n",
    "- FOOD_3 : 스낵 주류 담배 기호식품\n",
    "- SERVICE : 서비스 (사진관, 미용실, 은행 등)\n",
    "- TEMPORARY : 일시적인 코너 (팝업스토어 Seasonal 계절)\n",
    "- OTHERS : 결측치 및 other department\n",
    "\n",
    "24가지 대분류로 축소해볼 수 있다.\n"
   ]
  },
  {
   "cell_type": "code",
   "execution_count": 2,
   "metadata": {},
   "outputs": [],
   "source": [
    "def regroup_dep(DD):\n",
    "    if DD == 'FINANCIAL SERVICES':\n",
    "        return 'service'\n",
    "    \n",
    "    elif DD == 'SHOES':\n",
    "        return 'accessaries'\n",
    "    \n",
    "    elif DD == 'PERSONAL CARE':\n",
    "        return 'hygiene'\n",
    "    \n",
    "    elif DD == 'PAINT AND ACCESSORIES':\n",
    "        return 'home_garden'\n",
    "    \n",
    "    elif DD == 'DSD GROCERY':\n",
    "        return 'food_1'\n",
    "    \n",
    "    elif DD == 'MEAT - FRESH & FROZEN':\n",
    "        return 'food_1'\n",
    "    \n",
    "    elif DD == 'DAIRY':\n",
    "        return 'food_1'\n",
    "    \n",
    "    elif DD == 'PETS AND SUPPLIES':\n",
    "        return 'pets'\n",
    "    \n",
    "    elif DD == 'HOUSEHOLD CHEMICALS/SUPP':\n",
    "        return 'household'\n",
    "    \n",
    "    elif DD == 'IMPULSE MERCHANDISE':  # 간이 진열대의 상품에는 것은 여러가지가 있지만 (사탕, 음료수, 가그린, 잡지 등등)\n",
    "        return 'others' # 이를 목적으로 방문하는 경우가 매우 적기 때문에 others로 분류를 해놓겠습니다.\n",
    "    \n",
    "    elif DD == 'PRODUCE': # 농장에서 재배된 신선식품을 뜻한다고 합니다.\n",
    "        return 'food_1'\n",
    "    \n",
    "    elif DD == 'CANDY, TOBACCO, COOKIES':\n",
    "        return 'food_3'\n",
    "    \n",
    "    elif DD == 'GROCERY DRY GOODS':\n",
    "        return 'food_1'\n",
    "    \n",
    "    elif DD == 'BOYS WEAR':\n",
    "        return 'kids'\n",
    "    \n",
    "    elif DD == 'FABRICS AND CRAFTS':\n",
    "        return 'deco'\n",
    "    \n",
    "    elif DD == 'JEWELRY AND SUNGLASSES':\n",
    "        return 'accessories'\n",
    "    \n",
    "    elif DD == 'MENS WEAR':\n",
    "        return 'men'\n",
    "    \n",
    "    elif DD == 'ACCESSORIES':\n",
    "        return 'accessories'\n",
    "    \n",
    "    elif DD == 'HOME MANAGEMENT':\n",
    "        return 'household'\n",
    "    \n",
    "    elif DD == 'FROZEN FOODS':\n",
    "        return 'food_1'\n",
    "    \n",
    "    elif DD == 'SERVICE DELI':\n",
    "        return 'food_2'\n",
    "    \n",
    "    elif DD == 'INFANT CONSUMABLE HARDLINES':\n",
    "        return 'baby'\n",
    "    \n",
    "    elif DD == 'PRE PACKED DELI':\n",
    "        return 'food_2'\n",
    "    \n",
    "    elif DD == 'COOK AND DINE':\n",
    "        return 'kitchen'\n",
    "    \n",
    "    elif DD == 'PHARMACY OTC':\n",
    "        return 'pharmacy'\n",
    "    \n",
    "    elif DD == 'LADIESWEAR':\n",
    "        return 'women'\n",
    "    \n",
    "    elif DD == 'COMM BREAD':\n",
    "        return 'food_1'\n",
    "    \n",
    "    elif DD == 'BAKERY':\n",
    "        return 'food_1'\n",
    "    \n",
    "    elif DD == 'HOUSEHOLD PAPER GOODS':\n",
    "        return 'household'\n",
    "    \n",
    "    elif DD == 'CELEBRATION':\n",
    "        return 'deco'\n",
    "    \n",
    "    elif DD == 'HARDWARE':\n",
    "        return 'household'\n",
    "    \n",
    "    elif DD == 'BEAUTY':\n",
    "        return 'hygene'\n",
    "    \n",
    "    elif DD == 'AUTOMOTIVE':\n",
    "        return 'auto'\n",
    "    \n",
    "    elif DD == 'BOOKS AND MAGAZINES':\n",
    "        return 'entertainment'\n",
    "    \n",
    "    elif DD == 'SEAFOOD':\n",
    "        return 'food_1'\n",
    "    \n",
    "    elif DD == 'OFFICE SUPPLIES':\n",
    "        return 'office'\n",
    "    \n",
    "    elif DD == 'LAWN AND GARDEN':\n",
    "        return 'gardening'\n",
    "    \n",
    "    elif DD == 'SHEER HOSIERY':\n",
    "        return 'women'\n",
    "    \n",
    "    elif DD == 'WIRELESS':\n",
    "        return 'electronics'\n",
    "    \n",
    "    elif DD == 'BEDDING':\n",
    "        return 'interior'\n",
    "    \n",
    "    elif DD == 'BATH AND SHOWER':\n",
    "        return 'hygiene'\n",
    "    \n",
    "    elif DD == 'HORTICULTURE AND ACCESS':\n",
    "        return 'gardening'\n",
    "    \n",
    "    elif DD == 'HOME DECOR':\n",
    "        return 'deco'\n",
    "    \n",
    "    elif DD == 'TOYS':\n",
    "        return 'kids'\n",
    "    \n",
    "    elif DD == 'INFANT APPAREL':\n",
    "        return 'baby'\n",
    "    \n",
    "    elif DD == 'LADIES SOCKS':\n",
    "        return 'women'\n",
    "    \n",
    "    elif DD == 'PLUS AND MATERNITY':\n",
    "        return 'women'\n",
    "    \n",
    "    elif DD == 'ELECTRONICS':\n",
    "        return 'electronics'\n",
    "    \n",
    "    elif DD == 'GIRLS WEAR, 4-6X  AND 7-14':\n",
    "        return 'kids'\n",
    "    \n",
    "    elif DD == 'BRAS & SHAPEWEAR':\n",
    "        return 'women'\n",
    "    \n",
    "    elif DD == 'LIQUOR,WINE,BEER':\n",
    "        return 'food_3'\n",
    "    \n",
    "    elif DD == 'SLEEPWEAR/FOUNDATIONS':\n",
    "        return 'accessories'\n",
    "    \n",
    "    elif DD == 'CAMERAS AND SUPPLIES':\n",
    "        return 'electronics'\n",
    "    \n",
    "    elif DD == 'SPORTING GOODS':\n",
    "        return 'sport_outdoor'\n",
    "    \n",
    "    elif DD == 'PLAYERS AND ELECTRONICS':\n",
    "        return 'electronics'\n",
    "    \n",
    "    elif DD == 'PHARMACY RX':\n",
    "        return 'pharmacy'\n",
    "    \n",
    "    elif DD == 'MENSWEAR':\n",
    "        return 'men'\n",
    "    \n",
    "    elif DD == 'OPTICAL - FRAMES':\n",
    "        return 'service'\n",
    "    \n",
    "    elif DD == 'SWIMWEAR/OUTERWEAR':\n",
    "        return 'sport_outdoor'\n",
    "    \n",
    "    elif DD == 'OTHER DEPARTMENTS':\n",
    "        return 'others'\n",
    "    \n",
    "    elif DD == 'MEDIA AND GAMING':\n",
    "        return 'entertainment'\n",
    "    \n",
    "    elif DD == 'FURNITURE':\n",
    "        return 'interior'\n",
    "    \n",
    "    elif DD == 'OPTICAL - LENSES':\n",
    "        return 'service'\n",
    "    \n",
    "    elif DD == 'SEASONAL':\n",
    "        return 'tmp'\n",
    "    \n",
    "    elif DD == 'LARGE HOUSEHOLD GOODS':\n",
    "        return 'household'\n",
    "    \n",
    "    elif DD == '1-HR PHOTO':\n",
    "        return 'service'\n",
    "    \n",
    "    elif DD == 'CONCEPT STORES':\n",
    "        return 'tmp'\n",
    "    \n",
    "    elif DD == 'HEALTH AND BEAUTY AIDS':\n",
    "        return 'hygiene'\n",
    "    \n",
    "    elif np.isnan(DD) == True:\n",
    "        return 'others'"
   ]
  },
  {
   "cell_type": "code",
   "execution_count": 3,
   "metadata": {},
   "outputs": [],
   "source": [
    "train['DepartmentDescription_2'] = train['DepartmentDescription'].apply(regroup_dep)"
   ]
  },
  {
   "cell_type": "markdown",
   "metadata": {},
   "source": [
    "# Reorganize and save to CSV"
   ]
  },
  {
   "cell_type": "code",
   "execution_count": 4,
   "metadata": {},
   "outputs": [],
   "source": [
    "train = pd.DataFrame(data=train, columns=['TripType', 'VisitNumber', 'Weekday', 'Upc', 'ScanCount', 'DepartmentDescription', 'DepartmentDescription_2', 'FinelineNumber'])"
   ]
  },
  {
   "cell_type": "code",
   "execution_count": 6,
   "metadata": {},
   "outputs": [
    {
     "ename": "FileNotFoundError",
     "evalue": "[Errno 2] No such file or directory: 'data/train_v2.csv'",
     "output_type": "error",
     "traceback": [
      "\u001b[0;31m---------------------------------------------------------------------------\u001b[0m",
      "\u001b[0;31mFileNotFoundError\u001b[0m                         Traceback (most recent call last)",
      "\u001b[0;32m<ipython-input-6-11bfbbe288fe>\u001b[0m in \u001b[0;36m<module>\u001b[0;34m()\u001b[0m\n\u001b[0;32m----> 1\u001b[0;31m \u001b[0mtrain\u001b[0m\u001b[0;34m.\u001b[0m\u001b[0mto_csv\u001b[0m\u001b[0;34m(\u001b[0m\u001b[0;34m\"data/train_v2.csv\"\u001b[0m\u001b[0;34m)\u001b[0m\u001b[0;34m\u001b[0m\u001b[0m\n\u001b[0m",
      "\u001b[0;32m/Library/Frameworks/Python.framework/Versions/3.6/lib/python3.6/site-packages/pandas/core/frame.py\u001b[0m in \u001b[0;36mto_csv\u001b[0;34m(self, path_or_buf, sep, na_rep, float_format, columns, header, index, index_label, mode, encoding, compression, quoting, quotechar, line_terminator, chunksize, tupleize_cols, date_format, doublequote, escapechar, decimal)\u001b[0m\n\u001b[1;32m   1522\u001b[0m                                      \u001b[0mdoublequote\u001b[0m\u001b[0;34m=\u001b[0m\u001b[0mdoublequote\u001b[0m\u001b[0;34m,\u001b[0m\u001b[0;34m\u001b[0m\u001b[0m\n\u001b[1;32m   1523\u001b[0m                                      escapechar=escapechar, decimal=decimal)\n\u001b[0;32m-> 1524\u001b[0;31m         \u001b[0mformatter\u001b[0m\u001b[0;34m.\u001b[0m\u001b[0msave\u001b[0m\u001b[0;34m(\u001b[0m\u001b[0;34m)\u001b[0m\u001b[0;34m\u001b[0m\u001b[0m\n\u001b[0m\u001b[1;32m   1525\u001b[0m \u001b[0;34m\u001b[0m\u001b[0m\n\u001b[1;32m   1526\u001b[0m         \u001b[0;32mif\u001b[0m \u001b[0mpath_or_buf\u001b[0m \u001b[0;32mis\u001b[0m \u001b[0;32mNone\u001b[0m\u001b[0;34m:\u001b[0m\u001b[0;34m\u001b[0m\u001b[0m\n",
      "\u001b[0;32m/Library/Frameworks/Python.framework/Versions/3.6/lib/python3.6/site-packages/pandas/io/formats/format.py\u001b[0m in \u001b[0;36msave\u001b[0;34m(self)\u001b[0m\n\u001b[1;32m   1627\u001b[0m             f, handles = _get_handle(self.path_or_buf, self.mode,\n\u001b[1;32m   1628\u001b[0m                                      \u001b[0mencoding\u001b[0m\u001b[0;34m=\u001b[0m\u001b[0mencoding\u001b[0m\u001b[0;34m,\u001b[0m\u001b[0;34m\u001b[0m\u001b[0m\n\u001b[0;32m-> 1629\u001b[0;31m                                      compression=self.compression)\n\u001b[0m\u001b[1;32m   1630\u001b[0m             \u001b[0mclose\u001b[0m \u001b[0;34m=\u001b[0m \u001b[0;32mTrue\u001b[0m\u001b[0;34m\u001b[0m\u001b[0m\n\u001b[1;32m   1631\u001b[0m \u001b[0;34m\u001b[0m\u001b[0m\n",
      "\u001b[0;32m/Library/Frameworks/Python.framework/Versions/3.6/lib/python3.6/site-packages/pandas/io/common.py\u001b[0m in \u001b[0;36m_get_handle\u001b[0;34m(path_or_buf, mode, encoding, compression, memory_map, is_text)\u001b[0m\n\u001b[1;32m    388\u001b[0m         \u001b[0;32melif\u001b[0m \u001b[0mencoding\u001b[0m\u001b[0;34m:\u001b[0m\u001b[0;34m\u001b[0m\u001b[0m\n\u001b[1;32m    389\u001b[0m             \u001b[0;31m# Python 3 and encoding\u001b[0m\u001b[0;34m\u001b[0m\u001b[0;34m\u001b[0m\u001b[0m\n\u001b[0;32m--> 390\u001b[0;31m             \u001b[0mf\u001b[0m \u001b[0;34m=\u001b[0m \u001b[0mopen\u001b[0m\u001b[0;34m(\u001b[0m\u001b[0mpath_or_buf\u001b[0m\u001b[0;34m,\u001b[0m \u001b[0mmode\u001b[0m\u001b[0;34m,\u001b[0m \u001b[0mencoding\u001b[0m\u001b[0;34m=\u001b[0m\u001b[0mencoding\u001b[0m\u001b[0;34m)\u001b[0m\u001b[0;34m\u001b[0m\u001b[0m\n\u001b[0m\u001b[1;32m    391\u001b[0m         \u001b[0;32melif\u001b[0m \u001b[0mis_text\u001b[0m\u001b[0;34m:\u001b[0m\u001b[0;34m\u001b[0m\u001b[0m\n\u001b[1;32m    392\u001b[0m             \u001b[0;31m# Python 3 and no explicit encoding\u001b[0m\u001b[0;34m\u001b[0m\u001b[0;34m\u001b[0m\u001b[0m\n",
      "\u001b[0;31mFileNotFoundError\u001b[0m: [Errno 2] No such file or directory: 'data/train_v2.csv'"
     ]
    }
   ],
   "source": [
    "train.to_csv(\"data/train_v2.csv\")"
   ]
  },
  {
   "cell_type": "code",
   "execution_count": null,
   "metadata": {},
   "outputs": [],
   "source": [
    "train = pd.read_csv(\"data/train_v2.csv\", index_col=0)"
   ]
  },
  {
   "cell_type": "code",
   "execution_count": null,
   "metadata": {},
   "outputs": [],
   "source": [
    "train"
   ]
  },
  {
   "cell_type": "code",
   "execution_count": null,
   "metadata": {},
   "outputs": [],
   "source": []
  },
  {
   "cell_type": "code",
   "execution_count": null,
   "metadata": {},
   "outputs": [],
   "source": []
  },
  {
   "cell_type": "code",
   "execution_count": null,
   "metadata": {},
   "outputs": [],
   "source": []
  },
  {
   "cell_type": "code",
   "execution_count": null,
   "metadata": {},
   "outputs": [],
   "source": []
  },
  {
   "cell_type": "code",
   "execution_count": null,
   "metadata": {},
   "outputs": [],
   "source": []
  },
  {
   "cell_type": "code",
   "execution_count": null,
   "metadata": {},
   "outputs": [],
   "source": []
  },
  {
   "cell_type": "code",
   "execution_count": null,
   "metadata": {},
   "outputs": [],
   "source": []
  },
  {
   "cell_type": "code",
   "execution_count": null,
   "metadata": {},
   "outputs": [],
   "source": []
  }
 ],
 "metadata": {
  "kernelspec": {
   "display_name": "Python 3",
   "language": "python",
   "name": "python3"
  },
  "language_info": {
   "codemirror_mode": {
    "name": "ipython",
    "version": 3
   },
   "file_extension": ".py",
   "mimetype": "text/x-python",
   "name": "python",
   "nbconvert_exporter": "python",
   "pygments_lexer": "ipython3",
   "version": "3.6.2"
  }
 },
 "nbformat": 4,
 "nbformat_minor": 2
}
