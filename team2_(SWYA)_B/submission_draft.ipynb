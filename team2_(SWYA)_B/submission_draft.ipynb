{
 "cells": [
  {
   "cell_type": "markdown",
   "metadata": {},
   "source": [
    "# Walmart : Triptype Classification"
   ]
  },
  {
   "cell_type": "markdown",
   "metadata": {},
   "source": [
    "<img src=\"data/walmart.jpg\">"
   ]
  },
  {
   "cell_type": "markdown",
   "metadata": {},
   "source": [
    "# [ Overview ]\n",
    "\n",
    "### (1) Objective : \n",
    "> ### 각 고객의 구매정보에 따른 구매 건의 Type을 분류\n",
    "\n",
    "### (2) Data : \n",
    "### train : 647054 rows, 7 columns\n",
    "| Index \t| Feature               \t| Description                                  \t|\n",
    "|-------\t|-----------------------\t|----------------------------------------------\t|\n",
    "| 1     \t| TripType              \t| Target                                       \t|\n",
    "| 2     \t| VisitNumber           \t| 각 손님의 Index                              \t|\n",
    "| 3     \t| Weekday               \t| VisitNumber가 발생한 요일                    \t|\n",
    "| 4     \t| Upc                   \t| 구매한 제품의 고유한 바코드                  \t|\n",
    "| 5     \t| ScanCount             \t| 구매 수량 ( 반품 시 `-` 값으로 표기 )        \t|\n",
    "| 6     \t| DepartmentDescription \t| 제품의 대분류                                \t|\n",
    "| 7     \t| FinelineNumber        \t| 월마트 자체적으로 정의 한 제품의 소분류 코드 \t|\n",
    "\n",
    "(3) _UPC code description_\n",
    "- Check Digit : 숫자가 정확하게 구성되어 있는가를 보장해주는 컴퓨터 검증 숫자. UPC의 신뢰도를 검증\n",
    "\n",
    "<img src=\"data/upc.png\">\n",
    "\n",
    "\n",
    "\n",
    "<br>\n",
    "\n",
    "### test : 653646 rows, 6 columns\n",
    "- TripType을 제외한 동일한 컬럼\n",
    "\n",
    "\n",
    "<br>\n",
    "\n",
    "### (3) Evaluation : \n",
    "> ### Multi-class log loss\n",
    "> $$-\\frac{1}{N}\\sum_{i=1}^N\\sum_{j=1}^My_{ij}\\log(p_{ij})$$"
   ]
  },
  {
   "cell_type": "markdown",
   "metadata": {},
   "source": [
    "# [ Result ]: \n",
    "> #### - 참가 팀 : 총 1047 팀 \n",
    "> #### - 최종 점수 : 0.795\n",
    "> #### - 캐글 등수 : 295등 (상위 28%)"
   ]
  },
  {
   "cell_type": "markdown",
   "metadata": {},
   "source": [
    "* * * *"
   ]
  },
  {
   "cell_type": "code",
   "execution_count": 10,
   "metadata": {},
   "outputs": [],
   "source": [
    "import numpy as np\n",
    "import pandas as pd\n",
    "import matplotlib as mpl\n",
    "import matplotlib.pyplot as plt\n",
    "import seaborn as sns"
   ]
  },
  {
   "cell_type": "code",
   "execution_count": 11,
   "metadata": {},
   "outputs": [],
   "source": [
    "from walmart_utils import *"
   ]
  },
  {
   "cell_type": "code",
   "execution_count": 12,
   "metadata": {},
   "outputs": [],
   "source": [
    "train = pd.read_csv(\"data/train.csv\")\n",
    "test = pd.read_csv(\"data/test.csv\")"
   ]
  },
  {
   "cell_type": "markdown",
   "metadata": {},
   "source": [
    "# [ EDA ]"
   ]
  },
  {
   "cell_type": "code",
   "execution_count": 17,
   "metadata": {},
   "outputs": [
    {
     "data": {
      "text/html": [
       "<div>\n",
       "<style scoped>\n",
       "    .dataframe tbody tr th:only-of-type {\n",
       "        vertical-align: middle;\n",
       "    }\n",
       "\n",
       "    .dataframe tbody tr th {\n",
       "        vertical-align: top;\n",
       "    }\n",
       "\n",
       "    .dataframe thead th {\n",
       "        text-align: right;\n",
       "    }\n",
       "</style>\n",
       "<table border=\"1\" class=\"dataframe\">\n",
       "  <thead>\n",
       "    <tr style=\"text-align: right;\">\n",
       "      <th></th>\n",
       "      <th>TripType</th>\n",
       "      <th>VisitNumber</th>\n",
       "      <th>Weekday</th>\n",
       "      <th>Upc</th>\n",
       "      <th>ScanCount</th>\n",
       "      <th>DepartmentDescription</th>\n",
       "      <th>FinelineNumber</th>\n",
       "    </tr>\n",
       "  </thead>\n",
       "  <tbody>\n",
       "    <tr>\n",
       "      <th>0</th>\n",
       "      <td>999</td>\n",
       "      <td>5</td>\n",
       "      <td>Friday</td>\n",
       "      <td>6.811315e+10</td>\n",
       "      <td>-1</td>\n",
       "      <td>FINANCIAL SERVICES</td>\n",
       "      <td>1000.0</td>\n",
       "    </tr>\n",
       "    <tr>\n",
       "      <th>1</th>\n",
       "      <td>30</td>\n",
       "      <td>7</td>\n",
       "      <td>Friday</td>\n",
       "      <td>6.053882e+10</td>\n",
       "      <td>1</td>\n",
       "      <td>SHOES</td>\n",
       "      <td>8931.0</td>\n",
       "    </tr>\n",
       "    <tr>\n",
       "      <th>2</th>\n",
       "      <td>30</td>\n",
       "      <td>7</td>\n",
       "      <td>Friday</td>\n",
       "      <td>7.410811e+09</td>\n",
       "      <td>1</td>\n",
       "      <td>PERSONAL CARE</td>\n",
       "      <td>4504.0</td>\n",
       "    </tr>\n",
       "    <tr>\n",
       "      <th>3</th>\n",
       "      <td>26</td>\n",
       "      <td>8</td>\n",
       "      <td>Friday</td>\n",
       "      <td>2.238404e+09</td>\n",
       "      <td>2</td>\n",
       "      <td>PAINT AND ACCESSORIES</td>\n",
       "      <td>3565.0</td>\n",
       "    </tr>\n",
       "    <tr>\n",
       "      <th>4</th>\n",
       "      <td>26</td>\n",
       "      <td>8</td>\n",
       "      <td>Friday</td>\n",
       "      <td>2.006614e+09</td>\n",
       "      <td>2</td>\n",
       "      <td>PAINT AND ACCESSORIES</td>\n",
       "      <td>1017.0</td>\n",
       "    </tr>\n",
       "  </tbody>\n",
       "</table>\n",
       "</div>"
      ],
      "text/plain": [
       "   TripType  VisitNumber Weekday           Upc  ScanCount  \\\n",
       "0       999            5  Friday  6.811315e+10         -1   \n",
       "1        30            7  Friday  6.053882e+10          1   \n",
       "2        30            7  Friday  7.410811e+09          1   \n",
       "3        26            8  Friday  2.238404e+09          2   \n",
       "4        26            8  Friday  2.006614e+09          2   \n",
       "\n",
       "   DepartmentDescription  FinelineNumber  \n",
       "0     FINANCIAL SERVICES          1000.0  \n",
       "1                  SHOES          8931.0  \n",
       "2          PERSONAL CARE          4504.0  \n",
       "3  PAINT AND ACCESSORIES          3565.0  \n",
       "4  PAINT AND ACCESSORIES          1017.0  "
      ]
     },
     "execution_count": 17,
     "metadata": {},
     "output_type": "execute_result"
    }
   ],
   "source": [
    "train.head()"
   ]
  },
  {
   "cell_type": "markdown",
   "metadata": {},
   "source": [
    "## Train Data"
   ]
  },
  {
   "cell_type": "code",
   "execution_count": 13,
   "metadata": {},
   "outputs": [
    {
     "name": "stdout",
     "output_type": "stream",
     "text": [
      "<class 'pandas.core.frame.DataFrame'>\n",
      "RangeIndex: 647054 entries, 0 to 647053\n",
      "Data columns (total 7 columns):\n",
      "TripType                 647054 non-null int64\n",
      "VisitNumber              647054 non-null int64\n",
      "Weekday                  647054 non-null object\n",
      "Upc                      642925 non-null float64\n",
      "ScanCount                647054 non-null int64\n",
      "DepartmentDescription    645693 non-null object\n",
      "FinelineNumber           642925 non-null float64\n",
      "dtypes: float64(2), int64(3), object(2)\n",
      "memory usage: 34.6+ MB\n"
     ]
    }
   ],
   "source": [
    "train.info()"
   ]
  },
  {
   "cell_type": "code",
   "execution_count": 14,
   "metadata": {},
   "outputs": [
    {
     "data": {
      "text/plain": [
       "<matplotlib.axes._subplots.AxesSubplot at 0x1185022b0>"
      ]
     },
     "execution_count": 14,
     "metadata": {},
     "output_type": "execute_result"
    },
    {
     "data": {
      "image/png": "[encoded data removed]",
      "text/plain": [
       "<matplotlib.figure.Figure at 0x113fb4b38>"
      ]
     },
     "metadata": {},
     "output_type": "display_data"
    }
   ],
   "source": [
    "train.isnull().sum().plot(kind='bar')"
   ]
  },
  {
   "cell_type": "code",
   "execution_count": null,
   "metadata": {},
   "outputs": [],
   "source": []
  },
  {
   "cell_type": "code",
   "execution_count": null,
   "metadata": {},
   "outputs": [],
   "source": []
  },
  {
   "cell_type": "code",
   "execution_count": null,
   "metadata": {},
   "outputs": [],
   "source": []
  },
  {
   "cell_type": "code",
   "execution_count": null,
   "metadata": {},
   "outputs": [],
   "source": []
  },
  {
   "cell_type": "code",
   "execution_count": null,
   "metadata": {},
   "outputs": [],
   "source": []
  },
  {
   "cell_type": "code",
   "execution_count": 15,
   "metadata": {},
   "outputs": [
    {
     "data": {
      "text/plain": [
       "TripType\n",
       "3               FINANCIAL SERVICES\n",
       "4                     PHARMACY OTC\n",
       "5                     PHARMACY OTC\n",
       "6                 LIQUOR,WINE,BEER\n",
       "7                     SERVICE DELI\n",
       "8                      DSD GROCERY\n",
       "9                        MENS WEAR\n",
       "12                     DSD GROCERY\n",
       "14              FABRICS AND CRAFTS\n",
       "15                     CELEBRATION\n",
       "18                            TOYS\n",
       "19                     ELECTRONICS\n",
       "20                      AUTOMOTIVE\n",
       "21              FABRICS AND CRAFTS\n",
       "22                     ELECTRONICS\n",
       "23         PLAYERS AND ELECTRONICS\n",
       "24                   COOK AND DINE\n",
       "25                       MENS WEAR\n",
       "26                        HARDWARE\n",
       "27                 LAWN AND GARDEN\n",
       "28                  SPORTING GOODS\n",
       "29                            TOYS\n",
       "30                           SHOES\n",
       "31                        WIRELESS\n",
       "32     INFANT CONSUMABLE HARDLINES\n",
       "33        HOUSEHOLD CHEMICALS/SUPP\n",
       "34               PETS AND SUPPLIES\n",
       "35                     DSD GROCERY\n",
       "36                   PERSONAL CARE\n",
       "37                         PRODUCE\n",
       "38                           DAIRY\n",
       "39                     DSD GROCERY\n",
       "40               GROCERY DRY GOODS\n",
       "41                           SHOES\n",
       "42             IMPULSE MERCHANDISE\n",
       "43                   PERSONAL CARE\n",
       "44                   PERSONAL CARE\n",
       "999             FINANCIAL SERVICES\n",
       "dtype: object"
      ]
     },
     "execution_count": 15,
     "metadata": {},
     "output_type": "execute_result"
    }
   ],
   "source": [
    "pd.crosstab(index=train['DepartmentDescription'], columns=train['TripType']).idxmax()"
   ]
  },
  {
   "cell_type": "code",
   "execution_count": 25,
   "metadata": {},
   "outputs": [
    {
     "data": {
      "image/png": "[encoded data removed]",
      "text/plain": [
       "<matplotlib.figure.Figure at 0x1156638d0>"
      ]
     },
     "metadata": {},
     "output_type": "display_data"
    }
   ],
   "source": [
    "from matplotlib import pyplot as plt\n",
    "fig = plt.figure(figsize=(14, 25))\n",
    "\n",
    "# Plot total number of TripTypes\n",
    "ax1 = fig.add_subplot(311)\n",
    "train.groupby(['TripType'], as_index=False).size().plot('bar')\n",
    "\n",
    "# Plot total number of ScanCounts    ## 이거 왜 이러죠 ㅠㅜㅠㅜㅠㅜㅠㅜㅠㅜㅜㅠㅜㅠㅜㅠㅜㅠㅜㅠㅜㅠㅜ\n",
    "ax2 = fig.add_subplot(312)\n",
    "train.groupby(['ScanCount'], as_index=False).size().plot('bar', logy=True)\n",
    "\n",
    "# Plot total number of DepartmentDescriptions\n",
    "ax3 = fig.add_subplot(313)\n",
    "train.groupby(['DepartmentDescription'], as_index=False).size().plot('bar')\n",
    "\n",
    "plt.show()"
   ]
  },
  {
   "cell_type": "code",
   "execution_count": null,
   "metadata": {},
   "outputs": [],
   "source": []
  },
  {
   "cell_type": "code",
   "execution_count": null,
   "metadata": {},
   "outputs": [],
   "source": []
  },
  {
   "cell_type": "code",
   "execution_count": null,
   "metadata": {},
   "outputs": [],
   "source": []
  },
  {
   "cell_type": "code",
   "execution_count": null,
   "metadata": {},
   "outputs": [],
   "source": []
  },
  {
   "cell_type": "code",
   "execution_count": null,
   "metadata": {},
   "outputs": [],
   "source": []
  },
  {
   "cell_type": "code",
   "execution_count": null,
   "metadata": {},
   "outputs": [],
   "source": []
  },
  {
   "cell_type": "code",
   "execution_count": null,
   "metadata": {},
   "outputs": [],
   "source": []
  },
  {
   "cell_type": "code",
   "execution_count": null,
   "metadata": {},
   "outputs": [],
   "source": []
  },
  {
   "cell_type": "markdown",
   "metadata": {},
   "source": [
    "# [ Preprocessing ]"
   ]
  },
  {
   "cell_type": "markdown",
   "metadata": {},
   "source": [
    "### UPC company code 분리"
   ]
  },
  {
   "cell_type": "code",
   "execution_count": null,
   "metadata": {},
   "outputs": [],
   "source": [
    "train[\"Upc\"] = train.Upc.apply(float_to_str)\n",
    "test[\"Upc\"] = test.Upc.apply(float_to_str)\n",
    "\n",
    "train[\"company\"] = train.Upc.apply(company) \n",
    "test[\"company\"] = test.Upc.apply(company)"
   ]
  },
  {
   "cell_type": "code",
   "execution_count": null,
   "metadata": {},
   "outputs": [],
   "source": [
    "train.head()"
   ]
  },
  {
   "cell_type": "markdown",
   "metadata": {},
   "source": [
    "### Return 발생 여부 표기"
   ]
  },
  {
   "cell_type": "code",
   "execution_count": null,
   "metadata": {},
   "outputs": [],
   "source": [
    "train.loc[train[\"ScanCount\"] < 0, \"Return\"] = 1\n",
    "train.loc[train[\"Return\"] != 1, \"Return\"] = 0\n",
    "\n",
    "test.loc[test[\"ScanCount\"] < 0, \"Return\"] = 1\n",
    "test.loc[test[\"Return\"] != 1, \"Return\"] = 0"
   ]
  },
  {
   "cell_type": "code",
   "execution_count": null,
   "metadata": {},
   "outputs": [],
   "source": [
    "train.head()"
   ]
  },
  {
   "cell_type": "markdown",
   "metadata": {},
   "source": [
    "### Weekday 인코딩"
   ]
  },
  {
   "cell_type": "code",
   "execution_count": null,
   "metadata": {},
   "outputs": [],
   "source": [
    "wd = {\"Monday\": 0, \"Tuesday\": 1, \"Wednesday\": 2, \"Thursday\": 3, \n",
    "      \"Friday\": 4, \"Saturday\": 5, \"Sunday\": 6}\n",
    "\n",
    "train[\"Weekday\"] = train[\"Weekday\"].apply(lambda x: wd[x])\n",
    "test[\"Weekday\"] = test[\"Weekday\"].apply(lambda x: wd[x])"
   ]
  },
  {
   "cell_type": "code",
   "execution_count": null,
   "metadata": {},
   "outputs": [],
   "source": [
    "train.head()"
   ]
  },
  {
   "cell_type": "markdown",
   "metadata": {},
   "source": [
    "### 실제 판매 수량"
   ]
  },
  {
   "cell_type": "code",
   "execution_count": null,
   "metadata": {},
   "outputs": [],
   "source": [
    "train[\"Pos_Sum\"] = train[\"ScanCount\"]\n",
    "test[\"Pos_Sum\"] = test[\"ScanCount\"]\n",
    "\n",
    "train.loc[train[\"Pos_Sum\"] < 0, \"Pos_Sum\"] = 0\n",
    "test.loc[test[\"Pos_Sum\"] < 0, \"Pos_Sum\"] = 0"
   ]
  },
  {
   "cell_type": "code",
   "execution_count": null,
   "metadata": {},
   "outputs": [],
   "source": [
    "train.head()"
   ]
  },
  {
   "cell_type": "markdown",
   "metadata": {},
   "source": [
    "### 반품 수량"
   ]
  },
  {
   "cell_type": "code",
   "execution_count": null,
   "metadata": {},
   "outputs": [],
   "source": [
    "train[\"Neg_Sum\"] = train[\"ScanCount\"]\n",
    "test[\"Neg_Sum\"] = test[\"ScanCount\"]\n",
    "\n",
    "train.loc[train[\"Neg_Sum\"] > 0, \"Neg_Sum\"] = 0\n",
    "test.loc[test[\"Neg_Sum\"] > 0, \"Neg_Sum\"] = 0"
   ]
  },
  {
   "cell_type": "code",
   "execution_count": null,
   "metadata": {},
   "outputs": [],
   "source": [
    "train.head()"
   ]
  },
  {
   "cell_type": "markdown",
   "metadata": {},
   "source": [
    "### UPC Check Digit 추가"
   ]
  },
  {
   "cell_type": "code",
   "execution_count": null,
   "metadata": {},
   "outputs": [],
   "source": [
    "train[\"check\"] = train.Upc.apply(check_digit)\n",
    "test[\"check\"] = test.Upc.apply(check_digit)"
   ]
  },
  {
   "cell_type": "code",
   "execution_count": null,
   "metadata": {},
   "outputs": [],
   "source": [
    "train.head()"
   ]
  },
  {
   "cell_type": "code",
   "execution_count": null,
   "metadata": {},
   "outputs": [],
   "source": []
  },
  {
   "cell_type": "markdown",
   "metadata": {},
   "source": [
    "# [ Feature Engineering ]"
   ]
  },
  {
   "cell_type": "markdown",
   "metadata": {},
   "source": [
    "### VisitNumber 별 가장 빈도가 잦은 FinelineNumber"
   ]
  },
  {
   "cell_type": "code",
   "execution_count": null,
   "metadata": {},
   "outputs": [],
   "source": [
    "# new feature\n",
    "\n",
    "train_fineline = train[[\"VisitNumber\", \"FinelineNumber\"]]\n",
    "test_fineline = test[[\"VisitNumber\", \"FinelineNumber\"]]\n",
    "\n",
    "train_fineline = train_fineline.groupby(\"VisitNumber\", as_index=False).agg(mode)\n",
    "train_fineline.rename(columns={\"FinelineNumber\": \"MF_FinelineNumber\"}, inplace=True)\n",
    "\n",
    "test_fineline = test_fineline.groupby(\"VisitNumber\", as_index=False).agg(mode)\n",
    "test_fineline.rename(columns={\"FinelineNumber\": \"MF_FinelineNumber\"}, inplace=True)"
   ]
  },
  {
   "cell_type": "code",
   "execution_count": null,
   "metadata": {},
   "outputs": [],
   "source": [
    "train_fineline.head()"
   ]
  },
  {
   "cell_type": "markdown",
   "metadata": {},
   "source": [
    "### VisitNumber 별 "
   ]
  },
  {
   "cell_type": "code",
   "execution_count": null,
   "metadata": {},
   "outputs": [],
   "source": [
    "train_upc_fine = train[[\"VisitNumber\", \"Upc\", \"FinelineNumber\"]]\n",
    "test_upc_fine = test[[\"VisitNumber\", \"Upc\", \"FinelineNumber\"]]\n",
    "\n",
    "train_upc_fine_group = train_upc_fine.groupby(\"VisitNumber\", as_index=False).count()\n",
    "train_upc_fine_group.rename(columns={\"Upc\": \"N_Upc\", \n",
    "                                     \"FinelineNumber\": \"N_FinelineNumber\"}, inplace=True)\n",
    "test_upc_fine_group = test_upc_fine.groupby(\"VisitNumber\", as_index=False).count()\n",
    "test_upc_fine_group.rename(columns={\"Upc\": \"N_Upc\", \n",
    "                                    \"FinelineNumber\": \"N_FinelineNumber\"}, inplace=True)"
   ]
  },
  {
   "cell_type": "code",
   "execution_count": null,
   "metadata": {},
   "outputs": [],
   "source": [
    "train_upc_fine_group.head()"
   ]
  },
  {
   "cell_type": "code",
   "execution_count": null,
   "metadata": {},
   "outputs": [],
   "source": [
    "train = train.drop([\"Upc\", \"FinelineNumber\"], axis=1)\n",
    "test = test.drop([\"Upc\", \"FinelineNumber\"], axis=1)"
   ]
  },
  {
   "cell_type": "markdown",
   "metadata": {},
   "source": [
    "### DepartmentDescription의 더미변수 생성"
   ]
  },
  {
   "cell_type": "code",
   "execution_count": null,
   "metadata": {},
   "outputs": [],
   "source": [
    "train_dd = pd.get_dummies(train[\"DepartmentDescription\"])\n",
    "test_dd = pd.get_dummies(test[\"DepartmentDescription\"])\n",
    "\n",
    "train_dd = pd.concat([train[[\"VisitNumber\"]], train_dd], axis=1)\n",
    "test_dd = pd.concat([test[[\"VisitNumber\"]], test_dd], axis=1)\n",
    "\n",
    "train_dd = train_dd.groupby(\"VisitNumber\", as_index=False).sum()\n",
    "test_dd = test_dd.groupby(\"VisitNumber\", as_index=False).sum()"
   ]
  },
  {
   "cell_type": "code",
   "execution_count": null,
   "metadata": {},
   "outputs": [],
   "source": [
    "train_dd.head()"
   ]
  },
  {
   "cell_type": "markdown",
   "metadata": {},
   "source": [
    "### 각 VisitNumber별 가장 많이 구매한 제품의 기업 코드"
   ]
  },
  {
   "cell_type": "code",
   "execution_count": null,
   "metadata": {},
   "outputs": [],
   "source": [
    "train_company = train[[\"VisitNumber\", \"company\"]]\n",
    "test_company = test[[\"VisitNumber\", \"company\"]]\n",
    "\n",
    "train_company = train_company.groupby(\"VisitNumber\", as_index=False).agg(mode)\n",
    "test_company = test_company.groupby(\"VisitNumber\", as_index=False).agg(mode)"
   ]
  },
  {
   "cell_type": "code",
   "execution_count": null,
   "metadata": {},
   "outputs": [],
   "source": [
    "train_company.head()"
   ]
  },
  {
   "cell_type": "markdown",
   "metadata": {},
   "source": [
    "### 각 VisitNumber 별 가장 많이 구매한 제품의 Check Digit"
   ]
  },
  {
   "cell_type": "code",
   "execution_count": null,
   "metadata": {},
   "outputs": [],
   "source": [
    "train_check = train[[\"VisitNumber\", \"check\"]]\n",
    "test_check = test[[\"VisitNumber\", \"check\"]]\n",
    "\n",
    "train_check = train_check.groupby(\"VisitNumber\", as_index=False).agg(mode)\n",
    "test_check = test_check.groupby(\"VisitNumber\", as_index=False).agg(mode)"
   ]
  },
  {
   "cell_type": "code",
   "execution_count": null,
   "metadata": {},
   "outputs": [],
   "source": [
    "train_check.head()"
   ]
  },
  {
   "cell_type": "markdown",
   "metadata": {},
   "source": [
    "### VisitNumber를 index로 하는 groupby & merge"
   ]
  },
  {
   "cell_type": "code",
   "execution_count": null,
   "metadata": {},
   "outputs": [],
   "source": [
    "train_by_sum = train[[\"VisitNumber\", \"ScanCount\", \"Pos_Sum\", \"Neg_Sum\"]]\n",
    "test_by_sum = test[[\"VisitNumber\", \"ScanCount\", \"Pos_Sum\", \"Neg_Sum\"]]\n",
    "\n",
    "train_by_sum = train_by_sum.groupby(\"VisitNumber\", as_index=False).sum()\n",
    "test_by_sum = test_by_sum.groupby(\"VisitNumber\", as_index=False).sum()\n",
    "\n",
    "train_by_max = train[[\"TripType\", \"VisitNumber\", \"Weekday\", \"Return\"]]\n",
    "test_by_max = test[[\"VisitNumber\", \"Weekday\", \"Return\"]]\n",
    "\n",
    "train_by_max = train_by_max.groupby(\"VisitNumber\", as_index=False).max()\n",
    "test_by_max = test_by_max.groupby(\"VisitNumber\", as_index=False).max()"
   ]
  },
  {
   "cell_type": "code",
   "execution_count": null,
   "metadata": {},
   "outputs": [],
   "source": [
    "train = train_by_sum.merge(train_by_max, on=[\"VisitNumber\"])\n",
    "train = train.merge(train_dd, on=[\"VisitNumber\"])\n",
    "train = train.merge(train_company, on=[\"VisitNumber\"])\n",
    "train = train.merge(train_check, on=[\"VisitNumber\"])\n",
    "train = train.merge(train_fineline, on=[\"VisitNumber\"])\n",
    "train = train.merge(train_upc_fine_group, on=[\"VisitNumber\"])\n",
    "\n",
    "test = test_by_sum.merge(test_by_max, on=[\"VisitNumber\"])\n",
    "test = test.merge(test_dd, on=[\"VisitNumber\"])\n",
    "test = test.merge(test_company, on=[\"VisitNumber\"])\n",
    "test = test.merge(test_check, on=[\"VisitNumber\"])\n",
    "test = test.merge(test_fineline, on=[\"VisitNumber\"])\n",
    "test = test.merge(test_upc_fine_group, on=[\"VisitNumber\"])"
   ]
  },
  {
   "cell_type": "code",
   "execution_count": null,
   "metadata": {},
   "outputs": [],
   "source": [
    "train.head()"
   ]
  },
  {
   "cell_type": "markdown",
   "metadata": {},
   "source": [
    "- ### test data에서는 발생하지 않는 DepartmentDescription 제거\n",
    "- ### train & target 분리"
   ]
  },
  {
   "cell_type": "code",
   "execution_count": null,
   "metadata": {},
   "outputs": [],
   "source": [
    "y = train[\"TripType\"]\n",
    "train = train.drop([\"TripType\", \"HEALTH AND BEAUTY AIDS\"], axis=1)"
   ]
  },
  {
   "cell_type": "markdown",
   "metadata": {},
   "source": [
    "### 각 VisitNumber 별 판매된 아이템의 DepartmentDescription 빈도"
   ]
  },
  {
   "cell_type": "code",
   "execution_count": null,
   "metadata": {},
   "outputs": [],
   "source": [
    "from walmart_utils import category_counts"
   ]
  },
  {
   "cell_type": "code",
   "execution_count": null,
   "metadata": {},
   "outputs": [],
   "source": [
    "%%time\n",
    "train = category_counts(train)\n",
    "test = category_counts(test)"
   ]
  },
  {
   "cell_type": "code",
   "execution_count": null,
   "metadata": {},
   "outputs": [],
   "source": [
    "train.head()"
   ]
  },
  {
   "cell_type": "markdown",
   "metadata": {},
   "source": [
    "### VisitNumber 별로 발생한 FinelineNumber와 UPC의 비율"
   ]
  },
  {
   "cell_type": "code",
   "execution_count": null,
   "metadata": {},
   "outputs": [],
   "source": [
    "train[\"Upc_Depts\"] = train[\"N_Upc\"] / train[\"N_FinelineNumber\"]\n",
    "test[\"Upc_Depts\"] = test[\"N_Upc\"] / test[\"N_FinelineNumber\"]"
   ]
  },
  {
   "cell_type": "code",
   "execution_count": null,
   "metadata": {},
   "outputs": [],
   "source": [
    "train.head()"
   ]
  },
  {
   "cell_type": "markdown",
   "metadata": {},
   "source": [
    "### Weeday, Return의 더미변수 생성"
   ]
  },
  {
   "cell_type": "code",
   "execution_count": null,
   "metadata": {},
   "outputs": [],
   "source": [
    "train = pd.get_dummies(train, columns=[\"Weekday\", \"Return\"])\n",
    "test = pd.get_dummies(test, columns=[\"Weekday\", \"Return\"])"
   ]
  },
  {
   "cell_type": "code",
   "execution_count": null,
   "metadata": {},
   "outputs": [],
   "source": [
    "train.head()"
   ]
  },
  {
   "cell_type": "markdown",
   "metadata": {},
   "source": [
    "# [ Model Generation ]\n",
    "\n",
    "- XGBoost\n",
    "\n",
    "- # GridSearch ?????"
   ]
  },
  {
   "cell_type": "code",
   "execution_count": null,
   "metadata": {},
   "outputs": [],
   "source": [
    "import xgboost as xgb\n",
    "from sklearn.model_selection import train_test_split\n",
    "from sklearn.model_selection import GridSearchCV\n",
    "from sklearn.preprocessing import LabelEncoder"
   ]
  },
  {
   "cell_type": "code",
   "execution_count": null,
   "metadata": {},
   "outputs": [],
   "source": [
    "label_enc = LabelEncoder().fit(y)\n",
    "y_labeled = label_enc.transform(y)"
   ]
  },
  {
   "cell_type": "code",
   "execution_count": null,
   "metadata": {},
   "outputs": [],
   "source": [
    "X_train, X_test, y_train, y_test = train_test_split(\n",
    "    train, y_labeled, random_state=0)"
   ]
  },
  {
   "cell_type": "code",
   "execution_count": null,
   "metadata": {},
   "outputs": [],
   "source": [
    "dtrain = xgb.DMatrix(X_train.values, label=y_train)\n",
    "dtest = xgb.DMatrix(X_test.values, label=y_test)"
   ]
  },
  {
   "cell_type": "code",
   "execution_count": null,
   "metadata": {},
   "outputs": [],
   "source": [
    "num_boost_round = 300\n",
    "params = {'objective': 'multi:softprob', \n",
    "          'eval_metric': 'mlogloss',\n",
    "          'num_class':38, \n",
    "          'max_delta_step': 3, \n",
    "          'eta': 0.25}\n",
    "\n",
    "evals = [(dtrain, 'train'), (dtest, 'eval')]\n",
    "\n",
    "\n",
    "bst = xgb.train(params=params,  \n",
    "                dtrain=dtrain, \n",
    "                num_boost_round=num_boost_round, \n",
    "                evals=evals,\n",
    "               early_stopping_rounds=10,)"
   ]
  },
  {
   "cell_type": "code",
   "execution_count": null,
   "metadata": {},
   "outputs": [],
   "source": [
    "classes = np.array(list(set(label_enc.inverse_transform(y_labeled))))"
   ]
  },
  {
   "cell_type": "code",
   "execution_count": null,
   "metadata": {},
   "outputs": [],
   "source": [
    "dmtest = xgb.DMatrix(test.values) \n",
    "pred_proba = bst.predict(dmtest)\n",
    "\n",
    "proba_df = pd.DataFrame(pred_proba, columns=classes)\n",
    "proba_df.columns = proba_df.columns.map(lambda x: \"TripType_\" + str(x))\n",
    "sub_df = pd.concat([test[[\"VisitNumber\"]], proba_df], axis=1)\n",
    "sub_df.to_csv(\"data/team_SWYA_submission.csv\", index=False)"
   ]
  }
 ],
 "metadata": {
  "kernelspec": {
   "display_name": "Python 3",
   "language": "python",
   "name": "python3"
  },
  "language_info": {
   "codemirror_mode": {
    "name": "ipython",
    "version": 3
   },
   "file_extension": ".py",
   "mimetype": "text/x-python",
   "name": "python",
   "nbconvert_exporter": "python",
   "pygments_lexer": "ipython3",
   "version": "3.6.2"
  }
 },
 "nbformat": 4,
 "nbformat_minor": 2
}
