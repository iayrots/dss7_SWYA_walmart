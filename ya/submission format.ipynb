{
 "cells": [
  {
   "cell_type": "code",
   "execution_count": null,
   "metadata": {},
   "outputs": [],
   "source": [
    "def prediction_to_csv(prediction):\n",
    "    df_VN = pd.DataFrame(columns=[\"VisitNumber\"])\n",
    "    df_VN[\"VisitNumber\"] = tf_test.index\n",
    "    df_TT = pd.DataFrame(columns=[\"TripType\"])\n",
    "    df_TT[\"TripType\"] = prediction\n",
    "    df_TT = pd.get_dummies(df_TT.TripType).astype(int, cbopy=False)\n",
    "    df_TT = df_TT.rename(columns = {0:\"TripType_3\", 1: \"TripType_4\", 2: \"TripType_5\", 3: \"TripType_6\", \n",
    "                4: \"TripType_7\", 5: \"TripType_8\", 6: \"TripType_9\", 7: \"TripType_12\", 8: \"TripType_14\", \n",
    "                9: \"TripType_15\", 10: \"TripType_18\", 11: \"TripType_19\", 12: \"TripType_20\", 13: \"TripType_21\",\n",
    "                14: \"TripType_22\", 15: \"TripType_23\", 16: \"TripType_24\", 17: \"TripType_25\", 18: \"TripType_26\", \n",
    "                19: \"TripType_27\", 20: \"TripType_28\", 21: \"TripType_29\", 22: \"TripType_30\", 23: \"TripType_31\", \n",
    "                24: \"TripType_32\", 25: \"TripType_33\", 26: \"TripType_34\", 27: \"TripType_35\", 28: \"TripType_36\", \n",
    "                29: \"TripType_37\", 30: \"TripType_38\", 31: \"TripType_39\", 32: \"TripType_40\", 33: \"TripType_41\", \n",
    "                34: \"TripType_42\", 35: \"TripType_43\", 36: \"TripType_44\", 37: \"TripType_999\"})\n",
    "    trial = pd.concat([df_VN, df_TT], axis=1).set_index('VisitNumber')\n",
    "    #trial[\"TripType_14\"] = 0\n",
    "    return trial.to_csv(\"data/trial_0.csv\")"
   ]
  },
  {
   "cell_type": "code",
   "execution_count": null,
   "metadata": {},
   "outputs": [],
   "source": []
  },
  {
   "cell_type": "code",
   "execution_count": null,
   "metadata": {},
   "outputs": [],
   "source": []
  },
  {
   "cell_type": "code",
   "execution_count": null,
   "metadata": {},
   "outputs": [],
   "source": []
  },
  {
   "cell_type": "code",
   "execution_count": null,
   "metadata": {},
   "outputs": [],
   "source": []
  },
  {
   "cell_type": "code",
   "execution_count": null,
   "metadata": {},
   "outputs": [],
   "source": []
  },
  {
   "cell_type": "code",
   "execution_count": null,
   "metadata": {},
   "outputs": [],
   "source": [
    "col_array = np.asarray([ 0,  1,  2,  3,  4,  5,  6,  7,  8,  9, 10, 11, 12, 13, 14, 15, 16,\n",
    "       17, 18, 19, 20, 21, 22, 23, 24, 25, 26, 27, 28, 29, 30, 31, 32, 33,\n",
    "       34, 35, 36, 37])"
   ]
  },
  {
   "cell_type": "code",
   "execution_count": null,
   "metadata": {},
   "outputs": [],
   "source": [
    "columns = {0:\"TripType_3\", 1: \"TripType_4\", 2: \"TripType_5\", 3: \"TripType_6\", \n",
    "                4: \"TripType_7\", 5: \"TripType_8\", 6: \"TripType_9\", 7: \"TripType_12\", 8: \"TripType_14\", \n",
    "                9: \"TripType_15\", 10: \"TripType_18\", 11: \"TripType_19\", 12: \"TripType_20\", 13: \"TripType_21\",\n",
    "                14: \"TripType_22\", 15: \"TripType_23\", 16: \"TripType_24\", 17: \"TripType_25\", 18: \"TripType_26\", \n",
    "                19: \"TripType_27\", 20: \"TripType_28\", 21: \"TripType_29\", 22: \"TripType_30\", 23: \"TripType_31\", \n",
    "                24: \"TripType_32\", 25: \"TripType_33\", 26: \"TripType_34\", 27: \"TripType_35\", 28: \"TripType_36\", \n",
    "                29: \"TripType_37\", 30: \"TripType_38\", 31: \"TripType_39\", 32: \"TripType_40\", 33: \"TripType_41\", \n",
    "                34: \"TripType_42\", 35: \"TripType_43\", 36: \"TripType_44\", 37: \"TripType_999\"}"
   ]
  },
  {
   "cell_type": "code",
   "execution_count": null,
   "metadata": {},
   "outputs": [],
   "source": [
    "def predic_proba_to_csv(pred_prob):\n",
    "    proba_df = pd.DataFrame(pred_prob, columns=col_array)\n",
    "    proba_df.columns = proba_df.columns.map(lambda x: columns[x])\n",
    "    sub_df = pd.concat([test_VN[[\"VisitNumber\"]], proba_df], axis=1)\n",
    "    return sub_df.to_csv(\"data/trial_13.csv\", index=False)"
   ]
  }
 ],
 "metadata": {
  "kernelspec": {
   "display_name": "Python 3",
   "language": "python",
   "name": "python3"
  },
  "language_info": {
   "codemirror_mode": {
    "name": "ipython",
    "version": 3
   },
   "file_extension": ".py",
   "mimetype": "text/x-python",
   "name": "python",
   "nbconvert_exporter": "python",
   "pygments_lexer": "ipython3",
   "version": "3.6.4"
  }
 },
 "nbformat": 4,
 "nbformat_minor": 2
}
