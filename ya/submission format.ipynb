{
 "cells": [
  {
   "cell_type": "code",
   "execution_count": null,
   "metadata": {},
   "outputs": [],
   "source": [
    "def prediction_to_csv(prediction):\n",
    "    df_VN = pd.DataFrame(columns=[\"VisitNumber\"])\n",
    "    df_VN[\"VisitNumber\"] = tf_test.index\n",
    "    df_TT = pd.DataFrame(columns=[\"TripType\"])\n",
    "    df_TT[\"TripType\"] = prediction\n",
    "    df_TT = pd.get_dummies(df_TT.TripType).astype(int, cbopy=False)\n",
    "    df_TT = df_TT.rename(columns = {0:\"TripType_3\", 1: \"TripType_4\", 2: \"TripType_5\", 3: \"TripType_6\", \n",
    "                4: \"TripType_7\", 5: \"TripType_8\", 6: \"TripType_9\", 7: \"TripType_12\", 8: \"TripType_14\", \n",
    "                9: \"TripType_15\", 10: \"TripType_18\", 11: \"TripType_19\", 12: \"TripType_20\", 13: \"TripType_21\",\n",
    "                14: \"TripType_22\", 15: \"TripType_23\", 16: \"TripType_24\", 17: \"TripType_25\", 18: \"TripType_26\", \n",
    "                19: \"TripType_27\", 20: \"TripType_28\", 21: \"TripType_29\", 22: \"TripType_30\", 23: \"TripType_31\", \n",
    "                24: \"TripType_32\", 25: \"TripType_33\", 26: \"TripType_34\", 27: \"TripType_35\", 28: \"TripType_36\", \n",
    "                29: \"TripType_37\", 30: \"TripType_38\", 31: \"TripType_39\", 32: \"TripType_40\", 33: \"TripType_41\", \n",
    "                34: \"TripType_42\", 35: \"TripType_43\", 36: \"TripType_44\", 37: \"TripType_999\"})\n",
    "    trial = pd.concat([df_VN, df_TT], axis=1).set_index('VisitNumber')\n",
    "    #trial[\"TripType_14\"] = 0\n",
    "    return trial.to_csv(\"data/trial_0.csv\")"
   ]
  }
 ],
 "metadata": {
  "kernelspec": {
   "display_name": "Python 3",
   "language": "python",
   "name": "python3"
  },
  "language_info": {
   "codemirror_mode": {
    "name": "ipython",
    "version": 3
   },
   "file_extension": ".py",
   "mimetype": "text/x-python",
   "name": "python",
   "nbconvert_exporter": "python",
   "pygments_lexer": "ipython3",
   "version": "3.6.4"
  }
 },
 "nbformat": 4,
 "nbformat_minor": 2
}
