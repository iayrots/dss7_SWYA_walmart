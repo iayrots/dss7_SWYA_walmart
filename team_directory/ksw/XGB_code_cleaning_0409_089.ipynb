{
 "cells": [
  {
   "cell_type": "code",
   "execution_count": 139,
   "metadata": {
    "collapsed": true
   },
   "outputs": [],
   "source": [
    "def category_counts(data):\n",
    "    \"\"\"\n",
    "    Count total number of unique DepartmentDescription made on each trip.\n",
    "    \"\"\"\n",
    "    counts = []\n",
    "    for array in np.asarray(data.loc[:, \"1-HR PHOTO\":\"WIRELESS\"]):\n",
    "        count = 0\n",
    "        for item in array:\n",
    "            if item > 0:\n",
    "                count += 1\n",
    "        counts.append(count)\n",
    "    cat_counts = pd.DataFrame(counts)\n",
    "    cat_counts = cat_counts.rename(columns={0:\"CategoryCount\"})\n",
    "    cat_counts = cat_counts.set_index(data.index)\n",
    "    \n",
    "    data.insert(6, \"CategoryCounts\", cat_counts)\n",
    "    \n",
    "    return data"
   ]
  },
  {
   "cell_type": "code",
   "execution_count": 140,
   "metadata": {
    "collapsed": true
   },
   "outputs": [],
   "source": [
    "train = pd.read_csv('../dataset/train.csv')\n",
    "test = pd.read_csv('../dataset/test.csv')"
   ]
  },
  {
   "cell_type": "code",
   "execution_count": 141,
   "metadata": {
    "collapsed": true
   },
   "outputs": [],
   "source": [
    "train.loc[train[\"ScanCount\"] < 0, \"Return\"] = 1\n",
    "train.loc[train[\"Return\"] != 1, \"Return\"] = 0\n",
    "\n",
    "test.loc[test[\"ScanCount\"] < 0, \"Return\"] = 1\n",
    "test.loc[test[\"Return\"] != 1, \"Return\"] = 0"
   ]
  },
  {
   "cell_type": "code",
   "execution_count": 142,
   "metadata": {
    "collapsed": true
   },
   "outputs": [],
   "source": [
    "wd = {\"Monday\": 0, \"Tuesday\": 1, \"Wednesday\": 2, \"Thursday\": 3, \n",
    "      \"Friday\": 4, \"Saturday\": 5, \"Sunday\": 6}\n",
    "\n",
    "train[\"Weekday\"] = train[\"Weekday\"].apply(lambda x: wd[x])\n",
    "test[\"Weekday\"] = test[\"Weekday\"].apply(lambda x: wd[x])"
   ]
  },
  {
   "cell_type": "code",
   "execution_count": 143,
   "metadata": {},
   "outputs": [],
   "source": [
    "train[\"Pos_Sum\"] = train[\"ScanCount\"]\n",
    "test[\"Pos_Sum\"] = test[\"ScanCount\"]\n",
    "\n",
    "train.loc[train[\"Pos_Sum\"] < 0, \"Pos_Sum\"] = 0\n",
    "test.loc[test[\"Pos_Sum\"] < 0, \"Pos_Sum\"] = 0"
   ]
  },
  {
   "cell_type": "code",
   "execution_count": 144,
   "metadata": {
    "collapsed": true
   },
   "outputs": [],
   "source": [
    "train[\"Neg_Sum\"] = train[\"ScanCount\"]\n",
    "test[\"Neg_Sum\"] = test[\"ScanCount\"]\n",
    "\n",
    "train.loc[train[\"Neg_Sum\"] > 0, \"Neg_Sum\"] = 0\n",
    "test.loc[test[\"Neg_Sum\"] > 0, \"Neg_Sum\"] = 0"
   ]
  },
  {
   "cell_type": "code",
   "execution_count": 145,
   "metadata": {},
   "outputs": [],
   "source": [
    "train = train.drop([\"Upc\", \"FinelineNumber\"], axis=1)\n",
    "test = test.drop([\"Upc\", \"FinelineNumber\"], axis=1)"
   ]
  },
  {
   "cell_type": "code",
   "execution_count": 146,
   "metadata": {},
   "outputs": [],
   "source": [
    "train_dd = pd.get_dummies(train[\"DepartmentDescription\"])\n",
    "test_dd = pd.get_dummies(test[\"DepartmentDescription\"])\n",
    "\n",
    "train_dd = pd.concat([train[[\"VisitNumber\"]], train_dd], axis=1)\n",
    "test_dd = pd.concat([test[[\"VisitNumber\"]], test_dd], axis=1)\n",
    "\n",
    "train_dd = train_dd.groupby(\"VisitNumber\", as_index=False).sum()\n",
    "test_dd = test_dd.groupby(\"VisitNumber\", as_index=False).sum()"
   ]
  },
  {
   "cell_type": "code",
   "execution_count": 147,
   "metadata": {},
   "outputs": [
    {
     "data": {
      "text/plain": [
       "((95674, 69), (95674, 68))"
      ]
     },
     "execution_count": 147,
     "metadata": {},
     "output_type": "execute_result"
    }
   ],
   "source": [
    "train_dd.shape, test_dd.shape"
   ]
  },
  {
   "cell_type": "code",
   "execution_count": 148,
   "metadata": {},
   "outputs": [],
   "source": [
    "train_by_sum = train[[\"VisitNumber\", \"ScanCount\", \"Pos_Sum\", \"Neg_Sum\"]]\n",
    "test_by_sum = test[[\"VisitNumber\", \"ScanCount\", \"Pos_Sum\", \"Neg_Sum\"]]\n",
    "\n",
    "train_by_max = train[[\"TripType\", \"VisitNumber\", \"Weekday\", \"Return\"]]\n",
    "test_by_max = test[[\"VisitNumber\", \"Weekday\", \"Return\"]]"
   ]
  },
  {
   "cell_type": "code",
   "execution_count": 149,
   "metadata": {
    "collapsed": true
   },
   "outputs": [],
   "source": [
    "train_by_sum = train_by_sum.groupby(\"VisitNumber\", as_index=False).sum()\n",
    "test_by_sum = test_by_sum.groupby(\"VisitNumber\", as_index=False).sum()\n",
    "\n",
    "train_by_max = train_by_max.groupby(\"VisitNumber\", as_index=False).max()\n",
    "test_by_max = test_by_max.groupby(\"VisitNumber\", as_index=False).max()"
   ]
  },
  {
   "cell_type": "code",
   "execution_count": 150,
   "metadata": {},
   "outputs": [],
   "source": [
    "train = train_by_sum.merge(train_by_max, on=[\"VisitNumber\"])\n",
    "train = train.merge(train_dd, on=[\"VisitNumber\"])\n",
    "\n",
    "test = test_by_sum.merge(test_by_max, on=[\"VisitNumber\"])\n",
    "test = test.merge(test_dd, on=[\"VisitNumber\"])"
   ]
  },
  {
   "cell_type": "code",
   "execution_count": 151,
   "metadata": {
    "collapsed": true
   },
   "outputs": [],
   "source": [
    "y = train[\"TripType\"]\n",
    "train = train.drop([\"TripType\", \"HEALTH AND BEAUTY AIDS\"], axis=1)"
   ]
  },
  {
   "cell_type": "code",
   "execution_count": 152,
   "metadata": {
    "collapsed": true
   },
   "outputs": [],
   "source": [
    "train = category_counts(train)\n",
    "test = category_counts(test)"
   ]
  },
  {
   "cell_type": "code",
   "execution_count": 153,
   "metadata": {
    "collapsed": true
   },
   "outputs": [],
   "source": [
    "train = pd.get_dummies(train, columns=[\"Weekday\", \"Return\"])\n",
    "test = pd.get_dummies(test, columns=[\"Weekday\", \"Return\"])"
   ]
  },
  {
   "cell_type": "code",
   "execution_count": 154,
   "metadata": {},
   "outputs": [
    {
     "data": {
      "text/plain": [
       "((95674, 81), (95674, 81))"
      ]
     },
     "execution_count": 154,
     "metadata": {},
     "output_type": "execute_result"
    }
   ],
   "source": [
    "train.shape, test.shape"
   ]
  },
  {
   "cell_type": "code",
   "execution_count": 155,
   "metadata": {
    "collapsed": true
   },
   "outputs": [],
   "source": [
    "import xgboost as xgb\n",
    "from sklearn.model_selection import train_test_split\n",
    "from sklearn.grid_search import GridSearchCV\n",
    "from sklearn.metrics import log_loss\n",
    "from sklearn.preprocessing import LabelEncoder"
   ]
  },
  {
   "cell_type": "code",
   "execution_count": 156,
   "metadata": {
    "collapsed": true
   },
   "outputs": [],
   "source": [
    "label_enc = LabelEncoder().fit(y)\n",
    "y_labeled = label_enc.transform(y)"
   ]
  },
  {
   "cell_type": "code",
   "execution_count": 157,
   "metadata": {
    "collapsed": true
   },
   "outputs": [],
   "source": [
    "X_train, X_test, y_train, y_test = train_test_split(\n",
    "    train, y_labeled, random_state=0)"
   ]
  },
  {
   "cell_type": "code",
   "execution_count": 158,
   "metadata": {
    "collapsed": true
   },
   "outputs": [],
   "source": [
    "dtrain = xgb.DMatrix(X_train.values, label=y_train)\n",
    "dtest = xgb.DMatrix(X_test.values, label=y_test)"
   ]
  },
  {
   "cell_type": "code",
   "execution_count": 159,
   "metadata": {},
   "outputs": [
    {
     "name": "stdout",
     "output_type": "stream",
     "text": [
      "[0]\ttrain-mlogloss:2.94013\teval-mlogloss:2.95054\n",
      "Multiple eval metrics have been passed: 'eval-mlogloss' will be used for early stopping.\n",
      "\n",
      "Will train until eval-mlogloss hasn't improved in 10 rounds.\n",
      "[1]\ttrain-mlogloss:2.36171\teval-mlogloss:2.3857\n",
      "[2]\ttrain-mlogloss:1.94331\teval-mlogloss:1.97984\n",
      "[3]\ttrain-mlogloss:1.69624\teval-mlogloss:1.74184\n",
      "[4]\ttrain-mlogloss:1.527\teval-mlogloss:1.58055\n",
      "[5]\ttrain-mlogloss:1.40054\teval-mlogloss:1.46103\n",
      "[6]\ttrain-mlogloss:1.30121\teval-mlogloss:1.36791\n",
      "[7]\ttrain-mlogloss:1.22314\teval-mlogloss:1.29591\n",
      "[8]\ttrain-mlogloss:1.15972\teval-mlogloss:1.23858\n",
      "[9]\ttrain-mlogloss:1.10568\teval-mlogloss:1.18985\n",
      "[10]\ttrain-mlogloss:1.06061\teval-mlogloss:1.14968\n",
      "[11]\ttrain-mlogloss:1.02323\teval-mlogloss:1.11741\n",
      "[12]\ttrain-mlogloss:0.989873\teval-mlogloss:1.0888\n",
      "[13]\ttrain-mlogloss:0.961082\teval-mlogloss:1.06479\n",
      "[14]\ttrain-mlogloss:0.936373\teval-mlogloss:1.04437\n",
      "[15]\ttrain-mlogloss:0.914176\teval-mlogloss:1.02688\n",
      "[16]\ttrain-mlogloss:0.894625\teval-mlogloss:1.01189\n",
      "[17]\ttrain-mlogloss:0.877602\teval-mlogloss:0.999166\n",
      "[18]\ttrain-mlogloss:0.862165\teval-mlogloss:0.987423\n",
      "[19]\ttrain-mlogloss:0.847896\teval-mlogloss:0.977034\n",
      "[20]\ttrain-mlogloss:0.834302\teval-mlogloss:0.967448\n",
      "[21]\ttrain-mlogloss:0.823133\teval-mlogloss:0.960006\n",
      "[22]\ttrain-mlogloss:0.812191\teval-mlogloss:0.95285\n",
      "[23]\ttrain-mlogloss:0.801969\teval-mlogloss:0.946209\n",
      "[24]\ttrain-mlogloss:0.792247\teval-mlogloss:0.94031\n",
      "[25]\ttrain-mlogloss:0.783547\teval-mlogloss:0.935371\n",
      "[26]\ttrain-mlogloss:0.774968\teval-mlogloss:0.930736\n",
      "[27]\ttrain-mlogloss:0.76774\teval-mlogloss:0.926866\n",
      "[28]\ttrain-mlogloss:0.760176\teval-mlogloss:0.922868\n",
      "[29]\ttrain-mlogloss:0.753807\teval-mlogloss:0.919837\n",
      "[30]\ttrain-mlogloss:0.747681\teval-mlogloss:0.916697\n",
      "[31]\ttrain-mlogloss:0.741332\teval-mlogloss:0.914\n",
      "[32]\ttrain-mlogloss:0.735459\teval-mlogloss:0.911361\n",
      "[33]\ttrain-mlogloss:0.73029\teval-mlogloss:0.908861\n",
      "[34]\ttrain-mlogloss:0.725425\teval-mlogloss:0.906581\n",
      "[35]\ttrain-mlogloss:0.720898\teval-mlogloss:0.904642\n",
      "[36]\ttrain-mlogloss:0.716368\teval-mlogloss:0.902731\n",
      "[37]\ttrain-mlogloss:0.712359\teval-mlogloss:0.901107\n",
      "[38]\ttrain-mlogloss:0.707501\teval-mlogloss:0.899548\n",
      "[39]\ttrain-mlogloss:0.70323\teval-mlogloss:0.897961\n",
      "[40]\ttrain-mlogloss:0.699474\teval-mlogloss:0.896529\n",
      "[41]\ttrain-mlogloss:0.69541\teval-mlogloss:0.895122\n",
      "[42]\ttrain-mlogloss:0.691515\teval-mlogloss:0.893868\n",
      "[43]\ttrain-mlogloss:0.687978\teval-mlogloss:0.89281\n",
      "[44]\ttrain-mlogloss:0.68388\teval-mlogloss:0.891682\n",
      "[45]\ttrain-mlogloss:0.680501\teval-mlogloss:0.890439\n",
      "[46]\ttrain-mlogloss:0.677185\teval-mlogloss:0.88956\n",
      "[47]\ttrain-mlogloss:0.674061\teval-mlogloss:0.888946\n",
      "[48]\ttrain-mlogloss:0.670933\teval-mlogloss:0.887798\n",
      "[49]\ttrain-mlogloss:0.66794\teval-mlogloss:0.886914\n",
      "[50]\ttrain-mlogloss:0.665136\teval-mlogloss:0.886158\n",
      "[51]\ttrain-mlogloss:0.661821\teval-mlogloss:0.885518\n",
      "[52]\ttrain-mlogloss:0.658531\teval-mlogloss:0.884684\n",
      "[53]\ttrain-mlogloss:0.655485\teval-mlogloss:0.884341\n",
      "[54]\ttrain-mlogloss:0.652572\teval-mlogloss:0.883773\n",
      "[55]\ttrain-mlogloss:0.649564\teval-mlogloss:0.883065\n",
      "[56]\ttrain-mlogloss:0.646868\teval-mlogloss:0.882437\n",
      "[57]\ttrain-mlogloss:0.644126\teval-mlogloss:0.8818\n",
      "[58]\ttrain-mlogloss:0.641613\teval-mlogloss:0.881292\n",
      "[59]\ttrain-mlogloss:0.639214\teval-mlogloss:0.880822\n",
      "[60]\ttrain-mlogloss:0.636752\teval-mlogloss:0.880422\n",
      "[61]\ttrain-mlogloss:0.634175\teval-mlogloss:0.880077\n",
      "[62]\ttrain-mlogloss:0.631438\teval-mlogloss:0.879684\n",
      "[63]\ttrain-mlogloss:0.628934\teval-mlogloss:0.87927\n",
      "[64]\ttrain-mlogloss:0.626623\teval-mlogloss:0.878946\n",
      "[65]\ttrain-mlogloss:0.624293\teval-mlogloss:0.878701\n",
      "[66]\ttrain-mlogloss:0.621794\teval-mlogloss:0.878331\n",
      "[67]\ttrain-mlogloss:0.619524\teval-mlogloss:0.878113\n",
      "[68]\ttrain-mlogloss:0.617248\teval-mlogloss:0.877652\n",
      "[69]\ttrain-mlogloss:0.614956\teval-mlogloss:0.877241\n",
      "[70]\ttrain-mlogloss:0.612769\teval-mlogloss:0.876868\n",
      "[71]\ttrain-mlogloss:0.610654\teval-mlogloss:0.876702\n",
      "[72]\ttrain-mlogloss:0.60858\teval-mlogloss:0.876709\n",
      "[73]\ttrain-mlogloss:0.606567\teval-mlogloss:0.876497\n",
      "[74]\ttrain-mlogloss:0.604084\teval-mlogloss:0.876225\n",
      "[75]\ttrain-mlogloss:0.601961\teval-mlogloss:0.876197\n",
      "[76]\ttrain-mlogloss:0.600056\teval-mlogloss:0.876171\n",
      "[77]\ttrain-mlogloss:0.598023\teval-mlogloss:0.876212\n",
      "[78]\ttrain-mlogloss:0.595949\teval-mlogloss:0.875794\n",
      "[79]\ttrain-mlogloss:0.593794\teval-mlogloss:0.875619\n",
      "[80]\ttrain-mlogloss:0.591919\teval-mlogloss:0.87526\n",
      "[81]\ttrain-mlogloss:0.589973\teval-mlogloss:0.875249\n",
      "[82]\ttrain-mlogloss:0.588167\teval-mlogloss:0.87507\n",
      "[83]\ttrain-mlogloss:0.586323\teval-mlogloss:0.875048\n",
      "[84]\ttrain-mlogloss:0.584517\teval-mlogloss:0.875159\n",
      "[85]\ttrain-mlogloss:0.582745\teval-mlogloss:0.875206\n",
      "[86]\ttrain-mlogloss:0.58072\teval-mlogloss:0.875103\n",
      "[87]\ttrain-mlogloss:0.578751\teval-mlogloss:0.875096\n",
      "[88]\ttrain-mlogloss:0.576922\teval-mlogloss:0.8751\n",
      "[89]\ttrain-mlogloss:0.574894\teval-mlogloss:0.875161\n",
      "[90]\ttrain-mlogloss:0.573294\teval-mlogloss:0.875101\n",
      "[91]\ttrain-mlogloss:0.571392\teval-mlogloss:0.875135\n",
      "[92]\ttrain-mlogloss:0.569949\teval-mlogloss:0.875184\n",
      "[93]\ttrain-mlogloss:0.568491\teval-mlogloss:0.875117\n",
      "Stopping. Best iteration:\n",
      "[83]\ttrain-mlogloss:0.586323\teval-mlogloss:0.875048\n",
      "\n"
     ]
    }
   ],
   "source": [
    "num_boost_round = 300\n",
    "params = {'objective': 'multi:softprob', \n",
    "          'eval_metric': 'mlogloss',\n",
    "          'num_class':38, \n",
    "          'max_delta_step': 3, \n",
    "          'eta': 0.25}\n",
    "\n",
    "evals = [(dtrain, 'train'), (dtest, 'eval')]\n",
    "\n",
    "bst = xgb.train(params=params,  \n",
    "                dtrain=dtrain, \n",
    "                num_boost_round=num_boost_round, \n",
    "                evals=evals,\n",
    "               early_stopping_rounds=10,)"
   ]
  },
  {
   "cell_type": "code",
   "execution_count": 165,
   "metadata": {},
   "outputs": [],
   "source": [
    "classes = np.array(list(set(label_enc.inverse_transform(y_labeled))))"
   ]
  },
  {
   "cell_type": "code",
   "execution_count": 168,
   "metadata": {},
   "outputs": [],
   "source": [
    "dmtest = xgb.DMatrix(test.values) \n",
    "pred_proba = bst.predict(dmtest)\n",
    "\n",
    "proba_df = pd.DataFrame(pred_proba, columns=classes)\n",
    "proba_df.columns = proba_df.columns.map(lambda x: \"TripType_\" + str(x))\n",
    "sub_df = pd.concat([test[[\"VisitNumber\"]], proba_df], axis=1)\n",
    "sub_df.to_csv(\"../submission_0409_noProb_xgb_02.csv\", index=False)"
   ]
  },
  {
   "cell_type": "code",
   "execution_count": null,
   "metadata": {
    "collapsed": true
   },
   "outputs": [],
   "source": []
  },
  {
   "cell_type": "code",
   "execution_count": null,
   "metadata": {
    "collapsed": true
   },
   "outputs": [],
   "source": []
  }
 ],
 "metadata": {
  "kernelspec": {
   "display_name": "Python 3",
   "language": "python",
   "name": "python3"
  },
  "language_info": {
   "codemirror_mode": {
    "name": "ipython",
    "version": 3
   },
   "file_extension": ".py",
   "mimetype": "text/x-python",
   "name": "python",
   "nbconvert_exporter": "python",
   "pygments_lexer": "ipython3",
   "version": "3.6.3"
  }
 },
 "nbformat": 4,
 "nbformat_minor": 2
}
