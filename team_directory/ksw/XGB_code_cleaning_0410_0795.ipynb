{
 "cells": [
  {
   "cell_type": "code",
   "execution_count": 1,
   "metadata": {
    "collapsed": true
   },
   "outputs": [],
   "source": [
    "def check_digit(x):\n",
    "    try:\n",
    "        odd = map(int, ','.join(x[-1::-2]).split(','))\n",
    "        even = map(int, ','.join(x[-2::-2]).split(','))\n",
    "        sum_odd3 = sum(odd) * 3\n",
    "        total = sum_odd3 + sum(even)\n",
    "        rem = total % 10\n",
    "        if rem == 0:\n",
    "            return rem\n",
    "        return 10 - rem\n",
    "    except:\n",
    "        return -9999"
   ]
  },
  {
   "cell_type": "code",
   "execution_count": 2,
   "metadata": {
    "collapsed": true
   },
   "outputs": [],
   "source": [
    "def category_counts(data):\n",
    "    \"\"\"\n",
    "    Count total number of unique DepartmentDescription made on each trip.\n",
    "    \"\"\"\n",
    "    counts = []\n",
    "    for array in np.asarray(data.loc[:, \"1-HR PHOTO\":\"WIRELESS\"]):\n",
    "        count = 0\n",
    "        for item in array:\n",
    "            if item > 0:\n",
    "                count += 1\n",
    "        counts.append(count)\n",
    "    cat_counts = pd.DataFrame(counts)\n",
    "    cat_counts = cat_counts.rename(columns={0:\"CategoryCount\"})\n",
    "    cat_counts = cat_counts.set_index(data.index)\n",
    "    \n",
    "    data.insert(6, \"CategoryCounts\", cat_counts)\n",
    "    \n",
    "    return data"
   ]
  },
  {
   "cell_type": "code",
   "execution_count": 3,
   "metadata": {
    "collapsed": true
   },
   "outputs": [],
   "source": [
    "def company(x):\n",
    "    try:\n",
    "        p = x[:6]\n",
    "        if p == \"000000\":\n",
    "            return x[-5]\n",
    "        return p\n",
    "    except:\n",
    "        return -9999\n",
    "    \n",
    "def float_to_str(obj):\n",
    "    while obj != \"nan\":\n",
    "        obj = str(obj).split(\".\")[0]\n",
    "        return obj"
   ]
  },
  {
   "cell_type": "code",
   "execution_count": 4,
   "metadata": {
    "collapsed": true
   },
   "outputs": [],
   "source": [
    "from collections import Counter\n",
    "def mode(x):\n",
    "    counts = Counter(x)\n",
    "    max_count = max(counts.values())\n",
    "    ls = [x_i for x_i, count in counts.items() if count == max_count]\n",
    "    return ls[0]"
   ]
  },
  {
   "cell_type": "code",
   "execution_count": 49,
   "metadata": {
    "collapsed": true
   },
   "outputs": [],
   "source": [
    "train = pd.read_csv('../dataset/train.csv')\n",
    "test = pd.read_csv('../dataset/test.csv')"
   ]
  },
  {
   "cell_type": "code",
   "execution_count": 50,
   "metadata": {
    "collapsed": true
   },
   "outputs": [],
   "source": [
    "train[\"Upc\"] = train.Upc.apply(float_to_str)\n",
    "test[\"Upc\"] = test.Upc.apply(float_to_str)\n",
    "\n",
    "train[\"company\"] = train.Upc.apply(company) \n",
    "test[\"company\"] = test.Upc.apply(company)"
   ]
  },
  {
   "cell_type": "code",
   "execution_count": 51,
   "metadata": {
    "collapsed": true
   },
   "outputs": [],
   "source": [
    "train.loc[train[\"ScanCount\"] < 0, \"Return\"] = 1\n",
    "train.loc[train[\"Return\"] != 1, \"Return\"] = 0\n",
    "\n",
    "test.loc[test[\"ScanCount\"] < 0, \"Return\"] = 1\n",
    "test.loc[test[\"Return\"] != 1, \"Return\"] = 0"
   ]
  },
  {
   "cell_type": "code",
   "execution_count": 52,
   "metadata": {
    "collapsed": true
   },
   "outputs": [],
   "source": [
    "wd = {\"Monday\": 0, \"Tuesday\": 1, \"Wednesday\": 2, \"Thursday\": 3, \n",
    "      \"Friday\": 4, \"Saturday\": 5, \"Sunday\": 6}\n",
    "\n",
    "train[\"Weekday\"] = train[\"Weekday\"].apply(lambda x: wd[x])\n",
    "test[\"Weekday\"] = test[\"Weekday\"].apply(lambda x: wd[x])"
   ]
  },
  {
   "cell_type": "code",
   "execution_count": 53,
   "metadata": {
    "collapsed": true
   },
   "outputs": [],
   "source": [
    "train[\"Pos_Sum\"] = train[\"ScanCount\"]\n",
    "test[\"Pos_Sum\"] = test[\"ScanCount\"]\n",
    "\n",
    "train.loc[train[\"Pos_Sum\"] < 0, \"Pos_Sum\"] = 0\n",
    "test.loc[test[\"Pos_Sum\"] < 0, \"Pos_Sum\"] = 0"
   ]
  },
  {
   "cell_type": "code",
   "execution_count": 54,
   "metadata": {
    "collapsed": true
   },
   "outputs": [],
   "source": [
    "train[\"Neg_Sum\"] = train[\"ScanCount\"]\n",
    "test[\"Neg_Sum\"] = test[\"ScanCount\"]\n",
    "\n",
    "train.loc[train[\"Neg_Sum\"] > 0, \"Neg_Sum\"] = 0\n",
    "test.loc[test[\"Neg_Sum\"] > 0, \"Neg_Sum\"] = 0"
   ]
  },
  {
   "cell_type": "code",
   "execution_count": 55,
   "metadata": {
    "collapsed": true
   },
   "outputs": [],
   "source": [
    "train[\"check\"] = train.Upc.apply(check_digit)\n",
    "test[\"check\"] = test.Upc.apply(check_digit)"
   ]
  },
  {
   "cell_type": "code",
   "execution_count": 56,
   "metadata": {
    "collapsed": true
   },
   "outputs": [],
   "source": [
    "# new feature\n",
    "\n",
    "train_finline = train[[\"VisitNumber\", \"FinelineNumber\"]]\n",
    "test_finline = test[[\"VisitNumber\", \"FinelineNumber\"]]\n",
    "\n",
    "train_finline = train_finline.groupby(\"VisitNumber\", as_index=False).agg(mode)\n",
    "test_finline = test_finline.groupby(\"VisitNumber\", as_index=False).agg(mode)"
   ]
  },
  {
   "cell_type": "code",
   "execution_count": 57,
   "metadata": {
    "collapsed": true
   },
   "outputs": [],
   "source": [
    "train = train.drop([\"Upc\", \"FinelineNumber\"], axis=1)\n",
    "test = test.drop([\"Upc\", \"FinelineNumber\"], axis=1)"
   ]
  },
  {
   "cell_type": "code",
   "execution_count": 58,
   "metadata": {
    "collapsed": true
   },
   "outputs": [],
   "source": [
    "train_dd = pd.get_dummies(train[\"DepartmentDescription\"])\n",
    "test_dd = pd.get_dummies(test[\"DepartmentDescription\"])\n",
    "\n",
    "train_dd = pd.concat([train[[\"VisitNumber\"]], train_dd], axis=1)\n",
    "test_dd = pd.concat([test[[\"VisitNumber\"]], test_dd], axis=1)\n",
    "\n",
    "train_dd = train_dd.groupby(\"VisitNumber\", as_index=False).sum()\n",
    "test_dd = test_dd.groupby(\"VisitNumber\", as_index=False).sum()"
   ]
  },
  {
   "cell_type": "code",
   "execution_count": 59,
   "metadata": {},
   "outputs": [
    {
     "data": {
      "text/plain": [
       "((95674, 69), (95674, 68))"
      ]
     },
     "execution_count": 59,
     "metadata": {},
     "output_type": "execute_result"
    }
   ],
   "source": [
    "train_dd.shape, test_dd.shape"
   ]
  },
  {
   "cell_type": "code",
   "execution_count": 60,
   "metadata": {
    "collapsed": true
   },
   "outputs": [],
   "source": [
    "train_company = train[[\"VisitNumber\", \"company\"]]\n",
    "test_company = test[[\"VisitNumber\", \"company\"]]"
   ]
  },
  {
   "cell_type": "code",
   "execution_count": 61,
   "metadata": {
    "collapsed": true
   },
   "outputs": [],
   "source": [
    "train_company = train_company.groupby(\"VisitNumber\", as_index=False).agg(mode)\n",
    "test_company = test_company.groupby(\"VisitNumber\", as_index=False).agg(mode)"
   ]
  },
  {
   "cell_type": "code",
   "execution_count": 62,
   "metadata": {},
   "outputs": [
    {
     "data": {
      "text/plain": [
       "((95674, 2), (95674, 2))"
      ]
     },
     "execution_count": 62,
     "metadata": {},
     "output_type": "execute_result"
    }
   ],
   "source": [
    "train_company.shape, test_company.shape"
   ]
  },
  {
   "cell_type": "code",
   "execution_count": 63,
   "metadata": {},
   "outputs": [],
   "source": [
    "train_check = train[[\"VisitNumber\", \"check\"]]\n",
    "test_check = test[[\"VisitNumber\", \"check\"]]\n",
    "\n",
    "train_check = train_check.groupby(\"VisitNumber\", as_index=False).agg(mode)\n",
    "test_check = test_check.groupby(\"VisitNumber\", as_index=False).agg(mode)"
   ]
  },
  {
   "cell_type": "code",
   "execution_count": 64,
   "metadata": {
    "collapsed": true
   },
   "outputs": [],
   "source": [
    "train_by_sum = train[[\"VisitNumber\", \"ScanCount\", \"Pos_Sum\", \"Neg_Sum\"]]\n",
    "test_by_sum = test[[\"VisitNumber\", \"ScanCount\", \"Pos_Sum\", \"Neg_Sum\"]]\n",
    "\n",
    "train_by_max = train[[\"TripType\", \"VisitNumber\", \"Weekday\", \"Return\"]]\n",
    "test_by_max = test[[\"VisitNumber\", \"Weekday\", \"Return\"]]"
   ]
  },
  {
   "cell_type": "code",
   "execution_count": 65,
   "metadata": {
    "collapsed": true
   },
   "outputs": [],
   "source": [
    "train_by_sum = train_by_sum.groupby(\"VisitNumber\", as_index=False).sum()\n",
    "test_by_sum = test_by_sum.groupby(\"VisitNumber\", as_index=False).sum()\n",
    "\n",
    "train_by_max = train_by_max.groupby(\"VisitNumber\", as_index=False).max()\n",
    "test_by_max = test_by_max.groupby(\"VisitNumber\", as_index=False).max()"
   ]
  },
  {
   "cell_type": "code",
   "execution_count": 66,
   "metadata": {
    "collapsed": true
   },
   "outputs": [],
   "source": [
    "train = train_by_sum.merge(train_by_max, on=[\"VisitNumber\"])\n",
    "train = train.merge(train_dd, on=[\"VisitNumber\"])\n",
    "train = train.merge(train_company, on=[\"VisitNumber\"])\n",
    "train = train.merge(train_check, on=[\"VisitNumber\"])\n",
    "train = train.merge(train_finline, on=[\"VisitNumber\"])\n",
    "\n",
    "test = test_by_sum.merge(test_by_max, on=[\"VisitNumber\"])\n",
    "test = test.merge(test_dd, on=[\"VisitNumber\"])\n",
    "test = test.merge(test_company, on=[\"VisitNumber\"])\n",
    "test = test.merge(test_check, on=[\"VisitNumber\"])\n",
    "test = test.merge(test_finline, on=[\"VisitNumber\"])"
   ]
  },
  {
   "cell_type": "code",
   "execution_count": 67,
   "metadata": {
    "collapsed": true
   },
   "outputs": [],
   "source": [
    "y = train[\"TripType\"]\n",
    "train = train.drop([\"TripType\", \"HEALTH AND BEAUTY AIDS\"], axis=1)"
   ]
  },
  {
   "cell_type": "code",
   "execution_count": 68,
   "metadata": {
    "collapsed": true
   },
   "outputs": [],
   "source": [
    "train = category_counts(train)\n",
    "test = category_counts(test)"
   ]
  },
  {
   "cell_type": "code",
   "execution_count": 69,
   "metadata": {
    "collapsed": true
   },
   "outputs": [],
   "source": [
    "train = pd.get_dummies(train, columns=[\"Weekday\", \"Return\"])\n",
    "test = pd.get_dummies(test, columns=[\"Weekday\", \"Return\"])"
   ]
  },
  {
   "cell_type": "code",
   "execution_count": 70,
   "metadata": {},
   "outputs": [
    {
     "data": {
      "text/plain": [
       "((95674, 84), (95674, 84))"
      ]
     },
     "execution_count": 70,
     "metadata": {},
     "output_type": "execute_result"
    }
   ],
   "source": [
    "train.shape, test.shape"
   ]
  },
  {
   "cell_type": "code",
   "execution_count": 71,
   "metadata": {
    "collapsed": true
   },
   "outputs": [],
   "source": [
    "import xgboost as xgb\n",
    "from sklearn.model_selection import train_test_split\n",
    "from sklearn.model_selection import GridSearchCV\n",
    "from sklearn.preprocessing import LabelEncoder"
   ]
  },
  {
   "cell_type": "code",
   "execution_count": 72,
   "metadata": {
    "collapsed": true
   },
   "outputs": [],
   "source": [
    "label_enc = LabelEncoder().fit(y)\n",
    "y_labeled = label_enc.transform(y)"
   ]
  },
  {
   "cell_type": "code",
   "execution_count": 73,
   "metadata": {
    "collapsed": true
   },
   "outputs": [],
   "source": [
    "X_train, X_test, y_train, y_test = train_test_split(\n",
    "    train, y_labeled, random_state=0)"
   ]
  },
  {
   "cell_type": "code",
   "execution_count": 74,
   "metadata": {
    "collapsed": true
   },
   "outputs": [],
   "source": [
    "dtrain = xgb.DMatrix(X_train.values, label=y_train)\n",
    "dtest = xgb.DMatrix(X_test.values, label=y_test)"
   ]
  },
  {
   "cell_type": "code",
   "execution_count": 75,
   "metadata": {
    "scrolled": false
   },
   "outputs": [
    {
     "name": "stdout",
     "output_type": "stream",
     "text": [
      "[0]\ttrain-mlogloss:2.93718\teval-mlogloss:2.94811\n",
      "Multiple eval metrics have been passed: 'eval-mlogloss' will be used for early stopping.\n",
      "\n",
      "Will train until eval-mlogloss hasn't improved in 10 rounds.\n",
      "[1]\ttrain-mlogloss:2.34655\teval-mlogloss:2.37364\n",
      "[2]\ttrain-mlogloss:1.91672\teval-mlogloss:1.95882\n",
      "[3]\ttrain-mlogloss:1.66024\teval-mlogloss:1.71307\n",
      "[4]\ttrain-mlogloss:1.48408\teval-mlogloss:1.54586\n",
      "[5]\ttrain-mlogloss:1.35201\teval-mlogloss:1.42261\n",
      "[6]\ttrain-mlogloss:1.24889\teval-mlogloss:1.32703\n",
      "[7]\ttrain-mlogloss:1.16725\teval-mlogloss:1.25205\n",
      "[8]\ttrain-mlogloss:1.09925\teval-mlogloss:1.1905\n",
      "[9]\ttrain-mlogloss:1.04226\teval-mlogloss:1.14017\n",
      "[10]\ttrain-mlogloss:0.993963\teval-mlogloss:1.0976\n",
      "[11]\ttrain-mlogloss:0.953469\teval-mlogloss:1.06252\n",
      "[12]\ttrain-mlogloss:0.917871\teval-mlogloss:1.03283\n",
      "[13]\ttrain-mlogloss:0.886949\teval-mlogloss:1.00752\n",
      "[14]\ttrain-mlogloss:0.860013\teval-mlogloss:0.98622\n",
      "[15]\ttrain-mlogloss:0.836583\teval-mlogloss:0.967776\n",
      "[16]\ttrain-mlogloss:0.815249\teval-mlogloss:0.951485\n",
      "[17]\ttrain-mlogloss:0.795353\teval-mlogloss:0.936685\n",
      "[18]\ttrain-mlogloss:0.778032\teval-mlogloss:0.924208\n",
      "[19]\ttrain-mlogloss:0.762187\teval-mlogloss:0.91311\n",
      "[20]\ttrain-mlogloss:0.747887\teval-mlogloss:0.903495\n",
      "[21]\ttrain-mlogloss:0.732311\teval-mlogloss:0.892188\n",
      "[22]\ttrain-mlogloss:0.720265\teval-mlogloss:0.884768\n",
      "[23]\ttrain-mlogloss:0.708034\teval-mlogloss:0.877209\n",
      "[24]\ttrain-mlogloss:0.697721\teval-mlogloss:0.871333\n",
      "[25]\ttrain-mlogloss:0.687549\teval-mlogloss:0.865513\n",
      "[26]\ttrain-mlogloss:0.677951\teval-mlogloss:0.86037\n",
      "[27]\ttrain-mlogloss:0.669347\teval-mlogloss:0.855618\n",
      "[28]\ttrain-mlogloss:0.660847\teval-mlogloss:0.851376\n",
      "[29]\ttrain-mlogloss:0.652669\teval-mlogloss:0.847523\n",
      "[30]\ttrain-mlogloss:0.644747\teval-mlogloss:0.843581\n",
      "[31]\ttrain-mlogloss:0.636924\teval-mlogloss:0.83953\n",
      "[32]\ttrain-mlogloss:0.6307\teval-mlogloss:0.836799\n",
      "[33]\ttrain-mlogloss:0.624478\teval-mlogloss:0.834374\n",
      "[34]\ttrain-mlogloss:0.618209\teval-mlogloss:0.831757\n",
      "[35]\ttrain-mlogloss:0.612426\teval-mlogloss:0.829367\n",
      "[36]\ttrain-mlogloss:0.607034\teval-mlogloss:0.826878\n",
      "[37]\ttrain-mlogloss:0.601511\teval-mlogloss:0.824816\n",
      "[38]\ttrain-mlogloss:0.595724\teval-mlogloss:0.822708\n",
      "[39]\ttrain-mlogloss:0.590943\teval-mlogloss:0.82068\n",
      "[40]\ttrain-mlogloss:0.586175\teval-mlogloss:0.819022\n",
      "[41]\ttrain-mlogloss:0.581338\teval-mlogloss:0.817275\n",
      "[42]\ttrain-mlogloss:0.57692\teval-mlogloss:0.815438\n",
      "[43]\ttrain-mlogloss:0.572303\teval-mlogloss:0.813848\n",
      "[44]\ttrain-mlogloss:0.567588\teval-mlogloss:0.812521\n",
      "[45]\ttrain-mlogloss:0.563514\teval-mlogloss:0.811391\n",
      "[46]\ttrain-mlogloss:0.559527\teval-mlogloss:0.810296\n",
      "[47]\ttrain-mlogloss:0.555053\teval-mlogloss:0.808626\n",
      "[48]\ttrain-mlogloss:0.55081\teval-mlogloss:0.80723\n",
      "[49]\ttrain-mlogloss:0.546299\teval-mlogloss:0.805679\n",
      "[50]\ttrain-mlogloss:0.542836\teval-mlogloss:0.804642\n",
      "[51]\ttrain-mlogloss:0.538947\teval-mlogloss:0.804074\n",
      "[52]\ttrain-mlogloss:0.534509\teval-mlogloss:0.802675\n",
      "[53]\ttrain-mlogloss:0.530813\teval-mlogloss:0.801935\n",
      "[54]\ttrain-mlogloss:0.527714\teval-mlogloss:0.801358\n",
      "[55]\ttrain-mlogloss:0.524637\teval-mlogloss:0.800619\n",
      "[56]\ttrain-mlogloss:0.521304\teval-mlogloss:0.799973\n",
      "[57]\ttrain-mlogloss:0.517454\teval-mlogloss:0.798516\n",
      "[58]\ttrain-mlogloss:0.514728\teval-mlogloss:0.798089\n",
      "[59]\ttrain-mlogloss:0.51148\teval-mlogloss:0.797686\n",
      "[60]\ttrain-mlogloss:0.508267\teval-mlogloss:0.79736\n",
      "[61]\ttrain-mlogloss:0.5052\teval-mlogloss:0.796831\n",
      "[62]\ttrain-mlogloss:0.502214\teval-mlogloss:0.796023\n",
      "[63]\ttrain-mlogloss:0.498983\teval-mlogloss:0.795288\n",
      "[64]\ttrain-mlogloss:0.495916\teval-mlogloss:0.794708\n",
      "[65]\ttrain-mlogloss:0.492931\teval-mlogloss:0.79417\n",
      "[66]\ttrain-mlogloss:0.489966\teval-mlogloss:0.793812\n",
      "[67]\ttrain-mlogloss:0.487358\teval-mlogloss:0.793408\n",
      "[68]\ttrain-mlogloss:0.484558\teval-mlogloss:0.793061\n",
      "[69]\ttrain-mlogloss:0.48155\teval-mlogloss:0.792727\n",
      "[70]\ttrain-mlogloss:0.478627\teval-mlogloss:0.792543\n",
      "[71]\ttrain-mlogloss:0.475961\teval-mlogloss:0.792271\n",
      "[72]\ttrain-mlogloss:0.472564\teval-mlogloss:0.791721\n",
      "[73]\ttrain-mlogloss:0.470029\teval-mlogloss:0.791464\n",
      "[74]\ttrain-mlogloss:0.466597\teval-mlogloss:0.791067\n",
      "[75]\ttrain-mlogloss:0.464166\teval-mlogloss:0.790939\n",
      "[76]\ttrain-mlogloss:0.461737\teval-mlogloss:0.790901\n",
      "[77]\ttrain-mlogloss:0.459386\teval-mlogloss:0.790795\n",
      "[78]\ttrain-mlogloss:0.457284\teval-mlogloss:0.790599\n",
      "[79]\ttrain-mlogloss:0.454679\teval-mlogloss:0.790045\n",
      "[80]\ttrain-mlogloss:0.451578\teval-mlogloss:0.789302\n",
      "[81]\ttrain-mlogloss:0.448463\teval-mlogloss:0.788898\n",
      "[82]\ttrain-mlogloss:0.445544\teval-mlogloss:0.788822\n",
      "[83]\ttrain-mlogloss:0.443333\teval-mlogloss:0.788634\n",
      "[84]\ttrain-mlogloss:0.441285\teval-mlogloss:0.788472\n",
      "[85]\ttrain-mlogloss:0.438757\teval-mlogloss:0.788176\n",
      "[86]\ttrain-mlogloss:0.436774\teval-mlogloss:0.787888\n",
      "[87]\ttrain-mlogloss:0.434475\teval-mlogloss:0.787813\n",
      "[88]\ttrain-mlogloss:0.432546\teval-mlogloss:0.787705\n",
      "[89]\ttrain-mlogloss:0.430415\teval-mlogloss:0.787613\n",
      "[90]\ttrain-mlogloss:0.428189\teval-mlogloss:0.787442\n",
      "[91]\ttrain-mlogloss:0.426156\teval-mlogloss:0.78728\n",
      "[92]\ttrain-mlogloss:0.42391\teval-mlogloss:0.787322\n",
      "[93]\ttrain-mlogloss:0.421569\teval-mlogloss:0.787064\n",
      "[94]\ttrain-mlogloss:0.419593\teval-mlogloss:0.786905\n",
      "[95]\ttrain-mlogloss:0.417456\teval-mlogloss:0.786689\n",
      "[96]\ttrain-mlogloss:0.414768\teval-mlogloss:0.786056\n",
      "[97]\ttrain-mlogloss:0.412399\teval-mlogloss:0.785703\n",
      "[98]\ttrain-mlogloss:0.410179\teval-mlogloss:0.785427\n",
      "[99]\ttrain-mlogloss:0.408057\teval-mlogloss:0.785332\n",
      "[100]\ttrain-mlogloss:0.406071\teval-mlogloss:0.785254\n",
      "[101]\ttrain-mlogloss:0.404163\teval-mlogloss:0.785263\n",
      "[102]\ttrain-mlogloss:0.402123\teval-mlogloss:0.785306\n",
      "[103]\ttrain-mlogloss:0.400468\teval-mlogloss:0.78543\n",
      "[104]\ttrain-mlogloss:0.398563\teval-mlogloss:0.785351\n",
      "[105]\ttrain-mlogloss:0.396454\teval-mlogloss:0.785374\n",
      "[106]\ttrain-mlogloss:0.394144\teval-mlogloss:0.785066\n",
      "[107]\ttrain-mlogloss:0.392159\teval-mlogloss:0.785233\n",
      "[108]\ttrain-mlogloss:0.390505\teval-mlogloss:0.785158\n",
      "[109]\ttrain-mlogloss:0.388639\teval-mlogloss:0.785146\n",
      "[110]\ttrain-mlogloss:0.386259\teval-mlogloss:0.785095\n",
      "[111]\ttrain-mlogloss:0.384252\teval-mlogloss:0.785032\n",
      "[112]\ttrain-mlogloss:0.382135\teval-mlogloss:0.784936\n",
      "[113]\ttrain-mlogloss:0.380136\teval-mlogloss:0.784995\n",
      "[114]\ttrain-mlogloss:0.378252\teval-mlogloss:0.785202\n",
      "[115]\ttrain-mlogloss:0.376274\teval-mlogloss:0.78512\n",
      "[116]\ttrain-mlogloss:0.374607\teval-mlogloss:0.785113\n",
      "[117]\ttrain-mlogloss:0.372905\teval-mlogloss:0.785082\n",
      "[118]\ttrain-mlogloss:0.371105\teval-mlogloss:0.785175\n",
      "[119]\ttrain-mlogloss:0.369166\teval-mlogloss:0.785514\n",
      "[120]\ttrain-mlogloss:0.367263\teval-mlogloss:0.785587\n",
      "[121]\ttrain-mlogloss:0.365573\teval-mlogloss:0.78551\n",
      "[122]\ttrain-mlogloss:0.363687\teval-mlogloss:0.785639\n",
      "Stopping. Best iteration:\n",
      "[112]\ttrain-mlogloss:0.382135\teval-mlogloss:0.784936\n",
      "\n"
     ]
    }
   ],
   "source": [
    "num_boost_round = 300\n",
    "params = {'objective': 'multi:softprob', \n",
    "          'eval_metric': 'mlogloss',\n",
    "          'num_class':38, \n",
    "          'max_delta_step': 3, \n",
    "          'eta': 0.25}\n",
    "\n",
    "evals = [(dtrain, 'train'), (dtest, 'eval')]\n",
    "\n",
    "\n",
    "bst = xgb.train(params=params,  \n",
    "                dtrain=dtrain, \n",
    "                num_boost_round=num_boost_round, \n",
    "                evals=evals,\n",
    "               early_stopping_rounds=10,)"
   ]
  },
  {
   "cell_type": "code",
   "execution_count": 76,
   "metadata": {
    "collapsed": true
   },
   "outputs": [],
   "source": [
    "classes = np.array(list(set(label_enc.inverse_transform(y_labeled))))"
   ]
  },
  {
   "cell_type": "code",
   "execution_count": 77,
   "metadata": {
    "collapsed": true
   },
   "outputs": [],
   "source": [
    "dmtest = xgb.DMatrix(test.values) \n",
    "pred_proba = bst.predict(dmtest)\n",
    "\n",
    "proba_df = pd.DataFrame(pred_proba, columns=classes)\n",
    "proba_df.columns = proba_df.columns.map(lambda x: \"TripType_\" + str(x))\n",
    "sub_df = pd.concat([test[[\"VisitNumber\"]], proba_df], axis=1)\n",
    "sub_df.to_csv(\"../submission_0410_noProb_xgb_04.csv\", index=False)"
   ]
  },
  {
   "cell_type": "code",
   "execution_count": null,
   "metadata": {
    "collapsed": true
   },
   "outputs": [],
   "source": []
  }
 ],
 "metadata": {
  "kernelspec": {
   "display_name": "Python 3",
   "language": "python",
   "name": "python3"
  },
  "language_info": {
   "codemirror_mode": {
    "name": "ipython",
    "version": 3
   },
   "file_extension": ".py",
   "mimetype": "text/x-python",
   "name": "python",
   "nbconvert_exporter": "python",
   "pygments_lexer": "ipython3",
   "version": "3.6.3"
  }
 },
 "nbformat": 4,
 "nbformat_minor": 2
}
