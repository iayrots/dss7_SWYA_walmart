{
 "cells": [
  {
   "cell_type": "markdown",
   "metadata": {},
   "source": [
    "##### Fast Campus Data Science School 7th Team Project 2"
   ]
  },
  {
   "cell_type": "markdown",
   "metadata": {},
   "source": [
    "# Walmart : Triptype Classification"
   ]
  },
  {
   "cell_type": "markdown",
   "metadata": {},
   "source": [
    "<img src=\"data/walmart.jpg\">"
   ]
  },
  {
   "cell_type": "markdown",
   "metadata": {},
   "source": [
    "# [ Overview ]\n",
    "\n",
    "### (1) Team : SWYA \n",
    "> - 김선웅 [팀원]\n",
    "> - 서원영 [팀원]\n",
    "> - 백윤아 [팀장]\n",
    "\n",
    "### (2) Dataset : \n",
    "> #### Walmart Shopping Records\n",
    "\n",
    "### (3) Objective : \n",
    "> #### 각 고객의 구매정보에 따른 구매 건의 Type을 분류\n",
    "\n",
    "# [Data Description]\n",
    "\n",
    "> #### train : 647054 rows, 7 columns\n",
    "> #### test : 653646 rows, 6 columns\n",
    "> - 타겟값 TripType을 제외한 동일한 특성의 컬럼\n",
    "\n",
    "| Index | Feature               | Description                                  | Unique |\n",
    "|-------|-----------------------|----------------------------------------------|--------|\n",
    "| 1     | TripType              | Target                                       | 38     |\n",
    "| 2     | VisitNumber           | 각 손님의 Index                              | 95674  |\n",
    "| 3     | Weekday               | VisitNumber가 발생한 요일                    | 7      |\n",
    "| 4     | Upc                   | 구매한 제품의 고유한 바코드                  | 97715  |\n",
    "| 5     | ScanCount             | 구매 수량 ( 반품 시 - 값으로 표기 )          | 39     |\n",
    "| 6     | DepartmentDescription | 제품의 대분류                                | 69     |\n",
    "| 7     | FinelineNumber        | 월마트 자체적으로 정의 한 제품의 소분류 코드 | 5196   |\n",
    "\n",
    "> #### UPC code description\n",
    "- Check Digit : 숫자가 정확하게 구성되어 있는가를 보장해주는 컴퓨터 검증 숫자. UPC의 신뢰도를 검증\n",
    "\n",
    "<img src=\"data/upc.png\">\n",
    "\n",
    "\n",
    "\n",
    "<br>\n",
    "\n",
    "\n",
    "\n",
    "\n",
    "\n",
    "<br>\n",
    "\n",
    "# [Evaluation]\n",
    "> ### Multi-class log loss (Cross Entropy)\n",
    "> $$-\\frac{1}{N}\\sum_{i=1}^N\\sum_{j=1}^My_{ij}\\log(p_{ij})$$\n",
    "- $N$ : the number of visits in the test set\n",
    "- $M$ : the number of trip types\n",
    "- $\\log$ : natural logarithm\n",
    "- $y_{ij}$ : 1 if observation i is of class j and 0 otherwise\n",
    "- $p_{ij}$ : the predicted probability that observation i belongs to class j"
   ]
  },
  {
   "cell_type": "markdown",
   "metadata": {},
   "source": [
    "# [Contents]\n",
    "\n",
    "### (1) EDA & Preprocessing\n",
    "> - Missing Values\n",
    "> - Encoding Weekday \n",
    "> - Uneven Distribution of TripType\n",
    "> - Most Frequent & Least Frequent TripType\n",
    "\n",
    "### (2) Feature Engineering\n",
    "> - UPC decoding\n",
    "> - ScanCount seperation\n",
    "> - Feature encoding\n",
    "> - Dummy variables\n",
    "> - Identifing the most frequently purchased items per VisitNumber\n",
    "\n",
    "### (3) Modeling\n",
    "> - RandomForest\n",
    "> - XGBoost\n",
    "\n",
    "### (4) Results\n",
    "> - Logarithmic loss : 0.78259\n",
    "> - Accuracy score : 73.68%\n",
    "> - Feature Importance Top 20\n",
    "\n",
    "### (5) Kaggle Submission\n",
    "> - Total Teams : 1,047 teams \n",
    "> - Final Score : 0.79154\n",
    "> - Leaderboard : 294 / 1,047 (Top 30%)\n"
   ]
  },
  {
   "cell_type": "markdown",
   "metadata": {},
   "source": [
    "* * * *"
   ]
  },
  {
   "cell_type": "markdown",
   "metadata": {},
   "source": [
    "## (1) EDA & Preprocessing"
   ]
  },
  {
   "cell_type": "code",
   "execution_count": 1,
   "metadata": {},
   "outputs": [],
   "source": [
    "import numpy as np\n",
    "import pandas as pd\n",
    "import matplotlib as mpl\n",
    "import matplotlib.pyplot as plt\n",
    "import seaborn as sns\n",
    "\n",
    "from walmart_utils import *\n",
    "\n",
    "train = pd.read_csv(\"data/train.csv\")\n",
    "test = pd.read_csv(\"data/test.csv\")"
   ]
  },
  {
   "cell_type": "code",
   "execution_count": 2,
   "metadata": {},
   "outputs": [
    {
     "data": {
      "text/html": [
       "<div>\n",
       "<style scoped>\n",
       "    .dataframe tbody tr th:only-of-type {\n",
       "        vertical-align: middle;\n",
       "    }\n",
       "\n",
       "    .dataframe tbody tr th {\n",
       "        vertical-align: top;\n",
       "    }\n",
       "\n",
       "    .dataframe thead th {\n",
       "        text-align: right;\n",
       "    }\n",
       "</style>\n",
       "<table border=\"1\" class=\"dataframe\">\n",
       "  <thead>\n",
       "    <tr style=\"text-align: right;\">\n",
       "      <th></th>\n",
       "      <th>TripType</th>\n",
       "      <th>VisitNumber</th>\n",
       "      <th>Weekday</th>\n",
       "      <th>Upc</th>\n",
       "      <th>ScanCount</th>\n",
       "      <th>DepartmentDescription</th>\n",
       "      <th>FinelineNumber</th>\n",
       "    </tr>\n",
       "  </thead>\n",
       "  <tbody>\n",
       "    <tr>\n",
       "      <th>647049</th>\n",
       "      <td>39</td>\n",
       "      <td>191346</td>\n",
       "      <td>Sunday</td>\n",
       "      <td>3.239000e+10</td>\n",
       "      <td>1</td>\n",
       "      <td>PHARMACY OTC</td>\n",
       "      <td>1118.0</td>\n",
       "    </tr>\n",
       "    <tr>\n",
       "      <th>647050</th>\n",
       "      <td>39</td>\n",
       "      <td>191346</td>\n",
       "      <td>Sunday</td>\n",
       "      <td>7.874205e+09</td>\n",
       "      <td>1</td>\n",
       "      <td>FROZEN FOODS</td>\n",
       "      <td>1752.0</td>\n",
       "    </tr>\n",
       "    <tr>\n",
       "      <th>647051</th>\n",
       "      <td>39</td>\n",
       "      <td>191346</td>\n",
       "      <td>Sunday</td>\n",
       "      <td>4.072000e+03</td>\n",
       "      <td>1</td>\n",
       "      <td>PRODUCE</td>\n",
       "      <td>4170.0</td>\n",
       "    </tr>\n",
       "    <tr>\n",
       "      <th>647052</th>\n",
       "      <td>8</td>\n",
       "      <td>191347</td>\n",
       "      <td>Sunday</td>\n",
       "      <td>4.190008e+09</td>\n",
       "      <td>1</td>\n",
       "      <td>DAIRY</td>\n",
       "      <td>1512.0</td>\n",
       "    </tr>\n",
       "    <tr>\n",
       "      <th>647053</th>\n",
       "      <td>8</td>\n",
       "      <td>191347</td>\n",
       "      <td>Sunday</td>\n",
       "      <td>3.800060e+09</td>\n",
       "      <td>1</td>\n",
       "      <td>GROCERY DRY GOODS</td>\n",
       "      <td>3600.0</td>\n",
       "    </tr>\n",
       "  </tbody>\n",
       "</table>\n",
       "</div>"
      ],
      "text/plain": [
       "        TripType  VisitNumber Weekday           Upc  ScanCount  \\\n",
       "647049        39       191346  Sunday  3.239000e+10          1   \n",
       "647050        39       191346  Sunday  7.874205e+09          1   \n",
       "647051        39       191346  Sunday  4.072000e+03          1   \n",
       "647052         8       191347  Sunday  4.190008e+09          1   \n",
       "647053         8       191347  Sunday  3.800060e+09          1   \n",
       "\n",
       "       DepartmentDescription  FinelineNumber  \n",
       "647049          PHARMACY OTC          1118.0  \n",
       "647050          FROZEN FOODS          1752.0  \n",
       "647051               PRODUCE          4170.0  \n",
       "647052                 DAIRY          1512.0  \n",
       "647053     GROCERY DRY GOODS          3600.0  "
      ]
     },
     "execution_count": 2,
     "metadata": {},
     "output_type": "execute_result"
    }
   ],
   "source": [
    "train.tail()"
   ]
  },
  {
   "cell_type": "code",
   "execution_count": 3,
   "metadata": {},
   "outputs": [
    {
     "name": "stdout",
     "output_type": "stream",
     "text": [
      "<class 'pandas.core.frame.DataFrame'>\n",
      "RangeIndex: 647054 entries, 0 to 647053\n",
      "Data columns (total 7 columns):\n",
      "TripType                 647054 non-null int64\n",
      "VisitNumber              647054 non-null int64\n",
      "Weekday                  647054 non-null object\n",
      "Upc                      642925 non-null float64\n",
      "ScanCount                647054 non-null int64\n",
      "DepartmentDescription    645693 non-null object\n",
      "FinelineNumber           642925 non-null float64\n",
      "dtypes: float64(2), int64(3), object(2)\n",
      "memory usage: 34.6+ MB\n"
     ]
    }
   ],
   "source": [
    "train.info()"
   ]
  },
  {
   "cell_type": "markdown",
   "metadata": {},
   "source": [
    "### Missing Values"
   ]
  },
  {
   "cell_type": "code",
   "execution_count": 83,
   "metadata": {
    "scrolled": false
   },
   "outputs": [
    {
     "data": {
      "image/png": "[encoded data removed]",
      "text/plain": [
       "<matplotlib.figure.Figure at 0x1a401300f0>"
      ]
     },
     "metadata": {
      "image/png": {
       "height": 398,
       "width": 440
      }
     },
     "output_type": "display_data"
    }
   ],
   "source": [
    "plt.figure(figsize=(7, 5))\n",
    "train.isnull().sum().plot(kind='bar')\n",
    "plt.show()"
   ]
  },
  {
   "cell_type": "markdown",
   "metadata": {},
   "source": [
    "- Upc, DepartmentDescription, FinelineNumber에 Missing Values 존재\n",
    "- Upc와 FinelineNumber의 Missing Values는 동시에 나타남\n",
    "- Missing Value 제거 시 사라지는 VisitNumber 존재\n",
    "- Feature Engineering에서 VisitNumber에 대한 테이블로 변경\n",
    "- 최종 Modeling 시 NaN은 0으로 처리 "
   ]
  },
  {
   "cell_type": "markdown",
   "metadata": {},
   "source": [
    "### Encoding Weekday"
   ]
  },
  {
   "cell_type": "code",
   "execution_count": 2,
   "metadata": {},
   "outputs": [],
   "source": [
    "wd = {\"Monday\": 0, \"Tuesday\": 1, \"Wednesday\": 2, \"Thursday\": 3, \n",
    "      \"Friday\": 4, \"Saturday\": 5, \"Sunday\": 6}\n",
    "train[\"Weekday\"] = train[\"Weekday\"].apply(lambda x: wd[x])\n",
    "test[\"Weekday\"] = test[\"Weekday\"].apply(lambda x: wd[x])"
   ]
  },
  {
   "cell_type": "code",
   "execution_count": null,
   "metadata": {},
   "outputs": [],
   "source": [
    "plt.figure(figsize=(14, 3))\n",
    "\n",
    "sns.heatmap(data=pd.crosstab(train[\"Weekday\"],\n",
    "                             train[\"TripType\"], \n",
    "                             values=train[\"VisitNumber\"],\n",
    "                             aggfunc='count', \n",
    "                             normalize=\"columns\"), cmap=\"RdPu\")\n",
    "plt.yticks(range(0,7), list(wd.keys()), rotation=\"horizontal\")\n",
    "plt.title(\"Distribution of Triptype on Weekday\", fontsize=13)\n",
    "plt.show()"
   ]
  },
  {
   "cell_type": "markdown",
   "metadata": {},
   "source": [
    "- TripType 14는 월, 금/토에 많이 나타남\n",
    "- Feature에 반영 (One-Hot Encoding)"
   ]
  },
  {
   "cell_type": "markdown",
   "metadata": {},
   "source": [
    "### Uneven Distribution of TripType"
   ]
  },
  {
   "cell_type": "code",
   "execution_count": 4,
   "metadata": {},
   "outputs": [
    {
     "data": {
      "image/png": "[encoded data removed]",
      "text/plain": [
       "<Figure size 864x360 with 1 Axes>"
      ]
     },
     "metadata": {
      "image/png": {
       "height": 339,
       "width": 718
      }
     },
     "output_type": "display_data"
    }
   ],
   "source": [
    "plt.figure(figsize=(12, 5))\n",
    "\n",
    "sns.set_style('whitegrid')\n",
    "np.sort(train.TripType.unique())\n",
    "train_triptypes = train.drop_duplicates(\"VisitNumber\")\n",
    "a = train_triptypes[\"TripType\"]\n",
    "a = a.value_counts()\n",
    "a.plot(kind='bar', color=\"lightseagreen\")\n",
    "plt.title(\"Number of TripType Occurence by VisitNumber\", fontsize=13)\n",
    "plt.xlabel(\"TripType\")\n",
    "\n",
    "plt.show()"
   ]
  },
  {
   "cell_type": "code",
   "execution_count": 87,
   "metadata": {},
   "outputs": [
    {
     "data": {
      "text/plain": [
       "GROCERY DRY GOODS           32639\n",
       "DSD GROCERY                 22157\n",
       "DAIRY                       17354\n",
       "PRODUCE                     16704\n",
       "PERSONAL CARE                9911\n",
       "FROZEN FOODS                 9307\n",
       "HOUSEHOLD CHEMICALS/SUPP     8093\n",
       "COMM BREAD                   5968\n",
       "HOUSEHOLD PAPER GOODS        5712\n",
       "PHARMACY OTC                 4569\n",
       "Name: DepartmentDescription, dtype: int64"
      ]
     },
     "execution_count": 87,
     "metadata": {},
     "output_type": "execute_result"
    }
   ],
   "source": [
    "train_40 = train[train[\"TripType\"]==40]\n",
    "train_40[\"DepartmentDescription\"].value_counts()[:10]"
   ]
  },
  {
   "cell_type": "markdown",
   "metadata": {},
   "source": [
    "### Most Frequent & Least Frequent TripType"
   ]
  },
  {
   "cell_type": "code",
   "execution_count": 88,
   "metadata": {},
   "outputs": [
    {
     "data": {
      "image/png": "[encoded data removed]",
      "text/plain": [
       "<matplotlib.figure.Figure at 0x1a40149828>"
      ]
     },
     "metadata": {
      "image/png": {
       "height": 452,
       "width": 831
      }
     },
     "output_type": "display_data"
    }
   ],
   "source": [
    "fig = plt.figure(figsize=(14, 6))\n",
    "\n",
    "ax1 = fig.add_subplot(121)\n",
    "type_8 = train[train.TripType == 8]\n",
    "type_8_items = type_8[[\"TripType\",\"DepartmentDescription\"]]\n",
    "type_8_items.DepartmentDescription.value_counts().head().plot(kind=\"bar\", rot=45, \n",
    "                                        title=\"Type 8\", color=\"coral\")\n",
    "ax1 = fig.add_subplot(122)\n",
    "type_14 = train[train.TripType == 14]\n",
    "type_14_items = type_14[[\"TripType\",\"DepartmentDescription\"]]\n",
    "type_14_items.DepartmentDescription.value_counts().head().plot(kind=\"bar\", rot=45, \n",
    "                                        title=\"Type 14\", color=\"green\")\n",
    "plt.xticks(fontsize=10)\n",
    "plt.show()"
   ]
  },
  {
   "cell_type": "markdown",
   "metadata": {},
   "source": [
    "- 가장 많은 TripType과 적은 TripType에서 등장하는 DepartmentDescription의 차이 존재\n",
    "- 하나의 Department에서만 구매한 것이 아닌 여러 Department에서 구매함\n",
    "\n",
    "\n",
    "- Feature Engineering에서 DepartmentDescription Encoding과 Multi-Single Department 여부 반영 (Dummy, CategoryCounts)"
   ]
  },
  {
   "cell_type": "code",
   "execution_count": null,
   "metadata": {},
   "outputs": [],
   "source": [
    "trip_desc = pd.crosstab(train[\"TripType\"], \n",
    "                        train[\"DepartmentDescription\"], \n",
    "                        values=train[\"ScanCount\"], \n",
    "                        aggfunc=\"count\", \n",
    "                        normalize=\"index\")\n",
    "\n",
    "plt.figure(figsize=(18, 9))\n",
    "sns.heatmap(trip_desc, linecolor=\"lightgrey\", linewidths=0.02, cmap=\"RdPu\", alpha=.8)\n",
    "plt.title(\"Distrubution of DepartmentDescription on TripTypes\", fontsize=13)\n",
    "plt.show()"
   ]
  },
  {
   "cell_type": "markdown",
   "metadata": {},
   "source": [
    "- 비슷한 Department에서 물건 구매시 TripType 분류에 영향을 미치는 것으로 보임\n",
    "- 하나의 Department에서만 구매한 것이 아닌 여러 Department에서 구매함\n",
    "- 복수의 Department 방문 여부를 Feature에 반영 (CategoryCounts)"
   ]
  },
  {
   "cell_type": "code",
   "execution_count": 91,
   "metadata": {},
   "outputs": [
    {
     "data": {
      "image/png": "[encoded data removed]",
      "text/plain": [
       "<matplotlib.figure.Figure at 0x1a2d960898>"
      ]
     },
     "metadata": {
      "image/png": {
       "height": 426,
       "width": 865
      }
     },
     "output_type": "display_data"
    }
   ],
   "source": [
    "train_plot = train[[\"TripType\", \"ScanCount\"]]\n",
    "plot_grouped = train_plot.groupby(\"TripType\", as_index=False).sum()\n",
    "\n",
    "f, (ax, ax2) = plt.subplots(2, 1, sharex=True, figsize=(14, 7))\n",
    "sns.barplot(x=\"TripType\", y=\"ScanCount\", data=plot_grouped, ax=ax)\n",
    "sns.barplot(x=\"TripType\", y=\"ScanCount\", data=plot_grouped, ax=ax2)\n",
    "\n",
    "ax.set_ylim(80000, 210000)\n",
    "ax2.set_ylim(-2000, 2000)\n",
    "ax.xaxis.label.set_visible(False)\n",
    "ax.yaxis.label.set_visible(False)\n",
    "ax2.yaxis.label.set_visible(False)\n",
    "\n",
    "f.text(0.06, 0.5, 'ScanCount', va='center', rotation='vertical')\n",
    "\n",
    "ax.spines['bottom'].set_visible(False)\n",
    "ax2.spines['top'].set_visible(False)\n",
    "ax.xaxis.tick_top()\n",
    "ax.tick_params(labeltop='off')  # don't put tick labels at the top\n",
    "ax2.xaxis.tick_bottom()\n",
    "\n",
    "d = .005\n",
    "\n",
    "kwargs = dict(transform=ax.transAxes, color='k', clip_on=False)\n",
    "ax.plot((-d, +d), (-d, +d), **kwargs)        \n",
    "ax.plot((1 - d, 1 + d), (-d, +d), **kwargs)  \n",
    "\n",
    "kwargs.update(transform=ax2.transAxes) \n",
    "ax2.plot((-d, +d), (1 - d, 1 + d), **kwargs)\n",
    "ax2.plot((1 - d, 1 + d), (1 - d, 1 + d), **kwargs) \n",
    "\n",
    "plt.show()"
   ]
  },
  {
   "cell_type": "markdown",
   "metadata": {},
   "source": [
    "- TripType 999는 반품을 위한 방문이라고 생각됨\n",
    "- Return 여부를 Feature에 반영 (Return)\n",
    "- ScanCount를 실제 판매수량과 반품으로 나누어서 Feature에 반영 (Pos_Sum, Neg_Sum)"
   ]
  },
  {
   "cell_type": "markdown",
   "metadata": {},
   "source": [
    "## (2) Feature Engineering"
   ]
  },
  {
   "cell_type": "markdown",
   "metadata": {},
   "source": [
    "### Decode company code from UPC"
   ]
  },
  {
   "cell_type": "code",
   "execution_count": 92,
   "metadata": {
    "collapsed": true
   },
   "outputs": [],
   "source": [
    "train[\"Upc\"] = train.Upc.apply(float_to_str)\n",
    "test[\"Upc\"] = test.Upc.apply(float_to_str)\n",
    "\n",
    "train[\"company\"] = train.Upc.apply(company) \n",
    "test[\"company\"] = test.Upc.apply(company)"
   ]
  },
  {
   "cell_type": "code",
   "execution_count": 93,
   "metadata": {},
   "outputs": [
    {
     "data": {
      "text/html": [
       "<div>\n",
       "<style>\n",
       "    .dataframe thead tr:only-child th {\n",
       "        text-align: right;\n",
       "    }\n",
       "\n",
       "    .dataframe thead th {\n",
       "        text-align: left;\n",
       "    }\n",
       "\n",
       "    .dataframe tbody tr th {\n",
       "        vertical-align: top;\n",
       "    }\n",
       "</style>\n",
       "<table border=\"1\" class=\"dataframe\">\n",
       "  <thead>\n",
       "    <tr style=\"text-align: right;\">\n",
       "      <th></th>\n",
       "      <th>TripType</th>\n",
       "      <th>VisitNumber</th>\n",
       "      <th>Weekday</th>\n",
       "      <th>Upc</th>\n",
       "      <th>ScanCount</th>\n",
       "      <th>DepartmentDescription</th>\n",
       "      <th>FinelineNumber</th>\n",
       "      <th>company</th>\n",
       "    </tr>\n",
       "  </thead>\n",
       "  <tbody>\n",
       "    <tr>\n",
       "      <th>0</th>\n",
       "      <td>999</td>\n",
       "      <td>5</td>\n",
       "      <td>Friday</td>\n",
       "      <td>68113152929</td>\n",
       "      <td>-1</td>\n",
       "      <td>FINANCIAL SERVICES</td>\n",
       "      <td>1000.0</td>\n",
       "      <td>681131</td>\n",
       "    </tr>\n",
       "    <tr>\n",
       "      <th>1</th>\n",
       "      <td>30</td>\n",
       "      <td>7</td>\n",
       "      <td>Friday</td>\n",
       "      <td>60538815980</td>\n",
       "      <td>1</td>\n",
       "      <td>SHOES</td>\n",
       "      <td>8931.0</td>\n",
       "      <td>605388</td>\n",
       "    </tr>\n",
       "    <tr>\n",
       "      <th>2</th>\n",
       "      <td>30</td>\n",
       "      <td>7</td>\n",
       "      <td>Friday</td>\n",
       "      <td>7410811099</td>\n",
       "      <td>1</td>\n",
       "      <td>PERSONAL CARE</td>\n",
       "      <td>4504.0</td>\n",
       "      <td>741081</td>\n",
       "    </tr>\n",
       "    <tr>\n",
       "      <th>3</th>\n",
       "      <td>26</td>\n",
       "      <td>8</td>\n",
       "      <td>Friday</td>\n",
       "      <td>2238403510</td>\n",
       "      <td>2</td>\n",
       "      <td>PAINT AND ACCESSORIES</td>\n",
       "      <td>3565.0</td>\n",
       "      <td>223840</td>\n",
       "    </tr>\n",
       "    <tr>\n",
       "      <th>4</th>\n",
       "      <td>26</td>\n",
       "      <td>8</td>\n",
       "      <td>Friday</td>\n",
       "      <td>2006613744</td>\n",
       "      <td>2</td>\n",
       "      <td>PAINT AND ACCESSORIES</td>\n",
       "      <td>1017.0</td>\n",
       "      <td>200661</td>\n",
       "    </tr>\n",
       "  </tbody>\n",
       "</table>\n",
       "</div>"
      ],
      "text/plain": [
       "   TripType  VisitNumber Weekday          Upc  ScanCount  \\\n",
       "0       999            5  Friday  68113152929         -1   \n",
       "1        30            7  Friday  60538815980          1   \n",
       "2        30            7  Friday   7410811099          1   \n",
       "3        26            8  Friday   2238403510          2   \n",
       "4        26            8  Friday   2006613744          2   \n",
       "\n",
       "   DepartmentDescription  FinelineNumber company  \n",
       "0     FINANCIAL SERVICES          1000.0  681131  \n",
       "1                  SHOES          8931.0  605388  \n",
       "2          PERSONAL CARE          4504.0  741081  \n",
       "3  PAINT AND ACCESSORIES          3565.0  223840  \n",
       "4  PAINT AND ACCESSORIES          1017.0  200661  "
      ]
     },
     "execution_count": 93,
     "metadata": {},
     "output_type": "execute_result"
    }
   ],
   "source": [
    "train.head()"
   ]
  },
  {
   "cell_type": "markdown",
   "metadata": {},
   "source": [
    "### Return Indicator"
   ]
  },
  {
   "cell_type": "code",
   "execution_count": 96,
   "metadata": {
    "collapsed": true
   },
   "outputs": [],
   "source": [
    "train.loc[train[\"ScanCount\"] < 0, \"Return\"] = 1\n",
    "train.loc[train[\"Return\"] != 1, \"Return\"] = 0\n",
    "\n",
    "test.loc[test[\"ScanCount\"] < 0, \"Return\"] = 1\n",
    "test.loc[test[\"Return\"] != 1, \"Return\"] = 0"
   ]
  },
  {
   "cell_type": "code",
   "execution_count": 97,
   "metadata": {},
   "outputs": [
    {
     "data": {
      "text/html": [
       "<div>\n",
       "<style>\n",
       "    .dataframe thead tr:only-child th {\n",
       "        text-align: right;\n",
       "    }\n",
       "\n",
       "    .dataframe thead th {\n",
       "        text-align: left;\n",
       "    }\n",
       "\n",
       "    .dataframe tbody tr th {\n",
       "        vertical-align: top;\n",
       "    }\n",
       "</style>\n",
       "<table border=\"1\" class=\"dataframe\">\n",
       "  <thead>\n",
       "    <tr style=\"text-align: right;\">\n",
       "      <th></th>\n",
       "      <th>TripType</th>\n",
       "      <th>VisitNumber</th>\n",
       "      <th>Weekday</th>\n",
       "      <th>Upc</th>\n",
       "      <th>ScanCount</th>\n",
       "      <th>DepartmentDescription</th>\n",
       "      <th>FinelineNumber</th>\n",
       "      <th>company</th>\n",
       "      <th>check</th>\n",
       "      <th>Return</th>\n",
       "    </tr>\n",
       "  </thead>\n",
       "  <tbody>\n",
       "    <tr>\n",
       "      <th>0</th>\n",
       "      <td>999</td>\n",
       "      <td>5</td>\n",
       "      <td>Friday</td>\n",
       "      <td>68113152929</td>\n",
       "      <td>-1</td>\n",
       "      <td>FINANCIAL SERVICES</td>\n",
       "      <td>1000.0</td>\n",
       "      <td>681131</td>\n",
       "      <td>7</td>\n",
       "      <td>1.0</td>\n",
       "    </tr>\n",
       "    <tr>\n",
       "      <th>1</th>\n",
       "      <td>30</td>\n",
       "      <td>7</td>\n",
       "      <td>Friday</td>\n",
       "      <td>60538815980</td>\n",
       "      <td>1</td>\n",
       "      <td>SHOES</td>\n",
       "      <td>8931.0</td>\n",
       "      <td>605388</td>\n",
       "      <td>9</td>\n",
       "      <td>0.0</td>\n",
       "    </tr>\n",
       "    <tr>\n",
       "      <th>2</th>\n",
       "      <td>30</td>\n",
       "      <td>7</td>\n",
       "      <td>Friday</td>\n",
       "      <td>7410811099</td>\n",
       "      <td>1</td>\n",
       "      <td>PERSONAL CARE</td>\n",
       "      <td>4504.0</td>\n",
       "      <td>741081</td>\n",
       "      <td>2</td>\n",
       "      <td>0.0</td>\n",
       "    </tr>\n",
       "    <tr>\n",
       "      <th>3</th>\n",
       "      <td>26</td>\n",
       "      <td>8</td>\n",
       "      <td>Friday</td>\n",
       "      <td>2238403510</td>\n",
       "      <td>2</td>\n",
       "      <td>PAINT AND ACCESSORIES</td>\n",
       "      <td>3565.0</td>\n",
       "      <td>223840</td>\n",
       "      <td>2</td>\n",
       "      <td>0.0</td>\n",
       "    </tr>\n",
       "    <tr>\n",
       "      <th>4</th>\n",
       "      <td>26</td>\n",
       "      <td>8</td>\n",
       "      <td>Friday</td>\n",
       "      <td>2006613744</td>\n",
       "      <td>2</td>\n",
       "      <td>PAINT AND ACCESSORIES</td>\n",
       "      <td>1017.0</td>\n",
       "      <td>200661</td>\n",
       "      <td>1</td>\n",
       "      <td>0.0</td>\n",
       "    </tr>\n",
       "  </tbody>\n",
       "</table>\n",
       "</div>"
      ],
      "text/plain": [
       "   TripType  VisitNumber Weekday          Upc  ScanCount  \\\n",
       "0       999            5  Friday  68113152929         -1   \n",
       "1        30            7  Friday  60538815980          1   \n",
       "2        30            7  Friday   7410811099          1   \n",
       "3        26            8  Friday   2238403510          2   \n",
       "4        26            8  Friday   2006613744          2   \n",
       "\n",
       "   DepartmentDescription  FinelineNumber company  check  Return  \n",
       "0     FINANCIAL SERVICES          1000.0  681131      7     1.0  \n",
       "1                  SHOES          8931.0  605388      9     0.0  \n",
       "2          PERSONAL CARE          4504.0  741081      2     0.0  \n",
       "3  PAINT AND ACCESSORIES          3565.0  223840      2     0.0  \n",
       "4  PAINT AND ACCESSORIES          1017.0  200661      1     0.0  "
      ]
     },
     "execution_count": 97,
     "metadata": {},
     "output_type": "execute_result"
    }
   ],
   "source": [
    "train.head()"
   ]
  },
  {
   "cell_type": "markdown",
   "metadata": {},
   "source": [
    "### Positive ScanCount (The number of sold)"
   ]
  },
  {
   "cell_type": "code",
   "execution_count": 98,
   "metadata": {
    "collapsed": true
   },
   "outputs": [],
   "source": [
    "train[\"Pos_Sum\"] = train[\"ScanCount\"]\n",
    "test[\"Pos_Sum\"] = test[\"ScanCount\"]\n",
    "\n",
    "train.loc[train[\"Pos_Sum\"] < 0, \"Pos_Sum\"] = 0\n",
    "test.loc[test[\"Pos_Sum\"] < 0, \"Pos_Sum\"] = 0"
   ]
  },
  {
   "cell_type": "code",
   "execution_count": 99,
   "metadata": {},
   "outputs": [
    {
     "data": {
      "text/html": [
       "<div>\n",
       "<style>\n",
       "    .dataframe thead tr:only-child th {\n",
       "        text-align: right;\n",
       "    }\n",
       "\n",
       "    .dataframe thead th {\n",
       "        text-align: left;\n",
       "    }\n",
       "\n",
       "    .dataframe tbody tr th {\n",
       "        vertical-align: top;\n",
       "    }\n",
       "</style>\n",
       "<table border=\"1\" class=\"dataframe\">\n",
       "  <thead>\n",
       "    <tr style=\"text-align: right;\">\n",
       "      <th></th>\n",
       "      <th>TripType</th>\n",
       "      <th>VisitNumber</th>\n",
       "      <th>Weekday</th>\n",
       "      <th>Upc</th>\n",
       "      <th>ScanCount</th>\n",
       "      <th>DepartmentDescription</th>\n",
       "      <th>FinelineNumber</th>\n",
       "      <th>company</th>\n",
       "      <th>check</th>\n",
       "      <th>Return</th>\n",
       "      <th>Pos_Sum</th>\n",
       "    </tr>\n",
       "  </thead>\n",
       "  <tbody>\n",
       "    <tr>\n",
       "      <th>0</th>\n",
       "      <td>999</td>\n",
       "      <td>5</td>\n",
       "      <td>Friday</td>\n",
       "      <td>68113152929</td>\n",
       "      <td>-1</td>\n",
       "      <td>FINANCIAL SERVICES</td>\n",
       "      <td>1000.0</td>\n",
       "      <td>681131</td>\n",
       "      <td>7</td>\n",
       "      <td>1.0</td>\n",
       "      <td>0</td>\n",
       "    </tr>\n",
       "    <tr>\n",
       "      <th>1</th>\n",
       "      <td>30</td>\n",
       "      <td>7</td>\n",
       "      <td>Friday</td>\n",
       "      <td>60538815980</td>\n",
       "      <td>1</td>\n",
       "      <td>SHOES</td>\n",
       "      <td>8931.0</td>\n",
       "      <td>605388</td>\n",
       "      <td>9</td>\n",
       "      <td>0.0</td>\n",
       "      <td>1</td>\n",
       "    </tr>\n",
       "    <tr>\n",
       "      <th>2</th>\n",
       "      <td>30</td>\n",
       "      <td>7</td>\n",
       "      <td>Friday</td>\n",
       "      <td>7410811099</td>\n",
       "      <td>1</td>\n",
       "      <td>PERSONAL CARE</td>\n",
       "      <td>4504.0</td>\n",
       "      <td>741081</td>\n",
       "      <td>2</td>\n",
       "      <td>0.0</td>\n",
       "      <td>1</td>\n",
       "    </tr>\n",
       "    <tr>\n",
       "      <th>3</th>\n",
       "      <td>26</td>\n",
       "      <td>8</td>\n",
       "      <td>Friday</td>\n",
       "      <td>2238403510</td>\n",
       "      <td>2</td>\n",
       "      <td>PAINT AND ACCESSORIES</td>\n",
       "      <td>3565.0</td>\n",
       "      <td>223840</td>\n",
       "      <td>2</td>\n",
       "      <td>0.0</td>\n",
       "      <td>2</td>\n",
       "    </tr>\n",
       "    <tr>\n",
       "      <th>4</th>\n",
       "      <td>26</td>\n",
       "      <td>8</td>\n",
       "      <td>Friday</td>\n",
       "      <td>2006613744</td>\n",
       "      <td>2</td>\n",
       "      <td>PAINT AND ACCESSORIES</td>\n",
       "      <td>1017.0</td>\n",
       "      <td>200661</td>\n",
       "      <td>1</td>\n",
       "      <td>0.0</td>\n",
       "      <td>2</td>\n",
       "    </tr>\n",
       "  </tbody>\n",
       "</table>\n",
       "</div>"
      ],
      "text/plain": [
       "   TripType  VisitNumber Weekday          Upc  ScanCount  \\\n",
       "0       999            5  Friday  68113152929         -1   \n",
       "1        30            7  Friday  60538815980          1   \n",
       "2        30            7  Friday   7410811099          1   \n",
       "3        26            8  Friday   2238403510          2   \n",
       "4        26            8  Friday   2006613744          2   \n",
       "\n",
       "   DepartmentDescription  FinelineNumber company  check  Return  Pos_Sum  \n",
       "0     FINANCIAL SERVICES          1000.0  681131      7     1.0        0  \n",
       "1                  SHOES          8931.0  605388      9     0.0        1  \n",
       "2          PERSONAL CARE          4504.0  741081      2     0.0        1  \n",
       "3  PAINT AND ACCESSORIES          3565.0  223840      2     0.0        2  \n",
       "4  PAINT AND ACCESSORIES          1017.0  200661      1     0.0        2  "
      ]
     },
     "execution_count": 99,
     "metadata": {},
     "output_type": "execute_result"
    }
   ],
   "source": [
    "train.head()"
   ]
  },
  {
   "cell_type": "markdown",
   "metadata": {},
   "source": [
    "### Negative ScanCount (The number of returns)"
   ]
  },
  {
   "cell_type": "code",
   "execution_count": 100,
   "metadata": {
    "collapsed": true
   },
   "outputs": [],
   "source": [
    "train[\"Neg_Sum\"] = train[\"ScanCount\"]\n",
    "test[\"Neg_Sum\"] = test[\"ScanCount\"]\n",
    "\n",
    "train.loc[train[\"Neg_Sum\"] > 0, \"Neg_Sum\"] = 0\n",
    "test.loc[test[\"Neg_Sum\"] > 0, \"Neg_Sum\"] = 0"
   ]
  },
  {
   "cell_type": "code",
   "execution_count": 101,
   "metadata": {},
   "outputs": [
    {
     "data": {
      "text/html": [
       "<div>\n",
       "<style>\n",
       "    .dataframe thead tr:only-child th {\n",
       "        text-align: right;\n",
       "    }\n",
       "\n",
       "    .dataframe thead th {\n",
       "        text-align: left;\n",
       "    }\n",
       "\n",
       "    .dataframe tbody tr th {\n",
       "        vertical-align: top;\n",
       "    }\n",
       "</style>\n",
       "<table border=\"1\" class=\"dataframe\">\n",
       "  <thead>\n",
       "    <tr style=\"text-align: right;\">\n",
       "      <th></th>\n",
       "      <th>TripType</th>\n",
       "      <th>VisitNumber</th>\n",
       "      <th>Weekday</th>\n",
       "      <th>Upc</th>\n",
       "      <th>ScanCount</th>\n",
       "      <th>DepartmentDescription</th>\n",
       "      <th>FinelineNumber</th>\n",
       "      <th>company</th>\n",
       "      <th>check</th>\n",
       "      <th>Return</th>\n",
       "      <th>Pos_Sum</th>\n",
       "      <th>Neg_Sum</th>\n",
       "    </tr>\n",
       "  </thead>\n",
       "  <tbody>\n",
       "    <tr>\n",
       "      <th>0</th>\n",
       "      <td>999</td>\n",
       "      <td>5</td>\n",
       "      <td>Friday</td>\n",
       "      <td>68113152929</td>\n",
       "      <td>-1</td>\n",
       "      <td>FINANCIAL SERVICES</td>\n",
       "      <td>1000.0</td>\n",
       "      <td>681131</td>\n",
       "      <td>7</td>\n",
       "      <td>1.0</td>\n",
       "      <td>0</td>\n",
       "      <td>-1</td>\n",
       "    </tr>\n",
       "    <tr>\n",
       "      <th>1</th>\n",
       "      <td>30</td>\n",
       "      <td>7</td>\n",
       "      <td>Friday</td>\n",
       "      <td>60538815980</td>\n",
       "      <td>1</td>\n",
       "      <td>SHOES</td>\n",
       "      <td>8931.0</td>\n",
       "      <td>605388</td>\n",
       "      <td>9</td>\n",
       "      <td>0.0</td>\n",
       "      <td>1</td>\n",
       "      <td>0</td>\n",
       "    </tr>\n",
       "    <tr>\n",
       "      <th>2</th>\n",
       "      <td>30</td>\n",
       "      <td>7</td>\n",
       "      <td>Friday</td>\n",
       "      <td>7410811099</td>\n",
       "      <td>1</td>\n",
       "      <td>PERSONAL CARE</td>\n",
       "      <td>4504.0</td>\n",
       "      <td>741081</td>\n",
       "      <td>2</td>\n",
       "      <td>0.0</td>\n",
       "      <td>1</td>\n",
       "      <td>0</td>\n",
       "    </tr>\n",
       "    <tr>\n",
       "      <th>3</th>\n",
       "      <td>26</td>\n",
       "      <td>8</td>\n",
       "      <td>Friday</td>\n",
       "      <td>2238403510</td>\n",
       "      <td>2</td>\n",
       "      <td>PAINT AND ACCESSORIES</td>\n",
       "      <td>3565.0</td>\n",
       "      <td>223840</td>\n",
       "      <td>2</td>\n",
       "      <td>0.0</td>\n",
       "      <td>2</td>\n",
       "      <td>0</td>\n",
       "    </tr>\n",
       "    <tr>\n",
       "      <th>4</th>\n",
       "      <td>26</td>\n",
       "      <td>8</td>\n",
       "      <td>Friday</td>\n",
       "      <td>2006613744</td>\n",
       "      <td>2</td>\n",
       "      <td>PAINT AND ACCESSORIES</td>\n",
       "      <td>1017.0</td>\n",
       "      <td>200661</td>\n",
       "      <td>1</td>\n",
       "      <td>0.0</td>\n",
       "      <td>2</td>\n",
       "      <td>0</td>\n",
       "    </tr>\n",
       "  </tbody>\n",
       "</table>\n",
       "</div>"
      ],
      "text/plain": [
       "   TripType  VisitNumber Weekday          Upc  ScanCount  \\\n",
       "0       999            5  Friday  68113152929         -1   \n",
       "1        30            7  Friday  60538815980          1   \n",
       "2        30            7  Friday   7410811099          1   \n",
       "3        26            8  Friday   2238403510          2   \n",
       "4        26            8  Friday   2006613744          2   \n",
       "\n",
       "   DepartmentDescription  FinelineNumber company  check  Return  Pos_Sum  \\\n",
       "0     FINANCIAL SERVICES          1000.0  681131      7     1.0        0   \n",
       "1                  SHOES          8931.0  605388      9     0.0        1   \n",
       "2          PERSONAL CARE          4504.0  741081      2     0.0        1   \n",
       "3  PAINT AND ACCESSORIES          3565.0  223840      2     0.0        2   \n",
       "4  PAINT AND ACCESSORIES          1017.0  200661      1     0.0        2   \n",
       "\n",
       "   Neg_Sum  \n",
       "0       -1  \n",
       "1        0  \n",
       "2        0  \n",
       "3        0  \n",
       "4        0  "
      ]
     },
     "execution_count": 101,
     "metadata": {},
     "output_type": "execute_result"
    }
   ],
   "source": [
    "train.head()"
   ]
  },
  {
   "cell_type": "markdown",
   "metadata": {},
   "source": [
    "### Encoding Weekday"
   ]
  },
  {
   "cell_type": "code",
   "execution_count": 102,
   "metadata": {
    "collapsed": true
   },
   "outputs": [],
   "source": [
    "wd = {\"Monday\": 0, \"Tuesday\": 1, \"Wednesday\": 2, \"Thursday\": 3, \n",
    "      \"Friday\": 4, \"Saturday\": 5, \"Sunday\": 6}\n",
    "\n",
    "train[\"Weekday\"] = train[\"Weekday\"].apply(lambda x: wd[x])\n",
    "test[\"Weekday\"] = test[\"Weekday\"].apply(lambda x: wd[x])"
   ]
  },
  {
   "cell_type": "code",
   "execution_count": 103,
   "metadata": {},
   "outputs": [
    {
     "data": {
      "text/html": [
       "<div>\n",
       "<style>\n",
       "    .dataframe thead tr:only-child th {\n",
       "        text-align: right;\n",
       "    }\n",
       "\n",
       "    .dataframe thead th {\n",
       "        text-align: left;\n",
       "    }\n",
       "\n",
       "    .dataframe tbody tr th {\n",
       "        vertical-align: top;\n",
       "    }\n",
       "</style>\n",
       "<table border=\"1\" class=\"dataframe\">\n",
       "  <thead>\n",
       "    <tr style=\"text-align: right;\">\n",
       "      <th></th>\n",
       "      <th>TripType</th>\n",
       "      <th>VisitNumber</th>\n",
       "      <th>Weekday</th>\n",
       "      <th>Upc</th>\n",
       "      <th>ScanCount</th>\n",
       "      <th>DepartmentDescription</th>\n",
       "      <th>FinelineNumber</th>\n",
       "      <th>company</th>\n",
       "      <th>check</th>\n",
       "      <th>Return</th>\n",
       "      <th>Pos_Sum</th>\n",
       "      <th>Neg_Sum</th>\n",
       "    </tr>\n",
       "  </thead>\n",
       "  <tbody>\n",
       "    <tr>\n",
       "      <th>0</th>\n",
       "      <td>999</td>\n",
       "      <td>5</td>\n",
       "      <td>4</td>\n",
       "      <td>68113152929</td>\n",
       "      <td>-1</td>\n",
       "      <td>FINANCIAL SERVICES</td>\n",
       "      <td>1000.0</td>\n",
       "      <td>681131</td>\n",
       "      <td>7</td>\n",
       "      <td>1.0</td>\n",
       "      <td>0</td>\n",
       "      <td>-1</td>\n",
       "    </tr>\n",
       "    <tr>\n",
       "      <th>1</th>\n",
       "      <td>30</td>\n",
       "      <td>7</td>\n",
       "      <td>4</td>\n",
       "      <td>60538815980</td>\n",
       "      <td>1</td>\n",
       "      <td>SHOES</td>\n",
       "      <td>8931.0</td>\n",
       "      <td>605388</td>\n",
       "      <td>9</td>\n",
       "      <td>0.0</td>\n",
       "      <td>1</td>\n",
       "      <td>0</td>\n",
       "    </tr>\n",
       "    <tr>\n",
       "      <th>2</th>\n",
       "      <td>30</td>\n",
       "      <td>7</td>\n",
       "      <td>4</td>\n",
       "      <td>7410811099</td>\n",
       "      <td>1</td>\n",
       "      <td>PERSONAL CARE</td>\n",
       "      <td>4504.0</td>\n",
       "      <td>741081</td>\n",
       "      <td>2</td>\n",
       "      <td>0.0</td>\n",
       "      <td>1</td>\n",
       "      <td>0</td>\n",
       "    </tr>\n",
       "    <tr>\n",
       "      <th>3</th>\n",
       "      <td>26</td>\n",
       "      <td>8</td>\n",
       "      <td>4</td>\n",
       "      <td>2238403510</td>\n",
       "      <td>2</td>\n",
       "      <td>PAINT AND ACCESSORIES</td>\n",
       "      <td>3565.0</td>\n",
       "      <td>223840</td>\n",
       "      <td>2</td>\n",
       "      <td>0.0</td>\n",
       "      <td>2</td>\n",
       "      <td>0</td>\n",
       "    </tr>\n",
       "    <tr>\n",
       "      <th>4</th>\n",
       "      <td>26</td>\n",
       "      <td>8</td>\n",
       "      <td>4</td>\n",
       "      <td>2006613744</td>\n",
       "      <td>2</td>\n",
       "      <td>PAINT AND ACCESSORIES</td>\n",
       "      <td>1017.0</td>\n",
       "      <td>200661</td>\n",
       "      <td>1</td>\n",
       "      <td>0.0</td>\n",
       "      <td>2</td>\n",
       "      <td>0</td>\n",
       "    </tr>\n",
       "  </tbody>\n",
       "</table>\n",
       "</div>"
      ],
      "text/plain": [
       "   TripType  VisitNumber  Weekday          Upc  ScanCount  \\\n",
       "0       999            5        4  68113152929         -1   \n",
       "1        30            7        4  60538815980          1   \n",
       "2        30            7        4   7410811099          1   \n",
       "3        26            8        4   2238403510          2   \n",
       "4        26            8        4   2006613744          2   \n",
       "\n",
       "   DepartmentDescription  FinelineNumber company  check  Return  Pos_Sum  \\\n",
       "0     FINANCIAL SERVICES          1000.0  681131      7     1.0        0   \n",
       "1                  SHOES          8931.0  605388      9     0.0        1   \n",
       "2          PERSONAL CARE          4504.0  741081      2     0.0        1   \n",
       "3  PAINT AND ACCESSORIES          3565.0  223840      2     0.0        2   \n",
       "4  PAINT AND ACCESSORIES          1017.0  200661      1     0.0        2   \n",
       "\n",
       "   Neg_Sum  \n",
       "0       -1  \n",
       "1        0  \n",
       "2        0  \n",
       "3        0  \n",
       "4        0  "
      ]
     },
     "execution_count": 103,
     "metadata": {},
     "output_type": "execute_result"
    }
   ],
   "source": [
    "train.head()"
   ]
  },
  {
   "cell_type": "markdown",
   "metadata": {},
   "source": [
    "### FinelineNumber most frequently appear"
   ]
  },
  {
   "cell_type": "code",
   "execution_count": 25,
   "metadata": {
    "collapsed": true
   },
   "outputs": [],
   "source": [
    "train_fineline = train[[\"VisitNumber\", \"FinelineNumber\"]]\n",
    "train_fineline = train_fineline.groupby(\"VisitNumber\", as_index=False).agg(mode)\n",
    "train_fineline.rename(columns={\"FinelineNumber\": \"MF_FinelineNumber\"}, inplace=True)\n",
    "\n",
    "test_fineline = test[[\"VisitNumber\", \"FinelineNumber\"]]\n",
    "test_fineline = test_fineline.groupby(\"VisitNumber\", as_index=False).agg(mode)\n",
    "test_fineline.rename(columns={\"FinelineNumber\": \"MF_FinelineNumber\"}, inplace=True)"
   ]
  },
  {
   "cell_type": "markdown",
   "metadata": {},
   "source": [
    "### The number of UPC and FinelineNumber for each VisitNumber"
   ]
  },
  {
   "cell_type": "code",
   "execution_count": 26,
   "metadata": {
    "collapsed": true
   },
   "outputs": [],
   "source": [
    "train_upc_fine = train[[\"VisitNumber\", \"Upc\", \"FinelineNumber\"]]\n",
    "test_upc_fine = test[[\"VisitNumber\", \"Upc\", \"FinelineNumber\"]]\n",
    "\n",
    "train_upc_fine_group = train_upc_fine.groupby(\"VisitNumber\", as_index=False).count()\n",
    "train_upc_fine_group.rename(columns={\"Upc\": \"N_Upc\", \n",
    "                                     \"FinelineNumber\": \"N_FinelineNumber\"}, inplace=True)\n",
    "test_upc_fine_group = test_upc_fine.groupby(\"VisitNumber\", as_index=False).count()\n",
    "test_upc_fine_group.rename(columns={\"Upc\": \"N_Upc\", \n",
    "                                    \"FinelineNumber\": \"N_FinelineNumber\"}, inplace=True)"
   ]
  },
  {
   "cell_type": "code",
   "execution_count": 27,
   "metadata": {},
   "outputs": [
    {
     "data": {
      "text/html": [
       "<div>\n",
       "<style>\n",
       "    .dataframe thead tr:only-child th {\n",
       "        text-align: right;\n",
       "    }\n",
       "\n",
       "    .dataframe thead th {\n",
       "        text-align: left;\n",
       "    }\n",
       "\n",
       "    .dataframe tbody tr th {\n",
       "        vertical-align: top;\n",
       "    }\n",
       "</style>\n",
       "<table border=\"1\" class=\"dataframe\">\n",
       "  <thead>\n",
       "    <tr style=\"text-align: right;\">\n",
       "      <th></th>\n",
       "      <th>VisitNumber</th>\n",
       "      <th>N_Upc</th>\n",
       "      <th>N_FinelineNumber</th>\n",
       "    </tr>\n",
       "  </thead>\n",
       "  <tbody>\n",
       "    <tr>\n",
       "      <th>0</th>\n",
       "      <td>5</td>\n",
       "      <td>1</td>\n",
       "      <td>1</td>\n",
       "    </tr>\n",
       "    <tr>\n",
       "      <th>1</th>\n",
       "      <td>7</td>\n",
       "      <td>2</td>\n",
       "      <td>2</td>\n",
       "    </tr>\n",
       "    <tr>\n",
       "      <th>2</th>\n",
       "      <td>8</td>\n",
       "      <td>23</td>\n",
       "      <td>22</td>\n",
       "    </tr>\n",
       "    <tr>\n",
       "      <th>3</th>\n",
       "      <td>9</td>\n",
       "      <td>3</td>\n",
       "      <td>3</td>\n",
       "    </tr>\n",
       "    <tr>\n",
       "      <th>4</th>\n",
       "      <td>10</td>\n",
       "      <td>3</td>\n",
       "      <td>3</td>\n",
       "    </tr>\n",
       "  </tbody>\n",
       "</table>\n",
       "</div>"
      ],
      "text/plain": [
       "   VisitNumber  N_Upc  N_FinelineNumber\n",
       "0            5      1                 1\n",
       "1            7      2                 2\n",
       "2            8     23                22\n",
       "3            9      3                 3\n",
       "4           10      3                 3"
      ]
     },
     "execution_count": 27,
     "metadata": {},
     "output_type": "execute_result"
    }
   ],
   "source": [
    "train_upc_fine_group.head()"
   ]
  },
  {
   "cell_type": "code",
   "execution_count": 28,
   "metadata": {
    "collapsed": true
   },
   "outputs": [],
   "source": [
    "train = train.drop([\"Upc\", \"FinelineNumber\"], axis=1)\n",
    "test = test.drop([\"Upc\", \"FinelineNumber\"], axis=1)"
   ]
  },
  {
   "cell_type": "markdown",
   "metadata": {},
   "source": [
    "### One-Hot Encoding of DepartmentDescription"
   ]
  },
  {
   "cell_type": "code",
   "execution_count": 29,
   "metadata": {
    "collapsed": true
   },
   "outputs": [],
   "source": [
    "train_dd = pd.get_dummies(train[\"DepartmentDescription\"])\n",
    "test_dd = pd.get_dummies(test[\"DepartmentDescription\"])\n",
    "\n",
    "train_dd = pd.concat([train[[\"VisitNumber\"]], train_dd], axis=1)\n",
    "test_dd = pd.concat([test[[\"VisitNumber\"]], test_dd], axis=1)\n",
    "\n",
    "train_dd = train_dd.groupby(\"VisitNumber\", as_index=False).sum()\n",
    "test_dd = test_dd.groupby(\"VisitNumber\", as_index=False).sum()"
   ]
  },
  {
   "cell_type": "code",
   "execution_count": 30,
   "metadata": {},
   "outputs": [
    {
     "data": {
      "text/html": [
       "<div>\n",
       "<style>\n",
       "    .dataframe thead tr:only-child th {\n",
       "        text-align: right;\n",
       "    }\n",
       "\n",
       "    .dataframe thead th {\n",
       "        text-align: left;\n",
       "    }\n",
       "\n",
       "    .dataframe tbody tr th {\n",
       "        vertical-align: top;\n",
       "    }\n",
       "</style>\n",
       "<table border=\"1\" class=\"dataframe\">\n",
       "  <thead>\n",
       "    <tr style=\"text-align: right;\">\n",
       "      <th></th>\n",
       "      <th>VisitNumber</th>\n",
       "      <th>1-HR PHOTO</th>\n",
       "      <th>ACCESSORIES</th>\n",
       "      <th>AUTOMOTIVE</th>\n",
       "      <th>BAKERY</th>\n",
       "      <th>BATH AND SHOWER</th>\n",
       "      <th>BEAUTY</th>\n",
       "      <th>BEDDING</th>\n",
       "      <th>BOOKS AND MAGAZINES</th>\n",
       "      <th>BOYS WEAR</th>\n",
       "      <th>...</th>\n",
       "      <th>SEAFOOD</th>\n",
       "      <th>SEASONAL</th>\n",
       "      <th>SERVICE DELI</th>\n",
       "      <th>SHEER HOSIERY</th>\n",
       "      <th>SHOES</th>\n",
       "      <th>SLEEPWEAR/FOUNDATIONS</th>\n",
       "      <th>SPORTING GOODS</th>\n",
       "      <th>SWIMWEAR/OUTERWEAR</th>\n",
       "      <th>TOYS</th>\n",
       "      <th>WIRELESS</th>\n",
       "    </tr>\n",
       "  </thead>\n",
       "  <tbody>\n",
       "    <tr>\n",
       "      <th>0</th>\n",
       "      <td>5</td>\n",
       "      <td>0</td>\n",
       "      <td>0</td>\n",
       "      <td>0</td>\n",
       "      <td>0</td>\n",
       "      <td>0</td>\n",
       "      <td>0</td>\n",
       "      <td>0</td>\n",
       "      <td>0</td>\n",
       "      <td>0</td>\n",
       "      <td>...</td>\n",
       "      <td>0</td>\n",
       "      <td>0</td>\n",
       "      <td>0</td>\n",
       "      <td>0</td>\n",
       "      <td>0</td>\n",
       "      <td>0</td>\n",
       "      <td>0</td>\n",
       "      <td>0</td>\n",
       "      <td>0</td>\n",
       "      <td>0</td>\n",
       "    </tr>\n",
       "    <tr>\n",
       "      <th>1</th>\n",
       "      <td>7</td>\n",
       "      <td>0</td>\n",
       "      <td>0</td>\n",
       "      <td>0</td>\n",
       "      <td>0</td>\n",
       "      <td>0</td>\n",
       "      <td>0</td>\n",
       "      <td>0</td>\n",
       "      <td>0</td>\n",
       "      <td>0</td>\n",
       "      <td>...</td>\n",
       "      <td>0</td>\n",
       "      <td>0</td>\n",
       "      <td>0</td>\n",
       "      <td>0</td>\n",
       "      <td>1</td>\n",
       "      <td>0</td>\n",
       "      <td>0</td>\n",
       "      <td>0</td>\n",
       "      <td>0</td>\n",
       "      <td>0</td>\n",
       "    </tr>\n",
       "    <tr>\n",
       "      <th>2</th>\n",
       "      <td>8</td>\n",
       "      <td>0</td>\n",
       "      <td>0</td>\n",
       "      <td>0</td>\n",
       "      <td>0</td>\n",
       "      <td>0</td>\n",
       "      <td>0</td>\n",
       "      <td>0</td>\n",
       "      <td>0</td>\n",
       "      <td>0</td>\n",
       "      <td>...</td>\n",
       "      <td>0</td>\n",
       "      <td>0</td>\n",
       "      <td>0</td>\n",
       "      <td>0</td>\n",
       "      <td>0</td>\n",
       "      <td>0</td>\n",
       "      <td>0</td>\n",
       "      <td>0</td>\n",
       "      <td>0</td>\n",
       "      <td>0</td>\n",
       "    </tr>\n",
       "    <tr>\n",
       "      <th>3</th>\n",
       "      <td>9</td>\n",
       "      <td>0</td>\n",
       "      <td>0</td>\n",
       "      <td>0</td>\n",
       "      <td>0</td>\n",
       "      <td>0</td>\n",
       "      <td>0</td>\n",
       "      <td>0</td>\n",
       "      <td>0</td>\n",
       "      <td>0</td>\n",
       "      <td>...</td>\n",
       "      <td>0</td>\n",
       "      <td>0</td>\n",
       "      <td>0</td>\n",
       "      <td>0</td>\n",
       "      <td>0</td>\n",
       "      <td>0</td>\n",
       "      <td>0</td>\n",
       "      <td>0</td>\n",
       "      <td>0</td>\n",
       "      <td>0</td>\n",
       "    </tr>\n",
       "    <tr>\n",
       "      <th>4</th>\n",
       "      <td>10</td>\n",
       "      <td>0</td>\n",
       "      <td>0</td>\n",
       "      <td>0</td>\n",
       "      <td>0</td>\n",
       "      <td>0</td>\n",
       "      <td>0</td>\n",
       "      <td>0</td>\n",
       "      <td>0</td>\n",
       "      <td>0</td>\n",
       "      <td>...</td>\n",
       "      <td>0</td>\n",
       "      <td>0</td>\n",
       "      <td>0</td>\n",
       "      <td>0</td>\n",
       "      <td>0</td>\n",
       "      <td>0</td>\n",
       "      <td>0</td>\n",
       "      <td>0</td>\n",
       "      <td>0</td>\n",
       "      <td>0</td>\n",
       "    </tr>\n",
       "  </tbody>\n",
       "</table>\n",
       "<p>5 rows × 69 columns</p>\n",
       "</div>"
      ],
      "text/plain": [
       "   VisitNumber  1-HR PHOTO  ACCESSORIES  AUTOMOTIVE  BAKERY  BATH AND SHOWER  \\\n",
       "0            5           0            0           0       0                0   \n",
       "1            7           0            0           0       0                0   \n",
       "2            8           0            0           0       0                0   \n",
       "3            9           0            0           0       0                0   \n",
       "4           10           0            0           0       0                0   \n",
       "\n",
       "   BEAUTY  BEDDING  BOOKS AND MAGAZINES  BOYS WEAR    ...     SEAFOOD  \\\n",
       "0       0        0                    0          0    ...           0   \n",
       "1       0        0                    0          0    ...           0   \n",
       "2       0        0                    0          0    ...           0   \n",
       "3       0        0                    0          0    ...           0   \n",
       "4       0        0                    0          0    ...           0   \n",
       "\n",
       "   SEASONAL  SERVICE DELI  SHEER HOSIERY  SHOES  SLEEPWEAR/FOUNDATIONS  \\\n",
       "0         0             0              0      0                      0   \n",
       "1         0             0              0      1                      0   \n",
       "2         0             0              0      0                      0   \n",
       "3         0             0              0      0                      0   \n",
       "4         0             0              0      0                      0   \n",
       "\n",
       "   SPORTING GOODS  SWIMWEAR/OUTERWEAR  TOYS  WIRELESS  \n",
       "0               0                   0     0         0  \n",
       "1               0                   0     0         0  \n",
       "2               0                   0     0         0  \n",
       "3               0                   0     0         0  \n",
       "4               0                   0     0         0  \n",
       "\n",
       "[5 rows x 69 columns]"
      ]
     },
     "execution_count": 30,
     "metadata": {},
     "output_type": "execute_result"
    }
   ],
   "source": [
    "train_dd.head()"
   ]
  },
  {
   "cell_type": "markdown",
   "metadata": {},
   "source": [
    "### CompanyNumber for the most purchased product for each VisitNumber"
   ]
  },
  {
   "cell_type": "code",
   "execution_count": 31,
   "metadata": {
    "collapsed": true
   },
   "outputs": [],
   "source": [
    "train_company = train[[\"VisitNumber\", \"company\"]]\n",
    "test_company = test[[\"VisitNumber\", \"company\"]]\n",
    "\n",
    "train_company = train_company.groupby(\"VisitNumber\", as_index=False).agg(mode)\n",
    "test_company = test_company.groupby(\"VisitNumber\", as_index=False).agg(mode)"
   ]
  },
  {
   "cell_type": "code",
   "execution_count": 32,
   "metadata": {},
   "outputs": [
    {
     "data": {
      "text/html": [
       "<div>\n",
       "<style>\n",
       "    .dataframe thead tr:only-child th {\n",
       "        text-align: right;\n",
       "    }\n",
       "\n",
       "    .dataframe thead th {\n",
       "        text-align: left;\n",
       "    }\n",
       "\n",
       "    .dataframe tbody tr th {\n",
       "        vertical-align: top;\n",
       "    }\n",
       "</style>\n",
       "<table border=\"1\" class=\"dataframe\">\n",
       "  <thead>\n",
       "    <tr style=\"text-align: right;\">\n",
       "      <th></th>\n",
       "      <th>VisitNumber</th>\n",
       "      <th>company</th>\n",
       "    </tr>\n",
       "  </thead>\n",
       "  <tbody>\n",
       "    <tr>\n",
       "      <th>0</th>\n",
       "      <td>5</td>\n",
       "      <td>681131</td>\n",
       "    </tr>\n",
       "    <tr>\n",
       "      <th>1</th>\n",
       "      <td>7</td>\n",
       "      <td>605388</td>\n",
       "    </tr>\n",
       "    <tr>\n",
       "      <th>2</th>\n",
       "      <td>8</td>\n",
       "      <td>223840</td>\n",
       "    </tr>\n",
       "    <tr>\n",
       "      <th>3</th>\n",
       "      <td>9</td>\n",
       "      <td>107008</td>\n",
       "    </tr>\n",
       "    <tr>\n",
       "      <th>4</th>\n",
       "      <td>10</td>\n",
       "      <td>641441</td>\n",
       "    </tr>\n",
       "  </tbody>\n",
       "</table>\n",
       "</div>"
      ],
      "text/plain": [
       "   VisitNumber company\n",
       "0            5  681131\n",
       "1            7  605388\n",
       "2            8  223840\n",
       "3            9  107008\n",
       "4           10  641441"
      ]
     },
     "execution_count": 32,
     "metadata": {},
     "output_type": "execute_result"
    }
   ],
   "source": [
    "train_company.head()"
   ]
  },
  {
   "cell_type": "markdown",
   "metadata": {},
   "source": [
    "### Pivot table by VisitNumber"
   ]
  },
  {
   "cell_type": "code",
   "execution_count": 35,
   "metadata": {
    "collapsed": true
   },
   "outputs": [],
   "source": [
    "train_by_sum = train[[\"VisitNumber\", \"ScanCount\", \"Pos_Sum\", \"Neg_Sum\"]]\n",
    "test_by_sum = test[[\"VisitNumber\", \"ScanCount\", \"Pos_Sum\", \"Neg_Sum\"]]\n",
    "\n",
    "train_by_sum = train_by_sum.groupby(\"VisitNumber\", as_index=False).sum()\n",
    "test_by_sum = test_by_sum.groupby(\"VisitNumber\", as_index=False).sum()\n",
    "\n",
    "train_by_max = train[[\"TripType\", \"VisitNumber\", \"Weekday\", \"Return\"]]\n",
    "test_by_max = test[[\"VisitNumber\", \"Weekday\", \"Return\"]]\n",
    "\n",
    "train_by_max = train_by_max.groupby(\"VisitNumber\", as_index=False).max()\n",
    "test_by_max = test_by_max.groupby(\"VisitNumber\", as_index=False).max()"
   ]
  },
  {
   "cell_type": "code",
   "execution_count": 36,
   "metadata": {
    "collapsed": true
   },
   "outputs": [],
   "source": [
    "train = train_by_sum.merge(train_by_max, on=[\"VisitNumber\"])\n",
    "train = train.merge(train_dd, on=[\"VisitNumber\"])\n",
    "train = train.merge(train_company, on=[\"VisitNumber\"])\n",
    "train = train.merge(train_fineline, on=[\"VisitNumber\"])\n",
    "train = train.merge(train_upc_fine_group, on=[\"VisitNumber\"])\n",
    "\n",
    "test = test_by_sum.merge(test_by_max, on=[\"VisitNumber\"])\n",
    "test = test.merge(test_dd, on=[\"VisitNumber\"])\n",
    "test = test.merge(test_company, on=[\"VisitNumber\"])\n",
    "test = test.merge(test_fineline, on=[\"VisitNumber\"])\n",
    "test = test.merge(test_upc_fine_group, on=[\"VisitNumber\"])"
   ]
  },
  {
   "cell_type": "markdown",
   "metadata": {},
   "source": [
    "### Remove DepartmentDescription not shown in test data\n",
    "### Segregate features & target"
   ]
  },
  {
   "cell_type": "code",
   "execution_count": 37,
   "metadata": {
    "collapsed": true
   },
   "outputs": [],
   "source": [
    "y = train[\"TripType\"]\n",
    "train = train.drop([\"TripType\", \"HEALTH AND BEAUTY AIDS\"], axis=1)"
   ]
  },
  {
   "cell_type": "markdown",
   "metadata": {},
   "source": [
    "### The counts of DepartmentDescription for each VistNumber"
   ]
  },
  {
   "cell_type": "code",
   "execution_count": 38,
   "metadata": {
    "collapsed": true
   },
   "outputs": [],
   "source": [
    "from walmart_utils import category_counts"
   ]
  },
  {
   "cell_type": "code",
   "execution_count": 39,
   "metadata": {},
   "outputs": [
    {
     "name": "stdout",
     "output_type": "stream",
     "text": [
      "CPU times: user 17.4 s, sys: 58.3 ms, total: 17.5 s\n",
      "Wall time: 17.6 s\n"
     ]
    }
   ],
   "source": [
    "%%time\n",
    "train = category_counts(train)\n",
    "test = category_counts(test)"
   ]
  },
  {
   "cell_type": "markdown",
   "metadata": {},
   "source": [
    "### Ratio of number of UPC and FinelineNumber"
   ]
  },
  {
   "cell_type": "code",
   "execution_count": 41,
   "metadata": {
    "collapsed": true
   },
   "outputs": [],
   "source": [
    "train[\"Upc_FLN\"] = train[\"N_Upc\"] / train[\"N_FinelineNumber\"]\n",
    "test[\"Upc_FLN\"] = test[\"N_Upc\"] / test[\"N_FinelineNumber\"]"
   ]
  },
  {
   "cell_type": "code",
   "execution_count": 42,
   "metadata": {},
   "outputs": [
    {
     "data": {
      "text/html": [
       "<div>\n",
       "<style>\n",
       "    .dataframe thead tr:only-child th {\n",
       "        text-align: right;\n",
       "    }\n",
       "\n",
       "    .dataframe thead th {\n",
       "        text-align: left;\n",
       "    }\n",
       "\n",
       "    .dataframe tbody tr th {\n",
       "        vertical-align: top;\n",
       "    }\n",
       "</style>\n",
       "<table border=\"1\" class=\"dataframe\">\n",
       "  <thead>\n",
       "    <tr style=\"text-align: right;\">\n",
       "      <th></th>\n",
       "      <th>VisitNumber</th>\n",
       "      <th>ScanCount</th>\n",
       "      <th>Pos_Sum</th>\n",
       "      <th>Neg_Sum</th>\n",
       "      <th>Weekday</th>\n",
       "      <th>Return</th>\n",
       "      <th>CategoryCounts</th>\n",
       "      <th>1-HR PHOTO</th>\n",
       "      <th>ACCESSORIES</th>\n",
       "      <th>AUTOMOTIVE</th>\n",
       "      <th>...</th>\n",
       "      <th>SPORTING GOODS</th>\n",
       "      <th>SWIMWEAR/OUTERWEAR</th>\n",
       "      <th>TOYS</th>\n",
       "      <th>WIRELESS</th>\n",
       "      <th>company</th>\n",
       "      <th>check</th>\n",
       "      <th>MF_FinelineNumber</th>\n",
       "      <th>N_Upc</th>\n",
       "      <th>N_FinelineNumber</th>\n",
       "      <th>Upc_FLN</th>\n",
       "    </tr>\n",
       "  </thead>\n",
       "  <tbody>\n",
       "    <tr>\n",
       "      <th>0</th>\n",
       "      <td>5</td>\n",
       "      <td>-1</td>\n",
       "      <td>0</td>\n",
       "      <td>-1</td>\n",
       "      <td>4</td>\n",
       "      <td>1.0</td>\n",
       "      <td>1</td>\n",
       "      <td>0</td>\n",
       "      <td>0</td>\n",
       "      <td>0</td>\n",
       "      <td>...</td>\n",
       "      <td>0</td>\n",
       "      <td>0</td>\n",
       "      <td>0</td>\n",
       "      <td>0</td>\n",
       "      <td>681131</td>\n",
       "      <td>7</td>\n",
       "      <td>1000.0</td>\n",
       "      <td>1</td>\n",
       "      <td>1</td>\n",
       "      <td>1.000000</td>\n",
       "    </tr>\n",
       "    <tr>\n",
       "      <th>1</th>\n",
       "      <td>7</td>\n",
       "      <td>2</td>\n",
       "      <td>2</td>\n",
       "      <td>0</td>\n",
       "      <td>4</td>\n",
       "      <td>0.0</td>\n",
       "      <td>2</td>\n",
       "      <td>0</td>\n",
       "      <td>0</td>\n",
       "      <td>0</td>\n",
       "      <td>...</td>\n",
       "      <td>0</td>\n",
       "      <td>0</td>\n",
       "      <td>0</td>\n",
       "      <td>0</td>\n",
       "      <td>605388</td>\n",
       "      <td>9</td>\n",
       "      <td>8931.0</td>\n",
       "      <td>2</td>\n",
       "      <td>2</td>\n",
       "      <td>1.000000</td>\n",
       "    </tr>\n",
       "    <tr>\n",
       "      <th>2</th>\n",
       "      <td>8</td>\n",
       "      <td>28</td>\n",
       "      <td>30</td>\n",
       "      <td>-2</td>\n",
       "      <td>4</td>\n",
       "      <td>1.0</td>\n",
       "      <td>6</td>\n",
       "      <td>0</td>\n",
       "      <td>0</td>\n",
       "      <td>0</td>\n",
       "      <td>...</td>\n",
       "      <td>0</td>\n",
       "      <td>0</td>\n",
       "      <td>0</td>\n",
       "      <td>0</td>\n",
       "      <td>223840</td>\n",
       "      <td>5</td>\n",
       "      <td>3565.0</td>\n",
       "      <td>23</td>\n",
       "      <td>22</td>\n",
       "      <td>1.045455</td>\n",
       "    </tr>\n",
       "    <tr>\n",
       "      <th>3</th>\n",
       "      <td>9</td>\n",
       "      <td>3</td>\n",
       "      <td>3</td>\n",
       "      <td>0</td>\n",
       "      <td>4</td>\n",
       "      <td>0.0</td>\n",
       "      <td>2</td>\n",
       "      <td>0</td>\n",
       "      <td>0</td>\n",
       "      <td>0</td>\n",
       "      <td>...</td>\n",
       "      <td>0</td>\n",
       "      <td>0</td>\n",
       "      <td>0</td>\n",
       "      <td>0</td>\n",
       "      <td>107008</td>\n",
       "      <td>4</td>\n",
       "      <td>115.0</td>\n",
       "      <td>3</td>\n",
       "      <td>3</td>\n",
       "      <td>1.000000</td>\n",
       "    </tr>\n",
       "    <tr>\n",
       "      <th>4</th>\n",
       "      <td>10</td>\n",
       "      <td>3</td>\n",
       "      <td>3</td>\n",
       "      <td>0</td>\n",
       "      <td>4</td>\n",
       "      <td>0.0</td>\n",
       "      <td>2</td>\n",
       "      <td>0</td>\n",
       "      <td>0</td>\n",
       "      <td>0</td>\n",
       "      <td>...</td>\n",
       "      <td>0</td>\n",
       "      <td>0</td>\n",
       "      <td>0</td>\n",
       "      <td>0</td>\n",
       "      <td>641441</td>\n",
       "      <td>8</td>\n",
       "      <td>2008.0</td>\n",
       "      <td>3</td>\n",
       "      <td>3</td>\n",
       "      <td>1.000000</td>\n",
       "    </tr>\n",
       "  </tbody>\n",
       "</table>\n",
       "<p>5 rows × 80 columns</p>\n",
       "</div>"
      ],
      "text/plain": [
       "   VisitNumber  ScanCount  Pos_Sum  Neg_Sum  Weekday  Return  CategoryCounts  \\\n",
       "0            5         -1        0       -1        4     1.0               1   \n",
       "1            7          2        2        0        4     0.0               2   \n",
       "2            8         28       30       -2        4     1.0               6   \n",
       "3            9          3        3        0        4     0.0               2   \n",
       "4           10          3        3        0        4     0.0               2   \n",
       "\n",
       "   1-HR PHOTO  ACCESSORIES  AUTOMOTIVE    ...     SPORTING GOODS  \\\n",
       "0           0            0           0    ...                  0   \n",
       "1           0            0           0    ...                  0   \n",
       "2           0            0           0    ...                  0   \n",
       "3           0            0           0    ...                  0   \n",
       "4           0            0           0    ...                  0   \n",
       "\n",
       "   SWIMWEAR/OUTERWEAR  TOYS  WIRELESS  company  check  MF_FinelineNumber  \\\n",
       "0                   0     0         0   681131      7             1000.0   \n",
       "1                   0     0         0   605388      9             8931.0   \n",
       "2                   0     0         0   223840      5             3565.0   \n",
       "3                   0     0         0   107008      4              115.0   \n",
       "4                   0     0         0   641441      8             2008.0   \n",
       "\n",
       "   N_Upc  N_FinelineNumber   Upc_FLN  \n",
       "0      1                 1  1.000000  \n",
       "1      2                 2  1.000000  \n",
       "2     23                22  1.045455  \n",
       "3      3                 3  1.000000  \n",
       "4      3                 3  1.000000  \n",
       "\n",
       "[5 rows x 80 columns]"
      ]
     },
     "execution_count": 42,
     "metadata": {},
     "output_type": "execute_result"
    }
   ],
   "source": [
    "train.head()"
   ]
  },
  {
   "cell_type": "markdown",
   "metadata": {},
   "source": [
    "### One-Hot Encoding of Weeday and Return"
   ]
  },
  {
   "cell_type": "code",
   "execution_count": 43,
   "metadata": {
    "collapsed": true
   },
   "outputs": [],
   "source": [
    "train = pd.get_dummies(train, columns=[\"Weekday\", \"Return\"])\n",
    "test = pd.get_dummies(test, columns=[\"Weekday\", \"Return\"])"
   ]
  },
  {
   "cell_type": "code",
   "execution_count": 44,
   "metadata": {},
   "outputs": [
    {
     "data": {
      "text/html": [
       "<div>\n",
       "<style>\n",
       "    .dataframe thead tr:only-child th {\n",
       "        text-align: right;\n",
       "    }\n",
       "\n",
       "    .dataframe thead th {\n",
       "        text-align: left;\n",
       "    }\n",
       "\n",
       "    .dataframe tbody tr th {\n",
       "        vertical-align: top;\n",
       "    }\n",
       "</style>\n",
       "<table border=\"1\" class=\"dataframe\">\n",
       "  <thead>\n",
       "    <tr style=\"text-align: right;\">\n",
       "      <th></th>\n",
       "      <th>VisitNumber</th>\n",
       "      <th>ScanCount</th>\n",
       "      <th>Pos_Sum</th>\n",
       "      <th>Neg_Sum</th>\n",
       "      <th>CategoryCounts</th>\n",
       "      <th>1-HR PHOTO</th>\n",
       "      <th>ACCESSORIES</th>\n",
       "      <th>AUTOMOTIVE</th>\n",
       "      <th>BAKERY</th>\n",
       "      <th>BATH AND SHOWER</th>\n",
       "      <th>...</th>\n",
       "      <th>Upc_FLN</th>\n",
       "      <th>Weekday_0</th>\n",
       "      <th>Weekday_1</th>\n",
       "      <th>Weekday_2</th>\n",
       "      <th>Weekday_3</th>\n",
       "      <th>Weekday_4</th>\n",
       "      <th>Weekday_5</th>\n",
       "      <th>Weekday_6</th>\n",
       "      <th>Return_0.0</th>\n",
       "      <th>Return_1.0</th>\n",
       "    </tr>\n",
       "  </thead>\n",
       "  <tbody>\n",
       "    <tr>\n",
       "      <th>0</th>\n",
       "      <td>5</td>\n",
       "      <td>-1</td>\n",
       "      <td>0</td>\n",
       "      <td>-1</td>\n",
       "      <td>1</td>\n",
       "      <td>0</td>\n",
       "      <td>0</td>\n",
       "      <td>0</td>\n",
       "      <td>0</td>\n",
       "      <td>0</td>\n",
       "      <td>...</td>\n",
       "      <td>1.000000</td>\n",
       "      <td>0</td>\n",
       "      <td>0</td>\n",
       "      <td>0</td>\n",
       "      <td>0</td>\n",
       "      <td>1</td>\n",
       "      <td>0</td>\n",
       "      <td>0</td>\n",
       "      <td>0</td>\n",
       "      <td>1</td>\n",
       "    </tr>\n",
       "    <tr>\n",
       "      <th>1</th>\n",
       "      <td>7</td>\n",
       "      <td>2</td>\n",
       "      <td>2</td>\n",
       "      <td>0</td>\n",
       "      <td>2</td>\n",
       "      <td>0</td>\n",
       "      <td>0</td>\n",
       "      <td>0</td>\n",
       "      <td>0</td>\n",
       "      <td>0</td>\n",
       "      <td>...</td>\n",
       "      <td>1.000000</td>\n",
       "      <td>0</td>\n",
       "      <td>0</td>\n",
       "      <td>0</td>\n",
       "      <td>0</td>\n",
       "      <td>1</td>\n",
       "      <td>0</td>\n",
       "      <td>0</td>\n",
       "      <td>1</td>\n",
       "      <td>0</td>\n",
       "    </tr>\n",
       "    <tr>\n",
       "      <th>2</th>\n",
       "      <td>8</td>\n",
       "      <td>28</td>\n",
       "      <td>30</td>\n",
       "      <td>-2</td>\n",
       "      <td>6</td>\n",
       "      <td>0</td>\n",
       "      <td>0</td>\n",
       "      <td>0</td>\n",
       "      <td>0</td>\n",
       "      <td>0</td>\n",
       "      <td>...</td>\n",
       "      <td>1.045455</td>\n",
       "      <td>0</td>\n",
       "      <td>0</td>\n",
       "      <td>0</td>\n",
       "      <td>0</td>\n",
       "      <td>1</td>\n",
       "      <td>0</td>\n",
       "      <td>0</td>\n",
       "      <td>0</td>\n",
       "      <td>1</td>\n",
       "    </tr>\n",
       "    <tr>\n",
       "      <th>3</th>\n",
       "      <td>9</td>\n",
       "      <td>3</td>\n",
       "      <td>3</td>\n",
       "      <td>0</td>\n",
       "      <td>2</td>\n",
       "      <td>0</td>\n",
       "      <td>0</td>\n",
       "      <td>0</td>\n",
       "      <td>0</td>\n",
       "      <td>0</td>\n",
       "      <td>...</td>\n",
       "      <td>1.000000</td>\n",
       "      <td>0</td>\n",
       "      <td>0</td>\n",
       "      <td>0</td>\n",
       "      <td>0</td>\n",
       "      <td>1</td>\n",
       "      <td>0</td>\n",
       "      <td>0</td>\n",
       "      <td>1</td>\n",
       "      <td>0</td>\n",
       "    </tr>\n",
       "    <tr>\n",
       "      <th>4</th>\n",
       "      <td>10</td>\n",
       "      <td>3</td>\n",
       "      <td>3</td>\n",
       "      <td>0</td>\n",
       "      <td>2</td>\n",
       "      <td>0</td>\n",
       "      <td>0</td>\n",
       "      <td>0</td>\n",
       "      <td>0</td>\n",
       "      <td>0</td>\n",
       "      <td>...</td>\n",
       "      <td>1.000000</td>\n",
       "      <td>0</td>\n",
       "      <td>0</td>\n",
       "      <td>0</td>\n",
       "      <td>0</td>\n",
       "      <td>1</td>\n",
       "      <td>0</td>\n",
       "      <td>0</td>\n",
       "      <td>1</td>\n",
       "      <td>0</td>\n",
       "    </tr>\n",
       "  </tbody>\n",
       "</table>\n",
       "<p>5 rows × 87 columns</p>\n",
       "</div>"
      ],
      "text/plain": [
       "   VisitNumber  ScanCount  Pos_Sum  Neg_Sum  CategoryCounts  1-HR PHOTO  \\\n",
       "0            5         -1        0       -1               1           0   \n",
       "1            7          2        2        0               2           0   \n",
       "2            8         28       30       -2               6           0   \n",
       "3            9          3        3        0               2           0   \n",
       "4           10          3        3        0               2           0   \n",
       "\n",
       "   ACCESSORIES  AUTOMOTIVE  BAKERY  BATH AND SHOWER     ...       Upc_FLN  \\\n",
       "0            0           0       0                0     ...      1.000000   \n",
       "1            0           0       0                0     ...      1.000000   \n",
       "2            0           0       0                0     ...      1.045455   \n",
       "3            0           0       0                0     ...      1.000000   \n",
       "4            0           0       0                0     ...      1.000000   \n",
       "\n",
       "   Weekday_0  Weekday_1  Weekday_2  Weekday_3  Weekday_4  Weekday_5  \\\n",
       "0          0          0          0          0          1          0   \n",
       "1          0          0          0          0          1          0   \n",
       "2          0          0          0          0          1          0   \n",
       "3          0          0          0          0          1          0   \n",
       "4          0          0          0          0          1          0   \n",
       "\n",
       "   Weekday_6  Return_0.0  Return_1.0  \n",
       "0          0           0           1  \n",
       "1          0           1           0  \n",
       "2          0           0           1  \n",
       "3          0           1           0  \n",
       "4          0           1           0  \n",
       "\n",
       "[5 rows x 87 columns]"
      ]
     },
     "execution_count": 44,
     "metadata": {},
     "output_type": "execute_result"
    }
   ],
   "source": [
    "train.head()"
   ]
  },
  {
   "cell_type": "code",
   "execution_count": 46,
   "metadata": {
    "collapsed": true
   },
   "outputs": [],
   "source": [
    "vn = test[[\"VisitNumber\"]]\n",
    "train.drop(\"VisitNumber\", axis=1, inplace=True)\n",
    "test.drop(\"VisitNumber\", axis=1, inplace=True)"
   ]
  },
  {
   "cell_type": "markdown",
   "metadata": {},
   "source": [
    "### Replace Null Value, Inf Value with 0"
   ]
  },
  {
   "cell_type": "code",
   "execution_count": 47,
   "metadata": {
    "collapsed": true
   },
   "outputs": [],
   "source": [
    "train.replace(np.inf, 0, inplace=True)\n",
    "train.fillna(value=0, inplace=True)\n",
    "\n",
    "test.replace(np.inf, 0, inplace=True)\n",
    "test.fillna(value=0, inplace=True)"
   ]
  },
  {
   "cell_type": "markdown",
   "metadata": {},
   "source": [
    "### Final Data"
   ]
  },
  {
   "cell_type": "code",
   "execution_count": null,
   "metadata": {},
   "outputs": [],
   "source": [
    "train.tail()"
   ]
  },
  {
   "cell_type": "markdown",
   "metadata": {},
   "source": [
    "* * * *"
   ]
  },
  {
   "cell_type": "markdown",
   "metadata": {},
   "source": [
    "## (3) Modeling\n",
    "\n",
    "\n",
    "### Model Trial (Test Score)\n",
    "- Logistic Regression: 0.62\n",
    "- QDA: 0.042\n",
    "- LDA: 0.511\n",
    "- Random Forest: 0.65 (Best Kaggle Score: 1.12)\n",
    "    - ( parameters: `n_estimator`: 1000, `max_features`: 0.8, `min_sample_split`: 30 )\n",
    "\n",
    "### Final Model\n",
    "- XGBoost"
   ]
  },
  {
   "cell_type": "markdown",
   "metadata": {},
   "source": [
    "### Final Features (Total 86)\n",
    "- ScanCount\n",
    "- Return (dummies)\n",
    "- Pos_Sum\n",
    "- Neg_Sum\n",
    "- CategoryCounts\n",
    "- DepartmentDescription (dummies)\n",
    "- Company code\n",
    "- MF_Fineline (Most Frequent FinelineNumbers)\n",
    "- MF_DepartmentDescription (Most Frequent DepartmentDescription)\n",
    "- N_UPC (The number of UPC\n",
    "- N_FinelineNumber (The number of FinelineNumber)\n",
    "- UPC_FLN (N_UPC / N_FinelineNumber)\n",
    "- Weekday (dummies)"
   ]
  },
  {
   "cell_type": "code",
   "execution_count": 48,
   "metadata": {
    "collapsed": true
   },
   "outputs": [],
   "source": [
    "import xgboost as xgb\n",
    "from sklearn.model_selection import train_test_split\n",
    "from sklearn.preprocessing import LabelEncoder"
   ]
  },
  {
   "cell_type": "code",
   "execution_count": 49,
   "metadata": {
    "collapsed": true
   },
   "outputs": [],
   "source": [
    "label_enc = LabelEncoder().fit(y)\n",
    "y_labeled = label_enc.transform(y)"
   ]
  },
  {
   "cell_type": "code",
   "execution_count": 50,
   "metadata": {
    "collapsed": true
   },
   "outputs": [],
   "source": [
    "X_train, X_test, y_train, y_test = train_test_split(\n",
    "    train, y_labeled, random_state=0)"
   ]
  },
  {
   "cell_type": "code",
   "execution_count": 51,
   "metadata": {
    "collapsed": true
   },
   "outputs": [],
   "source": [
    "dtrain = xgb.DMatrix(X_train.values, label=y_train)\n",
    "dtest = xgb.DMatrix(X_test.values, label=y_test)"
   ]
  },
  {
   "cell_type": "code",
   "execution_count": 52,
   "metadata": {
    "scrolled": true
   },
   "outputs": [
    {
     "name": "stdout",
     "output_type": "stream",
     "text": [
      "[0]\ttrain-mlogloss:3.07016\teval-mlogloss:3.07899\n",
      "Multiple eval metrics have been passed: 'eval-mlogloss' will be used for early stopping.\n",
      "\n",
      "Will train until eval-mlogloss hasn't improved in 10 rounds.\n",
      "[1]\ttrain-mlogloss:2.5672\teval-mlogloss:2.58811\n",
      "[2]\ttrain-mlogloss:2.16572\teval-mlogloss:2.19994\n",
      "[3]\ttrain-mlogloss:1.86995\teval-mlogloss:1.91296\n",
      "[4]\ttrain-mlogloss:1.67422\teval-mlogloss:1.72445\n",
      "[5]\ttrain-mlogloss:1.5292\teval-mlogloss:1.58639\n",
      "[6]\ttrain-mlogloss:1.41503\teval-mlogloss:1.47852\n",
      "[7]\ttrain-mlogloss:1.3192\teval-mlogloss:1.38857\n",
      "[8]\ttrain-mlogloss:1.24124\teval-mlogloss:1.31641\n",
      "[9]\ttrain-mlogloss:1.17564\teval-mlogloss:1.25524\n",
      "[10]\ttrain-mlogloss:1.11898\teval-mlogloss:1.20394\n",
      "[11]\ttrain-mlogloss:1.06884\teval-mlogloss:1.15838\n",
      "[12]\ttrain-mlogloss:1.02753\teval-mlogloss:1.1214\n",
      "[13]\ttrain-mlogloss:0.989627\teval-mlogloss:1.08887\n",
      "[14]\ttrain-mlogloss:0.956438\teval-mlogloss:1.06024\n",
      "[15]\ttrain-mlogloss:0.926984\teval-mlogloss:1.03532\n",
      "[16]\ttrain-mlogloss:0.901883\teval-mlogloss:1.01442\n",
      "[17]\ttrain-mlogloss:0.878921\teval-mlogloss:0.995156\n",
      "[18]\ttrain-mlogloss:0.857597\teval-mlogloss:0.977249\n",
      "[19]\ttrain-mlogloss:0.838693\teval-mlogloss:0.962925\n",
      "[20]\ttrain-mlogloss:0.821268\teval-mlogloss:0.949654\n",
      "[21]\ttrain-mlogloss:0.805474\teval-mlogloss:0.937569\n",
      "[22]\ttrain-mlogloss:0.790621\teval-mlogloss:0.926506\n",
      "[23]\ttrain-mlogloss:0.777057\teval-mlogloss:0.91668\n",
      "[24]\ttrain-mlogloss:0.764418\teval-mlogloss:0.907598\n",
      "[25]\ttrain-mlogloss:0.752298\teval-mlogloss:0.899142\n",
      "[26]\ttrain-mlogloss:0.741069\teval-mlogloss:0.891407\n",
      "[27]\ttrain-mlogloss:0.730095\teval-mlogloss:0.884092\n",
      "[28]\ttrain-mlogloss:0.720445\teval-mlogloss:0.877776\n",
      "[29]\ttrain-mlogloss:0.711459\teval-mlogloss:0.872415\n",
      "[30]\ttrain-mlogloss:0.702707\teval-mlogloss:0.867159\n",
      "[31]\ttrain-mlogloss:0.694988\teval-mlogloss:0.862535\n",
      "[32]\ttrain-mlogloss:0.686789\teval-mlogloss:0.857873\n",
      "[33]\ttrain-mlogloss:0.679844\teval-mlogloss:0.854125\n",
      "[34]\ttrain-mlogloss:0.672801\teval-mlogloss:0.850515\n",
      "[35]\ttrain-mlogloss:0.666054\teval-mlogloss:0.847027\n",
      "[36]\ttrain-mlogloss:0.65996\teval-mlogloss:0.843708\n",
      "[37]\ttrain-mlogloss:0.654252\teval-mlogloss:0.840866\n",
      "[38]\ttrain-mlogloss:0.648715\teval-mlogloss:0.838152\n",
      "[39]\ttrain-mlogloss:0.643373\teval-mlogloss:0.835413\n",
      "[40]\ttrain-mlogloss:0.638152\teval-mlogloss:0.832791\n",
      "[41]\ttrain-mlogloss:0.632714\teval-mlogloss:0.830314\n",
      "[42]\ttrain-mlogloss:0.628194\teval-mlogloss:0.828347\n",
      "[43]\ttrain-mlogloss:0.623345\teval-mlogloss:0.826119\n",
      "[44]\ttrain-mlogloss:0.618699\teval-mlogloss:0.824029\n",
      "[45]\ttrain-mlogloss:0.614296\teval-mlogloss:0.82262\n",
      "[46]\ttrain-mlogloss:0.610278\teval-mlogloss:0.821214\n",
      "[47]\ttrain-mlogloss:0.606232\teval-mlogloss:0.81938\n",
      "[48]\ttrain-mlogloss:0.602157\teval-mlogloss:0.817915\n",
      "[49]\ttrain-mlogloss:0.598363\teval-mlogloss:0.816603\n",
      "[50]\ttrain-mlogloss:0.594746\teval-mlogloss:0.815506\n",
      "[51]\ttrain-mlogloss:0.59084\teval-mlogloss:0.814237\n",
      "[52]\ttrain-mlogloss:0.587535\teval-mlogloss:0.813079\n",
      "[53]\ttrain-mlogloss:0.58429\teval-mlogloss:0.812075\n",
      "[54]\ttrain-mlogloss:0.580821\teval-mlogloss:0.810909\n",
      "[55]\ttrain-mlogloss:0.577526\teval-mlogloss:0.810024\n",
      "[56]\ttrain-mlogloss:0.574008\teval-mlogloss:0.809113\n",
      "[57]\ttrain-mlogloss:0.571166\teval-mlogloss:0.808081\n",
      "[58]\ttrain-mlogloss:0.567836\teval-mlogloss:0.807105\n",
      "[59]\ttrain-mlogloss:0.564719\teval-mlogloss:0.806311\n",
      "[60]\ttrain-mlogloss:0.561821\teval-mlogloss:0.805583\n",
      "[61]\ttrain-mlogloss:0.558666\teval-mlogloss:0.804581\n",
      "[62]\ttrain-mlogloss:0.555877\teval-mlogloss:0.803666\n",
      "[63]\ttrain-mlogloss:0.55241\teval-mlogloss:0.802528\n",
      "[64]\ttrain-mlogloss:0.549491\teval-mlogloss:0.801696\n",
      "[65]\ttrain-mlogloss:0.546709\teval-mlogloss:0.800832\n",
      "[66]\ttrain-mlogloss:0.543765\teval-mlogloss:0.800236\n",
      "[67]\ttrain-mlogloss:0.540834\teval-mlogloss:0.79934\n",
      "[68]\ttrain-mlogloss:0.538517\teval-mlogloss:0.798757\n",
      "[69]\ttrain-mlogloss:0.535747\teval-mlogloss:0.798001\n",
      "[70]\ttrain-mlogloss:0.533434\teval-mlogloss:0.797423\n",
      "[71]\ttrain-mlogloss:0.530686\teval-mlogloss:0.79662\n",
      "[72]\ttrain-mlogloss:0.528448\teval-mlogloss:0.795937\n",
      "[73]\ttrain-mlogloss:0.526159\teval-mlogloss:0.795049\n",
      "[74]\ttrain-mlogloss:0.523239\teval-mlogloss:0.794267\n",
      "[75]\ttrain-mlogloss:0.520444\teval-mlogloss:0.793479\n",
      "[76]\ttrain-mlogloss:0.51813\teval-mlogloss:0.792995\n",
      "[77]\ttrain-mlogloss:0.51562\teval-mlogloss:0.792233\n",
      "[78]\ttrain-mlogloss:0.513453\teval-mlogloss:0.791507\n",
      "[79]\ttrain-mlogloss:0.510955\teval-mlogloss:0.791316\n",
      "[80]\ttrain-mlogloss:0.508548\teval-mlogloss:0.790965\n",
      "[81]\ttrain-mlogloss:0.506416\teval-mlogloss:0.790623\n",
      "[82]\ttrain-mlogloss:0.504012\teval-mlogloss:0.790119\n",
      "[83]\ttrain-mlogloss:0.501884\teval-mlogloss:0.789759\n",
      "[84]\ttrain-mlogloss:0.499432\teval-mlogloss:0.789273\n",
      "[85]\ttrain-mlogloss:0.497215\teval-mlogloss:0.78881\n",
      "[86]\ttrain-mlogloss:0.495372\teval-mlogloss:0.788546\n",
      "[87]\ttrain-mlogloss:0.493387\teval-mlogloss:0.788342\n",
      "[88]\ttrain-mlogloss:0.491178\teval-mlogloss:0.787734\n",
      "[89]\ttrain-mlogloss:0.489067\teval-mlogloss:0.787672\n",
      "[90]\ttrain-mlogloss:0.487106\teval-mlogloss:0.787508\n",
      "[91]\ttrain-mlogloss:0.48486\teval-mlogloss:0.787129\n",
      "[92]\ttrain-mlogloss:0.482738\teval-mlogloss:0.786726\n",
      "[93]\ttrain-mlogloss:0.480709\teval-mlogloss:0.786727\n",
      "[94]\ttrain-mlogloss:0.478893\teval-mlogloss:0.786559\n",
      "[95]\ttrain-mlogloss:0.477092\teval-mlogloss:0.786317\n",
      "[96]\ttrain-mlogloss:0.47478\teval-mlogloss:0.785717\n",
      "[97]\ttrain-mlogloss:0.47277\teval-mlogloss:0.785275\n",
      "[98]\ttrain-mlogloss:0.470752\teval-mlogloss:0.785043\n",
      "[99]\ttrain-mlogloss:0.468944\teval-mlogloss:0.784789\n",
      "[100]\ttrain-mlogloss:0.46691\teval-mlogloss:0.784622\n",
      "[101]\ttrain-mlogloss:0.46507\teval-mlogloss:0.784379\n",
      "[102]\ttrain-mlogloss:0.463021\teval-mlogloss:0.784023\n",
      "[103]\ttrain-mlogloss:0.461329\teval-mlogloss:0.783987\n",
      "[104]\ttrain-mlogloss:0.459723\teval-mlogloss:0.783775\n",
      "[105]\ttrain-mlogloss:0.457889\teval-mlogloss:0.783486\n",
      "[106]\ttrain-mlogloss:0.456017\teval-mlogloss:0.783345\n",
      "[107]\ttrain-mlogloss:0.453929\teval-mlogloss:0.783171\n",
      "[108]\ttrain-mlogloss:0.451837\teval-mlogloss:0.782959\n",
      "[109]\ttrain-mlogloss:0.449945\teval-mlogloss:0.782763\n",
      "[110]\ttrain-mlogloss:0.448\teval-mlogloss:0.782599\n",
      "[111]\ttrain-mlogloss:0.44634\teval-mlogloss:0.782285\n",
      "[112]\ttrain-mlogloss:0.444262\teval-mlogloss:0.781945\n",
      "[113]\ttrain-mlogloss:0.44228\teval-mlogloss:0.781722\n",
      "[114]\ttrain-mlogloss:0.440563\teval-mlogloss:0.78146\n",
      "[115]\ttrain-mlogloss:0.438825\teval-mlogloss:0.781106\n",
      "[116]\ttrain-mlogloss:0.437568\teval-mlogloss:0.781108\n",
      "[117]\ttrain-mlogloss:0.436024\teval-mlogloss:0.781125\n",
      "[118]\ttrain-mlogloss:0.434306\teval-mlogloss:0.780811\n",
      "[119]\ttrain-mlogloss:0.43304\teval-mlogloss:0.780627\n",
      "[120]\ttrain-mlogloss:0.431459\teval-mlogloss:0.780547\n",
      "[121]\ttrain-mlogloss:0.429784\teval-mlogloss:0.780427\n",
      "[122]\ttrain-mlogloss:0.42822\teval-mlogloss:0.780454\n",
      "[123]\ttrain-mlogloss:0.426815\teval-mlogloss:0.780429\n",
      "[124]\ttrain-mlogloss:0.425231\teval-mlogloss:0.780285\n",
      "[125]\ttrain-mlogloss:0.423446\teval-mlogloss:0.780095\n",
      "[126]\ttrain-mlogloss:0.421977\teval-mlogloss:0.780083\n",
      "[127]\ttrain-mlogloss:0.420538\teval-mlogloss:0.780075\n",
      "[128]\ttrain-mlogloss:0.418658\teval-mlogloss:0.780122\n",
      "[129]\ttrain-mlogloss:0.416935\teval-mlogloss:0.779943\n",
      "[130]\ttrain-mlogloss:0.415597\teval-mlogloss:0.779948\n",
      "[131]\ttrain-mlogloss:0.41398\teval-mlogloss:0.779867\n",
      "[132]\ttrain-mlogloss:0.41263\teval-mlogloss:0.780056\n",
      "[133]\ttrain-mlogloss:0.411097\teval-mlogloss:0.779955\n",
      "[134]\ttrain-mlogloss:0.409932\teval-mlogloss:0.779983\n",
      "[135]\ttrain-mlogloss:0.408424\teval-mlogloss:0.779833\n",
      "[136]\ttrain-mlogloss:0.406433\teval-mlogloss:0.779357\n",
      "[137]\ttrain-mlogloss:0.405151\teval-mlogloss:0.779382\n",
      "[138]\ttrain-mlogloss:0.403817\teval-mlogloss:0.779125\n",
      "[139]\ttrain-mlogloss:0.402423\teval-mlogloss:0.778977\n",
      "[140]\ttrain-mlogloss:0.40114\teval-mlogloss:0.779092\n",
      "[141]\ttrain-mlogloss:0.399746\teval-mlogloss:0.779027\n",
      "[142]\ttrain-mlogloss:0.398394\teval-mlogloss:0.779079\n",
      "[143]\ttrain-mlogloss:0.396869\teval-mlogloss:0.779011\n",
      "[144]\ttrain-mlogloss:0.395247\teval-mlogloss:0.778879\n",
      "[145]\ttrain-mlogloss:0.393933\teval-mlogloss:0.778965\n",
      "[146]\ttrain-mlogloss:0.392489\teval-mlogloss:0.778912\n",
      "[147]\ttrain-mlogloss:0.391156\teval-mlogloss:0.778836\n",
      "[148]\ttrain-mlogloss:0.389986\teval-mlogloss:0.778892\n",
      "[149]\ttrain-mlogloss:0.388594\teval-mlogloss:0.778919\n",
      "[150]\ttrain-mlogloss:0.386975\teval-mlogloss:0.778864\n",
      "[151]\ttrain-mlogloss:0.385565\teval-mlogloss:0.778825\n",
      "[152]\ttrain-mlogloss:0.384241\teval-mlogloss:0.778814\n",
      "[153]\ttrain-mlogloss:0.382739\teval-mlogloss:0.778726\n",
      "[154]\ttrain-mlogloss:0.381081\teval-mlogloss:0.778655\n"
     ]
    },
    {
     "name": "stdout",
     "output_type": "stream",
     "text": [
      "[155]\ttrain-mlogloss:0.379824\teval-mlogloss:0.77883\n",
      "[156]\ttrain-mlogloss:0.37849\teval-mlogloss:0.778777\n",
      "[157]\ttrain-mlogloss:0.37676\teval-mlogloss:0.778627\n",
      "[158]\ttrain-mlogloss:0.375427\teval-mlogloss:0.77872\n",
      "[159]\ttrain-mlogloss:0.374238\teval-mlogloss:0.778889\n",
      "[160]\ttrain-mlogloss:0.372962\teval-mlogloss:0.778721\n",
      "[161]\ttrain-mlogloss:0.371642\teval-mlogloss:0.778783\n",
      "[162]\ttrain-mlogloss:0.37013\teval-mlogloss:0.778772\n",
      "[163]\ttrain-mlogloss:0.368644\teval-mlogloss:0.778946\n",
      "[164]\ttrain-mlogloss:0.367375\teval-mlogloss:0.778906\n",
      "[165]\ttrain-mlogloss:0.366181\teval-mlogloss:0.779087\n",
      "[166]\ttrain-mlogloss:0.364817\teval-mlogloss:0.779164\n",
      "[167]\ttrain-mlogloss:0.36336\teval-mlogloss:0.779041\n",
      "Stopping. Best iteration:\n",
      "[157]\ttrain-mlogloss:0.37676\teval-mlogloss:0.778627\n",
      "\n"
     ]
    }
   ],
   "source": [
    "num_boost_round = 300\n",
    "params = {'objective': 'multi:softprob', \n",
    "          'eval_metric': 'mlogloss',\n",
    "          'num_class':38, \n",
    "          'max_delta_step': 3, \n",
    "          'eta': 0.2}\n",
    "\n",
    "evals = [(dtrain, 'train'), (dtest, 'eval')]\n",
    "\n",
    "bst = xgb.train(params=params,  \n",
    "                dtrain=dtrain, \n",
    "                num_boost_round=num_boost_round, \n",
    "                evals=evals,\n",
    "                early_stopping_rounds=10,)"
   ]
  },
  {
   "cell_type": "markdown",
   "metadata": {},
   "source": [
    "## (4) Results"
   ]
  },
  {
   "cell_type": "markdown",
   "metadata": {},
   "source": [
    "### Logarithmic loss"
   ]
  },
  {
   "cell_type": "code",
   "execution_count": 53,
   "metadata": {},
   "outputs": [
    {
     "name": "stdout",
     "output_type": "stream",
     "text": [
      "log loss : 0.77904\n"
     ]
    }
   ],
   "source": [
    "from sklearn.metrics import log_loss\n",
    "my_test = xgb.DMatrix(X_test.values)\n",
    "test_predictions = bst.predict(my_test)\n",
    "print(\"log loss :\", log_loss(y_test, test_predictions).round(5))"
   ]
  },
  {
   "cell_type": "markdown",
   "metadata": {},
   "source": [
    "### Accuracy score"
   ]
  },
  {
   "cell_type": "code",
   "execution_count": 55,
   "metadata": {},
   "outputs": [
    {
     "name": "stdout",
     "output_type": "stream",
     "text": [
      "TripType Accuracy = 74.16%\n"
     ]
    }
   ],
   "source": [
    "yprob = test_predictions.reshape(y_test.shape[0], 38)\n",
    "ylabel = np.argmax(yprob, axis=1)\n",
    "accuracy = 100 *(1 - (sum(int(ylabel[i]) != y_test[i]\n",
    "                         for i in range(len(y_test))) / float(len(y_test))))\n",
    "print(\"TripType Accuracy = %.2f%%\" % accuracy)"
   ]
  },
  {
   "cell_type": "markdown",
   "metadata": {},
   "source": [
    "### Featue Importance"
   ]
  },
  {
   "cell_type": "code",
   "execution_count": 54,
   "metadata": {},
   "outputs": [
    {
     "data": {
      "image/png": "[encoded data removed]",
      "text/plain": [
       "<matplotlib.figure.Figure at 0x1a0db829b0>"
      ]
     },
     "metadata": {
      "image/png": {
       "height": 481,
       "width": 844
      }
     },
     "output_type": "display_data"
    }
   ],
   "source": [
    "import operator\n",
    "importance_dict = bst.get_score()\n",
    "sorted_dict = sorted(importance_dict.items(), key=operator.itemgetter(1))\n",
    "sorted_dict = sorted_dict[::-1]\n",
    "\n",
    "indices = []\n",
    "for i in range(len(sorted_dict)-1):\n",
    "    indices.append(sorted_dict[i][0])\n",
    "    \n",
    "indices = [int(idx[1:]) for idx in indices]\n",
    "\n",
    "importance_features = []\n",
    "for idx in indices:\n",
    "    importance_features.append(train.columns[idx])\n",
    "\n",
    "importance = list(bst.get_score().values())\n",
    "importance = sorted(importance)\n",
    "importance = importance[::-1]\n",
    "\n",
    "pairs = list(zip(importance, importance_features))\n",
    "labels = [label[1] for label in pairs]\n",
    "\n",
    "plt.figure(figsize=(12, 8))\n",
    "plt.barh(range(20), importance[:20][::-1], align=\"center\")\n",
    "plt.yticks(np.arange(20), labels[:20][::-1])\n",
    "plt.xlabel(\"Feature importance\")\n",
    "plt.ylim(-1, 20)\n",
    "plt.show()"
   ]
  },
  {
   "cell_type": "markdown",
   "metadata": {},
   "source": [
    "## (5) Kaggle Submission"
   ]
  },
  {
   "cell_type": "code",
   "execution_count": null,
   "metadata": {},
   "outputs": [],
   "source": [
    "classes = np.array(list(set(label_enc.inverse_transform(y_labeled))))\n",
    "\n",
    "dmtest = xgb.DMatrix(test.values) \n",
    "pred_proba = bst.predict(dmtest)\n",
    "\n",
    "proba_df = pd.DataFrame(pred_proba, columns=classes)\n",
    "proba_df.columns = proba_df.columns.map(lambda x: \"TripType_\" + str(x))\n",
    "sub_df = pd.concat([vn, proba_df], axis=1)\n",
    "sub_df.to_csv(\"data/team_SWYA_submission.csv\", index=False)"
   ]
  },
  {
   "cell_type": "markdown",
   "metadata": {},
   "source": [
    "<img src=\"https://github.com/yunah0515/dss7_SWYA_walmart/blob/master/2%ED%8C%80(SWYA)_B/data/final_score.png?raw=true\">"
   ]
  }
 ],
 "metadata": {
  "kernelspec": {
   "display_name": "Python 3",
   "language": "python",
   "name": "python3"
  },
  "language_info": {
   "codemirror_mode": {
    "name": "ipython",
    "version": 3
   },
   "file_extension": ".py",
   "mimetype": "text/x-python",
   "name": "python",
   "nbconvert_exporter": "python",
   "pygments_lexer": "ipython3",
   "version": "3.6.5"
  }
 },
 "nbformat": 4,
 "nbformat_minor": 2
}
