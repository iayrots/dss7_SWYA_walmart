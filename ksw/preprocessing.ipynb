{
 "cells": [
  {
   "cell_type": "code",
   "execution_count": 12,
   "metadata": {
    "collapsed": true
   },
   "outputs": [],
   "source": [
    "train = pd.read_csv(\"../dataset/train.csv\")"
   ]
  },
  {
   "cell_type": "markdown",
   "metadata": {},
   "source": [
    "### Set Weekday as Number"
   ]
  },
  {
   "cell_type": "code",
   "execution_count": 13,
   "metadata": {
    "collapsed": true
   },
   "outputs": [],
   "source": [
    "wd = {\n",
    "    \"Monday\": 0,\n",
    "    \"Tuesday\": 1,\n",
    "    \"Wednesday\": 2,\n",
    "    \"Thursday\": 3, \n",
    "    \"Friday\": 4,\n",
    "    \"Saturday\": 5,\n",
    "    \"Sunday\": 6,\n",
    "}\n",
    "# train[\"Weekday\"] = train[\"Weekday\"].apply(lambda x: wd[x])"
   ]
  },
  {
   "cell_type": "markdown",
   "metadata": {},
   "source": [
    "### Recognizing Return"
   ]
  },
  {
   "cell_type": "code",
   "execution_count": 14,
   "metadata": {},
   "outputs": [],
   "source": [
    "def add_return(data):\n",
    "    \"\"\"\n",
    "    Add new feature \"return\" if ScanCount < 0.\n",
    "    1: return occured, 0: no return.\n",
    "    \"\"\"\n",
    "    data.loc[data.ScanCount < 0, \"Return\"] = 1\n",
    "    data.loc[data.Return != 1, \"Return\"] = 0"
   ]
  },
  {
   "cell_type": "markdown",
   "metadata": {},
   "source": [
    "### 각 DepartmentDescriptoin 당 ScanCount"
   ]
  },
  {
   "cell_type": "code",
   "execution_count": 15,
   "metadata": {
    "collapsed": true
   },
   "outputs": [],
   "source": [
    "# 주석 처리한 부분을 실행하면 0, 1로 변경되어서 실행 안하도록 코드 수정했습니다.\n",
    "\n",
    "def count_per_desc(data):\n",
    "    \"\"\"\n",
    "    OneHotEncoding DepartmentDescription \n",
    "    then multiply ScanCount.\n",
    "    \"\"\"\n",
    "    dummies = pd.get_dummies(data.DepartmentDescription)\n",
    "#     data[dummies.columns] = dummies\n",
    "#     data_dummies = data.loc[:, \"1-HR PHOTO\":\"WIRELESS\"]\n",
    "    data_dummies = dummies.apply(lambda x: x * data[\"ScanCount\"])\n",
    "    data_dummies = data_dummies.replace(-0, 0)\n",
    "    data[dummies.columns] = data_dummies"
   ]
  },
  {
   "cell_type": "markdown",
   "metadata": {},
   "source": [
    "### Grouping Data"
   ]
  },
  {
   "cell_type": "code",
   "execution_count": 16,
   "metadata": {
    "collapsed": true
   },
   "outputs": [],
   "source": [
    "def group_by_vn(data):\n",
    "    \"\"\"\n",
    "    grouping data by VisitNumber.\n",
    "    \"\"\"\n",
    "    grouped = data.groupby(\"VisitNumber\")\n",
    "\n",
    "    pass"
   ]
  },
  {
   "cell_type": "markdown",
   "metadata": {},
   "source": [
    "### Category Counts"
   ]
  },
  {
   "cell_type": "code",
   "execution_count": 17,
   "metadata": {
    "collapsed": true
   },
   "outputs": [],
   "source": [
    "# return은 고려하지 않고 있는데, 이 부분에 대해서 논의가 필요할 듯 합니다.\n",
    "# 원 코드 iloc --> loc로 컬럼 직관적으로 파악할 수 있도록 변경\n",
    "\n",
    "def category_counts(data):\n",
    "    \"\"\"\n",
    "    Count total number of unique DepartmentDescription made on each trip.\n",
    "    \"\"\"\n",
    "    counts = []\n",
    "    for array in np.asarray(data.loc[:, \"1-HR PHOTO\":\"WIRELESS\"]):\n",
    "        count = 0\n",
    "        for item in array:\n",
    "            if item > 0:\n",
    "                count += 1\n",
    "        counts.append(count)\n",
    "    cat_counts = pd.DataFrame(counts)\n",
    "    cat_counts = cat_counts.rename(columns={0:\"CategoryCount\"})\n",
    "    cat_counts = cat_counts.set_index(data.index)\n",
    "    data.insert(7, \"CategoryCounts\", cat_counts)\n",
    "    return data"
   ]
  },
  {
   "cell_type": "markdown",
   "metadata": {},
   "source": [
    "### Using Most Frequent Fineline Numbers (OneHotEncoding)"
   ]
  },
  {
   "cell_type": "code",
   "execution_count": 18,
   "metadata": {
    "collapsed": true
   },
   "outputs": [],
   "source": [
    "def fineline_dummies(data):\n",
    "    \"\"\"\n",
    "    OneHotEncoding FinelineNumber which appear \n",
    "    more than 500 times each Trip Type.\n",
    "    \"\"\"\n",
    "    fineline_ranks = data.FinelineNumber.value_counts()\n",
    "    fineline_ranks = fineline_ranks[fineline_ranks > 500]\n",
    "#     columns1 = list(fineline_ranks.index)\n",
    "    dummies = pd.get_dummies(data.FinelineNumber)\n",
    "    dummies = dummies[fineline_ranks.index]\n",
    "    \n",
    "    data_visit = original_data[[\"VisitNumber\"]]\n",
    "    dummy_data = pd.concat([dummies, data_visit], axis=1)\n",
    "    dummy_data = dummy_data.groupby(\"VisitNumber\").aggregate(np.sum) # agg(\"sum\")보다 더 나은 성능\n",
    "    return dummy_data"
   ]
  },
  {
   "cell_type": "code",
   "execution_count": null,
   "metadata": {
    "collapsed": true
   },
   "outputs": [],
   "source": [
    "# Grouping Data 이후에 join 실시\n",
    "# tmp = train.join(dummy_data)"
   ]
  },
  {
   "cell_type": "code",
   "execution_count": null,
   "metadata": {
    "collapsed": true
   },
   "outputs": [],
   "source": []
  },
  {
   "cell_type": "code",
   "execution_count": null,
   "metadata": {
    "collapsed": true
   },
   "outputs": [],
   "source": []
  },
  {
   "cell_type": "code",
   "execution_count": null,
   "metadata": {
    "collapsed": true
   },
   "outputs": [],
   "source": [
    "# def add_category_counts_test(data):\n",
    "#     alist = []\n",
    "#     for array in np.asarray(data.iloc[:,3:]):\n",
    "#         count = 0\n",
    "#         for item in array:\n",
    "#             if item > 0:\n",
    "#                 count += 1\n",
    "#         alist.append(count)\n",
    "#     cat_counts = pd.DataFrame(alist)\n",
    "#     cat_counts = cat_counts.rename(columns={0:\"CategoryCount\"})\n",
    "#     cat_counts = cat_counts.set_index(data.index)\n",
    "#     data.insert(3, 'CategoryCounts', cat_counts)\n",
    "#     return data"
   ]
  }
 ],
 "metadata": {
  "kernelspec": {
   "display_name": "Python 3",
   "language": "python",
   "name": "python3"
  },
  "language_info": {
   "codemirror_mode": {
    "name": "ipython",
    "version": 3
   },
   "file_extension": ".py",
   "mimetype": "text/x-python",
   "name": "python",
   "nbconvert_exporter": "python",
   "pygments_lexer": "ipython3",
   "version": "3.6.3"
  }
 },
 "nbformat": 4,
 "nbformat_minor": 2
}
