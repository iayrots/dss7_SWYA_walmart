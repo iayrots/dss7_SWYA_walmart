{
 "cells": [
  {
   "cell_type": "code",
   "execution_count": 110,
   "metadata": {
    "collapsed": true
   },
   "outputs": [],
   "source": [
    "def check_digit(x):\n",
    "    try:\n",
    "        odd = map(int, ','.join(x[-1::-2]).split(','))\n",
    "        even = map(int, ','.join(x[-2::-2]).split(','))\n",
    "        sum_odd3 = sum(odd) * 3\n",
    "        total = sum_odd3 + sum(even)\n",
    "        rem = total % 10\n",
    "        if rem == 0:\n",
    "            return rem\n",
    "        return 10 - rem\n",
    "    except:\n",
    "        return -9999"
   ]
  },
  {
   "cell_type": "code",
   "execution_count": 111,
   "metadata": {
    "collapsed": true
   },
   "outputs": [],
   "source": [
    "def category_counts(data):\n",
    "    \"\"\"\n",
    "    Count total number of unique DepartmentDescription made on each trip.\n",
    "    \"\"\"\n",
    "    counts = []\n",
    "    for array in np.asarray(data.loc[:, \"1-HR PHOTO\":\"WIRELESS\"]):\n",
    "        count = 0\n",
    "        for item in array:\n",
    "            if item > 0:\n",
    "                count += 1\n",
    "        counts.append(count)\n",
    "    cat_counts = pd.DataFrame(counts)\n",
    "#     cat_counts = cat_counts.rename(columns={0:\"CategoryCounts\"})\n",
    "    cat_counts = cat_counts.set_index(data.index)\n",
    "\n",
    "    \n",
    "    data.insert(6, \"CategoryCounts\", cat_counts)\n",
    "    \n",
    "    return data"
   ]
  },
  {
   "cell_type": "code",
   "execution_count": 112,
   "metadata": {
    "collapsed": true
   },
   "outputs": [],
   "source": [
    "def company(x):\n",
    "    try:\n",
    "        p = x[:6]\n",
    "        if p == \"000000\":\n",
    "            return x[-5]\n",
    "        return p\n",
    "    except:\n",
    "        return -9999\n",
    "    \n",
    "def float_to_str(obj):\n",
    "    while obj != \"nan\":\n",
    "        obj = str(obj).split(\".\")[0]\n",
    "        return obj"
   ]
  },
  {
   "cell_type": "code",
   "execution_count": 113,
   "metadata": {
    "collapsed": true
   },
   "outputs": [],
   "source": [
    "from collections import Counter\n",
    "def mode(x):\n",
    "    counts = Counter(x)\n",
    "    max_count = max(counts.values())\n",
    "    ls = [x_i for x_i, count in counts.items() if count == max_count]\n",
    "    return ls[0]"
   ]
  },
  {
   "cell_type": "code",
   "execution_count": 114,
   "metadata": {
    "collapsed": true
   },
   "outputs": [],
   "source": [
    "train = pd.read_csv('../dataset/train.csv')\n",
    "test = pd.read_csv('../dataset/test.csv')"
   ]
  },
  {
   "cell_type": "code",
   "execution_count": 115,
   "metadata": {
    "collapsed": true
   },
   "outputs": [],
   "source": [
    "train[\"Upc\"] = train.Upc.apply(float_to_str)\n",
    "test[\"Upc\"] = test.Upc.apply(float_to_str)\n",
    "\n",
    "train[\"company\"] = train.Upc.apply(company) \n",
    "test[\"company\"] = test.Upc.apply(company)"
   ]
  },
  {
   "cell_type": "code",
   "execution_count": 116,
   "metadata": {
    "collapsed": true
   },
   "outputs": [],
   "source": [
    "train.loc[train[\"ScanCount\"] < 0, \"Return\"] = 1\n",
    "train.loc[train[\"Return\"] != 1, \"Return\"] = 0\n",
    "\n",
    "test.loc[test[\"ScanCount\"] < 0, \"Return\"] = 1\n",
    "test.loc[test[\"Return\"] != 1, \"Return\"] = 0"
   ]
  },
  {
   "cell_type": "code",
   "execution_count": 117,
   "metadata": {
    "collapsed": true
   },
   "outputs": [],
   "source": [
    "wd = {\"Monday\": 0, \"Tuesday\": 1, \"Wednesday\": 2, \"Thursday\": 3, \n",
    "      \"Friday\": 4, \"Saturday\": 5, \"Sunday\": 6}\n",
    "\n",
    "train[\"Weekday\"] = train[\"Weekday\"].apply(lambda x: wd[x])\n",
    "test[\"Weekday\"] = test[\"Weekday\"].apply(lambda x: wd[x])"
   ]
  },
  {
   "cell_type": "code",
   "execution_count": 118,
   "metadata": {
    "collapsed": true
   },
   "outputs": [],
   "source": [
    "train[\"Pos_Sum\"] = train[\"ScanCount\"]\n",
    "test[\"Pos_Sum\"] = test[\"ScanCount\"]\n",
    "\n",
    "train.loc[train[\"Pos_Sum\"] < 0, \"Pos_Sum\"] = 0\n",
    "test.loc[test[\"Pos_Sum\"] < 0, \"Pos_Sum\"] = 0"
   ]
  },
  {
   "cell_type": "code",
   "execution_count": 119,
   "metadata": {
    "collapsed": true
   },
   "outputs": [],
   "source": [
    "train[\"Neg_Sum\"] = train[\"ScanCount\"]\n",
    "test[\"Neg_Sum\"] = test[\"ScanCount\"]\n",
    "\n",
    "train.loc[train[\"Neg_Sum\"] > 0, \"Neg_Sum\"] = 0\n",
    "test.loc[test[\"Neg_Sum\"] > 0, \"Neg_Sum\"] = 0"
   ]
  },
  {
   "cell_type": "code",
   "execution_count": 120,
   "metadata": {
    "collapsed": true
   },
   "outputs": [],
   "source": [
    "train[\"check\"] = train.Upc.apply(check_digit)\n",
    "test[\"check\"] = test.Upc.apply(check_digit)"
   ]
  },
  {
   "cell_type": "code",
   "execution_count": 121,
   "metadata": {
    "collapsed": true
   },
   "outputs": [],
   "source": [
    "# new feature\n",
    "\n",
    "train_fineline = train[[\"VisitNumber\", \"FinelineNumber\"]]\n",
    "test_fineline = test[[\"VisitNumber\", \"FinelineNumber\"]]\n",
    "\n",
    "train_fineline = train_fineline.groupby(\"VisitNumber\", as_index=False).agg(mode)\n",
    "train_fineline.rename(columns={\"FinelineNumber\": \"MF_FinelineNumber\"}, inplace=True)\n",
    "\n",
    "test_fineline = test_fineline.groupby(\"VisitNumber\", as_index=False).agg(mode)\n",
    "test_fineline.rename(columns={\"FinelineNumber\": \"MF_FinelineNumber\"}, inplace=True)"
   ]
  },
  {
   "cell_type": "code",
   "execution_count": 122,
   "metadata": {},
   "outputs": [],
   "source": [
    "train_upc_fine = train[[\"VisitNumber\", \"Upc\", \"FinelineNumber\"]]\n",
    "test_upc_fine = test[[\"VisitNumber\", \"Upc\", \"FinelineNumber\"]]\n",
    "\n",
    "train_upc_fine_group = train_upc_fine.groupby(\"VisitNumber\", as_index=False).count()\n",
    "train_upc_fine_group.rename(columns={\"Upc\": \"N_Upc\", \n",
    "                                     \"FinelineNumber\": \"N_FinelineNumber\"}, inplace=True)\n",
    "test_upc_fine_group = test_upc_fine.groupby(\"VisitNumber\", as_index=False).count()\n",
    "test_upc_fine_group.rename(columns={\"Upc\": \"N_Upc\", \n",
    "                                    \"FinelineNumber\": \"N_FinelineNumber\"}, inplace=True)"
   ]
  },
  {
   "cell_type": "code",
   "execution_count": 123,
   "metadata": {
    "collapsed": true
   },
   "outputs": [],
   "source": [
    "train = train.drop([\"Upc\", \"FinelineNumber\"], axis=1)\n",
    "test = test.drop([\"Upc\", \"FinelineNumber\"], axis=1)"
   ]
  },
  {
   "cell_type": "code",
   "execution_count": 124,
   "metadata": {
    "collapsed": true
   },
   "outputs": [],
   "source": [
    "train_dd = pd.get_dummies(train[\"DepartmentDescription\"])\n",
    "test_dd = pd.get_dummies(test[\"DepartmentDescription\"])\n",
    "\n",
    "train_dd = pd.concat([train[[\"VisitNumber\"]], train_dd], axis=1)\n",
    "test_dd = pd.concat([test[[\"VisitNumber\"]], test_dd], axis=1)\n",
    "\n",
    "train_dd = train_dd.groupby(\"VisitNumber\", as_index=False).sum()\n",
    "test_dd = test_dd.groupby(\"VisitNumber\", as_index=False).sum()"
   ]
  },
  {
   "cell_type": "code",
   "execution_count": 125,
   "metadata": {},
   "outputs": [
    {
     "data": {
      "text/plain": [
       "((95674, 69), (95674, 68))"
      ]
     },
     "execution_count": 125,
     "metadata": {},
     "output_type": "execute_result"
    }
   ],
   "source": [
    "train_dd.shape, test_dd.shape"
   ]
  },
  {
   "cell_type": "code",
   "execution_count": 126,
   "metadata": {
    "collapsed": true
   },
   "outputs": [],
   "source": [
    "train_company = train[[\"VisitNumber\", \"company\"]]\n",
    "test_company = test[[\"VisitNumber\", \"company\"]]\n",
    "\n",
    "train_company = train_company.groupby(\"VisitNumber\", as_index=False).agg(mode)\n",
    "test_company = test_company.groupby(\"VisitNumber\", as_index=False).agg(mode)"
   ]
  },
  {
   "cell_type": "code",
   "execution_count": 128,
   "metadata": {},
   "outputs": [
    {
     "data": {
      "text/plain": [
       "((95674, 2), (95674, 2))"
      ]
     },
     "execution_count": 128,
     "metadata": {},
     "output_type": "execute_result"
    }
   ],
   "source": [
    "train_company.shape, test_company.shape"
   ]
  },
  {
   "cell_type": "code",
   "execution_count": 129,
   "metadata": {
    "collapsed": true
   },
   "outputs": [],
   "source": [
    "train_check = train[[\"VisitNumber\", \"check\"]]\n",
    "test_check = test[[\"VisitNumber\", \"check\"]]\n",
    "\n",
    "train_check = train_check.groupby(\"VisitNumber\", as_index=False).agg(mode)\n",
    "test_check = test_check.groupby(\"VisitNumber\", as_index=False).agg(mode)"
   ]
  },
  {
   "cell_type": "code",
   "execution_count": 130,
   "metadata": {
    "collapsed": true
   },
   "outputs": [],
   "source": [
    "train_by_sum = train[[\"VisitNumber\", \"ScanCount\", \"Pos_Sum\", \"Neg_Sum\"]]\n",
    "test_by_sum = test[[\"VisitNumber\", \"ScanCount\", \"Pos_Sum\", \"Neg_Sum\"]]\n",
    "\n",
    "train_by_max = train[[\"TripType\", \"VisitNumber\", \"Weekday\", \"Return\"]]\n",
    "test_by_max = test[[\"VisitNumber\", \"Weekday\", \"Return\"]]"
   ]
  },
  {
   "cell_type": "code",
   "execution_count": 131,
   "metadata": {
    "collapsed": true
   },
   "outputs": [],
   "source": [
    "train_by_sum = train_by_sum.groupby(\"VisitNumber\", as_index=False).sum()\n",
    "test_by_sum = test_by_sum.groupby(\"VisitNumber\", as_index=False).sum()\n",
    "\n",
    "train_by_max = train_by_max.groupby(\"VisitNumber\", as_index=False).max()\n",
    "test_by_max = test_by_max.groupby(\"VisitNumber\", as_index=False).max()"
   ]
  },
  {
   "cell_type": "code",
   "execution_count": 132,
   "metadata": {
    "collapsed": true
   },
   "outputs": [],
   "source": [
    "train = train_by_sum.merge(train_by_max, on=[\"VisitNumber\"])\n",
    "train = train.merge(train_dd, on=[\"VisitNumber\"])\n",
    "train = train.merge(train_company, on=[\"VisitNumber\"])\n",
    "train = train.merge(train_check, on=[\"VisitNumber\"])\n",
    "train = train.merge(train_fineline, on=[\"VisitNumber\"])\n",
    "train = train.merge(train_upc_fine_group, on=[\"VisitNumber\"])\n",
    "\n",
    "test = test_by_sum.merge(test_by_max, on=[\"VisitNumber\"])\n",
    "test = test.merge(test_dd, on=[\"VisitNumber\"])\n",
    "test = test.merge(test_company, on=[\"VisitNumber\"])\n",
    "test = test.merge(test_check, on=[\"VisitNumber\"])\n",
    "test = test.merge(test_fineline, on=[\"VisitNumber\"])\n",
    "test = test.merge(test_upc_fine_group, on=[\"VisitNumber\"])"
   ]
  },
  {
   "cell_type": "code",
   "execution_count": 133,
   "metadata": {
    "collapsed": true
   },
   "outputs": [],
   "source": [
    "y = train[\"TripType\"]\n",
    "train = train.drop([\"TripType\", \"HEALTH AND BEAUTY AIDS\"], axis=1)"
   ]
  },
  {
   "cell_type": "code",
   "execution_count": 134,
   "metadata": {},
   "outputs": [
    {
     "name": "stdout",
     "output_type": "stream",
     "text": [
      "CPU times: user 17.1 s, sys: 55.1 ms, total: 17.1 s\n",
      "Wall time: 17.2 s\n"
     ]
    }
   ],
   "source": [
    "%%time\n",
    "train = category_counts(train)\n",
    "test = category_counts(test)"
   ]
  },
  {
   "cell_type": "code",
   "execution_count": 135,
   "metadata": {
    "collapsed": true
   },
   "outputs": [],
   "source": [
    "train[\"Upc_Depts\"] = train[\"N_Upc\"] / train[\"N_FinelineNumber\"]\n",
    "test[\"Upc_Depts\"] = test[\"N_Upc\"] / test[\"N_FinelineNumber\"]"
   ]
  },
  {
   "cell_type": "code",
   "execution_count": 136,
   "metadata": {
    "collapsed": true
   },
   "outputs": [],
   "source": [
    "train = pd.get_dummies(train, columns=[\"Weekday\", \"Return\"])\n",
    "test = pd.get_dummies(test, columns=[\"Weekday\", \"Return\"])"
   ]
  },
  {
   "cell_type": "code",
   "execution_count": 137,
   "metadata": {},
   "outputs": [
    {
     "data": {
      "text/plain": [
       "((95674, 87), (95674, 87))"
      ]
     },
     "execution_count": 137,
     "metadata": {},
     "output_type": "execute_result"
    }
   ],
   "source": [
    "train.shape, test.shape"
   ]
  },
  {
   "cell_type": "code",
   "execution_count": 138,
   "metadata": {
    "collapsed": true
   },
   "outputs": [],
   "source": [
    "import xgboost as xgb\n",
    "from sklearn.model_selection import train_test_split\n",
    "from sklearn.model_selection import GridSearchCV\n",
    "from sklearn.preprocessing import LabelEncoder"
   ]
  },
  {
   "cell_type": "code",
   "execution_count": 139,
   "metadata": {
    "collapsed": true
   },
   "outputs": [],
   "source": [
    "label_enc = LabelEncoder().fit(y)\n",
    "y_labeled = label_enc.transform(y)"
   ]
  },
  {
   "cell_type": "code",
   "execution_count": 140,
   "metadata": {
    "collapsed": true
   },
   "outputs": [],
   "source": [
    "X_train, X_test, y_train, y_test = train_test_split(\n",
    "    train, y_labeled, random_state=0)"
   ]
  },
  {
   "cell_type": "code",
   "execution_count": 141,
   "metadata": {
    "collapsed": true
   },
   "outputs": [],
   "source": [
    "dtrain = xgb.DMatrix(X_train.values, label=y_train)\n",
    "dtest = xgb.DMatrix(X_test.values, label=y_test)"
   ]
  },
  {
   "cell_type": "code",
   "execution_count": 142,
   "metadata": {
    "scrolled": false
   },
   "outputs": [
    {
     "name": "stdout",
     "output_type": "stream",
     "text": [
      "[0]\ttrain-mlogloss:2.93537\teval-mlogloss:2.9471\n",
      "Multiple eval metrics have been passed: 'eval-mlogloss' will be used for early stopping.\n",
      "\n",
      "Will train until eval-mlogloss hasn't improved in 10 rounds.\n",
      "[1]\ttrain-mlogloss:2.34326\teval-mlogloss:2.37095\n",
      "[2]\ttrain-mlogloss:1.91318\teval-mlogloss:1.95558\n",
      "[3]\ttrain-mlogloss:1.65661\teval-mlogloss:1.71024\n",
      "[4]\ttrain-mlogloss:1.48188\teval-mlogloss:1.54478\n",
      "[5]\ttrain-mlogloss:1.34987\teval-mlogloss:1.42094\n",
      "[6]\ttrain-mlogloss:1.24623\teval-mlogloss:1.32529\n",
      "[7]\ttrain-mlogloss:1.16356\teval-mlogloss:1.24927\n",
      "[8]\ttrain-mlogloss:1.09548\teval-mlogloss:1.18797\n",
      "[9]\ttrain-mlogloss:1.03786\teval-mlogloss:1.13655\n",
      "[10]\ttrain-mlogloss:0.9907\teval-mlogloss:1.09534\n",
      "[11]\ttrain-mlogloss:0.949775\teval-mlogloss:1.06015\n",
      "[12]\ttrain-mlogloss:0.915182\teval-mlogloss:1.03132\n",
      "[13]\ttrain-mlogloss:0.883135\teval-mlogloss:1.00522\n",
      "[14]\ttrain-mlogloss:0.855546\teval-mlogloss:0.983329\n",
      "[15]\ttrain-mlogloss:0.830766\teval-mlogloss:0.963848\n",
      "[16]\ttrain-mlogloss:0.809331\teval-mlogloss:0.947327\n",
      "[17]\ttrain-mlogloss:0.790096\teval-mlogloss:0.933083\n",
      "[18]\ttrain-mlogloss:0.773187\teval-mlogloss:0.920612\n",
      "[19]\ttrain-mlogloss:0.757832\teval-mlogloss:0.910231\n",
      "[20]\ttrain-mlogloss:0.742478\teval-mlogloss:0.899666\n",
      "[21]\ttrain-mlogloss:0.729275\teval-mlogloss:0.891216\n",
      "[22]\ttrain-mlogloss:0.7169\teval-mlogloss:0.883316\n",
      "[23]\ttrain-mlogloss:0.705446\teval-mlogloss:0.876326\n",
      "[24]\ttrain-mlogloss:0.694165\teval-mlogloss:0.869842\n",
      "[25]\ttrain-mlogloss:0.6842\teval-mlogloss:0.864417\n",
      "[26]\ttrain-mlogloss:0.674067\teval-mlogloss:0.858812\n",
      "[27]\ttrain-mlogloss:0.664244\teval-mlogloss:0.85329\n",
      "[28]\ttrain-mlogloss:0.656316\teval-mlogloss:0.848851\n",
      "[29]\ttrain-mlogloss:0.64848\teval-mlogloss:0.845144\n",
      "[30]\ttrain-mlogloss:0.64128\teval-mlogloss:0.841707\n",
      "[31]\ttrain-mlogloss:0.63436\teval-mlogloss:0.83882\n",
      "[32]\ttrain-mlogloss:0.628288\teval-mlogloss:0.836467\n",
      "[33]\ttrain-mlogloss:0.621892\teval-mlogloss:0.833666\n",
      "[34]\ttrain-mlogloss:0.615218\teval-mlogloss:0.830833\n",
      "[35]\ttrain-mlogloss:0.60905\teval-mlogloss:0.828438\n",
      "[36]\ttrain-mlogloss:0.603341\teval-mlogloss:0.826194\n",
      "[37]\ttrain-mlogloss:0.598316\teval-mlogloss:0.823928\n",
      "[38]\ttrain-mlogloss:0.593203\teval-mlogloss:0.822313\n",
      "[39]\ttrain-mlogloss:0.587948\teval-mlogloss:0.820523\n",
      "[40]\ttrain-mlogloss:0.583168\teval-mlogloss:0.81903\n",
      "[41]\ttrain-mlogloss:0.577362\teval-mlogloss:0.81684\n",
      "[42]\ttrain-mlogloss:0.572852\teval-mlogloss:0.815261\n",
      "[43]\ttrain-mlogloss:0.567958\teval-mlogloss:0.813877\n",
      "[44]\ttrain-mlogloss:0.56335\teval-mlogloss:0.81239\n",
      "[45]\ttrain-mlogloss:0.559201\teval-mlogloss:0.811093\n",
      "[46]\ttrain-mlogloss:0.555334\teval-mlogloss:0.810083\n",
      "[47]\ttrain-mlogloss:0.551478\teval-mlogloss:0.8089\n",
      "[48]\ttrain-mlogloss:0.547432\teval-mlogloss:0.807729\n",
      "[49]\ttrain-mlogloss:0.543951\teval-mlogloss:0.807068\n",
      "[50]\ttrain-mlogloss:0.539264\teval-mlogloss:0.805638\n",
      "[51]\ttrain-mlogloss:0.535446\teval-mlogloss:0.804461\n",
      "[52]\ttrain-mlogloss:0.53215\teval-mlogloss:0.803829\n",
      "[53]\ttrain-mlogloss:0.52852\teval-mlogloss:0.803116\n",
      "[54]\ttrain-mlogloss:0.524893\teval-mlogloss:0.802189\n",
      "[55]\ttrain-mlogloss:0.521599\teval-mlogloss:0.801386\n",
      "[56]\ttrain-mlogloss:0.518235\teval-mlogloss:0.800755\n",
      "[57]\ttrain-mlogloss:0.514279\teval-mlogloss:0.799675\n",
      "[58]\ttrain-mlogloss:0.510982\teval-mlogloss:0.799505\n",
      "[59]\ttrain-mlogloss:0.508096\teval-mlogloss:0.798913\n",
      "[60]\ttrain-mlogloss:0.50462\teval-mlogloss:0.798052\n",
      "[61]\ttrain-mlogloss:0.500974\teval-mlogloss:0.796978\n",
      "[62]\ttrain-mlogloss:0.497665\teval-mlogloss:0.796417\n",
      "[63]\ttrain-mlogloss:0.493959\teval-mlogloss:0.795866\n",
      "[64]\ttrain-mlogloss:0.490364\teval-mlogloss:0.795022\n",
      "[65]\ttrain-mlogloss:0.487137\teval-mlogloss:0.794361\n",
      "[66]\ttrain-mlogloss:0.484716\teval-mlogloss:0.794121\n",
      "[67]\ttrain-mlogloss:0.482018\teval-mlogloss:0.793764\n",
      "[68]\ttrain-mlogloss:0.478856\teval-mlogloss:0.793401\n",
      "[69]\ttrain-mlogloss:0.476264\teval-mlogloss:0.793068\n",
      "[70]\ttrain-mlogloss:0.473745\teval-mlogloss:0.792635\n",
      "[71]\ttrain-mlogloss:0.47127\teval-mlogloss:0.792225\n",
      "[72]\ttrain-mlogloss:0.468388\teval-mlogloss:0.792139\n",
      "[73]\ttrain-mlogloss:0.465599\teval-mlogloss:0.791571\n",
      "[74]\ttrain-mlogloss:0.462926\teval-mlogloss:0.791425\n",
      "[75]\ttrain-mlogloss:0.460641\teval-mlogloss:0.79081\n",
      "[76]\ttrain-mlogloss:0.457674\teval-mlogloss:0.79051\n",
      "[77]\ttrain-mlogloss:0.455372\teval-mlogloss:0.790191\n",
      "[78]\ttrain-mlogloss:0.452781\teval-mlogloss:0.789769\n",
      "[79]\ttrain-mlogloss:0.45014\teval-mlogloss:0.789502\n",
      "[80]\ttrain-mlogloss:0.44756\teval-mlogloss:0.789047\n",
      "[81]\ttrain-mlogloss:0.445446\teval-mlogloss:0.788879\n",
      "[82]\ttrain-mlogloss:0.443247\teval-mlogloss:0.788444\n",
      "[83]\ttrain-mlogloss:0.440452\teval-mlogloss:0.788094\n",
      "[84]\ttrain-mlogloss:0.437691\teval-mlogloss:0.787871\n",
      "[85]\ttrain-mlogloss:0.435214\teval-mlogloss:0.787619\n",
      "[86]\ttrain-mlogloss:0.432999\teval-mlogloss:0.787814\n",
      "[87]\ttrain-mlogloss:0.430977\teval-mlogloss:0.787778\n",
      "[88]\ttrain-mlogloss:0.428365\teval-mlogloss:0.787646\n",
      "[89]\ttrain-mlogloss:0.425842\teval-mlogloss:0.787115\n",
      "[90]\ttrain-mlogloss:0.423329\teval-mlogloss:0.787039\n",
      "[91]\ttrain-mlogloss:0.421165\teval-mlogloss:0.786954\n",
      "[92]\ttrain-mlogloss:0.419136\teval-mlogloss:0.786781\n",
      "[93]\ttrain-mlogloss:0.417093\teval-mlogloss:0.786502\n",
      "[94]\ttrain-mlogloss:0.415134\teval-mlogloss:0.78651\n",
      "[95]\ttrain-mlogloss:0.412888\teval-mlogloss:0.786192\n",
      "[96]\ttrain-mlogloss:0.410724\teval-mlogloss:0.786112\n",
      "[97]\ttrain-mlogloss:0.408616\teval-mlogloss:0.786102\n",
      "[98]\ttrain-mlogloss:0.405697\teval-mlogloss:0.785496\n",
      "[99]\ttrain-mlogloss:0.403153\teval-mlogloss:0.785421\n",
      "[100]\ttrain-mlogloss:0.400653\teval-mlogloss:0.785365\n",
      "[101]\ttrain-mlogloss:0.398534\teval-mlogloss:0.785416\n",
      "[102]\ttrain-mlogloss:0.396658\teval-mlogloss:0.785193\n",
      "[103]\ttrain-mlogloss:0.394228\teval-mlogloss:0.785107\n",
      "[104]\ttrain-mlogloss:0.392374\teval-mlogloss:0.785306\n",
      "[105]\ttrain-mlogloss:0.390417\teval-mlogloss:0.785195\n",
      "[106]\ttrain-mlogloss:0.388643\teval-mlogloss:0.785175\n",
      "[107]\ttrain-mlogloss:0.386452\teval-mlogloss:0.784994\n",
      "[108]\ttrain-mlogloss:0.384507\teval-mlogloss:0.784734\n",
      "[109]\ttrain-mlogloss:0.382824\teval-mlogloss:0.784765\n",
      "[110]\ttrain-mlogloss:0.380721\teval-mlogloss:0.784573\n",
      "[111]\ttrain-mlogloss:0.379084\teval-mlogloss:0.784639\n",
      "[112]\ttrain-mlogloss:0.377311\teval-mlogloss:0.784418\n",
      "[113]\ttrain-mlogloss:0.375495\teval-mlogloss:0.784452\n",
      "[114]\ttrain-mlogloss:0.372891\teval-mlogloss:0.784265\n",
      "[115]\ttrain-mlogloss:0.371212\teval-mlogloss:0.784474\n",
      "[116]\ttrain-mlogloss:0.369351\teval-mlogloss:0.784724\n",
      "[117]\ttrain-mlogloss:0.367678\teval-mlogloss:0.784729\n",
      "[118]\ttrain-mlogloss:0.365909\teval-mlogloss:0.784839\n",
      "[119]\ttrain-mlogloss:0.364337\teval-mlogloss:0.784998\n",
      "[120]\ttrain-mlogloss:0.36257\teval-mlogloss:0.784806\n",
      "[121]\ttrain-mlogloss:0.36119\teval-mlogloss:0.784901\n",
      "[122]\ttrain-mlogloss:0.359681\teval-mlogloss:0.785068\n",
      "[123]\ttrain-mlogloss:0.35783\teval-mlogloss:0.785152\n",
      "[124]\ttrain-mlogloss:0.355876\teval-mlogloss:0.785251\n",
      "Stopping. Best iteration:\n",
      "[114]\ttrain-mlogloss:0.372891\teval-mlogloss:0.784265\n",
      "\n"
     ]
    }
   ],
   "source": [
    "num_boost_round = 300\n",
    "params = {'objective': 'multi:softprob', \n",
    "          'eval_metric': 'mlogloss',\n",
    "          'num_class':38, \n",
    "          'max_delta_step': 3, \n",
    "          'eta': 0.25}\n",
    "\n",
    "evals = [(dtrain, 'train'), (dtest, 'eval')]\n",
    "\n",
    "\n",
    "bst = xgb.train(params=params,  \n",
    "                dtrain=dtrain, \n",
    "                num_boost_round=num_boost_round, \n",
    "                evals=evals,\n",
    "               early_stopping_rounds=10,)"
   ]
  },
  {
   "cell_type": "code",
   "execution_count": 143,
   "metadata": {
    "collapsed": true
   },
   "outputs": [],
   "source": [
    "classes = np.array(list(set(label_enc.inverse_transform(y_labeled))))"
   ]
  },
  {
   "cell_type": "code",
   "execution_count": 144,
   "metadata": {
    "collapsed": true
   },
   "outputs": [],
   "source": [
    "dmtest = xgb.DMatrix(test.values) \n",
    "pred_proba = bst.predict(dmtest)\n",
    "\n",
    "proba_df = pd.DataFrame(pred_proba, columns=classes)\n",
    "proba_df.columns = proba_df.columns.map(lambda x: \"TripType_\" + str(x))\n",
    "sub_df = pd.concat([test[[\"VisitNumber\"]], proba_df], axis=1)\n",
    "sub_df.to_csv(\"../submission_0410_noProb_xgb_06.csv\", index=False)"
   ]
  },
  {
   "cell_type": "code",
   "execution_count": null,
   "metadata": {
    "collapsed": true
   },
   "outputs": [],
   "source": []
  }
 ],
 "metadata": {
  "kernelspec": {
   "display_name": "Python 3",
   "language": "python",
   "name": "python3"
  },
  "language_info": {
   "codemirror_mode": {
    "name": "ipython",
    "version": 3
   },
   "file_extension": ".py",
   "mimetype": "text/x-python",
   "name": "python",
   "nbconvert_exporter": "python",
   "pygments_lexer": "ipython3",
   "version": "3.6.3"
  }
 },
 "nbformat": 4,
 "nbformat_minor": 2
}
