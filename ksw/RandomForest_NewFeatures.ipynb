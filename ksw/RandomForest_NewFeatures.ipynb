{
 "cells": [
  {
   "cell_type": "code",
   "execution_count": 1,
   "metadata": {
    "collapsed": true
   },
   "outputs": [],
   "source": [
    "train = pd.read_csv(\"../dataset/train.csv\")\n",
    "original_train = train.copy()\n",
    "test = pd.read_csv(\"../dataset/test.csv\")\n",
    "original_test = test.copy()"
   ]
  },
  {
   "cell_type": "markdown",
   "metadata": {},
   "source": [
    "# Basic Features"
   ]
  },
  {
   "cell_type": "code",
   "execution_count": 71,
   "metadata": {
    "collapsed": true
   },
   "outputs": [],
   "source": [
    "# 반품 발생은 0으로 표기하는 컬럼 추가\n",
    "train[\"Count\"] = train[\"ScanCount\"]\n",
    "train.loc[train.Count < 0, \"Count\"] = 0\n",
    "# Fineline 없는 것은 9999로 명시\n",
    "train[\"FinelineNumber\"].fillna(value=9999, inplace=True)\n",
    "# Upc 없는 것은 -1로 명시\n",
    "train[\"Upc\"].fillna(value=-1, inplace=True)"
   ]
  },
  {
   "cell_type": "code",
   "execution_count": 72,
   "metadata": {
    "collapsed": true
   },
   "outputs": [],
   "source": [
    "wd = {\n",
    "    \"Monday\": 0,\n",
    "    \"Tuesday\": 1,\n",
    "    \"Wednesday\": 2,\n",
    "    \"Thursday\": 3, \n",
    "    \"Friday\": 4,\n",
    "    \"Saturday\": 5,\n",
    "    \"Sunday\": 6,\n",
    "}\n",
    "\n",
    "train[\"Weekday\"] = train[\"Weekday\"].apply(lambda x: wd[x])"
   ]
  },
  {
   "cell_type": "code",
   "execution_count": 73,
   "metadata": {
    "collapsed": true
   },
   "outputs": [],
   "source": [
    "# train[\"Upc\"] = train[\"Upc\"].apply(lambda x: float_to_str(x))\n",
    "# train[\"check\"] = train.Upc.apply(check_digit)\n",
    "# train[\"full_upc\"] = train.Upc.apply(full_upc)\n",
    "# train[\"company\"] = train.full_upc.apply(company)"
   ]
  },
  {
   "cell_type": "code",
   "execution_count": 74,
   "metadata": {
    "collapsed": true
   },
   "outputs": [],
   "source": [
    "# data['DepartmentDescription'] = preprocessing.LabelEncoder().fit_transform(list(data['DepartmentDescription'])) "
   ]
  },
  {
   "cell_type": "code",
   "execution_count": 75,
   "metadata": {
    "collapsed": true
   },
   "outputs": [],
   "source": [
    "# VisitNumber, DepartmentDescription으로 groupby. ScanCount sum(총 판매량) \n",
    "df = train.groupby([\"VisitNumber\", \"DepartmentDescription\"], as_index=False)[\"Count\"].sum()\n",
    "\n",
    "df1 = df.groupby([\"VisitNumber\"], as_index=False)[\"Count\"].min()\n",
    "df1.rename(columns={\"Count\": \"Min\"}, inplace=True)\n",
    "\n",
    "df2 = df.groupby([\"VisitNumber\"], as_index=False)[\"Count\"].max()\n",
    "df2.rename(columns={'Count': \"Max\"}, inplace=True)\n",
    "\n",
    "df3 = df.groupby([\"VisitNumber\"], as_index=False)[\"Count\"].mean()\n",
    "df3.rename(columns={\"Count\": \"Mean\"}, inplace=True)\n",
    "\n",
    "train = train.merge(df1, how='left', on=[\"VisitNumber\"], copy=True)\n",
    "train = train.merge(df2, how='left', on=[\"VisitNumber\"], copy=True)\n",
    "train = train.merge(df3, how='left', on=[\"VisitNumber\"], copy=True)  \n",
    "\n",
    "train[\"Range\"] = train[\"Max\"] - train[\"Min\"]"
   ]
  },
  {
   "cell_type": "code",
   "execution_count": 76,
   "metadata": {
    "collapsed": true
   },
   "outputs": [],
   "source": [
    "# def category_counts(data):\n",
    "#     \"\"\"\n",
    "#     Count total number of unique DepartmentDescription made on each trip.\n",
    "#     \"\"\"\n",
    "#     counts = []\n",
    "#     for array in np.asarray(data.loc[:, \"1-HR PHOTO\":\"WIRELESS\"]):\n",
    "#         count = 0\n",
    "#         for item in array:\n",
    "#             if item > 0:\n",
    "#                 count += 1\n",
    "#         counts.append(count)\n",
    "#     cat_counts = pd.DataFrame(counts)\n",
    "#     cat_counts = cat_counts.rename(columns={0:\"CategoryCount\"})\n",
    "#     cat_counts = cat_counts.set_index(data.index)\n",
    "#     data.insert(4, \"CategoryCounts\", cat_counts)"
   ]
  },
  {
   "cell_type": "code",
   "execution_count": 77,
   "metadata": {
    "collapsed": true,
    "scrolled": false
   },
   "outputs": [],
   "source": [
    "df = train[train[\"DepartmentDescription\"].isnull()]\n",
    "df = df.groupby([\"VisitNumber\"], as_index=False)[\"Count\"].count()\n",
    "df.rename(columns={\"Count\": \"Null_Depts\"}, inplace=True)\n",
    "train = train.merge(df, how='left', on=[\"VisitNumber\"], copy=True) \n",
    "train[\"Null_Depts\"].fillna(value=0, inplace=True)\n",
    "train.loc[train.Null_Depts > 0, \"Null_Depts\"] = 1"
   ]
  },
  {
   "cell_type": "code",
   "execution_count": 78,
   "metadata": {
    "collapsed": true
   },
   "outputs": [],
   "source": [
    "df = train[train[\"ScanCount\"] < 0]\n",
    "df = df.groupby([\"VisitNumber\"], as_index=False)[\"Count\"].count()\n",
    "df.rename(columns={\"Count\": \"Neg_Count\"}, inplace=True) \n",
    "train = train.merge(df, how='left', on=[\"VisitNumber\"], copy=True)\n",
    "train[\"Neg_Count\"].fillna(value=0, inplace=True)\n",
    "train.loc[train.Neg_Count > 0, \"Neg_Count\"] = 1"
   ]
  },
  {
   "cell_type": "code",
   "execution_count": 79,
   "metadata": {
    "collapsed": true
   },
   "outputs": [],
   "source": [
    "df = train[train[\"FinelineNumber\"]==9999]\n",
    "df = df.groupby([\"VisitNumber\"], as_index=False)[\"Count\"].count()\n",
    "df.rename(columns={\"Count\": \"Null_Fineline\"}, inplace=True)\n",
    "train = train.merge(df, how='left', on=[\"VisitNumber\"], copy=True)\n",
    "train[\"Null_Fineline\"].fillna(value=0, inplace=True)\n",
    "train.loc[train.Null_Fineline > 0, \"Null_Fineline\"] = 1"
   ]
  },
  {
   "cell_type": "code",
   "execution_count": 80,
   "metadata": {
    "collapsed": true
   },
   "outputs": [],
   "source": [
    "df = train.groupby([\"VisitNumber\",  \"FinelineNumber\"], as_index=False)[\"Count\"].count()\n",
    "df = df.groupby([\"VisitNumber\"], as_index=False)[\"Count\"].count()\n",
    "df.rename(columns={\"Count\": \"N_Fineline\"}, inplace=True) \n",
    "train = train.merge(df, how='left', on=[\"VisitNumber\"], copy=True)"
   ]
  },
  {
   "cell_type": "code",
   "execution_count": 81,
   "metadata": {
    "collapsed": true
   },
   "outputs": [],
   "source": [
    "df = train.groupby([\"VisitNumber\",  \"Upc\"], as_index=False)[\"Count\"].count()\n",
    "df = df.groupby([\"VisitNumber\"], as_index=False)[\"Count\"].count()\n",
    "df.rename(columns={\"Count\": \"N_Upc\"}, inplace=True) \n",
    "train = train.merge(df, how='left', on=[\"VisitNumber\"], copy=True) "
   ]
  },
  {
   "cell_type": "code",
   "execution_count": 82,
   "metadata": {
    "collapsed": true
   },
   "outputs": [],
   "source": [
    "df = train.groupby([\"VisitNumber\", \"DepartmentDescription\"], as_index=False)[\"Count\"].count()\n",
    "df = df.groupby([\"VisitNumber\"], as_index=False)[\"Count\"].count()\n",
    "df.rename(columns={\"Count\": \"N_Depts\"}, inplace=True) \n",
    "train = train.merge(df, how='left', on=[\"VisitNumber\"], copy=True)"
   ]
  },
  {
   "cell_type": "code",
   "execution_count": 83,
   "metadata": {
    "collapsed": true
   },
   "outputs": [],
   "source": [
    "df = train.groupby([\"VisitNumber\"], as_index=False)[\"Count\"].sum()\n",
    "df.rename(columns={\"Count\": \"Total_Buy\"}, inplace=True)\n",
    "train = train.merge(df, how='left', on=[\"VisitNumber\"], copy=True)"
   ]
  },
  {
   "cell_type": "code",
   "execution_count": 84,
   "metadata": {},
   "outputs": [
    {
     "data": {
      "text/plain": [
       "(647054, 21)"
      ]
     },
     "execution_count": 84,
     "metadata": {},
     "output_type": "execute_result"
    }
   ],
   "source": [
    "train[\"Ratio_F_D\"] = train[\"N_Fineline\"] / train[\"N_Depts\"]\n",
    "train[\"Ratio_U_D\"] = train[\"N_Upc\"] / train[\"N_Depts\"]\n",
    "train.shape"
   ]
  },
  {
   "cell_type": "code",
   "execution_count": 85,
   "metadata": {
    "collapsed": true
   },
   "outputs": [],
   "source": [
    "train[\"mean_to_min\"] = train[\"Mean\"] / train[\"Min\"]\n",
    "train.loc[train.mean_to_min==0, \"mean_to_min\"] = 1\n",
    "train['max_to_mean'] = train[\"Max\"] / train[\"Mean\"]\n",
    "train.loc[train.max_to_mean==0, \"max_to_mean\"] = 1"
   ]
  },
  {
   "cell_type": "code",
   "execution_count": 86,
   "metadata": {},
   "outputs": [
    {
     "data": {
      "text/plain": [
       "(647054, 22)"
      ]
     },
     "execution_count": 86,
     "metadata": {},
     "output_type": "execute_result"
    }
   ],
   "source": [
    "train.drop(\"Upc\", axis=1, inplace=True)\n",
    "train.shape"
   ]
  },
  {
   "cell_type": "markdown",
   "metadata": {},
   "source": [
    "### Basic Feature 요약\n",
    "\n",
    "- "
   ]
  },
  {
   "cell_type": "code",
   "execution_count": 87,
   "metadata": {
    "collapsed": true
   },
   "outputs": [],
   "source": [
    "depts_dummies = pd.get_dummies(train.DepartmentDescription)\n",
    "depts_dummies.drop(\"HEALTH AND BEAUTY AIDS\", axis=1, inplace=True)"
   ]
  },
  {
   "cell_type": "code",
   "execution_count": 88,
   "metadata": {},
   "outputs": [
    {
     "data": {
      "text/plain": [
       "(95674, 68)"
      ]
     },
     "execution_count": 88,
     "metadata": {},
     "output_type": "execute_result"
    }
   ],
   "source": [
    "depts_dummies = pd.concat([train[[\"VisitNumber\"]], depts_dummies], axis=1)\n",
    "depts_dummies_grouped = depts_dummies.groupby(\"VisitNumber\", as_index=False).sum()\n",
    "depts_dummies_grouped.shape"
   ]
  },
  {
   "cell_type": "code",
   "execution_count": 89,
   "metadata": {
    "collapsed": true
   },
   "outputs": [],
   "source": [
    "# total_scancount = train[\"Total_Buy\"]\n",
    "# for i in range(1, depts_dummies2.shape[1]):\n",
    "#     depts_dummies2.iloc[:, i] = depts_dummies2.iloc[:, i] / total_scancount\n",
    "# depts_dummies2.fillna(value=0, inplace=True)"
   ]
  },
  {
   "cell_type": "code",
   "execution_count": 90,
   "metadata": {
    "collapsed": true
   },
   "outputs": [],
   "source": [
    "fineline_dummies = pd.get_dummies(train.FinelineNumber)\n",
    "fineline_dummies = pd.concat([train[[\"VisitNumber\"]], fineline_dummies], axis=1)"
   ]
  },
  {
   "cell_type": "code",
   "execution_count": 91,
   "metadata": {
    "collapsed": true
   },
   "outputs": [],
   "source": [
    "def make_fineline_dummies(data):\n",
    "    \"\"\"\n",
    "    OneHotEncoding FinelineNumber which appear \n",
    "    more than 300 times each Trip Type.\n",
    "    \"\"\"\n",
    "    fineline_ranks = data.FinelineNumber.value_counts()\n",
    "    fineline_ranks = fineline_ranks[fineline_ranks > 500]\n",
    "#     columns1 = list(fineline_ranks.index)\n",
    "    dummies = pd.get_dummies(data.FinelineNumber)\n",
    "    dummies = dummies[fineline_ranks.index]\n",
    "    \n",
    "    data_visit = original_train[[\"VisitNumber\"]]\n",
    "    dummy_data = pd.concat([dummies, data_visit], axis=1)\n",
    "    dummy_data = dummy_data.groupby(\"VisitNumber\", as_index=False).aggregate(np.sum) # agg(\"sum\")보다 더 나은 성능\n",
    "    return dummy_data"
   ]
  },
  {
   "cell_type": "code",
   "execution_count": 92,
   "metadata": {
    "collapsed": true
   },
   "outputs": [],
   "source": [
    "fineline_dummies_grouped = make_fineline_dummies(train)"
   ]
  },
  {
   "cell_type": "code",
   "execution_count": 93,
   "metadata": {
    "collapsed": true
   },
   "outputs": [],
   "source": [
    "train = train.replace(np.inf, 0)\n",
    "train = train.fillna(value=0)"
   ]
  },
  {
   "cell_type": "code",
   "execution_count": 94,
   "metadata": {
    "collapsed": true
   },
   "outputs": [],
   "source": [
    "train.drop([\"DepartmentDescription\", \"FinelineNumber\"], axis=1, inplace=True)"
   ]
  },
  {
   "cell_type": "code",
   "execution_count": 95,
   "metadata": {
    "collapsed": true
   },
   "outputs": [],
   "source": [
    "train_by_max = train.groupby(\"VisitNumber\", as_index=False).agg(np.max)"
   ]
  },
  {
   "cell_type": "code",
   "execution_count": 96,
   "metadata": {},
   "outputs": [
    {
     "data": {
      "text/plain": [
       "(95674, 361)"
      ]
     },
     "execution_count": 96,
     "metadata": {},
     "output_type": "execute_result"
    }
   ],
   "source": [
    "train_grouped = train_by_max.merge(depts_dummies_grouped, how='left', on=[\"VisitNumber\"])\n",
    "train_grouped = train_grouped.merge(fineline_dummies_grouped, how='left', on=[\"VisitNumber\"])\n",
    "train_grouped.shape"
   ]
  },
  {
   "cell_type": "code",
   "execution_count": 97,
   "metadata": {
    "collapsed": true
   },
   "outputs": [],
   "source": [
    "y = train_grouped[\"TripType\"]\n",
    "X = train_grouped.drop(\"TripType\", axis=1)"
   ]
  },
  {
   "cell_type": "code",
   "execution_count": 98,
   "metadata": {
    "collapsed": true
   },
   "outputs": [],
   "source": [
    "X[\"OPTICAL\"] = X[\"OPTICAL - LENSES\"] + X[\"OPTICAL - FRAMES\"]\n",
    "X[\"DELI\"] = X[\"SERVICE DELI\"] + X[\"PRE PACKED DELI\"]\n",
    "\n",
    "X[\"WOMENS CLOTHES\"] = X[\"PLUS AND MATERNITY\"] + X[\"LADIES SOCKS\"] + X[\"LADIES SOCKS\"] + X[\"BRAS & SHAPEWEAR\"]\n",
    "X[\"ELECTRONICS\"] = X[\"ELECTRONICS\"] + X[\"PLAYERS AND ELECTRONICS\"]\n",
    "X[\"LADIESWEAR\"] = X[\"LADIESWEAR\"] + X[\"WOMENS CLOTHES\"]\n",
    "\n",
    "X[\"PHARMACY\"] = X[\"PHARMACY RX\"] + X[\"PHARMACY OTC\"]\n",
    "X[\"LAWN AND GARDEN\"] = X[\"LAWN AND GARDEN\"] + X[\"HORTICULTURE AND ACCESS\"]\n",
    "X[\"LADIESWEAR\"] = X[\"SHEER HOSIERY\"] + X[\"LADIESWEAR\"]\n",
    "\n",
    "X[\"CLOTHES\"] = X[\"BOYS WEAR\"] + X[\"MENSWEAR\"] + X[\"SWIMWEAR/OUTERWEAR\"] + X['GIRLS WEAR, 4-6X  AND 7-14'] +\\\n",
    "X[\"INFANT APPAREL\"] + X[\"LADIESWEAR\"] + X[\"MENS WEAR\"] + X[\"SLEEPWEAR/FOUNDATIONS\"]    \n",
    "\n",
    "X[\"GROCERIES\"] = X[\"BAKERY\"] + X[\"COMM BREAD\"] + X[\"DAIRY\"] + X[\"DSD GROCERY\"] + X[\"FROZEN FOODS\"] +\\\n",
    "X[\"GROCERY DRY GOODS\"] + X[\"MEAT - FRESH & FROZEN\"] + X[\"PRODUCE\"] + X[\"SEAFOOD\"] + X[\"DELI\"]\n",
    "\n",
    "X[\"CLOTHES\"] = X[\"CLOTHES\"] + X[\"SHOES\"]\n",
    "X[\"HOME\"] = X[\"BATH AND SHOWER\"] + X[\"HOME DECOR\"] + X[\"HOME MANAGEMENT\"] + X[\"BEDDING\"] +\\\n",
    "X[\"COOK AND DINE\"] + X[\"FURNITURE\"] + X[\"LARGE HOUSEHOLD GOODS\"] + X[\"SEASONAL\"]      \n",
    "\n",
    "X[\"JEWELRY AND ACCESSORIES\"] = X[\"JEWELRY AND SUNGLASSES\"] + X[\"ACCESSORIES\"]    \n",
    "X[\"ELECTRONICS\"] = X[\"ELECTRONICS\"] + X[\"CAMERAS AND SUPPLIES\"]\n",
    "\n",
    "X['HOUSEHOLD GOODS'] = X['HOUSEHOLD PAPER GOODS'] + X['HOUSEHOLD CHEMICALS/SUPP'] \n",
    "X[\"ELECTRONICS\"] = X[\"ELECTRONICS\"] + X[\"WIRELESS\"]\n",
    "X[\"BEAUTY AND PERSONAL CARE\"] = X[\"BEAUTY\"] + X[\"PERSONAL CARE\"]"
   ]
  },
  {
   "cell_type": "code",
   "execution_count": 99,
   "metadata": {
    "collapsed": true
   },
   "outputs": [],
   "source": [
    "to_drop = [\"OPTICAL - FRAMES\", \"OPTICAL - LENSES\", \"CONCEPT STORES\", \n",
    "           \"OTHER DEPARTMENTS\", \"PRE PACKED DELI\", \"SERVICE DELI\", \"PLUS AND MATERNITY\", \"LADIES SOCKS\", \n",
    "           \"BRAS & SHAPEWEAR\", \"PLAYERS AND ELECTRONICS\", \"WOMENS CLOTHES\", \"PHARMACY RX\", \"PHARMACY OTC\", \n",
    "           \"HORTICULTURE AND ACCESS\", \"SHEER HOSIERY\", \"BOYS WEAR\", \"MENSWEAR\", \"SWIMWEAR/OUTERWEAR\", \n",
    "           \"GIRLS WEAR, 4-6X  AND 7-14\", \"INFANT APPAREL\", \"LADIESWEAR\", \"MENS WEAR\", \"SLEEPWEAR/FOUNDATIONS\", \n",
    "           \"BAKERY\", \"COMM BREAD\", \"DAIRY\", \"DSD GROCERY\", \"FROZEN FOODS\", \"GROCERY DRY GOODS\", \n",
    "           \"MEAT - FRESH & FROZEN\",\"PRODUCE\", \"SEAFOOD\", \"DELI\", \"SHOES\", \"HOME DECOR\", \"BATH AND SHOWER\",\n",
    "           \"HOME MANAGEMENT\", \"BEDDING\",\"COOK AND DINE\", \"FURNITURE\", \"LARGE HOUSEHOLD GOODS\", \n",
    "           \"SEASONAL\", \"JEWELRY AND SUNGLASSES\", \"ACCESSORIES\", \"CAMERAS AND SUPPLIES\", \n",
    "           \"HOUSEHOLD CHEMICALS/SUPP\", \"HOUSEHOLD PAPER GOODS\", \"WIRELESS\", \"BEAUTY\", \"PERSONAL CARE\"]"
   ]
  },
  {
   "cell_type": "code",
   "execution_count": 100,
   "metadata": {
    "collapsed": true
   },
   "outputs": [],
   "source": [
    "# tmp = pd.concat([y, X], axis=1)\n",
    "# tmp.to_csv(\"./train_featured.csv\", index=False)"
   ]
  },
  {
   "cell_type": "code",
   "execution_count": 101,
   "metadata": {},
   "outputs": [
    {
     "data": {
      "text/plain": [
       "(95674, 320)"
      ]
     },
     "execution_count": 101,
     "metadata": {},
     "output_type": "execute_result"
    }
   ],
   "source": [
    "X = X.drop(to_drop, axis=1)\n",
    "X.shape"
   ]
  },
  {
   "cell_type": "code",
   "execution_count": 102,
   "metadata": {
    "collapsed": true
   },
   "outputs": [],
   "source": [
    "X = X.drop(9999, axis=1)"
   ]
  },
  {
   "cell_type": "code",
   "execution_count": 103,
   "metadata": {},
   "outputs": [
    {
     "data": {
      "text/plain": [
       "(95674, 319)"
      ]
     },
     "execution_count": 103,
     "metadata": {},
     "output_type": "execute_result"
    }
   ],
   "source": [
    "X.shape"
   ]
  },
  {
   "cell_type": "code",
   "execution_count": 104,
   "metadata": {
    "collapsed": true
   },
   "outputs": [],
   "source": [
    "from sklearn.model_selection import train_test_split\n",
    "from sklearn.ensemble import RandomForestClassifier"
   ]
  },
  {
   "cell_type": "code",
   "execution_count": 105,
   "metadata": {
    "collapsed": true
   },
   "outputs": [],
   "source": [
    "X_train, X_test, y_train, y_test = train_test_split(X, y, test_size=0.4, random_state=0)"
   ]
  },
  {
   "cell_type": "code",
   "execution_count": 38,
   "metadata": {
    "collapsed": true
   },
   "outputs": [],
   "source": [
    "n_estimators = 600\n",
    "max_features = 0.6\n",
    "min_samples_split = 40"
   ]
  },
  {
   "cell_type": "code",
   "execution_count": 39,
   "metadata": {
    "collapsed": true
   },
   "outputs": [],
   "source": [
    "rf = RandomForestClassifier(n_estimators=n_estimators, max_features=max_features,\n",
    "                            min_samples_split=min_samples_split, n_jobs=-1, random_state=0)"
   ]
  },
  {
   "cell_type": "code",
   "execution_count": 40,
   "metadata": {},
   "outputs": [
    {
     "name": "stdout",
     "output_type": "stream",
     "text": [
      "CPU times: user 17min 32s, sys: 3.46 s, total: 17min 35s\n",
      "Wall time: 4min 34s\n"
     ]
    },
    {
     "data": {
      "text/plain": [
       "RandomForestClassifier(bootstrap=True, class_weight=None, criterion='gini',\n",
       "            max_depth=None, max_features=0.6, max_leaf_nodes=None,\n",
       "            min_impurity_decrease=0.0, min_impurity_split=None,\n",
       "            min_samples_leaf=1, min_samples_split=40,\n",
       "            min_weight_fraction_leaf=0.0, n_estimators=600, n_jobs=-1,\n",
       "            oob_score=False, random_state=0, verbose=0, warm_start=False)"
      ]
     },
     "execution_count": 40,
     "metadata": {},
     "output_type": "execute_result"
    }
   ],
   "source": [
    "%%time\n",
    "rf.fit(X_train, y_train)"
   ]
  },
  {
   "cell_type": "code",
   "execution_count": 41,
   "metadata": {},
   "outputs": [
    {
     "name": "stdout",
     "output_type": "stream",
     "text": [
      "0.775033098739\n",
      "0.666056963679\n"
     ]
    }
   ],
   "source": [
    "print(rf.score(X_train, y_train))\n",
    "print(rf.score(X_test, y_test))"
   ]
  },
  {
   "cell_type": "code",
   "execution_count": 42,
   "metadata": {},
   "outputs": [
    {
     "data": {
      "text/plain": [
       "(38270, 35)"
      ]
     },
     "execution_count": 42,
     "metadata": {},
     "output_type": "execute_result"
    }
   ],
   "source": [
    "pred = rf.predict(X_test)\n",
    "pd.get_dummies(pred).shape"
   ]
  },
  {
   "cell_type": "code",
   "execution_count": 119,
   "metadata": {
    "collapsed": true
   },
   "outputs": [],
   "source": [
    "n_estimators = 300\n",
    "max_features = 0.5\n",
    "min_samples_split = 30\n",
    "\n",
    "from sklearn.ensemble import ExtraTreesClassifier\n",
    "\n",
    "extra_clf = ExtraTreesClassifier(n_estimators=n_estimators, max_features=max_features,\n",
    "                                 min_samples_split=min_samples_split, n_jobs=-1, random_state=0)"
   ]
  },
  {
   "cell_type": "code",
   "execution_count": 120,
   "metadata": {},
   "outputs": [
    {
     "name": "stdout",
     "output_type": "stream",
     "text": [
      "CPU times: user 10min 16s, sys: 2.94 s, total: 10min 19s\n",
      "Wall time: 2min 42s\n"
     ]
    },
    {
     "data": {
      "text/plain": [
       "ExtraTreesClassifier(bootstrap=False, class_weight=None, criterion='gini',\n",
       "           max_depth=None, max_features=0.5, max_leaf_nodes=None,\n",
       "           min_impurity_decrease=0.0, min_impurity_split=None,\n",
       "           min_samples_leaf=1, min_samples_split=30,\n",
       "           min_weight_fraction_leaf=0.0, n_estimators=300, n_jobs=-1,\n",
       "           oob_score=False, random_state=0, verbose=0, warm_start=False)"
      ]
     },
     "execution_count": 120,
     "metadata": {},
     "output_type": "execute_result"
    }
   ],
   "source": [
    "%%time\n",
    "extra_clf.fit(X_train, y_train)"
   ]
  },
  {
   "cell_type": "code",
   "execution_count": 121,
   "metadata": {},
   "outputs": [
    {
     "name": "stdout",
     "output_type": "stream",
     "text": [
      "0.894624068009\n",
      "0.668408675203\n"
     ]
    }
   ],
   "source": [
    "print(extra_clf.score(X_train, y_train))\n",
    "print(extra_clf.score(X_test, y_test))"
   ]
  },
  {
   "cell_type": "code",
   "execution_count": 122,
   "metadata": {},
   "outputs": [
    {
     "data": {
      "text/plain": [
       "(38270, 36)"
      ]
     },
     "execution_count": 122,
     "metadata": {},
     "output_type": "execute_result"
    }
   ],
   "source": [
    "pred_extra = extra_clf.predict(X_test)\n",
    "pd.get_dummies(pred_extra).shape"
   ]
  },
  {
   "cell_type": "code",
   "execution_count": 106,
   "metadata": {
    "collapsed": true
   },
   "outputs": [],
   "source": [
    "n_estimators = 500\n",
    "max_features = 0.55\n",
    "min_samples_split = 55\n",
    "\n",
    "rf = RandomForestClassifier(n_estimators=n_estimators, max_features=max_features,\n",
    "                            min_samples_split=min_samples_split, n_jobs=-1, random_state=0)"
   ]
  },
  {
   "cell_type": "code",
   "execution_count": 107,
   "metadata": {},
   "outputs": [
    {
     "name": "stdout",
     "output_type": "stream",
     "text": [
      "CPU times: user 12min 59s, sys: 2.76 s, total: 13min 1s\n",
      "Wall time: 3min 23s\n"
     ]
    },
    {
     "data": {
      "text/plain": [
       "RandomForestClassifier(bootstrap=True, class_weight=None, criterion='gini',\n",
       "            max_depth=None, max_features=0.55, max_leaf_nodes=None,\n",
       "            min_impurity_decrease=0.0, min_impurity_split=None,\n",
       "            min_samples_leaf=1, min_samples_split=55,\n",
       "            min_weight_fraction_leaf=0.0, n_estimators=500, n_jobs=-1,\n",
       "            oob_score=False, random_state=0, verbose=0, warm_start=False)"
      ]
     },
     "execution_count": 107,
     "metadata": {},
     "output_type": "execute_result"
    }
   ],
   "source": [
    "%%time\n",
    "rf.fit(X_train, y_train)"
   ]
  },
  {
   "cell_type": "code",
   "execution_count": 108,
   "metadata": {},
   "outputs": [
    {
     "name": "stdout",
     "output_type": "stream",
     "text": [
      "0.748257961118\n",
      "0.665586621374\n"
     ]
    }
   ],
   "source": [
    "print(rf.score(X_train, y_train))\n",
    "print(rf.score(X_test, y_test))"
   ]
  },
  {
   "cell_type": "code",
   "execution_count": 110,
   "metadata": {},
   "outputs": [
    {
     "data": {
      "text/plain": [
       "(38270, 35)"
      ]
     },
     "execution_count": 110,
     "metadata": {},
     "output_type": "execute_result"
    }
   ],
   "source": [
    "pred_rf_2 = rf.predict(X_test)\n",
    "pd.get_dummies(pred_rf_2).shape"
   ]
  },
  {
   "cell_type": "markdown",
   "metadata": {},
   "source": [
    "### DepartmentDescription Interation - 효과 없음"
   ]
  },
  {
   "cell_type": "code",
   "execution_count": 111,
   "metadata": {
    "collapsed": true
   },
   "outputs": [],
   "source": [
    "X_depts = X.loc[:, \"OPTICAL\":\"BEAUTY AND PERSONAL CARE\"]\n",
    "lst = X_depts.columns.tolist()\n",
    "for i in range(len(lst)-1):\n",
    "    for j in range(i+1, len(lst)):\n",
    "        X_depts['{}_{}'.format(lst[i], lst[j])] = X_depts[lst[i]] * X_depts[lst[j]]"
   ]
  },
  {
   "cell_type": "code",
   "execution_count": 112,
   "metadata": {
    "collapsed": true
   },
   "outputs": [],
   "source": [
    "X_depts_interaction = pd.concat([X, X_depts], axis=1)"
   ]
  },
  {
   "cell_type": "code",
   "execution_count": 113,
   "metadata": {
    "collapsed": true
   },
   "outputs": [],
   "source": [
    "X_train_interact, X_test_interact, y_train_interact, y_test_interact =\\\n",
    "train_test_split(X, y, test_size=0.4, random_state=0)"
   ]
  },
  {
   "cell_type": "code",
   "execution_count": 114,
   "metadata": {
    "collapsed": true
   },
   "outputs": [],
   "source": [
    "n_estimators = 500\n",
    "max_features = 0.55\n",
    "min_samples_split = 60\n",
    "\n",
    "rf = RandomForestClassifier(n_estimators=n_estimators, max_features=max_features, criterion=\"entropy\",\n",
    "                            min_samples_split=min_samples_split, n_jobs=-1, random_state=0)"
   ]
  },
  {
   "cell_type": "code",
   "execution_count": 115,
   "metadata": {},
   "outputs": [
    {
     "name": "stdout",
     "output_type": "stream",
     "text": [
      "CPU times: user 9min 48s, sys: 1.7 s, total: 9min 49s\n",
      "Wall time: 2min 33s\n"
     ]
    },
    {
     "data": {
      "text/plain": [
       "RandomForestClassifier(bootstrap=True, class_weight=None, criterion='entropy',\n",
       "            max_depth=None, max_features=0.55, max_leaf_nodes=None,\n",
       "            min_impurity_decrease=0.0, min_impurity_split=None,\n",
       "            min_samples_leaf=1, min_samples_split=60,\n",
       "            min_weight_fraction_leaf=0.0, n_estimators=500, n_jobs=-1,\n",
       "            oob_score=False, random_state=0, verbose=0, warm_start=False)"
      ]
     },
     "execution_count": 115,
     "metadata": {},
     "output_type": "execute_result"
    }
   ],
   "source": [
    "%%time\n",
    "rf.fit(X_train_interact, y_train_interact)"
   ]
  },
  {
   "cell_type": "code",
   "execution_count": 116,
   "metadata": {},
   "outputs": [
    {
     "name": "stdout",
     "output_type": "stream",
     "text": [
      "0.688593129399\n",
      "0.649176900967\n"
     ]
    }
   ],
   "source": [
    "print(rf.score(X_train_interact, y_train_interact))\n",
    "print(rf.score(X_test_interact, y_test_interact))"
   ]
  },
  {
   "cell_type": "code",
   "execution_count": 118,
   "metadata": {},
   "outputs": [
    {
     "data": {
      "text/plain": [
       "(38270, 31)"
      ]
     },
     "execution_count": 118,
     "metadata": {},
     "output_type": "execute_result"
    }
   ],
   "source": [
    "pred_interact_rf = rf.predict(X_test_interact)\n",
    "pd.get_dummies(pred_interact_rf).shape"
   ]
  },
  {
   "cell_type": "code",
   "execution_count": 61,
   "metadata": {},
   "outputs": [
    {
     "data": {
      "image/png": "[encoded data removed]",
      "text/plain": [
       "<matplotlib.figure.Figure at 0x1a269e09b0>"
      ]
     },
     "metadata": {
      "image/png": {
       "height": 807,
       "width": 859
      }
     },
     "output_type": "display_data"
    }
   ],
   "source": [
    "importance = rf.feature_importances_\n",
    "pairs = []\n",
    "for idx, value in enumerate(importance):\n",
    "    pairs.append((abs(value), X.columns[idx]))\n",
    "pairs.sort(key=lambda x: x[0], reverse=True)\n",
    "# for pair in pairs[:20]:\n",
    "#     print(\"importance: {:4f} feature: {}\".format(pair[0], pair[1]))\n",
    "importance.sort()\n",
    "importance = importance[::-1]\n",
    "\n",
    "labels = [label[1] for label in pairs]\n",
    "\n",
    "plt.figure(figsize=(12, 14))\n",
    "plt.barh(range(50), importance[:50][::-1], align=\"center\")\n",
    "plt.yticks(np.arange(50), labels[:50][::-1])\n",
    "plt.xlabel(\"Feature importance\")\n",
    "plt.ylim(-1, 50)\n",
    "plt.show()"
   ]
  },
  {
   "cell_type": "code",
   "execution_count": 8,
   "metadata": {
    "collapsed": true
   },
   "outputs": [],
   "source": [
    "def make_fineline_dummies_test(data):\n",
    "    \"\"\"\n",
    "    OneHotEncoding FinelineNumber which appear \n",
    "    more than 500 times each Trip Type.\n",
    "    \"\"\"\n",
    "#     train_fineline = original_data[\"FinelineNumber\"].unique()\n",
    "#     test_fineline = original_test[\"FinelineNumber\"].unique()\n",
    "#     intersection_fineline = list(set(train_fineline).intersection(set(test_fineline)))\n",
    "    \n",
    "    fineline_ranks = original_train.FinelineNumber.value_counts()\n",
    "    fineline_ranks = fineline_ranks[fineline_ranks > 500]\n",
    "#     columns1 = list(fineline_ranks.index)\n",
    "    dummies = pd.get_dummies(data.FinelineNumber)\n",
    "    dummies = dummies[fineline_ranks.index]\n",
    "    \n",
    "    data_visit = original_test[[\"VisitNumber\"]]\n",
    "    dummy_data = pd.concat([dummies, data_visit], axis=1)\n",
    "    dummy_data = dummy_data.groupby(\"VisitNumber\", as_index=False).aggregate(np.sum) # agg(\"sum\")보다 더 나은 성능\n",
    "    return dummy_data"
   ]
  },
  {
   "cell_type": "code",
   "execution_count": 9,
   "metadata": {
    "collapsed": true
   },
   "outputs": [],
   "source": [
    "wd = {\n",
    "    \"Monday\": 0,\n",
    "    \"Tuesday\": 1,\n",
    "    \"Wednesday\": 2,\n",
    "    \"Thursday\": 3, \n",
    "    \"Friday\": 4,\n",
    "    \"Saturday\": 5,\n",
    "    \"Sunday\": 6,\n",
    "}\n",
    "\n",
    "test[\"Weekday\"] = test[\"Weekday\"].apply(lambda x: wd[x])\n",
    "\n",
    "test[\"Count\"] = test[\"ScanCount\"]\n",
    "test.loc[test.Count < 0, \"Count\"] = 0\n",
    "test[\"FinelineNumber\"].fillna(value=9999, inplace=True)"
   ]
  },
  {
   "cell_type": "code",
   "execution_count": 10,
   "metadata": {
    "collapsed": true
   },
   "outputs": [],
   "source": [
    "df = test.groupby([\"VisitNumber\", \"DepartmentDescription\"], as_index=False)[\"Count\"].sum()\n",
    "\n",
    "df1 = df.groupby([\"VisitNumber\"], as_index=False)[\"Count\"].min()\n",
    "df1.rename(columns={\"Count\": \"Min\"}, inplace=True)\n",
    "\n",
    "df2 = df.groupby([\"VisitNumber\"], as_index=False)[\"Count\"].max()\n",
    "df2.rename(columns={'Count': \"Max\"}, inplace=True)\n",
    "\n",
    "df3 = df.groupby([\"VisitNumber\"], as_index=False)[\"Count\"].mean()\n",
    "df3.rename(columns={\"Count\": \"Mean\"}, inplace=True)\n",
    "\n",
    "test = test.merge(df1, how='left', on=[\"VisitNumber\"], copy=True)\n",
    "test = test.merge(df2, how='left', on=[\"VisitNumber\"], copy=True)\n",
    "test = test.merge(df3, how='left', on=[\"VisitNumber\"], copy=True)  "
   ]
  },
  {
   "cell_type": "code",
   "execution_count": 11,
   "metadata": {
    "collapsed": true
   },
   "outputs": [],
   "source": [
    "test[\"Range\"] = test[\"Max\"] - test[\"Min\"]\n",
    "\n",
    "df = test[test[\"DepartmentDescription\"].isnull()]\n",
    "df = df.groupby([\"VisitNumber\"], as_index=False)[\"Count\"].count()\n",
    "df.rename(columns={\"Count\": \"Null_Depts\"}, inplace=True)\n",
    "test = test.merge(df, how='left', on=[\"VisitNumber\"], copy=True) \n",
    "test[\"Null_Depts\"].fillna(value=0, inplace=True) \n",
    "test.loc[test.Null_Depts > 0, \"Null_Depts\"] = 1"
   ]
  },
  {
   "cell_type": "code",
   "execution_count": 12,
   "metadata": {
    "collapsed": true
   },
   "outputs": [],
   "source": [
    "df = test[test[\"ScanCount\"] < 0]\n",
    "df = df.groupby([\"VisitNumber\"], as_index=False)[\"Count\"].count()\n",
    "df.rename(columns={\"Count\": \"Neg_Count\"}, inplace=True) \n",
    "test = test.merge(df, how='left', on=[\"VisitNumber\"], copy=True)\n",
    "test[\"Neg_Count\"].fillna(value=0, inplace=True)\n",
    "test.loc[test.Neg_Count > 0, \"Neg_Count\"] = 1"
   ]
  },
  {
   "cell_type": "code",
   "execution_count": 13,
   "metadata": {
    "collapsed": true
   },
   "outputs": [],
   "source": [
    "df = test[test[\"FinelineNumber\"]==9999]\n",
    "df = df.groupby([\"VisitNumber\"], as_index=False)[\"Count\"].count()\n",
    "df.rename(columns={\"Count\": \"Null_Fineline\"}, inplace=True)\n",
    "test = test.merge(df, how='left', on=[\"VisitNumber\"], copy=True) "
   ]
  },
  {
   "cell_type": "code",
   "execution_count": 14,
   "metadata": {
    "collapsed": true
   },
   "outputs": [],
   "source": [
    "test[\"Null_Fineline\"].fillna(value=0, inplace=True)\n",
    "test.loc[test.Null_Fineline > 0, \"Null_Fineline\"] = 1"
   ]
  },
  {
   "cell_type": "code",
   "execution_count": 15,
   "metadata": {
    "collapsed": true
   },
   "outputs": [],
   "source": [
    "df = test.groupby([\"VisitNumber\",  \"FinelineNumber\"], as_index=False)[\"Count\"].count()\n",
    "df = df.groupby([\"VisitNumber\"], as_index=False)[\"Count\"].count()\n",
    "df.rename(columns={\"Count\": \"N_Fineline\"}, inplace=True) \n",
    "test = test.merge(df, how='left', on=[\"VisitNumber\"], copy=True)"
   ]
  },
  {
   "cell_type": "code",
   "execution_count": 16,
   "metadata": {
    "collapsed": true
   },
   "outputs": [],
   "source": [
    "df = test.groupby([\"VisitNumber\",  \"Upc\"], as_index=False)[\"Count\"].count()\n",
    "df = df.groupby([\"VisitNumber\"], as_index=False)[\"Count\"].count()\n",
    "df.rename(columns={\"Count\": \"N_Upc\"}, inplace=True) \n",
    "test = test.merge(df, how='left', on=[\"VisitNumber\"], copy=True) "
   ]
  },
  {
   "cell_type": "code",
   "execution_count": 19,
   "metadata": {
    "collapsed": true
   },
   "outputs": [],
   "source": [
    "# 커널이 죽음... ???\n",
    "df_ = test.groupby([\"VisitNumber\", \"DepartmentDescription\"], as_index=False)[\"Count\"].count()"
   ]
  },
  {
   "cell_type": "code",
   "execution_count": 20,
   "metadata": {
    "collapsed": true
   },
   "outputs": [],
   "source": [
    "df_ = df_.groupby([\"VisitNumber\"], as_index=False)[\"Count\"].count()"
   ]
  },
  {
   "cell_type": "code",
   "execution_count": 21,
   "metadata": {
    "collapsed": true
   },
   "outputs": [],
   "source": [
    "df_.rename(columns={\"Count\": \"N_Depts\"}, inplace=True) \n",
    "test = test.merge(df_, how='left', on=[\"VisitNumber\"], copy=True)"
   ]
  },
  {
   "cell_type": "code",
   "execution_count": 22,
   "metadata": {
    "collapsed": true
   },
   "outputs": [],
   "source": [
    "df = test.groupby([\"VisitNumber\"], as_index=False)[\"Count\"].sum()\n",
    "df.rename(columns={\"Count\": \"Total_Buy\"}, inplace=True)\n",
    "test = test.merge(df, how='left', on=[\"VisitNumber\"], copy=True)"
   ]
  },
  {
   "cell_type": "code",
   "execution_count": 23,
   "metadata": {
    "collapsed": true
   },
   "outputs": [],
   "source": [
    "test[\"Ratio_F_D\"] = test[\"N_Fineline\"] / test[\"N_Depts\"]\n",
    "test[\"Ratio_U_D\"] = test[\"N_Upc\"] / test[\"N_Depts\"]\n",
    "\n",
    "test[\"mean_to_min\"] = test[\"Mean\"] / test[\"Min\"]\n",
    "test.loc[test.mean_to_min==0, \"mean_to_min\"] = 1\n",
    "test['max_to_mean'] = test[\"Max\"] / test[\"Mean\"]\n",
    "test.loc[test.max_to_mean==0, \"max_to_mean\"] = 1\n",
    "\n",
    "test.drop(\"Upc\", axis=1, inplace=True)"
   ]
  },
  {
   "cell_type": "code",
   "execution_count": 24,
   "metadata": {},
   "outputs": [
    {
     "data": {
      "text/plain": [
       "(95674, 68)"
      ]
     },
     "execution_count": 24,
     "metadata": {},
     "output_type": "execute_result"
    }
   ],
   "source": [
    "depts_dummies = pd.get_dummies(test.DepartmentDescription)\n",
    "\n",
    "depts_dummies_test = pd.concat([test[[\"VisitNumber\"]], depts_dummies], axis=1)\n",
    "depts_dummies_test_grouped = depts_dummies_test.groupby(\"VisitNumber\", as_index=False).sum()\n",
    "depts_dummies_test_grouped.shape"
   ]
  },
  {
   "cell_type": "code",
   "execution_count": 25,
   "metadata": {
    "collapsed": true
   },
   "outputs": [],
   "source": [
    "# fineline_dummies_test = pd.get_dummies(test.FinelineNumber)\n",
    "# fineline_dummies_test = pd.concat([test[[\"VisitNumber\"]], fineline_dummies_test], axis=1)"
   ]
  },
  {
   "cell_type": "code",
   "execution_count": 26,
   "metadata": {
    "collapsed": true
   },
   "outputs": [],
   "source": [
    "fineline_dummies_test_grouped = make_fineline_dummies_test(test)"
   ]
  },
  {
   "cell_type": "code",
   "execution_count": 27,
   "metadata": {
    "collapsed": true
   },
   "outputs": [],
   "source": [
    "test = test.replace(np.inf, 0)\n",
    "test = test.fillna(value=0)\n",
    "test.drop([\"DepartmentDescription\", \"FinelineNumber\"], axis=1, inplace=True)"
   ]
  },
  {
   "cell_type": "code",
   "execution_count": 28,
   "metadata": {},
   "outputs": [
    {
     "data": {
      "text/plain": [
       "(95674, 359)"
      ]
     },
     "execution_count": 28,
     "metadata": {},
     "output_type": "execute_result"
    }
   ],
   "source": [
    "test_by_max = test.groupby(\"VisitNumber\", as_index=False).agg(np.max)\n",
    "test_grouped = test_by_max.merge(depts_dummies_test_grouped, how='left', on=[\"VisitNumber\"])\n",
    "test_grouped = test_grouped.merge(fineline_dummies_test_grouped, how='left', on=[\"VisitNumber\"])\n",
    "test_grouped.shape"
   ]
  },
  {
   "cell_type": "code",
   "execution_count": 29,
   "metadata": {
    "collapsed": true
   },
   "outputs": [],
   "source": [
    "X_test = test_grouped\n",
    "\n",
    "X_test[\"OPTICAL\"] = X_test[\"OPTICAL - LENSES\"] + X_test[\"OPTICAL - FRAMES\"]\n",
    "X_test[\"DELI\"] = X_test[\"SERVICE DELI\"] + X_test[\"PRE PACKED DELI\"]\n",
    "\n",
    "X_test[\"WOMENS CLOTHES\"] = X_test[\"PLUS AND MATERNITY\"] + X_test[\"LADIES SOCKS\"] + X_test[\"LADIES SOCKS\"] +\\\n",
    "X_test[\"BRAS & SHAPEWEAR\"]\n",
    "\n",
    "X_test[\"ELECTRONICS\"] = X_test[\"ELECTRONICS\"] + X_test[\"PLAYERS AND ELECTRONICS\"]\n",
    "X_test[\"LADIESWEAR\"] = X_test[\"LADIESWEAR\"] + X_test[\"WOMENS CLOTHES\"]\n",
    "\n",
    "X_test[\"PHARMACY\"] = X_test[\"PHARMACY RX\"] + X_test[\"PHARMACY OTC\"]\n",
    "X_test[\"LAWN AND GARDEN\"] = X_test[\"LAWN AND GARDEN\"] + X_test[\"HORTICULTURE AND ACCESS\"]\n",
    "X_test[\"LADIESWEAR\"] = X_test[\"SHEER HOSIERY\"] + X_test[\"LADIESWEAR\"]\n",
    "\n",
    "X_test[\"CLOTHES\"] = X_test[\"BOYS WEAR\"] + X_test[\"MENSWEAR\"] + X_test[\"SWIMWEAR/OUTERWEAR\"] + X_test['GIRLS WEAR, 4-6X  AND 7-14'] +\\\n",
    "X_test[\"INFANT APPAREL\"] + X_test[\"LADIESWEAR\"] + X_test[\"MENS WEAR\"] + X_test[\"SLEEPWEAR/FOUNDATIONS\"]    \n",
    "\n",
    "X_test[\"GROCERIES\"] = X_test[\"BAKERY\"] + X_test[\"COMM BREAD\"] + X_test[\"DAIRY\"] + X_test[\"DSD GROCERY\"] + X_test[\"FROZEN FOODS\"] +\\\n",
    "X_test[\"GROCERY DRY GOODS\"] + X_test[\"MEAT - FRESH & FROZEN\"] + X_test[\"PRODUCE\"] + X_test[\"SEAFOOD\"] + X_test[\"DELI\"]\n",
    "\n",
    "X_test[\"CLOTHES\"] = X_test[\"CLOTHES\"] + X_test[\"SHOES\"]\n",
    "X_test[\"HOME\"] = X_test[\"BATH AND SHOWER\"] + X_test[\"HOME DECOR\"] + X_test[\"HOME MANAGEMENT\"] + X_test[\"BEDDING\"] +\\\n",
    "X_test[\"COOK AND DINE\"] + X_test[\"FURNITURE\"] + X_test[\"LARGE HOUSEHOLD GOODS\"] + X_test[\"SEASONAL\"]      \n",
    "\n",
    "X_test[\"JEWELRY AND ACCESSORIES\"] = X_test[\"JEWELRY AND SUNGLASSES\"] + X_test[\"ACCESSORIES\"]    \n",
    "X_test[\"ELECTRONICS\"] = X_test[\"ELECTRONICS\"] + X_test[\"CAMERAS AND SUPPLIES\"]\n",
    "\n",
    "X_test['HOUSEHOLD GOODS'] = X_test['HOUSEHOLD PAPER GOODS'] + X_test['HOUSEHOLD CHEMICALS/SUPP'] \n",
    "X_test[\"ELECTRONICS\"] = X_test[\"ELECTRONICS\"] + X_test[\"WIRELESS\"]\n",
    "X_test[\"BEAUTY AND PERSONAL CARE\"] = X_test[\"BEAUTY\"] + X_test[\"PERSONAL CARE\"]\n",
    "\n",
    "to_drop = [\"OPTICAL - FRAMES\", \"OPTICAL - LENSES\", \"CONCEPT STORES\", \n",
    "           \"OTHER DEPARTMENTS\", \"PRE PACKED DELI\", \"SERVICE DELI\", \"PLUS AND MATERNITY\", \"LADIES SOCKS\", \n",
    "           \"BRAS & SHAPEWEAR\", \"PLAYERS AND ELECTRONICS\", \"WOMENS CLOTHES\", \"PHARMACY RX\", \"PHARMACY OTC\", \n",
    "           \"HORTICULTURE AND ACCESS\", \"SHEER HOSIERY\", \"BOYS WEAR\", \"MENSWEAR\", \"SWIMWEAR/OUTERWEAR\", \n",
    "           \"GIRLS WEAR, 4-6X  AND 7-14\", \"INFANT APPAREL\", \"LADIESWEAR\", \"MENS WEAR\", \"SLEEPWEAR/FOUNDATIONS\", \n",
    "           \"BAKERY\", \"COMM BREAD\", \"DAIRY\", \"DSD GROCERY\", \"FROZEN FOODS\", \"GROCERY DRY GOODS\", \n",
    "           \"MEAT - FRESH & FROZEN\",\"PRODUCE\", \"SEAFOOD\", \"DELI\", \"SHOES\", \"HOME DECOR\", \"BATH AND SHOWER\",\n",
    "           \"HOME MANAGEMENT\", \"BEDDING\",\"COOK AND DINE\", \"FURNITURE\", \"LARGE HOUSEHOLD GOODS\", \n",
    "           \"SEASONAL\", \"JEWELRY AND SUNGLASSES\", \"ACCESSORIES\", \"CAMERAS AND SUPPLIES\", \n",
    "           \"HOUSEHOLD CHEMICALS/SUPP\", \"HOUSEHOLD PAPER GOODS\", \"WIRELESS\", \"BEAUTY\", \"PERSONAL CARE\"]"
   ]
  },
  {
   "cell_type": "code",
   "execution_count": 30,
   "metadata": {
    "collapsed": true
   },
   "outputs": [],
   "source": [
    "X_test = X_test.drop(to_drop, axis=1)"
   ]
  },
  {
   "cell_type": "code",
   "execution_count": 32,
   "metadata": {
    "collapsed": true
   },
   "outputs": [],
   "source": [
    "import pickle\n",
    "model = pickle.load(open(\"pw.pickle\", \"rb\"))"
   ]
  },
  {
   "cell_type": "code",
   "execution_count": 35,
   "metadata": {
    "collapsed": true
   },
   "outputs": [],
   "source": [
    "# 커널 죽을 때\n",
    "prob = model.predict_proba(X_test)"
   ]
  },
  {
   "cell_type": "code",
   "execution_count": 31,
   "metadata": {},
   "outputs": [
    {
     "ename": "NameError",
     "evalue": "name 'rf' is not defined",
     "output_type": "error",
     "traceback": [
      "\u001b[0;31m---------------------------------------------------------------------------\u001b[0m",
      "\u001b[0;31mNameError\u001b[0m                                 Traceback (most recent call last)",
      "\u001b[0;32m<ipython-input-31-28590d8748c0>\u001b[0m in \u001b[0;36m<module>\u001b[0;34m()\u001b[0m\n\u001b[0;32m----> 1\u001b[0;31m \u001b[0mpred_test\u001b[0m \u001b[0;34m=\u001b[0m \u001b[0mrf\u001b[0m\u001b[0;34m.\u001b[0m\u001b[0mpredict\u001b[0m\u001b[0;34m(\u001b[0m\u001b[0mX_test\u001b[0m\u001b[0;34m)\u001b[0m\u001b[0;34m\u001b[0m\u001b[0m\n\u001b[0m",
      "\u001b[0;31mNameError\u001b[0m: name 'rf' is not defined"
     ]
    }
   ],
   "source": [
    "# pred_test = rf.predict(X_test)"
   ]
  },
  {
   "cell_type": "code",
   "execution_count": 42,
   "metadata": {
    "collapsed": true
   },
   "outputs": [],
   "source": [
    "pred = model.predict(X_test)"
   ]
  },
  {
   "cell_type": "code",
   "execution_count": 37,
   "metadata": {
    "collapsed": true
   },
   "outputs": [],
   "source": [
    "sample = pd.read_csv(\"../dataset/sample_submission 2.csv\")"
   ]
  },
  {
   "cell_type": "code",
   "execution_count": 86,
   "metadata": {
    "collapsed": true
   },
   "outputs": [],
   "source": [
    "featured = pd.read_csv(\"./train_featured.csv\")"
   ]
  },
  {
   "cell_type": "code",
   "execution_count": 46,
   "metadata": {
    "collapsed": true
   },
   "outputs": [],
   "source": [
    "pred_dummies = pd.get_dummies(pred)\n",
    "pred_dummies.columns = pred_dummies.columns.map(lambda x: str('TripType_') + str(x))"
   ]
  },
  {
   "cell_type": "code",
   "execution_count": 48,
   "metadata": {
    "collapsed": true
   },
   "outputs": [],
   "source": [
    "pred_dummies_concat = pd.concat([sample[[\"VisitNumber\"]], pred_dummies], axis=1)"
   ]
  },
  {
   "cell_type": "code",
   "execution_count": 87,
   "metadata": {
    "collapsed": true
   },
   "outputs": [],
   "source": [
    "prob_df = pd.DataFrame(prob, columns=model.classes_)\n",
    "prob_df.columns = prob_df.columns.map(lambda x: str('TripType_') + str(x))\n",
    "sub = pd.concat([featured[[\"VisitNumber\"]], prob_df], axis=1)"
   ]
  },
  {
   "cell_type": "code",
   "execution_count": 88,
   "metadata": {
    "collapsed": true
   },
   "outputs": [],
   "source": [
    "sub.to_csv(\"./submission_0408.csv\", index=False)"
   ]
  },
  {
   "cell_type": "code",
   "execution_count": null,
   "metadata": {
    "collapsed": true
   },
   "outputs": [],
   "source": [
    "pro"
   ]
  },
  {
   "cell_type": "code",
   "execution_count": null,
   "metadata": {
    "collapsed": true
   },
   "outputs": [],
   "source": []
  },
  {
   "cell_type": "code",
   "execution_count": null,
   "metadata": {
    "collapsed": true
   },
   "outputs": [],
   "source": [
    " "
   ]
  },
  {
   "cell_type": "code",
   "execution_count": null,
   "metadata": {
    "collapsed": true
   },
   "outputs": [],
   "source": []
  },
  {
   "cell_type": "code",
   "execution_count": 124,
   "metadata": {
    "collapsed": true
   },
   "outputs": [],
   "source": [
    "prob = rf.predict_proba(X_test)"
   ]
  },
  {
   "cell_type": "code",
   "execution_count": 126,
   "metadata": {
    "collapsed": true
   },
   "outputs": [],
   "source": [
    "classes = rf.classes_"
   ]
  },
  {
   "cell_type": "code",
   "execution_count": 137,
   "metadata": {},
   "outputs": [
    {
     "data": {
      "text/plain": [
       "(38270, 38)"
      ]
     },
     "execution_count": 137,
     "metadata": {},
     "output_type": "execute_result"
    }
   ],
   "source": [
    "prob.shape"
   ]
  },
  {
   "cell_type": "code",
   "execution_count": 138,
   "metadata": {
    "collapsed": true
   },
   "outputs": [],
   "source": [
    "df_sub = pd.DataFrame(prob, columns=classes)\n",
    "df_vn = X[[\"VisitNumber\"]]"
   ]
  },
  {
   "cell_type": "code",
   "execution_count": null,
   "metadata": {
    "collapsed": true
   },
   "outputs": [],
   "source": [
    "submission = pd.concat([df_vn, df_sub], axis=1)"
   ]
  },
  {
   "cell_type": "code",
   "execution_count": null,
   "metadata": {
    "collapsed": true
   },
   "outputs": [],
   "source": [
    "df_sub = pd.DataFrame(prob, columns=classes)\n",
    "df_vn = pd.DataFrame(y, columns=[\"VisitNumber\"])\n",
    "submission = pd.concat([df_vn, df_sub], axis=1)\n",
    "submission.columns = submission.columns\n",
    "\n",
    "VisitNumberDF = pd.DataFrame(testDF.iloc[0::,0:1].values, columns=['VisitNumber'])\n",
    "\n",
    "ProbabilitiesDF = pd.DataFrame(prob, columns=classes)\n",
    "ProbabilitiesDF.columns = ProbabilitiesDF.columns.map(lambda x: str('TripType_') + str(x))\n",
    "SubmissionDF = VisitNumberDF.join(ProbabilitiesDF)"
   ]
  },
  {
   "cell_type": "code",
   "execution_count": null,
   "metadata": {
    "collapsed": true
   },
   "outputs": [],
   "source": []
  },
  {
   "cell_type": "code",
   "execution_count": null,
   "metadata": {
    "collapsed": true
   },
   "outputs": [],
   "source": []
  },
  {
   "cell_type": "markdown",
   "metadata": {},
   "source": [
    "# Department_Count_Product"
   ]
  },
  {
   "cell_type": "raw",
   "metadata": {},
   "source": [
    "def Department_Count_Products(data, department_list):\n",
    "    \n",
    "    new_data=data[['VisitNumber', 'Weekday', 'Sum']].drop_duplicates()\n",
    "    for i in range(len(department_list)):\n",
    "       df=data[data['DepartmentDescription']==department_list[i]]\n",
    "       df = df.groupby(['VisitNumber'], as_index=False)['Count'].sum()\n",
    "       df.rename(columns={'Count': 'D_%s' % (i)}, inplace=True)\n",
    "       new_data = new_data.merge(df, how='left', on=['VisitNumber'], copy=True)\n",
    "       new_data['D_%s' % (i)].fillna(value=0, inplace=True)\n",
    "       new_data['Ratio_%s' % (i)] = new_data['D_%s' % (i)]/new_data['Sum']\n",
    "       new_data['Ratio_%s' % (i)].fillna(value=0, inplace=True)\n",
    "    new_data.drop(['Sum', 'Weekday'], axis=1, inplace=True)\n",
    "    return new_data"
   ]
  },
  {
   "cell_type": "code",
   "execution_count": 48,
   "metadata": {},
   "outputs": [
    {
     "data": {
      "text/plain": [
       "(647054, 69)"
      ]
     },
     "execution_count": 48,
     "metadata": {},
     "output_type": "execute_result"
    }
   ],
   "source": [
    "dd_dummies = pd.get_dummies(train.DepartmentDescription)\n",
    "dd_dummies.shape"
   ]
  },
  {
   "cell_type": "code",
   "execution_count": 49,
   "metadata": {
    "collapsed": true
   },
   "outputs": [],
   "source": [
    "dd_dummies_2 = dd_dummies.copy()"
   ]
  },
  {
   "cell_type": "code",
   "execution_count": 50,
   "metadata": {
    "collapsed": true
   },
   "outputs": [],
   "source": [
    "for i in range(dd_dummies.shape[1]):\n",
    "    dd_dummies_2['Ratio_%s' % (dd_dummies_2.columns[i])] = dd_dummies_2[i]/train['Sum']\n",
    "\n",
    "#sum이 0이면 NaN이 발생한다\n",
    "dd_dummies_2.fillna(value=0, inplace=True)"
   ]
  },
  {
   "cell_type": "code",
   "execution_count": 51,
   "metadata": {},
   "outputs": [
    {
     "data": {
      "text/plain": [
       "(647054, 69)"
      ]
     },
     "execution_count": 51,
     "metadata": {},
     "output_type": "execute_result"
    }
   ],
   "source": [
    "dd_dummies_ratio = dd_dummies_2.iloc[:, 69:]\n",
    "dd_dummies_ratio.shape"
   ]
  },
  {
   "cell_type": "markdown",
   "metadata": {},
   "source": [
    "### DepartmentDescription_Count\n",
    "\n",
    "- DepartmentDescription을 모두 Dummy 변수로 추가하는 내용. (get_dummy로 대체 가능)\n",
    "- VisitNumber별로 발생한 각 DepartmentDescription이, Visitnumber의 전체 ScanCount(판매량)에서 차지하는 비율 ( Ratio_$i$ ) 추가"
   ]
  },
  {
   "cell_type": "markdown",
   "metadata": {},
   "source": [
    "* * * *"
   ]
  },
  {
   "cell_type": "markdown",
   "metadata": {},
   "source": [
    "# Department_Count_Neg"
   ]
  },
  {
   "cell_type": "raw",
   "metadata": {},
   "source": [
    "def Department_Counts_Neg_Products(data, department_list):\n",
    "\n",
    "    new_data=data[['VisitNumber', 'Weekday']].drop_duplicates()\n",
    "    for i in range(len(department_list)):\n",
    "       df=data[(data['DepartmentDescription']==department_list[i]) & (data['ScanCount']<0)]\n",
    "       df = df.groupby(['VisitNumber'], as_index=False)['ScanCount'].sum()\n",
    "       df['ScanCount'] = df['ScanCount']*(-1)\n",
    "       df.rename(columns={'ScanCount': 'D1_%s' % (i)}, inplace=True)\n",
    "       new_data = new_data.merge(df, how='left', on=['VisitNumber'], copy=True)\n",
    "       new_data['D1_%s' % (i)].fillna(value=0, inplace=True)\n",
    "    new_data.drop('Weekday', axis=1, inplace=True)   \n",
    "    return new_data "
   ]
  },
  {
   "cell_type": "code",
   "execution_count": 52,
   "metadata": {
    "collapsed": true
   },
   "outputs": [],
   "source": [
    "dd_dummies_2 = dd_dummies.copy()"
   ]
  },
  {
   "cell_type": "code",
   "execution_count": 53,
   "metadata": {
    "collapsed": true
   },
   "outputs": [],
   "source": [
    "for i in range(69):\n",
    "    dd_dummies_2['Return_%s' % (dd_dummies_2.columns[i])] = dd_dummies_2[i]*train['ScanCount'][train['ScanCount'] < 0]\n",
    "    \n",
    "dd_dummies_2.fillna(value=0, inplace=True)"
   ]
  },
  {
   "cell_type": "code",
   "execution_count": 54,
   "metadata": {},
   "outputs": [
    {
     "data": {
      "text/plain": [
       "(647054, 69)"
      ]
     },
     "execution_count": 54,
     "metadata": {},
     "output_type": "execute_result"
    }
   ],
   "source": [
    "dd_dummies_return_count = dd_dummies_2.iloc[:, 69:]\n",
    "dd_dummies_return_count.shape"
   ]
  },
  {
   "cell_type": "markdown",
   "metadata": {},
   "source": [
    "* * * *"
   ]
  },
  {
   "cell_type": "markdown",
   "metadata": {},
   "source": [
    "# Department_Counts_Multiple_Products"
   ]
  },
  {
   "cell_type": "raw",
   "metadata": {},
   "source": [
    "def Department_Counts_Multiple_Products(data, department_list):\n",
    "\n",
    "    new_data=data[['VisitNumber', 'Weekday']].drop_duplicates()  \n",
    "    for i in range(len(department_list)):\n",
    "       df=data[(data['DepartmentDescription']==department_list[i]) & (data['ScanCount']>1)]\n",
    "       df = df.groupby(['VisitNumber'], as_index=False)['ScanCount'].count()\n",
    "       df.rename(columns={'ScanCount': 'D2_%s' % (i)}, inplace=True)\n",
    "       new_data = new_data.merge(df, how='left', on=['VisitNumber'], copy=True)\n",
    "       new_data['D2_%s' % (i)].fillna(value=0, inplace=True)\n",
    "    new_data.drop('Weekday', axis=1, inplace=True)   \n",
    "    return new_data "
   ]
  },
  {
   "cell_type": "code",
   "execution_count": 55,
   "metadata": {
    "collapsed": true
   },
   "outputs": [],
   "source": [
    "dd_dummies_2 = dd_dummies.copy()"
   ]
  },
  {
   "cell_type": "code",
   "execution_count": 56,
   "metadata": {
    "collapsed": true
   },
   "outputs": [],
   "source": [
    "for i in range(69):\n",
    "    dd_dummies_2['Multi_Count_%s' % (dd_dummies_2.columns[i])] = dd_dummies_2[i]*train['ScanCount'][train['ScanCount'] > 1 ]\n",
    "    \n",
    "dd_dummies_2.fillna(value=0, inplace=True)"
   ]
  },
  {
   "cell_type": "code",
   "execution_count": 57,
   "metadata": {},
   "outputs": [
    {
     "data": {
      "text/plain": [
       "(647054, 69)"
      ]
     },
     "execution_count": 57,
     "metadata": {},
     "output_type": "execute_result"
    }
   ],
   "source": [
    "dd_dummies_multi_count = dd_dummies_2.iloc[:, 69:]\n",
    "dd_dummies_multi_count.shape"
   ]
  },
  {
   "cell_type": "code",
   "execution_count": null,
   "metadata": {
    "collapsed": true
   },
   "outputs": [],
   "source": []
  },
  {
   "cell_type": "markdown",
   "metadata": {},
   "source": [
    "# Department_Counts_Multiple_Rows \n",
    "### (각 DD별로 VisitType 당  몇 번 등장하는지 더미변수 생성, 구매/반품 상관 X)"
   ]
  },
  {
   "cell_type": "raw",
   "metadata": {},
   "source": [
    "def Department_Counts_Multiple_Rows(data, department_list):\n",
    "\n",
    "    new_data=data[['VisitNumber', 'Weekday']].drop_duplicates()\n",
    "    for i in range(len(department_list)):\n",
    "       df=data[data['DepartmentDescription']==department_list[i]]\n",
    "       df = df.groupby(['VisitNumber', 'FinelineNumber'], as_index=False)['Upc'].count()\n",
    "       df[df['Upc']==1]=0\n",
    "       df = df.groupby(['VisitNumber'], as_index=False)['Upc'].sum()\n",
    "       df.rename(columns={'Upc': 'D3_%s' % (i)}, inplace=True)\n",
    "       new_data = new_data.merge(df, how='left', on=['VisitNumber'], copy=True)\n",
    "       new_data['D3_%s' % (i)].fillna(value=0, inplace=True)\n",
    "    new_data.drop('Weekday', axis=1, inplace=True)   \n",
    "    return new_data "
   ]
  },
  {
   "cell_type": "markdown",
   "metadata": {},
   "source": [
    "# Department_Counts_Rows_Pos_ScanCount\n",
    "\n",
    "### (구매를 위한 Scan을 몇 번 했는지, 각 DD별로 더미변수 생성)"
   ]
  },
  {
   "cell_type": "raw",
   "metadata": {},
   "source": [
    "def Department_Counts_Rows_Pos_ScanCount(data, department_list):\n",
    "\n",
    "    new_data=data[['VisitNumber', 'Weekday']].drop_duplicates()\n",
    "    for i in range(len(department_list)):\n",
    "       df=data[(data['DepartmentDescription']==department_list[i]) & (data['ScanCount']>0)]\n",
    "       df = df.groupby(['VisitNumber'], as_index=False)['ScanCount'].count()\n",
    "       df = df.groupby(['VisitNumber'], as_index=False)['ScanCount'].sum()\n",
    "       df.rename(columns={'ScanCount': 'D4_%s' % (i)}, inplace=True)\n",
    "       new_data = new_data.merge(df, how='left', on=['VisitNumber'], copy=True)\n",
    "       new_data['D4_%s' % (i)].fillna(value=0, inplace=True)\n",
    "    new_data.drop('Weekday', axis=1, inplace=True)   \n",
    "    return new_data "
   ]
  },
  {
   "cell_type": "markdown",
   "metadata": {},
   "source": [
    "# Department_Counts_Rows_Neg_Scancount\n",
    "\n",
    "### (반품을 위한 Scan을 몇 번 했는지, 각 DD별로 더미변수 생성)"
   ]
  },
  {
   "cell_type": "raw",
   "metadata": {},
   "source": [
    "def Department_Counts_Rows_Neg_Scancount(data, department_list):\n",
    "\n",
    "    new_data=data[['VisitNumber', 'Weekday']].drop_duplicates()\n",
    "    for i in range(len(department_list)):\n",
    "       df=data[(data['DepartmentDescription']==department_list[i]) & (data['ScanCount']<0)]\n",
    "       df = df.groupby(['VisitNumber'], as_index=False)['Upc'].count()\n",
    "       df = df.groupby(['VisitNumber'], as_index=False)['Upc'].sum()\n",
    "       df.rename(columns={'Upc': 'D5_%s' % (i)}, inplace=True)\n",
    "       new_data = new_data.merge(df, how='left', on=['VisitNumber'], copy=True)\n",
    "       new_data['D5_%s' % (i)].fillna(value=0, inplace=True)\n",
    "    new_data.drop('We"
   ]
  },
  {
   "cell_type": "code",
   "execution_count": null,
   "metadata": {
    "collapsed": true
   },
   "outputs": [],
   "source": []
  },
  {
   "cell_type": "code",
   "execution_count": null,
   "metadata": {
    "collapsed": true
   },
   "outputs": [],
   "source": []
  },
  {
   "cell_type": "code",
   "execution_count": null,
   "metadata": {
    "collapsed": true
   },
   "outputs": [],
   "source": []
  },
  {
   "cell_type": "markdown",
   "metadata": {},
   "source": [
    "* * * *"
   ]
  },
  {
   "cell_type": "markdown",
   "metadata": {},
   "source": [
    "# Fineline_Count \n",
    "\n",
    "- Fineline 더미변수 추가"
   ]
  },
  {
   "cell_type": "code",
   "execution_count": 58,
   "metadata": {},
   "outputs": [
    {
     "data": {
      "text/plain": [
       "(647054, 23)"
      ]
     },
     "execution_count": 58,
     "metadata": {},
     "output_type": "execute_result"
    }
   ],
   "source": [
    "train.shape"
   ]
  },
  {
   "cell_type": "raw",
   "metadata": {},
   "source": [
    "def Fineline_Count(data, fineline_list):\n",
    "    new_data=data[['VisitNumber', 'Weekday']].drop_duplicates()\n",
    "    for i in range(len(fineline_list)):\n",
    "        df=data[data['FinelineNumber']==fineline_list[i]]\n",
    "        df = df.groupby(['VisitNumber'], as_index=False)['Count'].sum()\n",
    "        df.rename(columns={'Count': 'F_%s' % (i)}, inplace=True)\n",
    "        new_data = new_data.merge(df, how='left', on=['VisitNumber'], copy=True)\n",
    "        new_data['F_%s' % (i)].fillna(value=0, inplace=True)\n",
    "    new_data.drop('Weekday', axis=1, inplace=True)    \n",
    "    return new_data \n",
    "\n",
    "Fineline_Count(train, fineline_list)"
   ]
  },
  {
   "cell_type": "code",
   "execution_count": 59,
   "metadata": {},
   "outputs": [
    {
     "data": {
      "text/plain": [
       "(647054, 5196)"
      ]
     },
     "execution_count": 59,
     "metadata": {},
     "output_type": "execute_result"
    }
   ],
   "source": [
    "fine_dummies  = pd.get_dummies(train.FinelineNumber)\n",
    "fine_dummies.shape"
   ]
  },
  {
   "cell_type": "markdown",
   "metadata": {},
   "source": [
    "### Fineline Count 요약\n",
    "- Fineline을 모두 Dummy 변수로 추가하는 내용. (get_dummy로 대체 가능)"
   ]
  },
  {
   "cell_type": "code",
   "execution_count": 60,
   "metadata": {},
   "outputs": [
    {
     "data": {
      "text/html": [
       "<div>\n",
       "<style scoped>\n",
       "    .dataframe tbody tr th:only-of-type {\n",
       "        vertical-align: middle;\n",
       "    }\n",
       "\n",
       "    .dataframe tbody tr th {\n",
       "        vertical-align: top;\n",
       "    }\n",
       "\n",
       "    .dataframe thead th {\n",
       "        text-align: right;\n",
       "    }\n",
       "</style>\n",
       "<table border=\"1\" class=\"dataframe\">\n",
       "  <thead>\n",
       "    <tr style=\"text-align: right;\">\n",
       "      <th></th>\n",
       "      <th>TripType</th>\n",
       "      <th>VisitNumber</th>\n",
       "      <th>Weekday</th>\n",
       "      <th>Upc</th>\n",
       "      <th>ScanCount</th>\n",
       "      <th>DepartmentDescription</th>\n",
       "      <th>FinelineNumber</th>\n",
       "      <th>Count</th>\n",
       "      <th>Min</th>\n",
       "      <th>Max</th>\n",
       "      <th>...</th>\n",
       "      <th>Has_Neg</th>\n",
       "      <th>Missing</th>\n",
       "      <th>N_Fineline</th>\n",
       "      <th>N_Upc</th>\n",
       "      <th>N_Dep</th>\n",
       "      <th>Sum</th>\n",
       "      <th>Ratio_F_D</th>\n",
       "      <th>Ratio_U_D</th>\n",
       "      <th>mean_to_min</th>\n",
       "      <th>max_to_mean</th>\n",
       "    </tr>\n",
       "  </thead>\n",
       "  <tbody>\n",
       "    <tr>\n",
       "      <th>0</th>\n",
       "      <td>999</td>\n",
       "      <td>5</td>\n",
       "      <td>0</td>\n",
       "      <td>6.811315e+10</td>\n",
       "      <td>-1</td>\n",
       "      <td>20</td>\n",
       "      <td>1000.0</td>\n",
       "      <td>0</td>\n",
       "      <td>0</td>\n",
       "      <td>0</td>\n",
       "      <td>...</td>\n",
       "      <td>1.0</td>\n",
       "      <td>0.0</td>\n",
       "      <td>1</td>\n",
       "      <td>1</td>\n",
       "      <td>1</td>\n",
       "      <td>0</td>\n",
       "      <td>1.000000</td>\n",
       "      <td>1.0</td>\n",
       "      <td>0.000000</td>\n",
       "      <td>0.000000</td>\n",
       "    </tr>\n",
       "    <tr>\n",
       "      <th>1</th>\n",
       "      <td>30</td>\n",
       "      <td>7</td>\n",
       "      <td>0</td>\n",
       "      <td>6.053882e+10</td>\n",
       "      <td>1</td>\n",
       "      <td>62</td>\n",
       "      <td>8931.0</td>\n",
       "      <td>1</td>\n",
       "      <td>1</td>\n",
       "      <td>1</td>\n",
       "      <td>...</td>\n",
       "      <td>0.0</td>\n",
       "      <td>0.0</td>\n",
       "      <td>2</td>\n",
       "      <td>2</td>\n",
       "      <td>2</td>\n",
       "      <td>2</td>\n",
       "      <td>1.000000</td>\n",
       "      <td>1.0</td>\n",
       "      <td>1.000000</td>\n",
       "      <td>1.000000</td>\n",
       "    </tr>\n",
       "    <tr>\n",
       "      <th>2</th>\n",
       "      <td>30</td>\n",
       "      <td>7</td>\n",
       "      <td>0</td>\n",
       "      <td>7.410811e+09</td>\n",
       "      <td>1</td>\n",
       "      <td>50</td>\n",
       "      <td>4504.0</td>\n",
       "      <td>1</td>\n",
       "      <td>1</td>\n",
       "      <td>1</td>\n",
       "      <td>...</td>\n",
       "      <td>0.0</td>\n",
       "      <td>0.0</td>\n",
       "      <td>2</td>\n",
       "      <td>2</td>\n",
       "      <td>2</td>\n",
       "      <td>2</td>\n",
       "      <td>1.000000</td>\n",
       "      <td>1.0</td>\n",
       "      <td>1.000000</td>\n",
       "      <td>1.000000</td>\n",
       "    </tr>\n",
       "    <tr>\n",
       "      <th>3</th>\n",
       "      <td>26</td>\n",
       "      <td>8</td>\n",
       "      <td>0</td>\n",
       "      <td>2.238404e+09</td>\n",
       "      <td>2</td>\n",
       "      <td>49</td>\n",
       "      <td>3565.0</td>\n",
       "      <td>2</td>\n",
       "      <td>1</td>\n",
       "      <td>20</td>\n",
       "      <td>...</td>\n",
       "      <td>1.0</td>\n",
       "      <td>1.0</td>\n",
       "      <td>17</td>\n",
       "      <td>21</td>\n",
       "      <td>7</td>\n",
       "      <td>30</td>\n",
       "      <td>2.428571</td>\n",
       "      <td>3.0</td>\n",
       "      <td>4.285714</td>\n",
       "      <td>4.666667</td>\n",
       "    </tr>\n",
       "    <tr>\n",
       "      <th>4</th>\n",
       "      <td>26</td>\n",
       "      <td>8</td>\n",
       "      <td>0</td>\n",
       "      <td>2.006614e+09</td>\n",
       "      <td>2</td>\n",
       "      <td>49</td>\n",
       "      <td>1017.0</td>\n",
       "      <td>2</td>\n",
       "      <td>1</td>\n",
       "      <td>20</td>\n",
       "      <td>...</td>\n",
       "      <td>1.0</td>\n",
       "      <td>1.0</td>\n",
       "      <td>17</td>\n",
       "      <td>21</td>\n",
       "      <td>7</td>\n",
       "      <td>30</td>\n",
       "      <td>2.428571</td>\n",
       "      <td>3.0</td>\n",
       "      <td>4.285714</td>\n",
       "      <td>4.666667</td>\n",
       "    </tr>\n",
       "  </tbody>\n",
       "</table>\n",
       "<p>5 rows × 23 columns</p>\n",
       "</div>"
      ],
      "text/plain": [
       "   TripType  VisitNumber  Weekday           Upc  ScanCount  \\\n",
       "0       999            5        0  6.811315e+10         -1   \n",
       "1        30            7        0  6.053882e+10          1   \n",
       "2        30            7        0  7.410811e+09          1   \n",
       "3        26            8        0  2.238404e+09          2   \n",
       "4        26            8        0  2.006614e+09          2   \n",
       "\n",
       "   DepartmentDescription  FinelineNumber  Count  Min  Max     ...       \\\n",
       "0                     20          1000.0      0    0    0     ...        \n",
       "1                     62          8931.0      1    1    1     ...        \n",
       "2                     50          4504.0      1    1    1     ...        \n",
       "3                     49          3565.0      2    1   20     ...        \n",
       "4                     49          1017.0      2    1   20     ...        \n",
       "\n",
       "   Has_Neg  Missing  N_Fineline  N_Upc  N_Dep  Sum  Ratio_F_D  Ratio_U_D  \\\n",
       "0      1.0      0.0           1      1      1    0   1.000000        1.0   \n",
       "1      0.0      0.0           2      2      2    2   1.000000        1.0   \n",
       "2      0.0      0.0           2      2      2    2   1.000000        1.0   \n",
       "3      1.0      1.0          17     21      7   30   2.428571        3.0   \n",
       "4      1.0      1.0          17     21      7   30   2.428571        3.0   \n",
       "\n",
       "   mean_to_min  max_to_mean  \n",
       "0     0.000000     0.000000  \n",
       "1     1.000000     1.000000  \n",
       "2     1.000000     1.000000  \n",
       "3     4.285714     4.666667  \n",
       "4     4.285714     4.666667  \n",
       "\n",
       "[5 rows x 23 columns]"
      ]
     },
     "execution_count": 60,
     "metadata": {},
     "output_type": "execute_result"
    }
   ],
   "source": [
    "train.head()"
   ]
  },
  {
   "cell_type": "code",
   "execution_count": 61,
   "metadata": {},
   "outputs": [
    {
     "name": "stdout",
     "output_type": "stream",
     "text": [
      "(647054, 5426)\n"
     ]
    },
    {
     "data": {
      "text/html": [
       "<div>\n",
       "<style scoped>\n",
       "    .dataframe tbody tr th:only-of-type {\n",
       "        vertical-align: middle;\n",
       "    }\n",
       "\n",
       "    .dataframe tbody tr th {\n",
       "        vertical-align: top;\n",
       "    }\n",
       "\n",
       "    .dataframe thead th {\n",
       "        text-align: right;\n",
       "    }\n",
       "</style>\n",
       "<table border=\"1\" class=\"dataframe\">\n",
       "  <thead>\n",
       "    <tr style=\"text-align: right;\">\n",
       "      <th></th>\n",
       "      <th>TripType</th>\n",
       "      <th>VisitNumber</th>\n",
       "      <th>Weekday</th>\n",
       "      <th>Upc</th>\n",
       "      <th>ScanCount</th>\n",
       "      <th>DepartmentDescription</th>\n",
       "      <th>FinelineNumber</th>\n",
       "      <th>Count</th>\n",
       "      <th>Min</th>\n",
       "      <th>Max</th>\n",
       "      <th>...</th>\n",
       "      <th>9966.0</th>\n",
       "      <th>9967.0</th>\n",
       "      <th>9970.0</th>\n",
       "      <th>9971.0</th>\n",
       "      <th>9974.0</th>\n",
       "      <th>9975.0</th>\n",
       "      <th>9991.0</th>\n",
       "      <th>9997.0</th>\n",
       "      <th>9998.0</th>\n",
       "      <th>9999.0</th>\n",
       "    </tr>\n",
       "  </thead>\n",
       "  <tbody>\n",
       "    <tr>\n",
       "      <th>0</th>\n",
       "      <td>999</td>\n",
       "      <td>5</td>\n",
       "      <td>0</td>\n",
       "      <td>6.811315e+10</td>\n",
       "      <td>-1</td>\n",
       "      <td>20</td>\n",
       "      <td>1000.0</td>\n",
       "      <td>0</td>\n",
       "      <td>0</td>\n",
       "      <td>0</td>\n",
       "      <td>...</td>\n",
       "      <td>0</td>\n",
       "      <td>0</td>\n",
       "      <td>0</td>\n",
       "      <td>0</td>\n",
       "      <td>0</td>\n",
       "      <td>0</td>\n",
       "      <td>0</td>\n",
       "      <td>0</td>\n",
       "      <td>0</td>\n",
       "      <td>0</td>\n",
       "    </tr>\n",
       "    <tr>\n",
       "      <th>1</th>\n",
       "      <td>30</td>\n",
       "      <td>7</td>\n",
       "      <td>0</td>\n",
       "      <td>6.053882e+10</td>\n",
       "      <td>1</td>\n",
       "      <td>62</td>\n",
       "      <td>8931.0</td>\n",
       "      <td>1</td>\n",
       "      <td>1</td>\n",
       "      <td>1</td>\n",
       "      <td>...</td>\n",
       "      <td>0</td>\n",
       "      <td>0</td>\n",
       "      <td>0</td>\n",
       "      <td>0</td>\n",
       "      <td>0</td>\n",
       "      <td>0</td>\n",
       "      <td>0</td>\n",
       "      <td>0</td>\n",
       "      <td>0</td>\n",
       "      <td>0</td>\n",
       "    </tr>\n",
       "    <tr>\n",
       "      <th>2</th>\n",
       "      <td>30</td>\n",
       "      <td>7</td>\n",
       "      <td>0</td>\n",
       "      <td>7.410811e+09</td>\n",
       "      <td>1</td>\n",
       "      <td>50</td>\n",
       "      <td>4504.0</td>\n",
       "      <td>1</td>\n",
       "      <td>1</td>\n",
       "      <td>1</td>\n",
       "      <td>...</td>\n",
       "      <td>0</td>\n",
       "      <td>0</td>\n",
       "      <td>0</td>\n",
       "      <td>0</td>\n",
       "      <td>0</td>\n",
       "      <td>0</td>\n",
       "      <td>0</td>\n",
       "      <td>0</td>\n",
       "      <td>0</td>\n",
       "      <td>0</td>\n",
       "    </tr>\n",
       "    <tr>\n",
       "      <th>3</th>\n",
       "      <td>26</td>\n",
       "      <td>8</td>\n",
       "      <td>0</td>\n",
       "      <td>2.238404e+09</td>\n",
       "      <td>2</td>\n",
       "      <td>49</td>\n",
       "      <td>3565.0</td>\n",
       "      <td>2</td>\n",
       "      <td>1</td>\n",
       "      <td>20</td>\n",
       "      <td>...</td>\n",
       "      <td>0</td>\n",
       "      <td>0</td>\n",
       "      <td>0</td>\n",
       "      <td>0</td>\n",
       "      <td>0</td>\n",
       "      <td>0</td>\n",
       "      <td>0</td>\n",
       "      <td>0</td>\n",
       "      <td>0</td>\n",
       "      <td>0</td>\n",
       "    </tr>\n",
       "    <tr>\n",
       "      <th>4</th>\n",
       "      <td>26</td>\n",
       "      <td>8</td>\n",
       "      <td>0</td>\n",
       "      <td>2.006614e+09</td>\n",
       "      <td>2</td>\n",
       "      <td>49</td>\n",
       "      <td>1017.0</td>\n",
       "      <td>2</td>\n",
       "      <td>1</td>\n",
       "      <td>20</td>\n",
       "      <td>...</td>\n",
       "      <td>0</td>\n",
       "      <td>0</td>\n",
       "      <td>0</td>\n",
       "      <td>0</td>\n",
       "      <td>0</td>\n",
       "      <td>0</td>\n",
       "      <td>0</td>\n",
       "      <td>0</td>\n",
       "      <td>0</td>\n",
       "      <td>0</td>\n",
       "    </tr>\n",
       "  </tbody>\n",
       "</table>\n",
       "<p>5 rows × 5426 columns</p>\n",
       "</div>"
      ],
      "text/plain": [
       "   TripType  VisitNumber  Weekday           Upc  ScanCount  \\\n",
       "0       999            5        0  6.811315e+10         -1   \n",
       "1        30            7        0  6.053882e+10          1   \n",
       "2        30            7        0  7.410811e+09          1   \n",
       "3        26            8        0  2.238404e+09          2   \n",
       "4        26            8        0  2.006614e+09          2   \n",
       "\n",
       "   DepartmentDescription  FinelineNumber  Count  Min  Max   ...    9966.0  \\\n",
       "0                     20          1000.0      0    0    0   ...         0   \n",
       "1                     62          8931.0      1    1    1   ...         0   \n",
       "2                     50          4504.0      1    1    1   ...         0   \n",
       "3                     49          3565.0      2    1   20   ...         0   \n",
       "4                     49          1017.0      2    1   20   ...         0   \n",
       "\n",
       "   9967.0  9970.0  9971.0  9974.0  9975.0  9991.0  9997.0  9998.0  9999.0  \n",
       "0       0       0       0       0       0       0       0       0       0  \n",
       "1       0       0       0       0       0       0       0       0       0  \n",
       "2       0       0       0       0       0       0       0       0       0  \n",
       "3       0       0       0       0       0       0       0       0       0  \n",
       "4       0       0       0       0       0       0       0       0       0  \n",
       "\n",
       "[5 rows x 5426 columns]"
      ]
     },
     "execution_count": 61,
     "metadata": {},
     "output_type": "execute_result"
    }
   ],
   "source": [
    "train = pd.concat([train, dd_dummies_ratio], axis=1)\n",
    "train = pd.concat([train, dd_dummies_return_count], axis=1)\n",
    "train = pd.concat([train, dd_dummies_multi_count], axis=1)\n",
    "train = pd.concat([train, fine_dummies], axis=1)\n",
    "\n",
    "print(train.shape)\n",
    "train.head()"
   ]
  },
  {
   "cell_type": "code",
   "execution_count": 64,
   "metadata": {
    "collapsed": true
   },
   "outputs": [],
   "source": [
    "train_2 = train.copy()"
   ]
  },
  {
   "cell_type": "code",
   "execution_count": null,
   "metadata": {
    "collapsed": true
   },
   "outputs": [],
   "source": []
  },
  {
   "cell_type": "code",
   "execution_count": null,
   "metadata": {
    "collapsed": true
   },
   "outputs": [],
   "source": []
  },
  {
   "cell_type": "code",
   "execution_count": null,
   "metadata": {
    "collapsed": true
   },
   "outputs": [],
   "source": []
  },
  {
   "cell_type": "code",
   "execution_count": null,
   "metadata": {
    "collapsed": true
   },
   "outputs": [],
   "source": []
  },
  {
   "cell_type": "code",
   "execution_count": null,
   "metadata": {
    "collapsed": true
   },
   "outputs": [],
   "source": []
  },
  {
   "cell_type": "code",
   "execution_count": null,
   "metadata": {
    "collapsed": true
   },
   "outputs": [],
   "source": []
  },
  {
   "cell_type": "code",
   "execution_count": null,
   "metadata": {
    "collapsed": true
   },
   "outputs": [],
   "source": []
  },
  {
   "cell_type": "code",
   "execution_count": null,
   "metadata": {
    "collapsed": true
   },
   "outputs": [],
   "source": []
  },
  {
   "cell_type": "code",
   "execution_count": null,
   "metadata": {
    "collapsed": true
   },
   "outputs": [],
   "source": []
  },
  {
   "cell_type": "code",
   "execution_count": null,
   "metadata": {
    "collapsed": true
   },
   "outputs": [],
   "source": []
  },
  {
   "cell_type": "code",
   "execution_count": null,
   "metadata": {
    "collapsed": true
   },
   "outputs": [],
   "source": []
  },
  {
   "cell_type": "markdown",
   "metadata": {},
   "source": [
    "# Department_Dummies (Merge 하는 과정 추정... 아직 모르겠음)"
   ]
  },
  {
   "cell_type": "raw",
   "metadata": {},
   "source": [
    "def Department_Dummies(data, department_list, department_dummies_list):\n",
    "\n",
    "    new_data=data[['VisitNumber', 'Weekday']].drop_duplicates()\n",
    "    for i in range(len(department_list)):\n",
    "       df=data[(data['DepartmentDescription']==department_list[i]) & (data['Sum']>0)]\n",
    "       df = df.groupby(['VisitNumber'], as_index=False)['Upc'].count()\n",
    "       df['Upc'][df['Upc']>0] = 1\n",
    "       df.rename(columns={'Upc': 'D6_%s' % (department_list[i])}, inplace=True)\n",
    "       new_data = new_data.merge(df, how='left', on=['VisitNumber'], copy=True)\n",
    "       new_data['D6_%s' % (department_list[i])].fillna(value=0, inplace=True)\n",
    "    new_data.drop('Weekday', axis=1, inplace=True)\n",
    "    # Two-way dummy interactions for the most frequent departments (q>=0.60)   \n",
    "    for i in range(len(department_dummies_list)-1):\n",
    "        for j in range(i+1, len(department_dummies_list)):\n",
    "            new_data['D_%s_%s' % (department_dummies_list[i], department_dummies_list[j])] = \\\n",
    "            new_data['D6_%s' % (department_dummies_list[i])]*new_data['D6_%s' % (department_dummies_list[j])]"
   ]
  },
  {
   "cell_type": "code",
   "execution_count": null,
   "metadata": {
    "collapsed": true
   },
   "outputs": [],
   "source": []
  },
  {
   "cell_type": "markdown",
   "metadata": {},
   "source": [
    "# 다음과 같이 추리고 나서 시도 해볼 수 있음\n",
    "\n",
    "- Product counts for 70% most frequent Fineline products\n",
    "- Department dummies and their two-way interactions (only for 60% most frequent departments)"
   ]
  },
  {
   "cell_type": "code",
   "execution_count": null,
   "metadata": {
    "collapsed": true
   },
   "outputs": [],
   "source": []
  },
  {
   "cell_type": "code",
   "execution_count": null,
   "metadata": {
    "collapsed": true
   },
   "outputs": [],
   "source": []
  },
  {
   "cell_type": "code",
   "execution_count": null,
   "metadata": {
    "collapsed": true
   },
   "outputs": [],
   "source": []
  },
  {
   "cell_type": "code",
   "execution_count": null,
   "metadata": {
    "collapsed": true
   },
   "outputs": [],
   "source": []
  },
  {
   "cell_type": "code",
   "execution_count": null,
   "metadata": {
    "collapsed": true
   },
   "outputs": [],
   "source": []
  },
  {
   "cell_type": "code",
   "execution_count": null,
   "metadata": {
    "collapsed": true
   },
   "outputs": [],
   "source": []
  },
  {
   "cell_type": "code",
   "execution_count": null,
   "metadata": {
    "collapsed": true
   },
   "outputs": [],
   "source": []
  },
  {
   "cell_type": "code",
   "execution_count": null,
   "metadata": {
    "collapsed": true
   },
   "outputs": [],
   "source": []
  },
  {
   "cell_type": "code",
   "execution_count": null,
   "metadata": {
    "collapsed": true
   },
   "outputs": [],
   "source": []
  },
  {
   "cell_type": "code",
   "execution_count": null,
   "metadata": {
    "collapsed": true
   },
   "outputs": [],
   "source": []
  },
  {
   "cell_type": "code",
   "execution_count": null,
   "metadata": {
    "collapsed": true
   },
   "outputs": [],
   "source": []
  },
  {
   "cell_type": "code",
   "execution_count": null,
   "metadata": {
    "collapsed": true
   },
   "outputs": [],
   "source": []
  },
  {
   "cell_type": "code",
   "execution_count": null,
   "metadata": {
    "collapsed": true
   },
   "outputs": [],
   "source": []
  },
  {
   "cell_type": "code",
   "execution_count": null,
   "metadata": {
    "collapsed": true
   },
   "outputs": [],
   "source": []
  },
  {
   "cell_type": "code",
   "execution_count": null,
   "metadata": {
    "collapsed": true
   },
   "outputs": [],
   "source": []
  },
  {
   "cell_type": "code",
   "execution_count": null,
   "metadata": {
    "collapsed": true
   },
   "outputs": [],
   "source": []
  },
  {
   "cell_type": "code",
   "execution_count": null,
   "metadata": {
    "collapsed": true
   },
   "outputs": [],
   "source": []
  },
  {
   "cell_type": "code",
   "execution_count": null,
   "metadata": {
    "collapsed": true
   },
   "outputs": [],
   "source": []
  },
  {
   "cell_type": "code",
   "execution_count": null,
   "metadata": {
    "collapsed": true
   },
   "outputs": [],
   "source": []
  },
  {
   "cell_type": "code",
   "execution_count": null,
   "metadata": {
    "collapsed": true
   },
   "outputs": [],
   "source": []
  },
  {
   "cell_type": "code",
   "execution_count": null,
   "metadata": {
    "collapsed": true
   },
   "outputs": [],
   "source": []
  },
  {
   "cell_type": "code",
   "execution_count": null,
   "metadata": {
    "collapsed": true
   },
   "outputs": [],
   "source": []
  },
  {
   "cell_type": "code",
   "execution_count": null,
   "metadata": {
    "collapsed": true
   },
   "outputs": [],
   "source": []
  },
  {
   "cell_type": "code",
   "execution_count": null,
   "metadata": {
    "collapsed": true
   },
   "outputs": [],
   "source": []
  },
  {
   "cell_type": "code",
   "execution_count": null,
   "metadata": {
    "collapsed": true
   },
   "outputs": [],
   "source": []
  },
  {
   "cell_type": "code",
   "execution_count": null,
   "metadata": {
    "collapsed": true
   },
   "outputs": [],
   "source": []
  },
  {
   "cell_type": "code",
   "execution_count": null,
   "metadata": {
    "collapsed": true
   },
   "outputs": [],
   "source": []
  },
  {
   "cell_type": "code",
   "execution_count": null,
   "metadata": {
    "collapsed": true
   },
   "outputs": [],
   "source": []
  },
  {
   "cell_type": "markdown",
   "metadata": {},
   "source": [
    "# Train Data에 적용\n",
    "\n",
    "- \"HEALTH AND BEAUTY AIDS\" 드랍"
   ]
  },
  {
   "cell_type": "raw",
   "metadata": {},
   "source": [
    "def Load_Train(log_scale=None):\n",
    "    train=pd.read_csv(path_train)\n",
    "    train = train[train['DepartmentDescription']!=\"HEALTH AND BEAUTY AIDS\"]\n",
    "    train =  Generate_Basic_Features(train)\n",
    "    df = train.groupby('FinelineNumber', as_index=False)['Count'].sum() \n",
    "    df = df[df['Count']>df['Count'].quantile(q=0.3)]\n",
    "    df.rename(columns={'Count': 'Fineline_Indicator'}, inplace=True)\n",
    "    train = train.merge(df, how='left', on='FinelineNumber', copy=True)\n",
    "    train['Fineline_Indicator'].fillna(value=-1, inplace=True)\n",
    "    fineline_list = list(train['FinelineNumber'][train['Fineline_Indicator']!=-1].unique())\n",
    "    fineline_list.sort()\n",
    "    department_list = list(train['DepartmentDescription'].unique())\n",
    "    department_list.sort()\n",
    "    df = train.groupby('DepartmentDescription', as_index=False)['ScanCount'].count()\n",
    "    df = df[df['ScanCount']>df['ScanCount'].quantile(q=0.60)] \n",
    "    department_dummies_list = list(df['DepartmentDescription'].unique())\n",
    "    features = ['Min', 'Max', 'Mean', 'Range', 'N_Fineline', 'N_Upc', 'N_Dep', 'Sum', 'Ratio_F_D', 'Ratio_U_D',\n",
    "                'mean_to_min', 'max_to_mean']\n",
    "    if log_scale:\n",
    "        train[features]=np.log(train[features]+1)\n",
    "        train1 = np.log(Fineline_Count(train, fineline_list)+1)\n",
    "        train2 = np.log(Department_Count_Products(train, department_list)+1)\n",
    "        train3 = np.log(Department_Counts_Neg_Products(train, department_list)+1)\n",
    "        train4 = np.log(Department_Counts_Multiple_Products(train, department_list)+1)\n",
    "        train5 = np.log(Department_Counts_Multiple_Rows(train, department_list)+1)\n",
    "        train6 = np.log(Department_Counts_Rows_Pos_ScanCount(train, department_list)+1)\n",
    "        train7 = np.log(Department_Counts_Rows_Neg_Scancount(train, department_list)+1)\n",
    "    else:\n",
    "        train1 = Fineline_Count(train, fineline_list)\n",
    "        train2 = Department_Count_Products(train, department_list)\n",
    "        train3 = Department_Counts_Neg_Products(train, department_list)\n",
    "        train4 = Department_Counts_Multiple_Products(train, department_list)\n",
    "        train5 = Department_Counts_Multiple_Rows(train, department_list)\n",
    "        train6 = Department_Counts_Rows_Pos_ScanCount(train, department_list)\n",
    "        train7 = Department_Counts_Rows_Neg_Scancount(train, department_list)\n",
    "    train8 = Department_Dummies(train, department_list, department_dummies_list)\n",
    "    train.drop_duplicates(['VisitNumber'], inplace=True)              \n",
    "    merge_list = [train1, train2, train3, train4, train5, train6, train7, train8]\n",
    "    for i in range(len(merge_list)):\n",
    "        train = train.merge(merge_list[i], how='inner', on=['VisitNumber'], copy=True)\n",
    "    \n",
    "    columns_drop = ['Upc', 'ScanCount', 'DepartmentDescription', 'FinelineNumber', 'Count', 'Fineline_Indicator',\n",
    "                    'D1_14', 'D1_37', 'D1_46', 'D1_47', 'D2_37', 'D2_47', 'D2_58', 'D3_14', 'D3_37', 'D3_46', 'D3_47',\n",
    "                    'D5_14', 'D5_37', 'D5_46', 'D5_47']    \n",
    "    train.drop(columns_drop, axis=1, inplace=True)\n",
    "    if log_scale:\n",
    "        days = pd.get_dummies(train['Weekday'])\n",
    "        train = pd.concat([train, days], axis=1)\n",
    "        train.drop('Weekday', axis=1, inplace=True)\n",
    "        \n",
    "    return train, fineline_list, department_list, department_dummies_list"
   ]
  },
  {
   "cell_type": "code",
   "execution_count": null,
   "metadata": {
    "collapsed": true
   },
   "outputs": [],
   "source": []
  },
  {
   "cell_type": "code",
   "execution_count": null,
   "metadata": {
    "collapsed": true
   },
   "outputs": [],
   "source": []
  },
  {
   "cell_type": "code",
   "execution_count": null,
   "metadata": {
    "collapsed": true
   },
   "outputs": [],
   "source": []
  },
  {
   "cell_type": "code",
   "execution_count": null,
   "metadata": {
    "collapsed": true
   },
   "outputs": [],
   "source": []
  },
  {
   "cell_type": "code",
   "execution_count": null,
   "metadata": {
    "collapsed": true
   },
   "outputs": [],
   "source": []
  },
  {
   "cell_type": "code",
   "execution_count": null,
   "metadata": {
    "collapsed": true
   },
   "outputs": [],
   "source": []
  },
  {
   "cell_type": "code",
   "execution_count": null,
   "metadata": {
    "collapsed": true
   },
   "outputs": [],
   "source": []
  },
  {
   "cell_type": "code",
   "execution_count": null,
   "metadata": {
    "collapsed": true
   },
   "outputs": [],
   "source": []
  },
  {
   "cell_type": "code",
   "execution_count": null,
   "metadata": {
    "collapsed": true
   },
   "outputs": [],
   "source": []
  },
  {
   "cell_type": "code",
   "execution_count": null,
   "metadata": {
    "collapsed": true
   },
   "outputs": [],
   "source": []
  },
  {
   "cell_type": "code",
   "execution_count": null,
   "metadata": {
    "collapsed": true
   },
   "outputs": [],
   "source": []
  },
  {
   "cell_type": "code",
   "execution_count": null,
   "metadata": {
    "collapsed": true
   },
   "outputs": [],
   "source": []
  },
  {
   "cell_type": "code",
   "execution_count": null,
   "metadata": {
    "collapsed": true
   },
   "outputs": [],
   "source": []
  },
  {
   "cell_type": "code",
   "execution_count": null,
   "metadata": {
    "collapsed": true
   },
   "outputs": [],
   "source": []
  },
  {
   "cell_type": "code",
   "execution_count": null,
   "metadata": {
    "collapsed": true
   },
   "outputs": [],
   "source": []
  },
  {
   "cell_type": "code",
   "execution_count": null,
   "metadata": {
    "collapsed": true
   },
   "outputs": [],
   "source": []
  },
  {
   "cell_type": "code",
   "execution_count": null,
   "metadata": {
    "collapsed": true
   },
   "outputs": [],
   "source": []
  },
  {
   "cell_type": "code",
   "execution_count": null,
   "metadata": {
    "collapsed": true
   },
   "outputs": [],
   "source": []
  },
  {
   "cell_type": "code",
   "execution_count": null,
   "metadata": {
    "collapsed": true
   },
   "outputs": [],
   "source": []
  },
  {
   "cell_type": "code",
   "execution_count": null,
   "metadata": {
    "collapsed": true
   },
   "outputs": [],
   "source": []
  },
  {
   "cell_type": "code",
   "execution_count": null,
   "metadata": {
    "collapsed": true
   },
   "outputs": [],
   "source": []
  },
  {
   "cell_type": "code",
   "execution_count": null,
   "metadata": {
    "collapsed": true
   },
   "outputs": [],
   "source": []
  },
  {
   "cell_type": "code",
   "execution_count": null,
   "metadata": {
    "collapsed": true
   },
   "outputs": [],
   "source": []
  },
  {
   "cell_type": "code",
   "execution_count": null,
   "metadata": {
    "collapsed": true
   },
   "outputs": [],
   "source": []
  },
  {
   "cell_type": "code",
   "execution_count": null,
   "metadata": {
    "collapsed": true
   },
   "outputs": [],
   "source": []
  },
  {
   "cell_type": "code",
   "execution_count": null,
   "metadata": {
    "collapsed": true
   },
   "outputs": [],
   "source": []
  },
  {
   "cell_type": "code",
   "execution_count": null,
   "metadata": {
    "collapsed": true
   },
   "outputs": [],
   "source": []
  },
  {
   "cell_type": "code",
   "execution_count": null,
   "metadata": {
    "collapsed": true
   },
   "outputs": [],
   "source": []
  },
  {
   "cell_type": "code",
   "execution_count": null,
   "metadata": {
    "collapsed": true
   },
   "outputs": [],
   "source": []
  },
  {
   "cell_type": "code",
   "execution_count": null,
   "metadata": {
    "collapsed": true
   },
   "outputs": [],
   "source": []
  },
  {
   "cell_type": "code",
   "execution_count": null,
   "metadata": {
    "collapsed": true
   },
   "outputs": [],
   "source": []
  }
 ],
 "metadata": {
  "kernelspec": {
   "display_name": "Python 3",
   "language": "python",
   "name": "python3"
  },
  "language_info": {
   "codemirror_mode": {
    "name": "ipython",
    "version": 3
   },
   "file_extension": ".py",
   "mimetype": "text/x-python",
   "name": "python",
   "nbconvert_exporter": "python",
   "pygments_lexer": "ipython3",
   "version": "3.6.3"
  }
 },
 "nbformat": 4,
 "nbformat_minor": 2
}
