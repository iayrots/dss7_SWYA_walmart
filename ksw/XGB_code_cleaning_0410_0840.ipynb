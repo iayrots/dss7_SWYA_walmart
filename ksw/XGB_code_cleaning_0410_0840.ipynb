{
 "cells": [
  {
   "cell_type": "code",
   "execution_count": 1,
   "metadata": {
    "collapsed": true
   },
   "outputs": [],
   "source": [
    "def check_digit(x):\n",
    "    try:\n",
    "        odd = map(int, ','.join(x[-1::-2]).split(','))\n",
    "        even = map(int, ','.join(x[-2::-2]).split(','))\n",
    "        sum_odd3 = sum(odd) * 3\n",
    "        total = sum_odd3 + sum(even)\n",
    "        rem = total % 10\n",
    "        if rem == 0:\n",
    "            return rem\n",
    "        return 10 - rem\n",
    "    except:\n",
    "        return -9999"
   ]
  },
  {
   "cell_type": "code",
   "execution_count": 2,
   "metadata": {
    "collapsed": true
   },
   "outputs": [],
   "source": [
    "def category_counts(data):\n",
    "    \"\"\"\n",
    "    Count total number of unique DepartmentDescription made on each trip.\n",
    "    \"\"\"\n",
    "    counts = []\n",
    "    for array in np.asarray(data.loc[:, \"1-HR PHOTO\":\"WIRELESS\"]):\n",
    "        count = 0\n",
    "        for item in array:\n",
    "            if item > 0:\n",
    "                count += 1\n",
    "        counts.append(count)\n",
    "    cat_counts = pd.DataFrame(counts)\n",
    "    cat_counts = cat_counts.rename(columns={0:\"CategoryCount\"})\n",
    "    cat_counts = cat_counts.set_index(data.index)\n",
    "    \n",
    "    data.insert(6, \"CategoryCounts\", cat_counts)\n",
    "    \n",
    "    return data"
   ]
  },
  {
   "cell_type": "code",
   "execution_count": 3,
   "metadata": {
    "collapsed": true
   },
   "outputs": [],
   "source": [
    "def company(x):\n",
    "    try:\n",
    "        p = x[:6]\n",
    "        if p == \"000000\":\n",
    "            return x[-5]\n",
    "        return p\n",
    "    except:\n",
    "        return -9999\n",
    "    \n",
    "def float_to_str(obj):\n",
    "    while obj != \"nan\":\n",
    "        obj = str(obj).split(\".\")[0]\n",
    "        return obj"
   ]
  },
  {
   "cell_type": "code",
   "execution_count": 4,
   "metadata": {
    "collapsed": true
   },
   "outputs": [],
   "source": [
    "from collections import Counter\n",
    "def mode(x):\n",
    "    counts = Counter(x)\n",
    "    max_count = max(counts.values())\n",
    "    ls = [x_i for x_i, count in counts.items() if count == max_count]\n",
    "    return ls[0]"
   ]
  },
  {
   "cell_type": "code",
   "execution_count": 5,
   "metadata": {
    "collapsed": true
   },
   "outputs": [],
   "source": [
    "train = pd.read_csv('../dataset/train.csv')\n",
    "test = pd.read_csv('../dataset/test.csv')"
   ]
  },
  {
   "cell_type": "code",
   "execution_count": 6,
   "metadata": {
    "collapsed": true
   },
   "outputs": [],
   "source": [
    "train[\"Upc\"] = train.Upc.apply(float_to_str)\n",
    "test[\"Upc\"] = test.Upc.apply(float_to_str)\n",
    "\n",
    "train[\"company\"] = train.Upc.apply(company) \n",
    "test[\"company\"] = test.Upc.apply(company)"
   ]
  },
  {
   "cell_type": "code",
   "execution_count": 7,
   "metadata": {
    "collapsed": true
   },
   "outputs": [],
   "source": [
    "train.loc[train[\"ScanCount\"] < 0, \"Return\"] = 1\n",
    "train.loc[train[\"Return\"] != 1, \"Return\"] = 0\n",
    "\n",
    "test.loc[test[\"ScanCount\"] < 0, \"Return\"] = 1\n",
    "test.loc[test[\"Return\"] != 1, \"Return\"] = 0"
   ]
  },
  {
   "cell_type": "code",
   "execution_count": 8,
   "metadata": {
    "collapsed": true
   },
   "outputs": [],
   "source": [
    "wd = {\"Monday\": 0, \"Tuesday\": 1, \"Wednesday\": 2, \"Thursday\": 3, \n",
    "      \"Friday\": 4, \"Saturday\": 5, \"Sunday\": 6}\n",
    "\n",
    "train[\"Weekday\"] = train[\"Weekday\"].apply(lambda x: wd[x])\n",
    "test[\"Weekday\"] = test[\"Weekday\"].apply(lambda x: wd[x])"
   ]
  },
  {
   "cell_type": "code",
   "execution_count": 9,
   "metadata": {
    "collapsed": true
   },
   "outputs": [],
   "source": [
    "train[\"Pos_Sum\"] = train[\"ScanCount\"]\n",
    "test[\"Pos_Sum\"] = test[\"ScanCount\"]\n",
    "\n",
    "train.loc[train[\"Pos_Sum\"] < 0, \"Pos_Sum\"] = 0\n",
    "test.loc[test[\"Pos_Sum\"] < 0, \"Pos_Sum\"] = 0"
   ]
  },
  {
   "cell_type": "code",
   "execution_count": 10,
   "metadata": {
    "collapsed": true
   },
   "outputs": [],
   "source": [
    "train[\"Neg_Sum\"] = train[\"ScanCount\"]\n",
    "test[\"Neg_Sum\"] = test[\"ScanCount\"]\n",
    "\n",
    "train.loc[train[\"Neg_Sum\"] > 0, \"Neg_Sum\"] = 0\n",
    "test.loc[test[\"Neg_Sum\"] > 0, \"Neg_Sum\"] = 0"
   ]
  },
  {
   "cell_type": "code",
   "execution_count": 11,
   "metadata": {
    "collapsed": true
   },
   "outputs": [],
   "source": [
    "train[\"check\"] = train.Upc.apply(check_digit)\n",
    "test[\"check\"] = test.Upc.apply(check_digit)"
   ]
  },
  {
   "cell_type": "code",
   "execution_count": 12,
   "metadata": {
    "collapsed": true
   },
   "outputs": [],
   "source": [
    "train = train.drop([\"Upc\", \"FinelineNumber\"], axis=1)\n",
    "test = test.drop([\"Upc\", \"FinelineNumber\"], axis=1)"
   ]
  },
  {
   "cell_type": "code",
   "execution_count": 13,
   "metadata": {
    "collapsed": true
   },
   "outputs": [],
   "source": [
    "train_dd = pd.get_dummies(train[\"DepartmentDescription\"])\n",
    "test_dd = pd.get_dummies(test[\"DepartmentDescription\"])\n",
    "\n",
    "train_dd = pd.concat([train[[\"VisitNumber\"]], train_dd], axis=1)\n",
    "test_dd = pd.concat([test[[\"VisitNumber\"]], test_dd], axis=1)\n",
    "\n",
    "train_dd = train_dd.groupby(\"VisitNumber\", as_index=False).sum()\n",
    "test_dd = test_dd.groupby(\"VisitNumber\", as_index=False).sum()"
   ]
  },
  {
   "cell_type": "code",
   "execution_count": 14,
   "metadata": {},
   "outputs": [
    {
     "data": {
      "text/plain": [
       "((95674, 69), (95674, 68))"
      ]
     },
     "execution_count": 14,
     "metadata": {},
     "output_type": "execute_result"
    }
   ],
   "source": [
    "train_dd.shape, test_dd.shape"
   ]
  },
  {
   "cell_type": "code",
   "execution_count": 15,
   "metadata": {
    "collapsed": true
   },
   "outputs": [],
   "source": [
    "train_company = train[[\"VisitNumber\", \"company\"]]\n",
    "test_company = test[[\"VisitNumber\", \"company\"]]"
   ]
  },
  {
   "cell_type": "code",
   "execution_count": 16,
   "metadata": {
    "collapsed": true
   },
   "outputs": [],
   "source": [
    "train_company = train_company.groupby(\"VisitNumber\", as_index=False).agg(mode)\n",
    "test_company = test_company.groupby(\"VisitNumber\", as_index=False).agg(mode)"
   ]
  },
  {
   "cell_type": "code",
   "execution_count": 80,
   "metadata": {},
   "outputs": [
    {
     "data": {
      "text/plain": [
       "((95674, 2), (95674, 2))"
      ]
     },
     "execution_count": 80,
     "metadata": {},
     "output_type": "execute_result"
    }
   ],
   "source": [
    "train_company.shape, test_company.shape"
   ]
  },
  {
   "cell_type": "code",
   "execution_count": 17,
   "metadata": {
    "collapsed": true
   },
   "outputs": [],
   "source": [
    "train_check = train[[\"VisitNumber\", \"check\"]]\n",
    "test_check = test[[\"VisitNumber\", \"check\"]]\n",
    "\n",
    "train_check = train_check.groupby(\"VisitNumber\", as_index=False).agg(mode)\n",
    "test_check = test_check.groupby(\"VisitNumber\", as_index=False).agg(mode)"
   ]
  },
  {
   "cell_type": "code",
   "execution_count": 18,
   "metadata": {
    "collapsed": true
   },
   "outputs": [],
   "source": [
    "train_by_sum = train[[\"VisitNumber\", \"ScanCount\", \"Pos_Sum\", \"Neg_Sum\"]]\n",
    "test_by_sum = test[[\"VisitNumber\", \"ScanCount\", \"Pos_Sum\", \"Neg_Sum\"]]\n",
    "\n",
    "train_by_max = train[[\"TripType\", \"VisitNumber\", \"Weekday\", \"Return\"]]\n",
    "test_by_max = test[[\"VisitNumber\", \"Weekday\", \"Return\"]]"
   ]
  },
  {
   "cell_type": "code",
   "execution_count": 19,
   "metadata": {
    "collapsed": true
   },
   "outputs": [],
   "source": [
    "train_by_sum = train_by_sum.groupby(\"VisitNumber\", as_index=False).sum()\n",
    "test_by_sum = test_by_sum.groupby(\"VisitNumber\", as_index=False).sum()\n",
    "\n",
    "train_by_max = train_by_max.groupby(\"VisitNumber\", as_index=False).max()\n",
    "test_by_max = test_by_max.groupby(\"VisitNumber\", as_index=False).max()"
   ]
  },
  {
   "cell_type": "code",
   "execution_count": 20,
   "metadata": {
    "collapsed": true
   },
   "outputs": [],
   "source": [
    "train = train_by_sum.merge(train_by_max, on=[\"VisitNumber\"])\n",
    "train = train.merge(train_dd, on=[\"VisitNumber\"])\n",
    "train = train.merge(train_company, on=[\"VisitNumber\"])\n",
    "train = train.merge(train_check, on=[\"VisitNumber\"])\n",
    "\n",
    "test = test_by_sum.merge(test_by_max, on=[\"VisitNumber\"])\n",
    "test = test.merge(test_dd, on=[\"VisitNumber\"])\n",
    "test = test.merge(test_company, on=[\"VisitNumber\"])\n",
    "test = test.merge(test_check, on=[\"VisitNumber\"])"
   ]
  },
  {
   "cell_type": "code",
   "execution_count": 21,
   "metadata": {
    "collapsed": true
   },
   "outputs": [],
   "source": [
    "y = train[\"TripType\"]\n",
    "train = train.drop([\"TripType\", \"HEALTH AND BEAUTY AIDS\"], axis=1)"
   ]
  },
  {
   "cell_type": "code",
   "execution_count": 22,
   "metadata": {
    "collapsed": true
   },
   "outputs": [],
   "source": [
    "train = category_counts(train)\n",
    "test = category_counts(test)"
   ]
  },
  {
   "cell_type": "code",
   "execution_count": 23,
   "metadata": {
    "collapsed": true
   },
   "outputs": [],
   "source": [
    "train = pd.get_dummies(train, columns=[\"Weekday\", \"Return\"])\n",
    "test = pd.get_dummies(test, columns=[\"Weekday\", \"Return\"])"
   ]
  },
  {
   "cell_type": "code",
   "execution_count": 24,
   "metadata": {},
   "outputs": [
    {
     "data": {
      "text/plain": [
       "((95674, 83), (95674, 83))"
      ]
     },
     "execution_count": 24,
     "metadata": {},
     "output_type": "execute_result"
    }
   ],
   "source": [
    "train.shape, test.shape"
   ]
  },
  {
   "cell_type": "code",
   "execution_count": 25,
   "metadata": {
    "collapsed": true
   },
   "outputs": [],
   "source": [
    "import xgboost as xgb\n",
    "from sklearn.model_selection import train_test_split\n",
    "from sklearn.model_selection import GridSearchCV\n",
    "from sklearn.preprocessing import LabelEncoder"
   ]
  },
  {
   "cell_type": "code",
   "execution_count": 26,
   "metadata": {
    "collapsed": true
   },
   "outputs": [],
   "source": [
    "label_enc = LabelEncoder().fit(y)\n",
    "y_labeled = label_enc.transform(y)"
   ]
  },
  {
   "cell_type": "code",
   "execution_count": 27,
   "metadata": {
    "collapsed": true
   },
   "outputs": [],
   "source": [
    "X_train, X_test, y_train, y_test = train_test_split(\n",
    "    train, y_labeled, random_state=0)"
   ]
  },
  {
   "cell_type": "code",
   "execution_count": 28,
   "metadata": {
    "collapsed": true
   },
   "outputs": [],
   "source": [
    "dtrain = xgb.DMatrix(X_train.values, label=y_train)\n",
    "dtest = xgb.DMatrix(X_test.values, label=y_test)"
   ]
  },
  {
   "cell_type": "code",
   "execution_count": 29,
   "metadata": {
    "scrolled": false
   },
   "outputs": [
    {
     "name": "stdout",
     "output_type": "stream",
     "text": [
      "[0]\ttrain-mlogloss:2.93823\teval-mlogloss:2.94892\n",
      "Multiple eval metrics have been passed: 'eval-mlogloss' will be used for early stopping.\n",
      "\n",
      "Will train until eval-mlogloss hasn't improved in 10 rounds.\n",
      "[1]\ttrain-mlogloss:2.35311\teval-mlogloss:2.37942\n",
      "[2]\ttrain-mlogloss:1.93003\teval-mlogloss:1.9707\n",
      "[3]\ttrain-mlogloss:1.6803\teval-mlogloss:1.73115\n",
      "[4]\ttrain-mlogloss:1.50745\teval-mlogloss:1.56622\n",
      "[5]\ttrain-mlogloss:1.37688\teval-mlogloss:1.44358\n",
      "[6]\ttrain-mlogloss:1.2759\teval-mlogloss:1.35047\n",
      "[7]\ttrain-mlogloss:1.19559\teval-mlogloss:1.2766\n",
      "[8]\ttrain-mlogloss:1.13028\teval-mlogloss:1.21721\n",
      "[9]\ttrain-mlogloss:1.07474\teval-mlogloss:1.16754\n",
      "[10]\ttrain-mlogloss:1.02785\teval-mlogloss:1.12674\n",
      "[11]\ttrain-mlogloss:0.988206\teval-mlogloss:1.09259\n",
      "[12]\ttrain-mlogloss:0.954186\teval-mlogloss:1.06379\n",
      "[13]\ttrain-mlogloss:0.924516\teval-mlogloss:1.03978\n",
      "[14]\ttrain-mlogloss:0.898925\teval-mlogloss:1.01908\n",
      "[15]\ttrain-mlogloss:0.875435\teval-mlogloss:1.00065\n",
      "[16]\ttrain-mlogloss:0.855257\teval-mlogloss:0.984354\n",
      "[17]\ttrain-mlogloss:0.835885\teval-mlogloss:0.97016\n",
      "[18]\ttrain-mlogloss:0.820076\teval-mlogloss:0.958485\n",
      "[19]\ttrain-mlogloss:0.803461\teval-mlogloss:0.946684\n",
      "[20]\ttrain-mlogloss:0.789267\teval-mlogloss:0.936913\n",
      "[21]\ttrain-mlogloss:0.776086\teval-mlogloss:0.927655\n",
      "[22]\ttrain-mlogloss:0.764128\teval-mlogloss:0.919972\n",
      "[23]\ttrain-mlogloss:0.75298\teval-mlogloss:0.913459\n",
      "[24]\ttrain-mlogloss:0.742899\teval-mlogloss:0.907773\n",
      "[25]\ttrain-mlogloss:0.733182\teval-mlogloss:0.902073\n",
      "[26]\ttrain-mlogloss:0.723576\teval-mlogloss:0.897016\n",
      "[27]\ttrain-mlogloss:0.714931\teval-mlogloss:0.892256\n",
      "[28]\ttrain-mlogloss:0.706692\teval-mlogloss:0.887943\n",
      "[29]\ttrain-mlogloss:0.699151\teval-mlogloss:0.88379\n",
      "[30]\ttrain-mlogloss:0.691476\teval-mlogloss:0.88008\n",
      "[31]\ttrain-mlogloss:0.685035\teval-mlogloss:0.877528\n",
      "[32]\ttrain-mlogloss:0.679124\teval-mlogloss:0.874795\n",
      "[33]\ttrain-mlogloss:0.673089\teval-mlogloss:0.872592\n",
      "[34]\ttrain-mlogloss:0.667072\teval-mlogloss:0.870651\n",
      "[35]\ttrain-mlogloss:0.661523\teval-mlogloss:0.868404\n",
      "[36]\ttrain-mlogloss:0.655823\teval-mlogloss:0.866375\n",
      "[37]\ttrain-mlogloss:0.651141\teval-mlogloss:0.864353\n",
      "[38]\ttrain-mlogloss:0.646066\teval-mlogloss:0.862692\n",
      "[39]\ttrain-mlogloss:0.640889\teval-mlogloss:0.860861\n",
      "[40]\ttrain-mlogloss:0.636115\teval-mlogloss:0.859085\n",
      "[41]\ttrain-mlogloss:0.631248\teval-mlogloss:0.857744\n",
      "[42]\ttrain-mlogloss:0.626824\teval-mlogloss:0.856379\n",
      "[43]\ttrain-mlogloss:0.622522\teval-mlogloss:0.854981\n",
      "[44]\ttrain-mlogloss:0.617883\teval-mlogloss:0.853461\n",
      "[45]\ttrain-mlogloss:0.613491\teval-mlogloss:0.852343\n",
      "[46]\ttrain-mlogloss:0.609789\teval-mlogloss:0.851235\n",
      "[47]\ttrain-mlogloss:0.605878\teval-mlogloss:0.849622\n",
      "[48]\ttrain-mlogloss:0.602418\teval-mlogloss:0.848862\n",
      "[49]\ttrain-mlogloss:0.598469\teval-mlogloss:0.848001\n",
      "[50]\ttrain-mlogloss:0.595291\teval-mlogloss:0.847247\n",
      "[51]\ttrain-mlogloss:0.591449\teval-mlogloss:0.846123\n",
      "[52]\ttrain-mlogloss:0.588036\teval-mlogloss:0.845347\n",
      "[53]\ttrain-mlogloss:0.584637\teval-mlogloss:0.844501\n",
      "[54]\ttrain-mlogloss:0.58148\teval-mlogloss:0.843947\n",
      "[55]\ttrain-mlogloss:0.57793\teval-mlogloss:0.843133\n",
      "[56]\ttrain-mlogloss:0.575028\teval-mlogloss:0.842553\n",
      "[57]\ttrain-mlogloss:0.571641\teval-mlogloss:0.841588\n",
      "[58]\ttrain-mlogloss:0.568858\teval-mlogloss:0.840967\n",
      "[59]\ttrain-mlogloss:0.566005\teval-mlogloss:0.840389\n",
      "[60]\ttrain-mlogloss:0.562842\teval-mlogloss:0.839423\n",
      "[61]\ttrain-mlogloss:0.559691\teval-mlogloss:0.839241\n",
      "[62]\ttrain-mlogloss:0.556995\teval-mlogloss:0.838879\n",
      "[63]\ttrain-mlogloss:0.553736\teval-mlogloss:0.838173\n",
      "[64]\ttrain-mlogloss:0.551007\teval-mlogloss:0.83756\n",
      "[65]\ttrain-mlogloss:0.547999\teval-mlogloss:0.836764\n",
      "[66]\ttrain-mlogloss:0.54501\teval-mlogloss:0.836304\n",
      "[67]\ttrain-mlogloss:0.54261\teval-mlogloss:0.836047\n",
      "[68]\ttrain-mlogloss:0.539798\teval-mlogloss:0.835647\n",
      "[69]\ttrain-mlogloss:0.536827\teval-mlogloss:0.835291\n",
      "[70]\ttrain-mlogloss:0.534197\teval-mlogloss:0.835053\n",
      "[71]\ttrain-mlogloss:0.531571\teval-mlogloss:0.835006\n",
      "[72]\ttrain-mlogloss:0.528445\teval-mlogloss:0.834572\n",
      "[73]\ttrain-mlogloss:0.526116\teval-mlogloss:0.834048\n",
      "[74]\ttrain-mlogloss:0.523352\teval-mlogloss:0.83348\n",
      "[75]\ttrain-mlogloss:0.520965\teval-mlogloss:0.833487\n",
      "[76]\ttrain-mlogloss:0.518541\teval-mlogloss:0.833142\n",
      "[77]\ttrain-mlogloss:0.516011\teval-mlogloss:0.832723\n",
      "[78]\ttrain-mlogloss:0.514032\teval-mlogloss:0.832465\n",
      "[79]\ttrain-mlogloss:0.511016\teval-mlogloss:0.83199\n",
      "[80]\ttrain-mlogloss:0.508607\teval-mlogloss:0.831948\n",
      "[81]\ttrain-mlogloss:0.506037\teval-mlogloss:0.831476\n",
      "[82]\ttrain-mlogloss:0.503627\teval-mlogloss:0.8313\n",
      "[83]\ttrain-mlogloss:0.501232\teval-mlogloss:0.831302\n",
      "[84]\ttrain-mlogloss:0.49895\teval-mlogloss:0.831019\n",
      "[85]\ttrain-mlogloss:0.496502\teval-mlogloss:0.830828\n",
      "[86]\ttrain-mlogloss:0.494365\teval-mlogloss:0.830856\n",
      "[87]\ttrain-mlogloss:0.492176\teval-mlogloss:0.830935\n",
      "[88]\ttrain-mlogloss:0.490273\teval-mlogloss:0.830652\n",
      "[89]\ttrain-mlogloss:0.488051\teval-mlogloss:0.830376\n",
      "[90]\ttrain-mlogloss:0.485878\teval-mlogloss:0.830157\n",
      "[91]\ttrain-mlogloss:0.483491\teval-mlogloss:0.830145\n",
      "[92]\ttrain-mlogloss:0.48128\teval-mlogloss:0.830204\n",
      "[93]\ttrain-mlogloss:0.478953\teval-mlogloss:0.830061\n",
      "[94]\ttrain-mlogloss:0.476961\teval-mlogloss:0.829942\n",
      "[95]\ttrain-mlogloss:0.474889\teval-mlogloss:0.829558\n",
      "[96]\ttrain-mlogloss:0.47265\teval-mlogloss:0.829379\n",
      "[97]\ttrain-mlogloss:0.470294\teval-mlogloss:0.829323\n",
      "[98]\ttrain-mlogloss:0.468555\teval-mlogloss:0.829433\n",
      "[99]\ttrain-mlogloss:0.466517\teval-mlogloss:0.82939\n",
      "[100]\ttrain-mlogloss:0.464447\teval-mlogloss:0.829226\n",
      "[101]\ttrain-mlogloss:0.462616\teval-mlogloss:0.829145\n",
      "[102]\ttrain-mlogloss:0.460284\teval-mlogloss:0.829235\n",
      "[103]\ttrain-mlogloss:0.458177\teval-mlogloss:0.829299\n",
      "[104]\ttrain-mlogloss:0.456127\teval-mlogloss:0.828971\n",
      "[105]\ttrain-mlogloss:0.454521\teval-mlogloss:0.828837\n",
      "[106]\ttrain-mlogloss:0.452827\teval-mlogloss:0.828814\n",
      "[107]\ttrain-mlogloss:0.450979\teval-mlogloss:0.828775\n",
      "[108]\ttrain-mlogloss:0.449084\teval-mlogloss:0.828524\n",
      "[109]\ttrain-mlogloss:0.447657\teval-mlogloss:0.828528\n",
      "[110]\ttrain-mlogloss:0.445693\teval-mlogloss:0.828611\n",
      "[111]\ttrain-mlogloss:0.443642\teval-mlogloss:0.828574\n",
      "[112]\ttrain-mlogloss:0.441765\teval-mlogloss:0.828882\n",
      "[113]\ttrain-mlogloss:0.440006\teval-mlogloss:0.828692\n",
      "[114]\ttrain-mlogloss:0.438481\teval-mlogloss:0.828775\n",
      "[115]\ttrain-mlogloss:0.436764\teval-mlogloss:0.828758\n",
      "[116]\ttrain-mlogloss:0.434725\teval-mlogloss:0.828773\n",
      "[117]\ttrain-mlogloss:0.432827\teval-mlogloss:0.828602\n",
      "[118]\ttrain-mlogloss:0.431168\teval-mlogloss:0.828706\n",
      "Stopping. Best iteration:\n",
      "[108]\ttrain-mlogloss:0.449084\teval-mlogloss:0.828524\n",
      "\n"
     ]
    }
   ],
   "source": [
    "num_boost_round = 300\n",
    "params = {'objective': 'multi:softprob', \n",
    "          'eval_metric': 'mlogloss',\n",
    "          'num_class':38, \n",
    "          'max_delta_step': 3, \n",
    "          'eta': 0.25}\n",
    "\n",
    "evals = [(dtrain, 'train'), (dtest, 'eval')]\n",
    "\n",
    "\n",
    "bst = xgb.train(params=params,  \n",
    "                dtrain=dtrain, \n",
    "                num_boost_round=num_boost_round, \n",
    "                evals=evals,\n",
    "               early_stopping_rounds=10,)"
   ]
  },
  {
   "cell_type": "code",
   "execution_count": 30,
   "metadata": {
    "collapsed": true
   },
   "outputs": [],
   "source": [
    "classes = np.array(list(set(label_enc.inverse_transform(y_labeled))))"
   ]
  },
  {
   "cell_type": "code",
   "execution_count": 31,
   "metadata": {
    "collapsed": true
   },
   "outputs": [],
   "source": [
    "dmtest = xgb.DMatrix(test.values) \n",
    "pred_proba = bst.predict(dmtest)\n",
    "\n",
    "proba_df = pd.DataFrame(pred_proba, columns=classes)\n",
    "proba_df.columns = proba_df.columns.map(lambda x: \"TripType_\" + str(x))\n",
    "sub_df = pd.concat([test[[\"VisitNumber\"]], proba_df], axis=1)\n",
    "sub_df.to_csv(\"../submission_0410_noProb_xgb_02.csv\", index=False)"
   ]
  },
  {
   "cell_type": "code",
   "execution_count": null,
   "metadata": {
    "collapsed": true
   },
   "outputs": [],
   "source": []
  }
 ],
 "metadata": {
  "kernelspec": {
   "display_name": "Python 3",
   "language": "python",
   "name": "python3"
  },
  "language_info": {
   "codemirror_mode": {
    "name": "ipython",
    "version": 3
   },
   "file_extension": ".py",
   "mimetype": "text/x-python",
   "name": "python",
   "nbconvert_exporter": "python",
   "pygments_lexer": "ipython3",
   "version": "3.6.3"
  }
 },
 "nbformat": 4,
 "nbformat_minor": 2
}
