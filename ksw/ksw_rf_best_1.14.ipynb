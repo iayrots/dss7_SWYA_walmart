{
 "cells": [
  {
   "cell_type": "code",
   "execution_count": 272,
   "metadata": {
    "collapsed": true
   },
   "outputs": [],
   "source": [
    "train = pd.read_csv(\"../dataset/train.csv\")\n",
    "original_train = train.copy()\n",
    "test = pd.read_csv(\"../dataset/test.csv\")\n",
    "original_test = test.copy()"
   ]
  },
  {
   "cell_type": "markdown",
   "metadata": {},
   "source": [
    "# Basic Features"
   ]
  },
  {
   "cell_type": "code",
   "execution_count": 273,
   "metadata": {
    "collapsed": true
   },
   "outputs": [],
   "source": [
    "# 반품 발생은 0으로 표기하는 컬럼 추가\n",
    "train[\"Count\"] = train[\"ScanCount\"]\n",
    "train.loc[train.Count < 0, \"Count\"] = 0\n",
    "# Fineline 없는 것은 9999로 명시\n",
    "train[\"FinelineNumber\"].fillna(value=9999, inplace=True)\n",
    "# Upc 없는 것은 -1로 명시\n",
    "train[\"Upc\"].fillna(value=-1, inplace=True)"
   ]
  },
  {
   "cell_type": "code",
   "execution_count": 274,
   "metadata": {
    "collapsed": true
   },
   "outputs": [],
   "source": [
    "wd = {\n",
    "    \"Monday\": 0,\n",
    "    \"Tuesday\": 1,\n",
    "    \"Wednesday\": 2,\n",
    "    \"Thursday\": 3, \n",
    "    \"Friday\": 4,\n",
    "    \"Saturday\": 5,\n",
    "    \"Sunday\": 6,\n",
    "}\n",
    "\n",
    "train[\"Weekday\"] = train[\"Weekday\"].apply(lambda x: wd[x])"
   ]
  },
  {
   "cell_type": "code",
   "execution_count": 275,
   "metadata": {
    "collapsed": true
   },
   "outputs": [],
   "source": [
    "# train[\"Upc\"] = train[\"Upc\"].apply(lambda x: float_to_str(x))\n",
    "# train[\"check\"] = train.Upc.apply(check_digit)\n",
    "# train[\"full_upc\"] = train.Upc.apply(full_upc)\n",
    "# train[\"company\"] = train.full_upc.apply(company)"
   ]
  },
  {
   "cell_type": "code",
   "execution_count": 276,
   "metadata": {
    "collapsed": true
   },
   "outputs": [],
   "source": [
    "# data['DepartmentDescription'] = preprocessing.LabelEncoder().fit_transform(list(data['DepartmentDescription'])) "
   ]
  },
  {
   "cell_type": "code",
   "execution_count": 277,
   "metadata": {
    "collapsed": true
   },
   "outputs": [],
   "source": [
    "# VisitNumber, DepartmentDescription으로 groupby. ScanCount sum(총 판매량) \n",
    "df = train.groupby([\"VisitNumber\", \"DepartmentDescription\"], as_index=False)[\"Count\"].sum()\n",
    "\n",
    "df1 = df.groupby([\"VisitNumber\"], as_index=False)[\"Count\"].min()\n",
    "df1.rename(columns={\"Count\": \"Min\"}, inplace=True)\n",
    "\n",
    "df2 = df.groupby([\"VisitNumber\"], as_index=False)[\"Count\"].max()\n",
    "df2.rename(columns={'Count': \"Max\"}, inplace=True)\n",
    "\n",
    "df3 = df.groupby([\"VisitNumber\"], as_index=False)[\"Count\"].mean()\n",
    "df3.rename(columns={\"Count\": \"Mean\"}, inplace=True)\n",
    "\n",
    "train = train.merge(df1, how='left', on=[\"VisitNumber\"], copy=True)\n",
    "train = train.merge(df2, how='left', on=[\"VisitNumber\"], copy=True)\n",
    "train = train.merge(df3, how='left', on=[\"VisitNumber\"], copy=True)  \n",
    "\n",
    "train[\"Range\"] = train[\"Max\"] - train[\"Min\"]"
   ]
  },
  {
   "cell_type": "code",
   "execution_count": 278,
   "metadata": {
    "collapsed": true
   },
   "outputs": [],
   "source": [
    "# def category_counts(data):\n",
    "#     \"\"\"\n",
    "#     Count total number of unique DepartmentDescription made on each trip.\n",
    "#     \"\"\"\n",
    "#     counts = []\n",
    "#     for array in np.asarray(data.loc[:, \"1-HR PHOTO\":\"WIRELESS\"]):\n",
    "#         count = 0\n",
    "#         for item in array:\n",
    "#             if item > 0:\n",
    "#                 count += 1\n",
    "#         counts.append(count)\n",
    "#     cat_counts = pd.DataFrame(counts)\n",
    "#     cat_counts = cat_counts.rename(columns={0:\"CategoryCount\"})\n",
    "#     cat_counts = cat_counts.set_index(data.index)\n",
    "#     data.insert(4, \"CategoryCounts\", cat_counts)"
   ]
  },
  {
   "cell_type": "code",
   "execution_count": 279,
   "metadata": {
    "collapsed": true,
    "scrolled": false
   },
   "outputs": [],
   "source": [
    "df = train[train[\"DepartmentDescription\"].isnull()]\n",
    "df = df.groupby([\"VisitNumber\"], as_index=False)[\"Count\"].count()\n",
    "df.rename(columns={\"Count\": \"Null_Depts\"}, inplace=True)\n",
    "train = train.merge(df, how='left', on=[\"VisitNumber\"], copy=True) \n",
    "train[\"Null_Depts\"].fillna(value=1, inplace=True)\n",
    "train.loc[train.Null_Depts > 0, \"Null_Depts\"] = 0"
   ]
  },
  {
   "cell_type": "code",
   "execution_count": 280,
   "metadata": {
    "collapsed": true
   },
   "outputs": [],
   "source": [
    "df = train[train[\"ScanCount\"] < 0]\n",
    "df = df.groupby([\"VisitNumber\"], as_index=False)[\"Count\"].count()\n",
    "df.rename(columns={\"Count\": \"ReturnCount\"}, inplace=True) \n",
    "train = train.merge(df, how='left', on=[\"VisitNumber\"], copy=True)\n",
    "train[\"ReturnCount\"].fillna(value=1, inplace=True)\n",
    "train.loc[train.ReturnCount > 0, \"ReturnCount\"] = 0"
   ]
  },
  {
   "cell_type": "code",
   "execution_count": 281,
   "metadata": {
    "collapsed": true
   },
   "outputs": [],
   "source": [
    "# Indicator for missing FinelineNumber\n",
    "\n",
    "df = train[train[\"FinelineNumber\"]==9999]\n",
    "df = df.groupby([\"VisitNumber\"], as_index=False)[\"Count\"].count()\n",
    "df.rename(columns={\"Count\": \"Null_Fineline\"}, inplace=True)\n",
    "train = train.merge(df, how='left', on=[\"VisitNumber\"], copy=True)\n",
    "train[\"Null_Fineline\"].fillna(value=1, inplace=True)\n",
    "train.loc[train.Null_Fineline > 0, \"Null_Fineline\"] = 0"
   ]
  },
  {
   "cell_type": "code",
   "execution_count": 282,
   "metadata": {
    "collapsed": true
   },
   "outputs": [],
   "source": [
    "# 각 VisitNumber 당 총 구매한 FinelineNumber의 수\n",
    "\n",
    "df = train.groupby([\"VisitNumber\",  \"FinelineNumber\"], as_index=False)[\"Count\"].count()\n",
    "df = df.groupby([\"VisitNumber\"], as_index=False)[\"Count\"].count()\n",
    "df.rename(columns={\"Count\": \"N_Fineline\"}, inplace=True) \n",
    "train = train.merge(df, how='left', on=[\"VisitNumber\"], copy=True)"
   ]
  },
  {
   "cell_type": "code",
   "execution_count": 283,
   "metadata": {
    "collapsed": true
   },
   "outputs": [],
   "source": [
    "# 각 소비자 당 총 구매한 UPC의 수\n",
    "\n",
    "df = train.groupby([\"VisitNumber\",  \"Upc\"], as_index=False)[\"Count\"].count()\n",
    "df = df.groupby([\"VisitNumber\"], as_index=False)[\"Count\"].count()\n",
    "df.rename(columns={\"Count\": \"N_Upc\"}, inplace=True) \n",
    "train = train.merge(df, how='left', on=[\"VisitNumber\"], copy=True) "
   ]
  },
  {
   "cell_type": "code",
   "execution_count": 284,
   "metadata": {
    "collapsed": true
   },
   "outputs": [],
   "source": [
    "# 각 소비자 당 총 구매한 DepartmentDescription의 수\n",
    "\n",
    "df = train.groupby([\"VisitNumber\", \"DepartmentDescription\"], as_index=False)[\"Count\"].count()\n",
    "df = df.groupby([\"VisitNumber\"], as_index=False)[\"Count\"].count()\n",
    "df.rename(columns={\"Count\": \"N_Depts\"}, inplace=True) \n",
    "train = train.merge(df, how='left', on=[\"VisitNumber\"], copy=True)"
   ]
  },
  {
   "cell_type": "code",
   "execution_count": 285,
   "metadata": {
    "collapsed": true
   },
   "outputs": [],
   "source": [
    "df = train.groupby([\"VisitNumber\"], as_index=False)[\"Count\"].sum()\n",
    "df.rename(columns={\"Count\": \"Sum\"}, inplace=True)\n",
    "train = train.merge(df, how='left', on=[\"VisitNumber\"], copy=True)"
   ]
  },
  {
   "cell_type": "code",
   "execution_count": 286,
   "metadata": {},
   "outputs": [
    {
     "data": {
      "text/plain": [
       "(647054, 21)"
      ]
     },
     "execution_count": 286,
     "metadata": {},
     "output_type": "execute_result"
    }
   ],
   "source": [
    "train[\"Ratio_F_D\"] = train[\"N_Fineline\"] / train[\"N_Depts\"]\n",
    "train[\"Ratio_U_D\"] = train[\"N_Upc\"] / train[\"N_Depts\"]\n",
    "train.shape"
   ]
  },
  {
   "cell_type": "code",
   "execution_count": 287,
   "metadata": {
    "collapsed": true
   },
   "outputs": [],
   "source": [
    "train[\"mean_to_min\"] = train[\"Mean\"] / train[\"Min\"]\n",
    "train.loc[train.mean_to_min==0, \"mean_to_min\"] = 1\n",
    "train['max_to_mean'] = train[\"Max\"] / train[\"Mean\"]\n",
    "train.loc[train.max_to_mean==0, \"max_to_mean\"] = 1"
   ]
  },
  {
   "cell_type": "code",
   "execution_count": 288,
   "metadata": {},
   "outputs": [
    {
     "data": {
      "text/plain": [
       "(647054, 22)"
      ]
     },
     "execution_count": 288,
     "metadata": {},
     "output_type": "execute_result"
    }
   ],
   "source": [
    "train.drop(\"Upc\", axis=1, inplace=True)\n",
    "train.shape"
   ]
  },
  {
   "cell_type": "code",
   "execution_count": 19,
   "metadata": {
    "collapsed": true
   },
   "outputs": [],
   "source": [
    "# department_list = train[\"DepartmentDescription\"].unique().tolist()\n",
    "# def ratio_depts_products(data, department_list):\n",
    "    \n",
    "#     new_data = data[[\"VisitNumber\", \"Sum\"]].drop_duplicates()\n",
    "#     for i, dept in enumerate(department_list):\n",
    "#         df = data[data[\"DepartmentDescription\"]==dept]\n",
    "#         df = df.groupby([\"VisitNumber\"], as_index=False)[\"Count\"].sum()\n",
    "#         df.rename(columns={\"Count\": \"D_{}\".format(dept)}, inplace=True)\n",
    "#         new_data = new_data.merge(df, how='left', on=[\"VisitNumber\"], copy=True)\n",
    "#         new_data[\"D_{}\".format(dept)].fillna(value=0, inplace=True)\n",
    "#         new_data[\"Ratio_{}\".format(dept)] = new_data[\"D_{}\".format(dept)] / new_data[\"Sum\"]\n",
    "#         new_data[\"Ratio_{}\".format(dept)].fillna(value=0, inplace=True)\n",
    "#         new_data.drop([\"D_{}\".format(dept)], axis=1, inplace=True)\n",
    "#     new_data.drop(\"Sum\", axis=1, inplace=True)\n",
    "#     return new_data"
   ]
  },
  {
   "cell_type": "code",
   "execution_count": 20,
   "metadata": {
    "collapsed": true
   },
   "outputs": [],
   "source": [
    "# tmp = train[[\"VisitNumber\", \"Sum\"]]\n",
    "# tmp = tmp.groupby(\"VisitNumber\", as_index=False).max()\n",
    "\n",
    "# new = train[[\"VisitNumber\", \"DepartmentDescription\"]]\n",
    "\n",
    "# dd_dummies = pd.get_dummies(new[\"DepartmentDescription\"])\n",
    "# new = pd.concat([new, dd_dummies], axis=1)\n",
    "# new = new.groupby(\"VisitNumber\", as_index=False).sum()"
   ]
  },
  {
   "cell_type": "code",
   "execution_count": 289,
   "metadata": {
    "collapsed": true
   },
   "outputs": [],
   "source": [
    "# 최빈값 함수\n",
    "from collections import Counter\n",
    "def mode(x):\n",
    "    counts = Counter(x)\n",
    "    max_count = max(counts.values())\n",
    "    ls = [x_i for x_i, count in counts.items() if count == max_count]\n",
    "    return ls[0]"
   ]
  },
  {
   "cell_type": "code",
   "execution_count": 290,
   "metadata": {
    "collapsed": true
   },
   "outputs": [],
   "source": [
    "to_grouped = train[[\"VisitNumber\", \"FinelineNumber\"]]\n",
    "mf_fineline = to_grouped.groupby(\"VisitNumber\", as_index=False).agg(mode)"
   ]
  },
  {
   "cell_type": "markdown",
   "metadata": {},
   "source": [
    "### Basic Feature 요약\n",
    "\n",
    "- "
   ]
  },
  {
   "cell_type": "code",
   "execution_count": 291,
   "metadata": {
    "collapsed": true
   },
   "outputs": [],
   "source": [
    "depts_dummies = pd.get_dummies(train.DepartmentDescription)\n",
    "depts_dummies.drop(\"HEALTH AND BEAUTY AIDS\", axis=1, inplace=True)"
   ]
  },
  {
   "cell_type": "code",
   "execution_count": 292,
   "metadata": {},
   "outputs": [
    {
     "data": {
      "text/plain": [
       "(95674, 68)"
      ]
     },
     "execution_count": 292,
     "metadata": {},
     "output_type": "execute_result"
    }
   ],
   "source": [
    "depts_dummies = pd.concat([train[[\"VisitNumber\"]], depts_dummies], axis=1)\n",
    "depts_dummies_grouped = depts_dummies.groupby(\"VisitNumber\", as_index=False).sum()\n",
    "depts_dummies_grouped.shape"
   ]
  },
  {
   "cell_type": "code",
   "execution_count": 46,
   "metadata": {
    "collapsed": true
   },
   "outputs": [],
   "source": [
    "# fineline_dummies = pd.get_dummies(train.FinelineNumber)\n",
    "# fineline_dummies = pd.concat([train[[\"VisitNumber\"]], fineline_dummies], axis=1)"
   ]
  },
  {
   "cell_type": "code",
   "execution_count": 293,
   "metadata": {
    "collapsed": true
   },
   "outputs": [],
   "source": [
    "def smoothing_depts(data):\n",
    "    tmp = data[[\"VisitNumber\", \"Sum\"]]\n",
    "    tmp = tmp.groupby(\"VisitNumber\", as_index=False).max()\n",
    "    depts_dummies = pd.get_dummies(data[\"DepartmentDescription\"])\n",
    "    new_df = pd.concat([tmp, depts_dummies], axis=1)\n",
    "    new_df = new_df.groupby(\"VisitNumber\", as_index=False).sum()\n",
    "    new_df = new_df.loc[:, \"1-HR PHOTO\":\"WIRELESS\"].apply(lambda x: (x+1) / (tmp[\"Sum\"]+68))\n",
    "    return new_df.drop([\"HEALTH AND BEAUTY AIDS\"], axis=1)"
   ]
  },
  {
   "cell_type": "code",
   "execution_count": 294,
   "metadata": {
    "collapsed": true
   },
   "outputs": [],
   "source": [
    "depts_smoothed = smoothing_depts(train)"
   ]
  },
  {
   "cell_type": "code",
   "execution_count": 47,
   "metadata": {
    "collapsed": true
   },
   "outputs": [],
   "source": [
    "# def make_fineline_dummies(data):\n",
    "#     \"\"\"\n",
    "#     OneHotEncoding FinelineNumber which appear \n",
    "#     more than 500 times each Trip Type.\n",
    "#     \"\"\"\n",
    "#     fineline_ranks = data.FinelineNumber.value_counts()\n",
    "#     fineline_ranks = fineline_ranks[fineline_ranks > 500]\n",
    "# #     columns1 = list(fineline_ranks.index)\n",
    "#     dummies = pd.get_dummies(data.FinelineNumber)\n",
    "#     dummies = dummies[fineline_ranks.index]\n",
    "    \n",
    "#     data_visit = original_train[[\"VisitNumber\"]]\n",
    "#     dummy_data = pd.concat([dummies, data_visit], axis=1)\n",
    "#     dummy_data = dummy_data.groupby(\"VisitNumber\", as_index=False).aggregate(np.sum) # agg(\"sum\")보다 더 나은 성능\n",
    "#     return dummy_data"
   ]
  },
  {
   "cell_type": "code",
   "execution_count": 48,
   "metadata": {
    "collapsed": true
   },
   "outputs": [],
   "source": [
    "# fineline_dummies_grouped = make_fineline_dummies(train)"
   ]
  },
  {
   "cell_type": "code",
   "execution_count": 295,
   "metadata": {
    "collapsed": true
   },
   "outputs": [],
   "source": [
    "train = train.replace(np.inf, 0)\n",
    "train = train.fillna(value=0)"
   ]
  },
  {
   "cell_type": "code",
   "execution_count": 296,
   "metadata": {
    "collapsed": true
   },
   "outputs": [],
   "source": [
    "train.drop([\"DepartmentDescription\", \"FinelineNumber\"], axis=1, inplace=True)"
   ]
  },
  {
   "cell_type": "code",
   "execution_count": 297,
   "metadata": {
    "collapsed": true
   },
   "outputs": [],
   "source": [
    "train_by_max = train.groupby(\"VisitNumber\", as_index=False).agg(np.max) # ScanCount --> Sum"
   ]
  },
  {
   "cell_type": "code",
   "execution_count": 298,
   "metadata": {},
   "outputs": [
    {
     "data": {
      "text/plain": [
       "(95674, 87)"
      ]
     },
     "execution_count": 298,
     "metadata": {},
     "output_type": "execute_result"
    }
   ],
   "source": [
    "train_grouped = train_by_max.merge(depts_dummies_grouped, how='left', on=[\"VisitNumber\"])\n",
    "# train_grouped = train_grouped.merge(fineline_dummies_grouped, how='left', on=[\"VisitNumber\"])\n",
    "train_grouped.shape"
   ]
  },
  {
   "cell_type": "code",
   "execution_count": 299,
   "metadata": {
    "collapsed": true
   },
   "outputs": [],
   "source": [
    "depts_tmp = train_grouped.loc[:, \"1-HR PHOTO\":\"WIRELESS\"]\n",
    "depts_tmp = depts_smoothed\n",
    "depts_tmp.columns = depts_tmp.columns.map(lambda x: str(\"Prob_\") + x)"
   ]
  },
  {
   "cell_type": "code",
   "execution_count": 300,
   "metadata": {
    "collapsed": true
   },
   "outputs": [],
   "source": [
    "def grouping_depts(data):\n",
    "    data[\"OPTICAL\"] = data[\"OPTICAL - LENSES\"] + data[\"OPTICAL - FRAMES\"]\n",
    "    data[\"DELI\"] = data[\"SERVICE DELI\"] + data[\"PRE PACKED DELI\"]\n",
    "\n",
    "    data[\"WOMENS CLOTHES\"] = data[\"PLUS AND MATERNITY\"] + data[\"LADIES SOCKS\"] +\\\n",
    "                             data[\"LADIES SOCKS\"] + data[\"BRAS & SHAPEWEAR\"]\n",
    "    data[\"ELECTRONICS\"] = data[\"ELECTRONICS\"] + data[\"PLAYERS AND ELECTRONICS\"]\n",
    "    data[\"LADIESWEAR\"] = data[\"LADIESWEAR\"] + data[\"WOMENS CLOTHES\"]\n",
    "\n",
    "    data[\"PHARMACY\"] = data[\"PHARMACY RX\"] + data[\"PHARMACY OTC\"]\n",
    "    data[\"LAWN AND GARDEN\"] = data[\"LAWN AND GARDEN\"] + data[\"HORTICULTURE AND ACCESS\"]\n",
    "    data[\"LADIESWEAR\"] = data[\"SHEER HOSIERY\"] + data[\"LADIESWEAR\"]\n",
    "\n",
    "    data[\"CLOTHES\"] = data[\"BOYS WEAR\"] + data[\"MENSWEAR\"] + data[\"SWIMWEAR/OUTERWEAR\"] +\\\n",
    "                      data['GIRLS WEAR, 4-6X  AND 7-14'] + data[\"INFANT APPAREL\"] +\\\n",
    "                      data[\"LADIESWEAR\"] + data[\"MENS WEAR\"] + data[\"SLEEPWEAR/FOUNDATIONS\"]\n",
    "\n",
    "    data[\"GROCERIES\"] = data[\"BAKERY\"] + data[\"COMM BREAD\"] + data[\"DAIRY\"] + data[\"DSD GROCERY\"] +\\\n",
    "                        data[\"FROZEN FOODS\"] + data[\"GROCERY DRY GOODS\"] + data[\"MEAT - FRESH & FROZEN\"] +\\\n",
    "                        data[\"PRODUCE\"] + data[\"SEAFOOD\"] + data[\"DELI\"]\n",
    "\n",
    "    data[\"CLOTHES\"] = data[\"CLOTHES\"] + data[\"SHOES\"]\n",
    "    data[\"HOME\"] = data[\"BATH AND SHOWER\"] + data[\"HOME DECOR\"] + data[\"HOME MANAGEMENT\"] +\\\n",
    "                   data[\"BEDDING\"] + data[\"COOK AND DINE\"] + data[\"FURNITURE\"] +\\\n",
    "                   data[\"LARGE HOUSEHOLD GOODS\"] + data[\"SEASONAL\"]\n",
    "\n",
    "    data[\"JEWELRY AND ACCESSORIES\"] = data[\"JEWELRY AND SUNGLASSES\"] + data[\"ACCESSORIES\"]\n",
    "    data[\"ELECTRONICS\"] = data[\"ELECTRONICS\"] + data[\"CAMERAS AND SUPPLIES\"]\n",
    "\n",
    "    data['HOUSEHOLD GOODS'] = data['HOUSEHOLD PAPER GOODS'] + data['HOUSEHOLD CHEMICALS/SUPP']\n",
    "    data[\"ELECTRONICS\"] = data[\"ELECTRONICS\"] + data[\"WIRELESS\"]\n",
    "    data[\"BEAUTY AND PERSONAL CARE\"] = data[\"BEAUTY\"] + data[\"PERSONAL CARE\"]\n",
    "\n",
    "    to_drop = [\"OPTICAL - FRAMES\", \"OPTICAL - LENSES\", \"CONCEPT STORES\",\n",
    "               \"OTHER DEPARTMENTS\", \"PRE PACKED DELI\", \"SERVICE DELI\", \"PLUS AND MATERNITY\", \"LADIES SOCKS\",\n",
    "               \"BRAS & SHAPEWEAR\", \"PLAYERS AND ELECTRONICS\", \"WOMENS CLOTHES\", \"PHARMACY RX\", \"PHARMACY OTC\",\n",
    "               \"HORTICULTURE AND ACCESS\", \"SHEER HOSIERY\", \"BOYS WEAR\", \"MENSWEAR\", \"SWIMWEAR/OUTERWEAR\",\n",
    "               \"GIRLS WEAR, 4-6X  AND 7-14\", \"INFANT APPAREL\", \"LADIESWEAR\", \"MENS WEAR\", \"SLEEPWEAR/FOUNDATIONS\",\n",
    "               \"BAKERY\", \"COMM BREAD\", \"DAIRY\", \"DSD GROCERY\", \"FROZEN FOODS\", \"GROCERY DRY GOODS\",\n",
    "               \"MEAT - FRESH & FROZEN\",\"PRODUCE\", \"SEAFOOD\", \"DELI\", \"SHOES\", \"HOME DECOR\", \"BATH AND SHOWER\",\n",
    "               \"HOME MANAGEMENT\", \"BEDDING\",\"COOK AND DINE\", \"FURNITURE\", \"LARGE HOUSEHOLD GOODS\",\n",
    "               \"SEASONAL\", \"JEWELRY AND SUNGLASSES\", \"ACCESSORIES\", \"CAMERAS AND SUPPLIES\",\n",
    "               \"HOUSEHOLD CHEMICALS/SUPP\", \"HOUSEHOLD PAPER GOODS\", \"WIRELESS\", \"BEAUTY\", \"PERSONAL CARE\"]\n",
    "    \n",
    "    return data.drop(to_drop, axis=1)"
   ]
  },
  {
   "cell_type": "code",
   "execution_count": 301,
   "metadata": {},
   "outputs": [
    {
     "data": {
      "text/html": [
       "<div>\n",
       "<style>\n",
       "    .dataframe thead tr:only-child th {\n",
       "        text-align: right;\n",
       "    }\n",
       "\n",
       "    .dataframe thead th {\n",
       "        text-align: left;\n",
       "    }\n",
       "\n",
       "    .dataframe tbody tr th {\n",
       "        vertical-align: top;\n",
       "    }\n",
       "</style>\n",
       "<table border=\"1\" class=\"dataframe\">\n",
       "  <thead>\n",
       "    <tr style=\"text-align: right;\">\n",
       "      <th></th>\n",
       "      <th>VisitNumber</th>\n",
       "      <th>TripType</th>\n",
       "      <th>Weekday</th>\n",
       "      <th>ScanCount</th>\n",
       "      <th>Count</th>\n",
       "      <th>Min</th>\n",
       "      <th>Max</th>\n",
       "      <th>Mean</th>\n",
       "      <th>Range</th>\n",
       "      <th>Null_Depts</th>\n",
       "      <th>...</th>\n",
       "      <th>Prob_SEAFOOD</th>\n",
       "      <th>Prob_SEASONAL</th>\n",
       "      <th>Prob_SERVICE DELI</th>\n",
       "      <th>Prob_SHEER HOSIERY</th>\n",
       "      <th>Prob_SHOES</th>\n",
       "      <th>Prob_SLEEPWEAR/FOUNDATIONS</th>\n",
       "      <th>Prob_SPORTING GOODS</th>\n",
       "      <th>Prob_SWIMWEAR/OUTERWEAR</th>\n",
       "      <th>Prob_TOYS</th>\n",
       "      <th>Prob_WIRELESS</th>\n",
       "    </tr>\n",
       "  </thead>\n",
       "  <tbody>\n",
       "    <tr>\n",
       "      <th>95671</th>\n",
       "      <td>191345</td>\n",
       "      <td>39</td>\n",
       "      <td>6</td>\n",
       "      <td>2</td>\n",
       "      <td>2</td>\n",
       "      <td>1.0</td>\n",
       "      <td>5.0</td>\n",
       "      <td>2.125</td>\n",
       "      <td>4.0</td>\n",
       "      <td>0.0</td>\n",
       "      <td>...</td>\n",
       "      <td>0.011765</td>\n",
       "      <td>0.011765</td>\n",
       "      <td>0.011765</td>\n",
       "      <td>0.011765</td>\n",
       "      <td>0.011765</td>\n",
       "      <td>0.011765</td>\n",
       "      <td>0.011765</td>\n",
       "      <td>0.011765</td>\n",
       "      <td>0.011765</td>\n",
       "      <td>0.011765</td>\n",
       "    </tr>\n",
       "    <tr>\n",
       "      <th>95672</th>\n",
       "      <td>191346</td>\n",
       "      <td>39</td>\n",
       "      <td>6</td>\n",
       "      <td>1</td>\n",
       "      <td>1</td>\n",
       "      <td>1.0</td>\n",
       "      <td>5.0</td>\n",
       "      <td>2.125</td>\n",
       "      <td>4.0</td>\n",
       "      <td>0.0</td>\n",
       "      <td>...</td>\n",
       "      <td>0.011765</td>\n",
       "      <td>0.011765</td>\n",
       "      <td>0.011765</td>\n",
       "      <td>0.011765</td>\n",
       "      <td>0.011765</td>\n",
       "      <td>0.011765</td>\n",
       "      <td>0.011765</td>\n",
       "      <td>0.011765</td>\n",
       "      <td>0.011765</td>\n",
       "      <td>0.011765</td>\n",
       "    </tr>\n",
       "    <tr>\n",
       "      <th>95673</th>\n",
       "      <td>191347</td>\n",
       "      <td>8</td>\n",
       "      <td>6</td>\n",
       "      <td>1</td>\n",
       "      <td>1</td>\n",
       "      <td>1.0</td>\n",
       "      <td>1.0</td>\n",
       "      <td>1.000</td>\n",
       "      <td>0.0</td>\n",
       "      <td>0.0</td>\n",
       "      <td>...</td>\n",
       "      <td>0.014286</td>\n",
       "      <td>0.014286</td>\n",
       "      <td>0.014286</td>\n",
       "      <td>0.014286</td>\n",
       "      <td>0.014286</td>\n",
       "      <td>0.014286</td>\n",
       "      <td>0.014286</td>\n",
       "      <td>0.014286</td>\n",
       "      <td>0.014286</td>\n",
       "      <td>0.014286</td>\n",
       "    </tr>\n",
       "  </tbody>\n",
       "</table>\n",
       "<p>3 rows × 114 columns</p>\n",
       "</div>"
      ],
      "text/plain": [
       "       VisitNumber  TripType  Weekday  ScanCount  Count  Min  Max   Mean  \\\n",
       "95671       191345        39        6          2      2  1.0  5.0  2.125   \n",
       "95672       191346        39        6          1      1  1.0  5.0  2.125   \n",
       "95673       191347         8        6          1      1  1.0  1.0  1.000   \n",
       "\n",
       "       Range  Null_Depts      ...        Prob_SEAFOOD  Prob_SEASONAL  \\\n",
       "95671    4.0         0.0      ...            0.011765       0.011765   \n",
       "95672    4.0         0.0      ...            0.011765       0.011765   \n",
       "95673    0.0         0.0      ...            0.014286       0.014286   \n",
       "\n",
       "       Prob_SERVICE DELI  Prob_SHEER HOSIERY  Prob_SHOES  \\\n",
       "95671           0.011765            0.011765    0.011765   \n",
       "95672           0.011765            0.011765    0.011765   \n",
       "95673           0.014286            0.014286    0.014286   \n",
       "\n",
       "       Prob_SLEEPWEAR/FOUNDATIONS  Prob_SPORTING GOODS  \\\n",
       "95671                    0.011765             0.011765   \n",
       "95672                    0.011765             0.011765   \n",
       "95673                    0.014286             0.014286   \n",
       "\n",
       "       Prob_SWIMWEAR/OUTERWEAR  Prob_TOYS  Prob_WIRELESS  \n",
       "95671                 0.011765   0.011765       0.011765  \n",
       "95672                 0.011765   0.011765       0.011765  \n",
       "95673                 0.014286   0.014286       0.014286  \n",
       "\n",
       "[3 rows x 114 columns]"
      ]
     },
     "execution_count": 301,
     "metadata": {},
     "output_type": "execute_result"
    }
   ],
   "source": [
    "train_depts_group = grouping_depts(train_grouped)\n",
    "train_depts_group = pd.concat([train_depts_group, depts_tmp], axis=1)\n",
    "train_depts_group.tail(3)"
   ]
  },
  {
   "cell_type": "code",
   "execution_count": 302,
   "metadata": {},
   "outputs": [],
   "source": [
    "# train_depts_group.drop(9999, axis=1, inplace=True)\n",
    "train_depts_group = pd.concat([train_depts_group, mf_fineline[[\"FinelineNumber\"]]], axis=1)\n",
    "# train_depts_group = pd.get_dummies(train_depts_group, columns=[\"Weekday\"])\n",
    "# train_depts_group.drop(X.iloc[:, 170:357], axis=1, inplace=True)"
   ]
  },
  {
   "cell_type": "code",
   "execution_count": 306,
   "metadata": {},
   "outputs": [
    {
     "data": {
      "text/plain": [
       "(95674, 121)"
      ]
     },
     "execution_count": 306,
     "metadata": {},
     "output_type": "execute_result"
    }
   ],
   "source": [
    "train_depts_group = pd.get_dummies(train_depts_group, columns=[\"Weekday\"])\n",
    "train_depts_group.shape"
   ]
  },
  {
   "cell_type": "code",
   "execution_count": 350,
   "metadata": {
    "collapsed": true
   },
   "outputs": [],
   "source": [
    "y = train_depts_group[\"TripType\"]\n",
    "X = train_depts_group.drop(\"TripType\", axis=1)"
   ]
  },
  {
   "cell_type": "code",
   "execution_count": 352,
   "metadata": {
    "collapsed": true
   },
   "outputs": [],
   "source": [
    "from sklearn.model_selection import train_test_split\n",
    "from sklearn.ensemble import RandomForestClassifier"
   ]
  },
  {
   "cell_type": "code",
   "execution_count": 353,
   "metadata": {
    "collapsed": true
   },
   "outputs": [],
   "source": [
    "X_train, X_test, y_train, y_test = train_test_split(X, y, random_state=0)"
   ]
  },
  {
   "cell_type": "code",
   "execution_count": 354,
   "metadata": {
    "collapsed": true
   },
   "outputs": [],
   "source": [
    "n_estimators = 1000\n",
    "max_features = 0.6\n",
    "min_samples_split = 30"
   ]
  },
  {
   "cell_type": "code",
   "execution_count": 355,
   "metadata": {
    "collapsed": true
   },
   "outputs": [],
   "source": [
    "rf = RandomForestClassifier(n_estimators=n_estimators,\n",
    "                            min_samples_split=min_samples_split, n_jobs=-1, random_state=0)"
   ]
  },
  {
   "cell_type": "code",
   "execution_count": 356,
   "metadata": {},
   "outputs": [
    {
     "name": "stdout",
     "output_type": "stream",
     "text": [
      "CPU times: user 4min 9s, sys: 6.77 s, total: 4min 16s\n",
      "Wall time: 1min 11s\n"
     ]
    },
    {
     "data": {
      "text/plain": [
       "RandomForestClassifier(bootstrap=True, class_weight=None, criterion='gini',\n",
       "            max_depth=None, max_features='auto', max_leaf_nodes=None,\n",
       "            min_impurity_decrease=0.0, min_impurity_split=None,\n",
       "            min_samples_leaf=1, min_samples_split=30,\n",
       "            min_weight_fraction_leaf=0.0, n_estimators=1000, n_jobs=-1,\n",
       "            oob_score=False, random_state=0, verbose=0, warm_start=False)"
      ]
     },
     "execution_count": 356,
     "metadata": {},
     "output_type": "execute_result"
    }
   ],
   "source": [
    "%%time\n",
    "rf.fit(X_train, y_train)"
   ]
  },
  {
   "cell_type": "code",
   "execution_count": 357,
   "metadata": {},
   "outputs": [
    {
     "name": "stdout",
     "output_type": "stream",
     "text": [
      "0.739474601073\n",
      "0.648898365316\n"
     ]
    }
   ],
   "source": [
    "print(rf.score(X_train, y_train))\n",
    "print(rf.score(X_test, y_test))"
   ]
  },
  {
   "cell_type": "code",
   "execution_count": 358,
   "metadata": {},
   "outputs": [
    {
     "data": {
      "text/plain": [
       "(23919, 35)"
      ]
     },
     "execution_count": 358,
     "metadata": {},
     "output_type": "execute_result"
    }
   ],
   "source": [
    "pred = rf.predict(X_test)\n",
    "pd.get_dummies(pred).shape"
   ]
  },
  {
   "cell_type": "code",
   "execution_count": null,
   "metadata": {
    "collapsed": true
   },
   "outputs": [],
   "source": []
  },
  {
   "cell_type": "code",
   "execution_count": null,
   "metadata": {
    "collapsed": true
   },
   "outputs": [],
   "source": []
  },
  {
   "cell_type": "code",
   "execution_count": 111,
   "metadata": {
    "collapsed": true
   },
   "outputs": [],
   "source": [
    "X_depts = X.loc[:, \"OPTICAL\":\"BEAUTY AND PERSONAL CARE\"]\n",
    "lst = X_depts.columns.tolist()\n",
    "for i in range(len(lst)-1):\n",
    "    for j in range(i+1, len(lst)):\n",
    "        X_depts['{}_{}'.format(lst[i], lst[j])] = X_depts[lst[i]] * X_depts[lst[j]]"
   ]
  },
  {
   "cell_type": "code",
   "execution_count": 112,
   "metadata": {
    "collapsed": true
   },
   "outputs": [],
   "source": [
    "X_depts_interaction = pd.concat([X, X_depts], axis=1)"
   ]
  },
  {
   "cell_type": "code",
   "execution_count": 113,
   "metadata": {
    "collapsed": true
   },
   "outputs": [],
   "source": [
    "X_train_interact, X_test_interact, y_train_interact, y_test_interact =\\\n",
    "train_test_split(X, y, test_size=0.4, random_state=0)"
   ]
  },
  {
   "cell_type": "code",
   "execution_count": 114,
   "metadata": {
    "collapsed": true
   },
   "outputs": [],
   "source": [
    "n_estimators = 500\n",
    "max_features = 0.55\n",
    "min_samples_split = 60\n",
    "\n",
    "rf = RandomForestClassifier(n_estimators=n_estimators, max_features=max_features, criterion=\"entropy\",\n",
    "                            min_samples_split=min_samples_split, n_jobs=-1, random_state=0)"
   ]
  },
  {
   "cell_type": "code",
   "execution_count": 115,
   "metadata": {},
   "outputs": [
    {
     "name": "stdout",
     "output_type": "stream",
     "text": [
      "CPU times: user 9min 48s, sys: 1.7 s, total: 9min 49s\n",
      "Wall time: 2min 33s\n"
     ]
    },
    {
     "data": {
      "text/plain": [
       "RandomForestClassifier(bootstrap=True, class_weight=None, criterion='entropy',\n",
       "            max_depth=None, max_features=0.55, max_leaf_nodes=None,\n",
       "            min_impurity_decrease=0.0, min_impurity_split=None,\n",
       "            min_samples_leaf=1, min_samples_split=60,\n",
       "            min_weight_fraction_leaf=0.0, n_estimators=500, n_jobs=-1,\n",
       "            oob_score=False, random_state=0, verbose=0, warm_start=False)"
      ]
     },
     "execution_count": 115,
     "metadata": {},
     "output_type": "execute_result"
    }
   ],
   "source": [
    "%%time\n",
    "rf.fit(X_train_interact, y_train_interact)"
   ]
  },
  {
   "cell_type": "code",
   "execution_count": 116,
   "metadata": {},
   "outputs": [
    {
     "name": "stdout",
     "output_type": "stream",
     "text": [
      "0.688593129399\n",
      "0.649176900967\n"
     ]
    }
   ],
   "source": [
    "print(rf.score(X_train_interact, y_train_interact))\n",
    "print(rf.score(X_test_interact, y_test_interact))"
   ]
  },
  {
   "cell_type": "code",
   "execution_count": 118,
   "metadata": {},
   "outputs": [
    {
     "data": {
      "text/plain": [
       "(38270, 31)"
      ]
     },
     "execution_count": 118,
     "metadata": {},
     "output_type": "execute_result"
    }
   ],
   "source": [
    "pred_interact_rf = rf.predict(X_test_interact)\n",
    "pd.get_dummies(pred_interact_rf).shape"
   ]
  },
  {
   "cell_type": "code",
   "execution_count": 61,
   "metadata": {},
   "outputs": [
    {
     "data": {
      "image/png": "[encoded data removed]",
      "text/plain": [
       "<matplotlib.figure.Figure at 0x1a269e09b0>"
      ]
     },
     "metadata": {
      "image/png": {
       "height": 807,
       "width": 859
      }
     },
     "output_type": "display_data"
    }
   ],
   "source": [
    "importance = rf.feature_importances_\n",
    "pairs = []\n",
    "for idx, value in enumerate(importance):\n",
    "    pairs.append((abs(value), X.columns[idx]))\n",
    "pairs.sort(key=lambda x: x[0], reverse=True)\n",
    "# for pair in pairs[:20]:\n",
    "#     print(\"importance: {:4f} feature: {}\".format(pair[0], pair[1]))\n",
    "importance.sort()\n",
    "importance = importance[::-1]\n",
    "\n",
    "labels = [label[1] for label in pairs]\n",
    "\n",
    "plt.figure(figsize=(12, 14))\n",
    "plt.barh(range(50), importance[:50][::-1], align=\"center\")\n",
    "plt.yticks(np.arange(50), labels[:50][::-1])\n",
    "plt.xlabel(\"Feature importance\")\n",
    "plt.ylim(-1, 50)\n",
    "plt.show()"
   ]
  },
  {
   "cell_type": "code",
   "execution_count": 211,
   "metadata": {
    "collapsed": true
   },
   "outputs": [],
   "source": [
    "def make_fineline_dummies_test(data):\n",
    "    \"\"\"\n",
    "    OneHotEncoding FinelineNumber which appear \n",
    "    more than 500 times each Trip Type.\n",
    "    \"\"\"\n",
    "#     train_fineline = original_data[\"FinelineNumber\"].unique()\n",
    "#     test_fineline = original_test[\"FinelineNumber\"].unique()\n",
    "#     intersection_fineline = list(set(train_fineline).intersection(set(test_fineline)))\n",
    "    \n",
    "    fineline_ranks = original_train.FinelineNumber.value_counts()\n",
    "    fineline_ranks = fineline_ranks[fineline_ranks > 500]\n",
    "#     columns1 = list(fineline_ranks.index)\n",
    "    dummies = pd.get_dummies(data.FinelineNumber)\n",
    "    dummies = dummies[fineline_ranks.index]\n",
    "    \n",
    "    data_visit = original_test[[\"VisitNumber\"]]\n",
    "    dummy_data = pd.concat([dummies, data_visit], axis=1)\n",
    "    dummy_data = dummy_data.groupby(\"VisitNumber\", as_index=False).aggregate(np.sum) # agg(\"sum\")보다 더 나은 성능\n",
    "    return dummy_data"
   ]
  },
  {
   "cell_type": "code",
   "execution_count": 320,
   "metadata": {
    "collapsed": true
   },
   "outputs": [],
   "source": [
    "wd = {\n",
    "    \"Monday\": 0,\n",
    "    \"Tuesday\": 1,\n",
    "    \"Wednesday\": 2,\n",
    "    \"Thursday\": 3, \n",
    "    \"Friday\": 4,\n",
    "    \"Saturday\": 5,\n",
    "    \"Sunday\": 6,\n",
    "}\n",
    "\n",
    "test[\"Weekday\"] = test[\"Weekday\"].apply(lambda x: wd[x])\n",
    "\n",
    "test[\"Count\"] = test[\"ScanCount\"]\n",
    "test.loc[test.Count < 0, \"Count\"] = 0\n",
    "test[\"FinelineNumber\"].fillna(value=9999, inplace=True)"
   ]
  },
  {
   "cell_type": "code",
   "execution_count": 321,
   "metadata": {
    "collapsed": true
   },
   "outputs": [],
   "source": [
    "df = test.groupby([\"VisitNumber\", \"DepartmentDescription\"], as_index=False)[\"Count\"].sum()\n",
    "\n",
    "df1 = df.groupby([\"VisitNumber\"], as_index=False)[\"Count\"].min()\n",
    "df1.rename(columns={\"Count\": \"Min\"}, inplace=True)\n",
    "\n",
    "df2 = df.groupby([\"VisitNumber\"], as_index=False)[\"Count\"].max()\n",
    "df2.rename(columns={'Count': \"Max\"}, inplace=True)\n",
    "\n",
    "df3 = df.groupby([\"VisitNumber\"], as_index=False)[\"Count\"].mean()\n",
    "df3.rename(columns={\"Count\": \"Mean\"}, inplace=True)\n",
    "\n",
    "test = test.merge(df1, how='left', on=[\"VisitNumber\"], copy=True)\n",
    "test = test.merge(df2, how='left', on=[\"VisitNumber\"], copy=True)\n",
    "test = test.merge(df3, how='left', on=[\"VisitNumber\"], copy=True)  \n",
    "\n",
    "test[\"Range\"] = test[\"Max\"] - test[\"Min\"]"
   ]
  },
  {
   "cell_type": "code",
   "execution_count": 323,
   "metadata": {
    "collapsed": true
   },
   "outputs": [],
   "source": [
    "df = test[test[\"DepartmentDescription\"].isnull()]\n",
    "df = df.groupby([\"VisitNumber\"], as_index=False)[\"Count\"].count()\n",
    "df.rename(columns={\"Count\": \"Null_Depts\"}, inplace=True)\n",
    "test = test.merge(df, how='left', on=[\"VisitNumber\"], copy=True) \n",
    "test[\"Null_Depts\"].fillna(value=1, inplace=True) \n",
    "test.loc[test.Null_Depts > 0, \"Null_Depts\"] = 0"
   ]
  },
  {
   "cell_type": "code",
   "execution_count": 324,
   "metadata": {
    "collapsed": true
   },
   "outputs": [],
   "source": [
    "df = test[test[\"ScanCount\"] < 0]\n",
    "df = df.groupby([\"VisitNumber\"], as_index=False)[\"Count\"].count()\n",
    "df.rename(columns={\"Count\": \"ReturnCount\"}, inplace=True) \n",
    "test = test.merge(df, how='left', on=[\"VisitNumber\"], copy=True)\n",
    "test[\"ReturnCount\"].fillna(value=1, inplace=True)\n",
    "test.loc[test.ReturnCount > 0, \"ReturnCount\"] = 0"
   ]
  },
  {
   "cell_type": "code",
   "execution_count": 325,
   "metadata": {
    "collapsed": true
   },
   "outputs": [],
   "source": [
    "df = test[test[\"FinelineNumber\"]==9999]\n",
    "df = df.groupby([\"VisitNumber\"], as_index=False)[\"Count\"].count()\n",
    "df.rename(columns={\"Count\": \"Null_Fineline\"}, inplace=True)\n",
    "test = test.merge(df, how='left', on=[\"VisitNumber\"], copy=True) "
   ]
  },
  {
   "cell_type": "code",
   "execution_count": 326,
   "metadata": {
    "collapsed": true
   },
   "outputs": [],
   "source": [
    "test[\"Null_Fineline\"].fillna(value=0, inplace=True)\n",
    "test.loc[test.Null_Fineline > 0, \"Null_Fineline\"] = 0"
   ]
  },
  {
   "cell_type": "code",
   "execution_count": 327,
   "metadata": {
    "collapsed": true
   },
   "outputs": [],
   "source": [
    "df = test.groupby([\"VisitNumber\",  \"FinelineNumber\"], as_index=False)[\"Count\"].count()\n",
    "df = df.groupby([\"VisitNumber\"], as_index=False)[\"Count\"].count()\n",
    "df.rename(columns={\"Count\": \"N_Fineline\"}, inplace=True) \n",
    "test = test.merge(df, how='left', on=[\"VisitNumber\"], copy=True)"
   ]
  },
  {
   "cell_type": "code",
   "execution_count": 328,
   "metadata": {
    "collapsed": true
   },
   "outputs": [],
   "source": [
    "df = test.groupby([\"VisitNumber\",  \"Upc\"], as_index=False)[\"Count\"].count()\n",
    "df = df.groupby([\"VisitNumber\"], as_index=False)[\"Count\"].count()\n",
    "df.rename(columns={\"Count\": \"N_Upc\"}, inplace=True) \n",
    "test = test.merge(df, how='left', on=[\"VisitNumber\"], copy=True) "
   ]
  },
  {
   "cell_type": "code",
   "execution_count": 332,
   "metadata": {
    "collapsed": true
   },
   "outputs": [],
   "source": [
    "# 커널이 죽음... ???\n",
    "df = test.groupby([\"VisitNumber\", \"DepartmentDescription\"], as_index=False)[\"Count\"].count()"
   ]
  },
  {
   "cell_type": "code",
   "execution_count": 333,
   "metadata": {
    "collapsed": true
   },
   "outputs": [],
   "source": [
    "df = df.groupby([\"VisitNumber\"], as_index=False)[\"Count\"].count()"
   ]
  },
  {
   "cell_type": "code",
   "execution_count": 334,
   "metadata": {},
   "outputs": [],
   "source": [
    "df.rename(columns={\"Count\": \"N_Depts\"}, inplace=True) \n",
    "test = test.merge(df, how='left', on=[\"VisitNumber\"], copy=True)"
   ]
  },
  {
   "cell_type": "code",
   "execution_count": 335,
   "metadata": {
    "collapsed": true
   },
   "outputs": [],
   "source": [
    "df = test.groupby([\"VisitNumber\"], as_index=False)[\"Count\"].sum()\n",
    "df.rename(columns={\"Count\": \"Sum\"}, inplace=True)\n",
    "test = test.merge(df, how='left', on=[\"VisitNumber\"], copy=True)"
   ]
  },
  {
   "cell_type": "code",
   "execution_count": 336,
   "metadata": {
    "collapsed": true
   },
   "outputs": [],
   "source": [
    "test[\"Ratio_F_D\"] = test[\"N_Fineline\"] / test[\"N_Depts\"]\n",
    "test[\"Ratio_U_D\"] = test[\"N_Upc\"] / test[\"N_Depts\"]\n",
    "\n",
    "test[\"mean_to_min\"] = test[\"Mean\"] / test[\"Min\"]\n",
    "test.loc[test.mean_to_min==0, \"mean_to_min\"] = 1\n",
    "test['max_to_mean'] = test[\"Max\"] / test[\"Mean\"]\n",
    "test.loc[test.max_to_mean==0, \"max_to_mean\"] = 1\n",
    "\n",
    "test.drop(\"Upc\", axis=1, inplace=True)"
   ]
  },
  {
   "cell_type": "code",
   "execution_count": 337,
   "metadata": {},
   "outputs": [
    {
     "data": {
      "text/plain": [
       "(95674, 68)"
      ]
     },
     "execution_count": 337,
     "metadata": {},
     "output_type": "execute_result"
    }
   ],
   "source": [
    "depts_dummies = pd.get_dummies(test.DepartmentDescription)\n",
    "\n",
    "depts_dummies_test = pd.concat([test[[\"VisitNumber\"]], depts_dummies], axis=1)\n",
    "depts_dummies_test_grouped = depts_dummies_test.groupby(\"VisitNumber\", as_index=False).sum()\n",
    "depts_dummies_test_grouped.shape"
   ]
  },
  {
   "cell_type": "code",
   "execution_count": 25,
   "metadata": {
    "collapsed": true
   },
   "outputs": [],
   "source": [
    "# fineline_dummies_test = pd.get_dummies(test.FinelineNumber)\n",
    "# fineline_dummies_test = pd.concat([test[[\"VisitNumber\"]], fineline_dummies_test], axis=1)"
   ]
  },
  {
   "cell_type": "code",
   "execution_count": 338,
   "metadata": {
    "collapsed": true
   },
   "outputs": [],
   "source": [
    "def smoothing_depts_test(data):\n",
    "    tmp = data[[\"VisitNumber\", \"Sum\"]]\n",
    "    tmp = tmp.groupby(\"VisitNumber\", as_index=False).max()\n",
    "    depts_dummies = pd.get_dummies(data[\"DepartmentDescription\"])\n",
    "    new_df = pd.concat([tmp, depts_dummies], axis=1)\n",
    "    new_df = new_df.groupby(\"VisitNumber\", as_index=False).sum()\n",
    "    new_df = new_df.loc[:, \"1-HR PHOTO\":\"WIRELESS\"].apply(lambda x: (x+1) / (tmp[\"Sum\"]+68))\n",
    "    return new_df"
   ]
  },
  {
   "cell_type": "code",
   "execution_count": 339,
   "metadata": {},
   "outputs": [],
   "source": [
    "depts_test_smoothed = smoothing_depts_test(test)\n",
    "depts_tmp = test_grouped.loc[:, \"1-HR PHOTO\":\"WIRELESS\"]\n",
    "depts_tmp = depts_test_smoothed\n",
    "depts_tmp.columns = depts_tmp.columns.map(lambda x: str(\"Prob_\") + x)"
   ]
  },
  {
   "cell_type": "code",
   "execution_count": 340,
   "metadata": {
    "collapsed": true
   },
   "outputs": [],
   "source": [
    "# fineline_dummies_test_grouped = make_fineline_dummies_test(test)"
   ]
  },
  {
   "cell_type": "code",
   "execution_count": 345,
   "metadata": {
    "collapsed": true
   },
   "outputs": [],
   "source": [
    "# to_grouped = test[[\"VisitNumber\", \"FinelineNumber\"]]\n",
    "to_grouped = test[[\"VisitNumber\", \"FinelineNumber\"]]\n",
    "mf_fineline_test = to_grouped.groupby(\"VisitNumber\", as_index=False).agg(mode)"
   ]
  },
  {
   "cell_type": "code",
   "execution_count": 341,
   "metadata": {
    "collapsed": true
   },
   "outputs": [],
   "source": [
    "test = test.replace(np.inf, 0)\n",
    "test = test.fillna(value=0)\n",
    "test.drop([\"DepartmentDescription\", \"FinelineNumber\"], axis=1, inplace=True)"
   ]
  },
  {
   "cell_type": "code",
   "execution_count": 342,
   "metadata": {},
   "outputs": [
    {
     "data": {
      "text/plain": [
       "(95674, 86)"
      ]
     },
     "execution_count": 342,
     "metadata": {},
     "output_type": "execute_result"
    }
   ],
   "source": [
    "test_by_max = test.groupby(\"VisitNumber\", as_index=False).agg(np.max)\n",
    "test_grouped = test_by_max.merge(depts_dummies_test_grouped, how='left', on=[\"VisitNumber\"])\n",
    "# test_grouped = test_grouped.merge(fineline_dummies_test_grouped, how='left', on=[\"VisitNumber\"])\n",
    "test_grouped.shape"
   ]
  },
  {
   "cell_type": "code",
   "execution_count": 346,
   "metadata": {},
   "outputs": [
    {
     "data": {
      "text/plain": [
       "(95674, 113)"
      ]
     },
     "execution_count": 346,
     "metadata": {},
     "output_type": "execute_result"
    }
   ],
   "source": [
    "test_depts_group = grouping_depts(test_grouped)\n",
    "test_depts_group = pd.concat([test_depts_group, depts_tmp], axis=1)\n",
    "test_depts_group.shape"
   ]
  },
  {
   "cell_type": "code",
   "execution_count": 347,
   "metadata": {},
   "outputs": [
    {
     "data": {
      "text/plain": [
       "(95674, 120)"
      ]
     },
     "execution_count": 347,
     "metadata": {},
     "output_type": "execute_result"
    }
   ],
   "source": [
    "test_depts_group = pd.concat([test_depts_group, mf_fineline_test[[\"FinelineNumber\"]]], axis=1)\n",
    "test_depts_group = pd.get_dummies(test_depts_group, columns=[\"Weekday\"])\n",
    "test_depts_group.shape"
   ]
  },
  {
   "cell_type": "code",
   "execution_count": 361,
   "metadata": {
    "collapsed": true
   },
   "outputs": [],
   "source": [
    "test_depts_group.replace(np.inf, 0)\n",
    "test_depts_group.fillna(value=0, inplace=True)"
   ]
  },
  {
   "cell_type": "code",
   "execution_count": 362,
   "metadata": {},
   "outputs": [],
   "source": [
    "pred_test = rf.predict(test_depts_group)"
   ]
  },
  {
   "cell_type": "code",
   "execution_count": 363,
   "metadata": {
    "collapsed": true
   },
   "outputs": [],
   "source": [
    "pred_prob_test = rf.predict_proba(test_depts_group)"
   ]
  },
  {
   "cell_type": "code",
   "execution_count": 365,
   "metadata": {
    "collapsed": true
   },
   "outputs": [],
   "source": [
    "proba_df = pd.DataFrame(pred_prob_test, columns=rf.classes_)\n",
    "proba_df.columns = proba_df.columns.map(lambda x: \"TripType_\" + str(x))\n",
    "sub_df = pd.concat([test_depts_group[[\"VisitNumber\"]], proba_df], axis=1)"
   ]
  },
  {
   "cell_type": "code",
   "execution_count": 367,
   "metadata": {
    "collapsed": true
   },
   "outputs": [],
   "source": [
    "sub_df.to_csv(\"../submission_0408.csv\", index=False)"
   ]
  },
  {
   "cell_type": "code",
   "execution_count": 368,
   "metadata": {
    "collapsed": true
   },
   "outputs": [],
   "source": [
    "test_depts_group.to_csv(\"../dataset/0408_noFineline_test.csv\", index=False)"
   ]
  },
  {
   "cell_type": "code",
   "execution_count": 369,
   "metadata": {},
   "outputs": [
    {
     "ename": "OSError",
     "evalue": "[Errno 22] Invalid argument",
     "output_type": "error",
     "traceback": [
      "\u001b[0;31m---------------------------------------------------------------------------\u001b[0m",
      "\u001b[0;31mOSError\u001b[0m                                   Traceback (most recent call last)",
      "\u001b[0;32m<ipython-input-369-2dab03575a1c>\u001b[0m in \u001b[0;36m<module>\u001b[0;34m()\u001b[0m\n\u001b[1;32m      1\u001b[0m \u001b[0;32mimport\u001b[0m \u001b[0mpickle\u001b[0m\u001b[0;34m\u001b[0m\u001b[0m\n\u001b[1;32m      2\u001b[0m \u001b[0mmodel\u001b[0m \u001b[0;34m=\u001b[0m \u001b[0mopen\u001b[0m\u001b[0;34m(\u001b[0m\u001b[0;34m\"0408_rf_noFine.pickle\"\u001b[0m\u001b[0;34m,\u001b[0m \u001b[0;34m\"wb\"\u001b[0m\u001b[0;34m)\u001b[0m\u001b[0;34m\u001b[0m\u001b[0m\n\u001b[0;32m----> 3\u001b[0;31m \u001b[0mpickle\u001b[0m\u001b[0;34m.\u001b[0m\u001b[0mdump\u001b[0m\u001b[0;34m(\u001b[0m\u001b[0mrf\u001b[0m\u001b[0;34m,\u001b[0m \u001b[0mmodel\u001b[0m\u001b[0;34m)\u001b[0m\u001b[0;34m\u001b[0m\u001b[0m\n\u001b[0m",
      "\u001b[0;31mOSError\u001b[0m: [Errno 22] Invalid argument"
     ]
    }
   ],
   "source": [
    "import pickle\n",
    "model = open(\"0408_rf_noFine.pickle\", \"wb\")\n",
    "pickle.dump(rf, model)"
   ]
  },
  {
   "cell_type": "code",
   "execution_count": 376,
   "metadata": {},
   "outputs": [
    {
     "name": "stdout",
     "output_type": "stream",
     "text": [
      "importance: 0.074409 feature: CLOTHES\n",
      "importance: 0.073440 feature: Prob_WIRELESS\n",
      "importance: 0.054302 feature: PHARMACY\n",
      "importance: 0.044388 feature: OPTICAL\n",
      "importance: 0.042222 feature: FABRICS AND CRAFTS\n",
      "importance: 0.039457 feature: HOUSEHOLD GOODS\n",
      "importance: 0.026036 feature: GROCERIES\n",
      "importance: 0.022038 feature: JEWELRY AND ACCESSORIES\n",
      "importance: 0.017312 feature: VisitNumber\n",
      "importance: 0.016861 feature: Prob_OPTICAL - FRAMES\n",
      "importance: 0.016344 feature: IMPULSE MERCHANDISE\n",
      "importance: 0.015811 feature: Prob_LADIESWEAR\n",
      "importance: 0.015179 feature: Ratio_U_D\n",
      "importance: 0.014851 feature: Max\n",
      "importance: 0.014782 feature: Prob_SEAFOOD\n",
      "importance: 0.014728 feature: Prob_OPTICAL - LENSES\n",
      "importance: 0.014532 feature: N_Depts\n",
      "importance: 0.013267 feature: Prob_BRAS & SHAPEWEAR\n",
      "importance: 0.012860 feature: CELEBRATION\n",
      "importance: 0.012596 feature: HARDWARE\n"
     ]
    },
    {
     "data": {
      "image/png": "[encoded data removed]",
      "text/plain": [
       "<matplotlib.figure.Figure at 0x1a19105f98>"
      ]
     },
     "metadata": {
      "image/png": {
       "height": 481,
       "width": 834
      }
     },
     "output_type": "display_data"
    }
   ],
   "source": [
    "importance = rf.feature_importances_\n",
    "\n",
    "pairs = []\n",
    "for idx, value in enumerate(importance):\n",
    "    pairs.append((abs(value), train_depts_group.columns[idx]))\n",
    "pairs.sort(key=lambda x: x[0], reverse=True)\n",
    "for pair in pairs[:20]:\n",
    "    print(\"importance: {:4f} feature: {}\".format(pair[0], pair[1]))\n",
    "\n",
    "importance.sort()\n",
    "\n",
    "importance = importance[::-1]\n",
    "\n",
    "labels = [label[1] for label in pairs]\n",
    "\n",
    "plt.figure(figsize=(12, 8))\n",
    "plt.barh(range(20), importance[:20][::-1], align=\"center\")\n",
    "plt.yticks(np.arange(20), labels[:20][::-1])\n",
    "plt.xlabel(\"Feature importance\")\n",
    "plt.ylim(-1, 20)\n",
    "plt.show()"
   ]
  },
  {
   "cell_type": "code",
   "execution_count": 377,
   "metadata": {
    "collapsed": true
   },
   "outputs": [],
   "source": [
    "import xgboost as xgb\n",
    "from sklearn.metrics import log_loss"
   ]
  },
  {
   "cell_type": "code",
   "execution_count": 397,
   "metadata": {
    "collapsed": true
   },
   "outputs": [],
   "source": [
    "from sklearn.preprocessing import LabelEncoder\n",
    "label = LabelEncoder().fit(y)"
   ]
  },
  {
   "cell_type": "code",
   "execution_count": 398,
   "metadata": {
    "collapsed": true
   },
   "outputs": [],
   "source": [
    "labeled_y = label.transform(y)"
   ]
  },
  {
   "cell_type": "code",
   "execution_count": 399,
   "metadata": {
    "collapsed": true
   },
   "outputs": [],
   "source": [
    "y_train_labeld, y_test_labeld = train_test_split(labeled_y, random_state=0)"
   ]
  },
  {
   "cell_type": "code",
   "execution_count": 404,
   "metadata": {
    "collapsed": true
   },
   "outputs": [],
   "source": [
    "dtrain = xgb.DMatrix(np.asarray(X_train), label = np.asarray(y_train_labeld))\n",
    "dtest = xgb.DMatrix(np.asarray(X_test), label = np.asarray(y_test_labeld))"
   ]
  },
  {
   "cell_type": "code",
   "execution_count": 405,
   "metadata": {
    "collapsed": true
   },
   "outputs": [],
   "source": [
    "num_round = 10\n",
    "param = {'objective': 'multi:softprob', 'num_class':38, \n",
    "         'eval_metric': 'mlogloss', \"max_delta_step\": 5, \"eta\": 0.01}\n",
    "watchlist = [(dtrain,'train'), (dtest, 'eval')]"
   ]
  },
  {
   "cell_type": "code",
   "execution_count": 406,
   "metadata": {},
   "outputs": [
    {
     "name": "stdout",
     "output_type": "stream",
     "text": [
      "[0]\ttrain-mlogloss:3.59565\teval-mlogloss:3.59655\n",
      "Multiple eval metrics have been passed: 'eval-mlogloss' will be used for early stopping.\n",
      "\n",
      "Will train until eval-mlogloss hasn't improved in 5 rounds.\n",
      "[1]\ttrain-mlogloss:3.5541\teval-mlogloss:3.55593\n",
      "[2]\ttrain-mlogloss:3.51294\teval-mlogloss:3.51564\n",
      "[3]\ttrain-mlogloss:3.47197\teval-mlogloss:3.47558\n",
      "[4]\ttrain-mlogloss:3.43149\teval-mlogloss:3.43606\n",
      "[5]\ttrain-mlogloss:3.39134\teval-mlogloss:3.39684\n",
      "[6]\ttrain-mlogloss:3.3516\teval-mlogloss:3.35804\n",
      "[7]\ttrain-mlogloss:3.31239\teval-mlogloss:3.31977\n",
      "[8]\ttrain-mlogloss:3.27363\teval-mlogloss:3.28202\n",
      "[9]\ttrain-mlogloss:3.23543\teval-mlogloss:3.24481\n"
     ]
    }
   ],
   "source": [
    "bst = xgb.train(param, dtrain, num_round, watchlist, \n",
    "                early_stopping_rounds=5)"
   ]
  },
  {
   "cell_type": "code",
   "execution_count": 414,
   "metadata": {},
   "outputs": [
    {
     "name": "stdout",
     "output_type": "stream",
     "text": [
      "[0]\ttrain-merror:0.60623\teval-merror:0.611606\n",
      "Multiple eval metrics have been passed: 'eval-merror' will be used for early stopping.\n",
      "\n",
      "Will train until eval-merror hasn't improved in 5 rounds.\n",
      "[1]\ttrain-merror:0.427245\teval-merror:0.44496\n",
      "[2]\ttrain-merror:0.338053\teval-merror:0.365525\n",
      "[3]\ttrain-merror:0.318319\teval-merror:0.350015\n",
      "[4]\ttrain-merror:0.300314\teval-merror:0.342364\n",
      "[5]\ttrain-merror:0.289945\teval-merror:0.337807\n",
      "[6]\ttrain-merror:0.279911\teval-merror:0.335466\n",
      "[7]\ttrain-merror:0.270406\teval-merror:0.332957\n",
      "[8]\ttrain-merror:0.260734\teval-merror:0.331786\n",
      "[9]\ttrain-merror:0.250115\teval-merror:0.32794\n",
      "[10]\ttrain-merror:0.243328\teval-merror:0.325557\n",
      "[11]\ttrain-merror:0.236889\teval-merror:0.324512\n",
      "[12]\ttrain-merror:0.230047\teval-merror:0.323843\n",
      "[13]\ttrain-merror:0.223775\teval-merror:0.322589\n",
      "[14]\ttrain-merror:0.217462\teval-merror:0.322965\n",
      "[15]\ttrain-merror:0.211734\teval-merror:0.323467\n",
      "[16]\ttrain-merror:0.20662\teval-merror:0.323341\n",
      "[17]\ttrain-merror:0.20124\teval-merror:0.32192\n",
      "[18]\ttrain-merror:0.197046\teval-merror:0.321376\n",
      "[19]\ttrain-merror:0.190565\teval-merror:0.321669\n",
      "[20]\ttrain-merror:0.184754\teval-merror:0.320373\n",
      "[21]\ttrain-merror:0.180754\teval-merror:0.320582\n",
      "[22]\ttrain-merror:0.175263\teval-merror:0.320248\n",
      "[23]\ttrain-merror:0.169368\teval-merror:0.320415\n",
      "[24]\ttrain-merror:0.165257\teval-merror:0.319997\n",
      "[25]\ttrain-merror:0.161327\teval-merror:0.320582\n",
      "[26]\ttrain-merror:0.157648\teval-merror:0.321502\n",
      "[27]\ttrain-merror:0.153244\teval-merror:0.321167\n",
      "[28]\ttrain-merror:0.147781\teval-merror:0.320916\n",
      "[29]\ttrain-merror:0.14477\teval-merror:0.320373\n",
      "Stopping. Best iteration:\n",
      "[24]\ttrain-merror:0.165257\teval-merror:0.319997\n",
      "\n"
     ]
    }
   ],
   "source": [
    "num_round = 100\n",
    "param1 = {'objective': 'multi:softmax', 'num_class':38, \"max_delta_step\": 1, \"eta\": 1}\n",
    "watchlist1 = [(dtrain,'train'), (dtest, 'eval')]\n",
    "\n",
    "bst1 = xgb.train(param1, dtrain, num_round, watchlist1, early_stopping_rounds=5)"
   ]
  },
  {
   "cell_type": "code",
   "execution_count": 416,
   "metadata": {
    "collapsed": true
   },
   "outputs": [],
   "source": [
    "for_test = xgb.DMatrix(np.asarray(test_depts_group))"
   ]
  },
  {
   "cell_type": "code",
   "execution_count": 417,
   "metadata": {},
   "outputs": [],
   "source": [
    "pred_xgb = bst1.predict(for_test)"
   ]
  },
  {
   "cell_type": "code",
   "execution_count": 418,
   "metadata": {},
   "outputs": [
    {
     "data": {
      "text/plain": [
       "(95674,)"
      ]
     },
     "execution_count": 418,
     "metadata": {},
     "output_type": "execute_result"
    }
   ],
   "source": [
    "pred_xgb.shape"
   ]
  },
  {
   "cell_type": "code",
   "execution_count": 423,
   "metadata": {},
   "outputs": [],
   "source": [
    "pred_xgb_df = pd.get_dummies(pred_xgb)"
   ]
  },
  {
   "cell_type": "code",
   "execution_count": 432,
   "metadata": {},
   "outputs": [],
   "source": [
    "def prediction_to_csv(prediction):\n",
    "    df_VN = pd.DataFrame(columns=[\"VisitNumber\"])\n",
    "    df_VN[\"VisitNumber\"] = test_depts_group[\"VisitNumber\"]\n",
    "    df_TT = pd.DataFrame(columns=[\"TripType\"])\n",
    "    df_TT[\"TripType\"] = prediction\n",
    "    df_TT = pd.get_dummies(df_TT.TripType).astype(int, cbopy=False)\n",
    "    df_TT = df_TT.rename(columns = {0:\"TripType_3\", 1: \"TripType_4\", 2: \"TripType_5\", 3: \"TripType_6\", \n",
    "                4: \"TripType_7\", 5: \"TripType_8\", 6: \"TripType_9\", 7: \"TripType_12\", 8: \"TripType_14\", \n",
    "                9: \"TripType_15\", 10: \"TripType_18\", 11: \"TripType_19\", 12: \"TripType_20\", 13: \"TripType_21\",\n",
    "                14: \"TripType_22\", 15: \"TripType_23\", 16: \"TripType_24\", 17: \"TripType_25\", 18: \"TripType_26\", \n",
    "                19: \"TripType_27\", 20: \"TripType_28\", 21: \"TripType_29\", 22: \"TripType_30\", 23: \"TripType_31\", \n",
    "                24: \"TripType_32\", 25: \"TripType_33\", 26: \"TripType_34\", 27: \"TripType_35\", 28: \"TripType_36\", \n",
    "                29: \"TripType_37\", 30: \"TripType_38\", 31: \"TripType_39\", 32: \"TripType_40\", 33: \"TripType_41\", \n",
    "                34: \"TripType_42\", 35: \"TripType_43\", 36: \"TripType_44\", 37: \"TripType_999\"})\n",
    "    trial = pd.concat([df_VN, df_TT], axis=1).set_index('VisitNumber')\n",
    "    #trial[\"TripType_14\"] = 0\n",
    "    return trial.to_csv(\"../dataset/trial_0.csv\")"
   ]
  },
  {
   "cell_type": "code",
   "execution_count": 433,
   "metadata": {},
   "outputs": [],
   "source": [
    "prediction_to_csv(pred_xgb)"
   ]
  },
  {
   "cell_type": "code",
   "execution_count": 452,
   "metadata": {},
   "outputs": [],
   "source": [
    "pred_xgb_sub = pd.read_csv(\"../dataset/trial_0.csv\")\n",
    "pred_xgb_sub.insert(9, \"TripType_14\", np.zeros(pred_xgb_sub.shape[0]))"
   ]
  },
  {
   "cell_type": "code",
   "execution_count": 453,
   "metadata": {},
   "outputs": [
    {
     "data": {
      "text/html": [
       "<div>\n",
       "<style>\n",
       "    .dataframe thead tr:only-child th {\n",
       "        text-align: right;\n",
       "    }\n",
       "\n",
       "    .dataframe thead th {\n",
       "        text-align: left;\n",
       "    }\n",
       "\n",
       "    .dataframe tbody tr th {\n",
       "        vertical-align: top;\n",
       "    }\n",
       "</style>\n",
       "<table border=\"1\" class=\"dataframe\">\n",
       "  <thead>\n",
       "    <tr style=\"text-align: right;\">\n",
       "      <th></th>\n",
       "      <th>VisitNumber</th>\n",
       "      <th>TripType_3</th>\n",
       "      <th>TripType_4</th>\n",
       "      <th>TripType_5</th>\n",
       "      <th>TripType_6</th>\n",
       "      <th>TripType_7</th>\n",
       "      <th>TripType_8</th>\n",
       "      <th>TripType_9</th>\n",
       "      <th>TripType_12</th>\n",
       "      <th>TripType_14</th>\n",
       "      <th>...</th>\n",
       "      <th>TripType_36</th>\n",
       "      <th>TripType_37</th>\n",
       "      <th>TripType_38</th>\n",
       "      <th>TripType_39</th>\n",
       "      <th>TripType_40</th>\n",
       "      <th>TripType_41</th>\n",
       "      <th>TripType_42</th>\n",
       "      <th>TripType_43</th>\n",
       "      <th>TripType_44</th>\n",
       "      <th>TripType_999</th>\n",
       "    </tr>\n",
       "  </thead>\n",
       "  <tbody>\n",
       "    <tr>\n",
       "      <th>0</th>\n",
       "      <td>1</td>\n",
       "      <td>0</td>\n",
       "      <td>0</td>\n",
       "      <td>0</td>\n",
       "      <td>0</td>\n",
       "      <td>0</td>\n",
       "      <td>0</td>\n",
       "      <td>0</td>\n",
       "      <td>0</td>\n",
       "      <td>0.0</td>\n",
       "      <td>...</td>\n",
       "      <td>0</td>\n",
       "      <td>0</td>\n",
       "      <td>0</td>\n",
       "      <td>0</td>\n",
       "      <td>0</td>\n",
       "      <td>0</td>\n",
       "      <td>0</td>\n",
       "      <td>0</td>\n",
       "      <td>0</td>\n",
       "      <td>0</td>\n",
       "    </tr>\n",
       "    <tr>\n",
       "      <th>1</th>\n",
       "      <td>2</td>\n",
       "      <td>0</td>\n",
       "      <td>0</td>\n",
       "      <td>0</td>\n",
       "      <td>0</td>\n",
       "      <td>1</td>\n",
       "      <td>0</td>\n",
       "      <td>0</td>\n",
       "      <td>0</td>\n",
       "      <td>0.0</td>\n",
       "      <td>...</td>\n",
       "      <td>0</td>\n",
       "      <td>0</td>\n",
       "      <td>0</td>\n",
       "      <td>0</td>\n",
       "      <td>0</td>\n",
       "      <td>0</td>\n",
       "      <td>0</td>\n",
       "      <td>0</td>\n",
       "      <td>0</td>\n",
       "      <td>0</td>\n",
       "    </tr>\n",
       "    <tr>\n",
       "      <th>2</th>\n",
       "      <td>3</td>\n",
       "      <td>0</td>\n",
       "      <td>0</td>\n",
       "      <td>0</td>\n",
       "      <td>0</td>\n",
       "      <td>0</td>\n",
       "      <td>0</td>\n",
       "      <td>0</td>\n",
       "      <td>0</td>\n",
       "      <td>0.0</td>\n",
       "      <td>...</td>\n",
       "      <td>0</td>\n",
       "      <td>0</td>\n",
       "      <td>0</td>\n",
       "      <td>0</td>\n",
       "      <td>0</td>\n",
       "      <td>0</td>\n",
       "      <td>0</td>\n",
       "      <td>0</td>\n",
       "      <td>0</td>\n",
       "      <td>1</td>\n",
       "    </tr>\n",
       "    <tr>\n",
       "      <th>3</th>\n",
       "      <td>4</td>\n",
       "      <td>0</td>\n",
       "      <td>0</td>\n",
       "      <td>0</td>\n",
       "      <td>0</td>\n",
       "      <td>0</td>\n",
       "      <td>0</td>\n",
       "      <td>1</td>\n",
       "      <td>0</td>\n",
       "      <td>0.0</td>\n",
       "      <td>...</td>\n",
       "      <td>0</td>\n",
       "      <td>0</td>\n",
       "      <td>0</td>\n",
       "      <td>0</td>\n",
       "      <td>0</td>\n",
       "      <td>0</td>\n",
       "      <td>0</td>\n",
       "      <td>0</td>\n",
       "      <td>0</td>\n",
       "      <td>0</td>\n",
       "    </tr>\n",
       "    <tr>\n",
       "      <th>4</th>\n",
       "      <td>6</td>\n",
       "      <td>0</td>\n",
       "      <td>0</td>\n",
       "      <td>0</td>\n",
       "      <td>0</td>\n",
       "      <td>0</td>\n",
       "      <td>0</td>\n",
       "      <td>1</td>\n",
       "      <td>0</td>\n",
       "      <td>0.0</td>\n",
       "      <td>...</td>\n",
       "      <td>0</td>\n",
       "      <td>0</td>\n",
       "      <td>0</td>\n",
       "      <td>0</td>\n",
       "      <td>0</td>\n",
       "      <td>0</td>\n",
       "      <td>0</td>\n",
       "      <td>0</td>\n",
       "      <td>0</td>\n",
       "      <td>0</td>\n",
       "    </tr>\n",
       "  </tbody>\n",
       "</table>\n",
       "<p>5 rows × 39 columns</p>\n",
       "</div>"
      ],
      "text/plain": [
       "   VisitNumber  TripType_3  TripType_4  TripType_5  TripType_6  TripType_7  \\\n",
       "0            1           0           0           0           0           0   \n",
       "1            2           0           0           0           0           1   \n",
       "2            3           0           0           0           0           0   \n",
       "3            4           0           0           0           0           0   \n",
       "4            6           0           0           0           0           0   \n",
       "\n",
       "   TripType_8  TripType_9  TripType_12  TripType_14      ...       \\\n",
       "0           0           0            0          0.0      ...        \n",
       "1           0           0            0          0.0      ...        \n",
       "2           0           0            0          0.0      ...        \n",
       "3           0           1            0          0.0      ...        \n",
       "4           0           1            0          0.0      ...        \n",
       "\n",
       "   TripType_36  TripType_37  TripType_38  TripType_39  TripType_40  \\\n",
       "0            0            0            0            0            0   \n",
       "1            0            0            0            0            0   \n",
       "2            0            0            0            0            0   \n",
       "3            0            0            0            0            0   \n",
       "4            0            0            0            0            0   \n",
       "\n",
       "   TripType_41  TripType_42  TripType_43  TripType_44  TripType_999  \n",
       "0            0            0            0            0             0  \n",
       "1            0            0            0            0             0  \n",
       "2            0            0            0            0             1  \n",
       "3            0            0            0            0             0  \n",
       "4            0            0            0            0             0  \n",
       "\n",
       "[5 rows x 39 columns]"
      ]
     },
     "execution_count": 453,
     "metadata": {},
     "output_type": "execute_result"
    }
   ],
   "source": [
    "pred_xgb_sub.head()"
   ]
  },
  {
   "cell_type": "code",
   "execution_count": 454,
   "metadata": {
    "collapsed": true
   },
   "outputs": [],
   "source": [
    "pred_xgb_sub.to_csv(\"../submission_0408_xgb.csv\", index=False)"
   ]
  },
  {
   "cell_type": "code",
   "execution_count": 456,
   "metadata": {},
   "outputs": [
    {
     "ename": "AttributeError",
     "evalue": "'Booster' object has no attribute 'predict_proba'",
     "output_type": "error",
     "traceback": [
      "\u001b[0;31m---------------------------------------------------------------------------\u001b[0m",
      "\u001b[0;31mAttributeError\u001b[0m                            Traceback (most recent call last)",
      "\u001b[0;32m<ipython-input-456-4e7eb32b8d63>\u001b[0m in \u001b[0;36m<module>\u001b[0;34m()\u001b[0m\n\u001b[0;32m----> 1\u001b[0;31m \u001b[0mpred_xgb_proba\u001b[0m \u001b[0;34m=\u001b[0m \u001b[0mbst1\u001b[0m\u001b[0;34m.\u001b[0m\u001b[0mpredict_proba\u001b[0m\u001b[0;34m(\u001b[0m\u001b[0mfor_test\u001b[0m\u001b[0;34m)\u001b[0m\u001b[0;34m\u001b[0m\u001b[0m\n\u001b[0m",
      "\u001b[0;31mAttributeError\u001b[0m: 'Booster' object has no attribute 'predict_proba'"
     ]
    }
   ],
   "source": [
    "pred_xgb_proba = bst1.predict_proba(for_test)"
   ]
  },
  {
   "cell_type": "code",
   "execution_count": 462,
   "metadata": {},
   "outputs": [
    {
     "data": {
      "text/html": [
       "<div>\n",
       "<style>\n",
       "    .dataframe thead tr:only-child th {\n",
       "        text-align: right;\n",
       "    }\n",
       "\n",
       "    .dataframe thead th {\n",
       "        text-align: left;\n",
       "    }\n",
       "\n",
       "    .dataframe tbody tr th {\n",
       "        vertical-align: top;\n",
       "    }\n",
       "</style>\n",
       "<table border=\"1\" class=\"dataframe\">\n",
       "  <thead>\n",
       "    <tr style=\"text-align: right;\">\n",
       "      <th></th>\n",
       "      <th>test-merror-mean</th>\n",
       "      <th>test-merror-std</th>\n",
       "      <th>train-merror-mean</th>\n",
       "      <th>train-merror-std</th>\n",
       "    </tr>\n",
       "  </thead>\n",
       "  <tbody>\n",
       "    <tr>\n",
       "      <th>0</th>\n",
       "      <td>0.619009</td>\n",
       "      <td>0.007524</td>\n",
       "      <td>0.609515</td>\n",
       "      <td>0.006718</td>\n",
       "    </tr>\n",
       "    <tr>\n",
       "      <th>1</th>\n",
       "      <td>0.446171</td>\n",
       "      <td>0.004325</td>\n",
       "      <td>0.426932</td>\n",
       "      <td>0.002260</td>\n",
       "    </tr>\n",
       "    <tr>\n",
       "      <th>2</th>\n",
       "      <td>0.365758</td>\n",
       "      <td>0.001577</td>\n",
       "      <td>0.334322</td>\n",
       "      <td>0.002877</td>\n",
       "    </tr>\n",
       "    <tr>\n",
       "      <th>3</th>\n",
       "      <td>0.352310</td>\n",
       "      <td>0.001917</td>\n",
       "      <td>0.310909</td>\n",
       "      <td>0.001044</td>\n",
       "    </tr>\n",
       "    <tr>\n",
       "      <th>4</th>\n",
       "      <td>0.345676</td>\n",
       "      <td>0.002191</td>\n",
       "      <td>0.294537</td>\n",
       "      <td>0.001170</td>\n",
       "    </tr>\n",
       "    <tr>\n",
       "      <th>5</th>\n",
       "      <td>0.341175</td>\n",
       "      <td>0.002853</td>\n",
       "      <td>0.281789</td>\n",
       "      <td>0.000858</td>\n",
       "    </tr>\n",
       "    <tr>\n",
       "      <th>6</th>\n",
       "      <td>0.337133</td>\n",
       "      <td>0.003751</td>\n",
       "      <td>0.269971</td>\n",
       "      <td>0.000698</td>\n",
       "    </tr>\n",
       "    <tr>\n",
       "      <th>7</th>\n",
       "      <td>0.333844</td>\n",
       "      <td>0.003557</td>\n",
       "      <td>0.259285</td>\n",
       "      <td>0.001009</td>\n",
       "    </tr>\n",
       "    <tr>\n",
       "      <th>8</th>\n",
       "      <td>0.332925</td>\n",
       "      <td>0.004784</td>\n",
       "      <td>0.250467</td>\n",
       "      <td>0.000911</td>\n",
       "    </tr>\n",
       "    <tr>\n",
       "      <th>9</th>\n",
       "      <td>0.332715</td>\n",
       "      <td>0.004130</td>\n",
       "      <td>0.241892</td>\n",
       "      <td>0.000619</td>\n",
       "    </tr>\n",
       "  </tbody>\n",
       "</table>\n",
       "</div>"
      ],
      "text/plain": [
       "   test-merror-mean  test-merror-std  train-merror-mean  train-merror-std\n",
       "0          0.619009         0.007524           0.609515          0.006718\n",
       "1          0.446171         0.004325           0.426932          0.002260\n",
       "2          0.365758         0.001577           0.334322          0.002877\n",
       "3          0.352310         0.001917           0.310909          0.001044\n",
       "4          0.345676         0.002191           0.294537          0.001170\n",
       "5          0.341175         0.002853           0.281789          0.000858\n",
       "6          0.337133         0.003751           0.269971          0.000698\n",
       "7          0.333844         0.003557           0.259285          0.001009\n",
       "8          0.332925         0.004784           0.250467          0.000911\n",
       "9          0.332715         0.004130           0.241892          0.000619"
      ]
     },
     "execution_count": 462,
     "metadata": {},
     "output_type": "execute_result"
    }
   ],
   "source": [
    "xgb.cv(nfold=5, dtrain=dtrain, params=param1, num_boost_round=10)"
   ]
  },
  {
   "cell_type": "code",
   "execution_count": 460,
   "metadata": {},
   "outputs": [
    {
     "ename": "KeyboardInterrupt",
     "evalue": "",
     "output_type": "error",
     "traceback": [
      "\u001b[0;31m---------------------------------------------------------------------------\u001b[0m",
      "\u001b[0;31mKeyboardInterrupt\u001b[0m                         Traceback (most recent call last)",
      "\u001b[0;32m<ipython-input-460-1d1fa5f29db6>\u001b[0m in \u001b[0;36m<module>\u001b[0;34m()\u001b[0m\n\u001b[1;32m      3\u001b[0m \u001b[0mwatchlist1\u001b[0m \u001b[0;34m=\u001b[0m \u001b[0;34m[\u001b[0m\u001b[0;34m(\u001b[0m\u001b[0mdtrain\u001b[0m\u001b[0;34m,\u001b[0m\u001b[0;34m'train'\u001b[0m\u001b[0;34m)\u001b[0m\u001b[0;34m,\u001b[0m \u001b[0;34m(\u001b[0m\u001b[0mdtest\u001b[0m\u001b[0;34m,\u001b[0m \u001b[0;34m'eval'\u001b[0m\u001b[0;34m)\u001b[0m\u001b[0;34m]\u001b[0m\u001b[0;34m\u001b[0m\u001b[0m\n\u001b[1;32m      4\u001b[0m \u001b[0;34m\u001b[0m\u001b[0m\n\u001b[0;32m----> 5\u001b[0;31m \u001b[0mclf\u001b[0m \u001b[0;34m=\u001b[0m \u001b[0mxgb\u001b[0m\u001b[0;34m.\u001b[0m\u001b[0mtrain\u001b[0m\u001b[0;34m(\u001b[0m\u001b[0mparam1\u001b[0m\u001b[0;34m,\u001b[0m \u001b[0mdtrain\u001b[0m\u001b[0;34m,\u001b[0m \u001b[0mnum_round\u001b[0m\u001b[0;34m,\u001b[0m \u001b[0mwatchlist1\u001b[0m\u001b[0;34m,\u001b[0m \u001b[0mearly_stopping_rounds\u001b[0m\u001b[0;34m=\u001b[0m\u001b[0;36m5\u001b[0m\u001b[0;34m)\u001b[0m\u001b[0;34m\u001b[0m\u001b[0m\n\u001b[0m",
      "\u001b[0;32m~/xgboost/python-package/xgboost/training.py\u001b[0m in \u001b[0;36mtrain\u001b[0;34m(params, dtrain, num_boost_round, evals, obj, feval, maximize, early_stopping_rounds, evals_result, verbose_eval, xgb_model, callbacks, learning_rates)\u001b[0m\n\u001b[1;32m    202\u001b[0m                            \u001b[0mevals\u001b[0m\u001b[0;34m=\u001b[0m\u001b[0mevals\u001b[0m\u001b[0;34m,\u001b[0m\u001b[0;34m\u001b[0m\u001b[0m\n\u001b[1;32m    203\u001b[0m                            \u001b[0mobj\u001b[0m\u001b[0;34m=\u001b[0m\u001b[0mobj\u001b[0m\u001b[0;34m,\u001b[0m \u001b[0mfeval\u001b[0m\u001b[0;34m=\u001b[0m\u001b[0mfeval\u001b[0m\u001b[0;34m,\u001b[0m\u001b[0;34m\u001b[0m\u001b[0m\n\u001b[0;32m--> 204\u001b[0;31m                            xgb_model=xgb_model, callbacks=callbacks)\n\u001b[0m\u001b[1;32m    205\u001b[0m \u001b[0;34m\u001b[0m\u001b[0m\n\u001b[1;32m    206\u001b[0m \u001b[0;34m\u001b[0m\u001b[0m\n",
      "\u001b[0;32m~/xgboost/python-package/xgboost/training.py\u001b[0m in \u001b[0;36m_train_internal\u001b[0;34m(params, dtrain, num_boost_round, evals, obj, feval, xgb_model, callbacks)\u001b[0m\n\u001b[1;32m     72\u001b[0m         \u001b[0;31m# Skip the first update if it is a recovery step.\u001b[0m\u001b[0;34m\u001b[0m\u001b[0;34m\u001b[0m\u001b[0m\n\u001b[1;32m     73\u001b[0m         \u001b[0;32mif\u001b[0m \u001b[0mversion\u001b[0m \u001b[0;34m%\u001b[0m \u001b[0;36m2\u001b[0m \u001b[0;34m==\u001b[0m \u001b[0;36m0\u001b[0m\u001b[0;34m:\u001b[0m\u001b[0;34m\u001b[0m\u001b[0m\n\u001b[0;32m---> 74\u001b[0;31m             \u001b[0mbst\u001b[0m\u001b[0;34m.\u001b[0m\u001b[0mupdate\u001b[0m\u001b[0;34m(\u001b[0m\u001b[0mdtrain\u001b[0m\u001b[0;34m,\u001b[0m \u001b[0mi\u001b[0m\u001b[0;34m,\u001b[0m \u001b[0mobj\u001b[0m\u001b[0;34m)\u001b[0m\u001b[0;34m\u001b[0m\u001b[0m\n\u001b[0m\u001b[1;32m     75\u001b[0m             \u001b[0mbst\u001b[0m\u001b[0;34m.\u001b[0m\u001b[0msave_rabit_checkpoint\u001b[0m\u001b[0;34m(\u001b[0m\u001b[0;34m)\u001b[0m\u001b[0;34m\u001b[0m\u001b[0m\n\u001b[1;32m     76\u001b[0m             \u001b[0mversion\u001b[0m \u001b[0;34m+=\u001b[0m \u001b[0;36m1\u001b[0m\u001b[0;34m\u001b[0m\u001b[0m\n",
      "\u001b[0;32m~/xgboost/python-package/xgboost/core.py\u001b[0m in \u001b[0;36mupdate\u001b[0;34m(self, dtrain, iteration, fobj)\u001b[0m\n\u001b[1;32m    893\u001b[0m         \u001b[0;32mif\u001b[0m \u001b[0mfobj\u001b[0m \u001b[0;32mis\u001b[0m \u001b[0;32mNone\u001b[0m\u001b[0;34m:\u001b[0m\u001b[0;34m\u001b[0m\u001b[0m\n\u001b[1;32m    894\u001b[0m             _check_call(_LIB.XGBoosterUpdateOneIter(self.handle, ctypes.c_int(iteration),\n\u001b[0;32m--> 895\u001b[0;31m                                                     dtrain.handle))\n\u001b[0m\u001b[1;32m    896\u001b[0m         \u001b[0;32melse\u001b[0m\u001b[0;34m:\u001b[0m\u001b[0;34m\u001b[0m\u001b[0m\n\u001b[1;32m    897\u001b[0m             \u001b[0mpred\u001b[0m \u001b[0;34m=\u001b[0m \u001b[0mself\u001b[0m\u001b[0;34m.\u001b[0m\u001b[0mpredict\u001b[0m\u001b[0;34m(\u001b[0m\u001b[0mdtrain\u001b[0m\u001b[0;34m)\u001b[0m\u001b[0;34m\u001b[0m\u001b[0m\n",
      "\u001b[0;31mKeyboardInterrupt\u001b[0m: "
     ]
    }
   ],
   "source": [
    "num_round = 100\n",
    "param1 = {'objective': 'multi:softmax', 'num_class':38, \"max_delta_step\": 1, \"eta\": 1}\n",
    "watchlist1 = [(dtrain,'train'), (dtest, 'eval')]\n",
    "\n",
    "bst1 = xgb.train(param1, dtrain, num_round, watchlist1, early_stopping_rounds=5)"
   ]
  },
  {
   "cell_type": "code",
   "execution_count": 466,
   "metadata": {},
   "outputs": [
    {
     "ename": "OSError",
     "evalue": "[Errno 22] Invalid argument",
     "output_type": "error",
     "traceback": [
      "\u001b[0;31m---------------------------------------------------------------------------\u001b[0m",
      "\u001b[0;31mOSError\u001b[0m                                   Traceback (most recent call last)",
      "\u001b[0;32m<ipython-input-466-810ad994ea6a>\u001b[0m in \u001b[0;36m<module>\u001b[0;34m()\u001b[0m\n\u001b[1;32m      1\u001b[0m \u001b[0;32mimport\u001b[0m \u001b[0mpickle\u001b[0m\u001b[0;34m\u001b[0m\u001b[0m\n\u001b[1;32m      2\u001b[0m \u001b[0;32mwith\u001b[0m \u001b[0mopen\u001b[0m\u001b[0;34m(\u001b[0m\u001b[0;34m\"rd_best_0408.pickle\"\u001b[0m\u001b[0;34m,\u001b[0m \u001b[0;34m\"wb\"\u001b[0m\u001b[0;34m)\u001b[0m \u001b[0;32mas\u001b[0m \u001b[0mfb\u001b[0m\u001b[0;34m:\u001b[0m\u001b[0;34m\u001b[0m\u001b[0m\n\u001b[0;32m----> 3\u001b[0;31m     \u001b[0mpickle\u001b[0m\u001b[0;34m.\u001b[0m\u001b[0mdump\u001b[0m\u001b[0;34m(\u001b[0m\u001b[0mrf\u001b[0m\u001b[0;34m,\u001b[0m \u001b[0mfb\u001b[0m\u001b[0;34m)\u001b[0m\u001b[0;34m\u001b[0m\u001b[0m\n\u001b[0m",
      "\u001b[0;31mOSError\u001b[0m: [Errno 22] Invalid argument"
     ]
    }
   ],
   "source": [
    "import pickle\n",
    "with open(\"rd_best_0408.pickle\", \"wb\") as fb:\n",
    "    pickle.dump(rf, fb)"
   ]
  },
  {
   "cell_type": "code",
   "execution_count": 468,
   "metadata": {},
   "outputs": [],
   "source": [
    "n_estimators = 1000\n",
    "max_features = 0.8\n",
    "min_samples_split = 40\n",
    "\n",
    "rf2 = RandomForestClassifier(n_estimators=n_estimators, max_features=max_features,\n",
    "                             min_samples_split=min_samples_split, n_jobs=-1, random_state=0)"
   ]
  },
  {
   "cell_type": "code",
   "execution_count": 469,
   "metadata": {},
   "outputs": [
    {
     "name": "stdout",
     "output_type": "stream",
     "text": [
      "CPU times: user 36min 7s, sys: 10.3 s, total: 36min 17s\n",
      "Wall time: 10min 25s\n"
     ]
    },
    {
     "data": {
      "text/plain": [
       "RandomForestClassifier(bootstrap=True, class_weight=None, criterion='gini',\n",
       "            max_depth=None, max_features=0.8, max_leaf_nodes=None,\n",
       "            min_impurity_decrease=0.0, min_impurity_split=None,\n",
       "            min_samples_leaf=1, min_samples_split=40,\n",
       "            min_weight_fraction_leaf=0.0, n_estimators=1000, n_jobs=-1,\n",
       "            oob_score=False, random_state=0, verbose=0, warm_start=False)"
      ]
     },
     "execution_count": 469,
     "metadata": {},
     "output_type": "execute_result"
    }
   ],
   "source": [
    "%%time\n",
    "rf2.fit(X_train, y_train)"
   ]
  },
  {
   "cell_type": "code",
   "execution_count": 470,
   "metadata": {},
   "outputs": [
    {
     "name": "stdout",
     "output_type": "stream",
     "text": [
      "0.757884467981\n",
      "0.671767214348\n"
     ]
    }
   ],
   "source": [
    "print(rf2.score(X_train, y_train))\n",
    "print(rf2.score(X_test, y_test))"
   ]
  },
  {
   "cell_type": "code",
   "execution_count": 471,
   "metadata": {
    "collapsed": true
   },
   "outputs": [],
   "source": [
    "pred_prob_test2 = rf2.predict_proba(test_depts_group)\n",
    "proba_df2 = pd.DataFrame(pred_prob_test2, columns=rf2.classes_)\n",
    "proba_df2.columns = proba_df2.columns.map(lambda x: \"TripType_\" + str(x))\n",
    "sub_df2 = pd.concat([test_depts_group[[\"VisitNumber\"]], proba_df2], axis=1)\n",
    "sub_df2.to_csv(\"../submission_0408_02.csv\", index=False)"
   ]
  },
  {
   "cell_type": "code",
   "execution_count": null,
   "metadata": {
    "collapsed": true
   },
   "outputs": [],
   "source": []
  }
 ],
 "metadata": {
  "kernelspec": {
   "display_name": "Python 3",
   "language": "python",
   "name": "python3"
  },
  "language_info": {
   "codemirror_mode": {
    "name": "ipython",
    "version": 3
   },
   "file_extension": ".py",
   "mimetype": "text/x-python",
   "name": "python",
   "nbconvert_exporter": "python",
   "pygments_lexer": "ipython3",
   "version": "3.6.3"
  }
 },
 "nbformat": 4,
 "nbformat_minor": 2
}
